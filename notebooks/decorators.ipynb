{
 "cells": [
  {
   "cell_type": "markdown",
   "metadata": {},
   "source": [
    "# Декораторы"
   ]
  },
  {
   "cell_type": "markdown",
   "metadata": {},
   "source": [
    "Для того, чтобы понять как работают декораторы, в первую очередь следует вспомнить, что функции в Python являются объектами, соответственно, функция может принять другую функцию в качестве аргумента, может создать еще одну функцию и может вернуть функцию в качестве возращаемого значения.\n",
    "\n",
    "Декораторы - \"обретки\", которые дают возможность изменять поведения функций не меняя их код.\n",
    "\n",
    "Создадим декоратор:"
   ]
  },
  {
   "cell_type": "code",
   "execution_count": 2,
   "metadata": {},
   "outputs": [],
   "source": [
    "def decorator(function):\n",
    "    print('Работает перед оберткой при вызове декоратора')\n",
    "    def wrapper():\n",
    "        print('Работает каждый раз перед функцией до ее вызова')\n",
    "        ret = function()\n",
    "        print('Работает каждый раз после вызова функции')\n",
    "        return ret\n",
    "    print('Работает после обертки  при вызове декоратора')\n",
    "    return wrapper"
   ]
  },
  {
   "cell_type": "markdown",
   "metadata": {},
   "source": [
    "Мы создали простой декоратор. Сам декоратор является функцией, которая принимает в качестве аргумента функцию для декорирования. Далее создается \"обертка\" (функция `wrapper`). По сути, декорируемая функция подменяется оберткой. Каждый раз при вызове декорируемой функции будет срабатывать обертка.\n",
    "\n",
    "Есть два способа декорировать функцию:"
   ]
  },
  {
   "cell_type": "code",
   "execution_count": 3,
   "metadata": {},
   "outputs": [
    {
     "name": "stdout",
     "output_type": "stream",
     "text": [
      "Работает перед оберткой при вызове декоратора\n",
      "Работает после обертки  при вызове декоратора\n",
      "wrapper\n"
     ]
    }
   ],
   "source": [
    "# 1 способ (после создания функции)\n",
    "\n",
    "def foo():\n",
    "    print('Работа самой функции')\n",
    "    \n",
    "foo = decorator(foo)\n",
    "print(foo.__name__)"
   ]
  },
  {
   "cell_type": "code",
   "execution_count": 4,
   "metadata": {},
   "outputs": [
    {
     "name": "stdout",
     "output_type": "stream",
     "text": [
      "Работает перед оберткой при вызове декоратора\n",
      "Работает после обертки  при вызове декоратора\n",
      "wrapper\n"
     ]
    }
   ],
   "source": [
    "# 2 способ (сразу при создании)\n",
    "\n",
    "@decorator\n",
    "def foo():\n",
    "    print('Работа самой функции')\n",
    "    \n",
    "print(foo.__name__)"
   ]
  },
  {
   "cell_type": "markdown",
   "metadata": {},
   "source": [
    "Заметим, что после декорирования функция `foo` называется `wrapper`, то есть мы подменили нашу функцию. Но сама функция никуда не делась, она будт прекрасно работать при вызове в \"обретке\"."
   ]
  },
  {
   "cell_type": "code",
   "execution_count": 5,
   "metadata": {},
   "outputs": [
    {
     "name": "stdout",
     "output_type": "stream",
     "text": [
      "Работает каждый раз перед функцией до ее вызова\n",
      "Работа самой функции\n",
      "Работает каждый раз после вызова функции\n"
     ]
    }
   ],
   "source": [
    "foo()"
   ]
  },
  {
   "cell_type": "markdown",
   "metadata": {},
   "source": [
    "Функцию можно декорировать несколькими декораторами."
   ]
  },
  {
   "cell_type": "code",
   "execution_count": 6,
   "metadata": {},
   "outputs": [
    {
     "name": "stdout",
     "output_type": "stream",
     "text": [
      "-dec1---------------\n",
      "~~~~~~~~~~~~~~~dec2~\n",
      "********func********\n",
      "~~~~~~~~~~~~~~~dec2~\n",
      "-dec1---------------\n"
     ]
    }
   ],
   "source": [
    "def decor1(func):\n",
    "    def wrapper1():\n",
    "        print('-dec1'.ljust(20, '-'))\n",
    "        ret = func()\n",
    "        print('-dec1'.ljust(20, '-'))\n",
    "        return ret\n",
    "    return wrapper1\n",
    "\n",
    "def decor2(func):\n",
    "    def wrapper2():\n",
    "        print('dec2~'.rjust(20, '~'))\n",
    "        ret = func()\n",
    "        print('dec2~'.rjust(20, '~'))\n",
    "        return ret\n",
    "    return wrapper2\n",
    "\n",
    "@decor1\n",
    "@decor2\n",
    "def func():\n",
    "    print('func'.center(20, '*'))\n",
    "    \n",
    "func()"
   ]
  },
  {
   "cell_type": "markdown",
   "metadata": {},
   "source": [
    "Видим, что сначала функция оборачивается в декоратор, который ближе к объявлению функции. \n",
    "\n",
    "Поменяем местами:"
   ]
  },
  {
   "cell_type": "code",
   "execution_count": 7,
   "metadata": {},
   "outputs": [
    {
     "name": "stdout",
     "output_type": "stream",
     "text": [
      "~~~~~~~~~~~~~~~dec2~\n",
      "-dec1---------------\n",
      "********func********\n",
      "-dec1---------------\n",
      "~~~~~~~~~~~~~~~dec2~\n"
     ]
    }
   ],
   "source": [
    "@decor2\n",
    "@decor1\n",
    "def func():\n",
    "    print('func'.center(20, '*'))\n",
    "    \n",
    "func()"
   ]
  },
  {
   "cell_type": "markdown",
   "metadata": {},
   "source": [
    "Теперь декоратор 1 оборачивает функцию первый как и ожидалось."
   ]
  },
  {
   "cell_type": "markdown",
   "metadata": {},
   "source": [
    "## Передача декораторам аргументов функций"
   ]
  },
  {
   "cell_type": "markdown",
   "metadata": {},
   "source": [
    "Однако, все декораторы, которые мы рассматривали, не имели одного очень важного функционала — передачи аргументов декорируемой функции. Собственно, это тоже несложно сделать."
   ]
  },
  {
   "cell_type": "code",
   "execution_count": 8,
   "metadata": {},
   "outputs": [],
   "source": [
    "def decorator(function):\n",
    "    \n",
    "    def wrapper(*args, **kwargs):\n",
    "        print('Перед вызовом функции имею', args, kwargs)\n",
    "        ret = function(*args, **kwargs)\n",
    "        print('После вызова могу менять возращамое значение:', ret)\n",
    "        return ret\n",
    "    return wrapper\n",
    "\n",
    "@decorator\n",
    "def foo(arg1, arg2, key1='value1', key2=1000):\n",
    "    print('В самой функции:', arg1, arg2, key1, key2)\n",
    "    return 7000"
   ]
  },
  {
   "cell_type": "code",
   "execution_count": 10,
   "metadata": {},
   "outputs": [
    {
     "name": "stdout",
     "output_type": "stream",
     "text": [
      "Перед вызовом функции имею (100, 200) {'key2': 500}\n",
      "В самой функции: 100 200 value1 500\n",
      "После вызова могу менять возращамое значение: 7000\n"
     ]
    },
    {
     "data": {
      "text/plain": [
       "7000"
      ]
     },
     "execution_count": 10,
     "metadata": {},
     "output_type": "execute_result"
    }
   ],
   "source": [
    "foo(100, 200, key2=500)"
   ]
  },
  {
   "cell_type": "markdown",
   "metadata": {},
   "source": [
    "Собственно, одно из применений декораторов - этот изменение или проверка передаваемых аргуеметов функции или возвращаемого значения.\n",
    "\n",
    "Давайте попробуем сделать декоратор для втроенной функции `sum`, где будем умножать каждый аргумент на 2 и возращаемое значение умножим на 2."
   ]
  },
  {
   "cell_type": "code",
   "execution_count": 12,
   "metadata": {},
   "outputs": [],
   "source": [
    "def sumdec(func):\n",
    "    \n",
    "    def wrapper(nums):\n",
    "        for i in range(len(nums)):\n",
    "            nums[i] *= 2\n",
    "        return func(nums) * 2\n",
    "    \n",
    "    return wrapper"
   ]
  },
  {
   "cell_type": "code",
   "execution_count": 14,
   "metadata": {},
   "outputs": [
    {
     "name": "stdout",
     "output_type": "stream",
     "text": [
      "24\n"
     ]
    }
   ],
   "source": [
    "sumd = sumdec(sum)\n",
    "\n",
    "result = sumd([1, 2, 3]) # (1*2 + 2*2 + 3*2) * 2 = 24\n",
    "print(result)"
   ]
  },
  {
   "cell_type": "markdown",
   "metadata": {},
   "source": [
    "## Декорирование методов\n",
    "\n",
    "При декорировании методов классов, главное помнить, что первым аргументов у методов всегода идет `self`."
   ]
  },
  {
   "cell_type": "code",
   "execution_count": 16,
   "metadata": {},
   "outputs": [
    {
     "name": "stdout",
     "output_type": "stream",
     "text": [
      "Shia ate Apple\n",
      "People ate in general: ['Apple'].\n",
      "Shia ate Fish\n",
      "People ate in general: ['Apple', 'Fish'].\n",
      "Rafael ate Orange\n",
      "People ate in general: ['Apple', 'Fish', 'Orange'].\n",
      "Shia ate Steak\n",
      "People ate in general: ['Apple', 'Fish', 'Orange', 'Steak'].\n"
     ]
    }
   ],
   "source": [
    "def food_recorder(func):\n",
    "    \"\"\"Декоратор учитывающий съеденную еду.\"\"\"\n",
    "    def wrapper(self, food):\n",
    "        wrapper.food_records.append(food)\n",
    "        func(self, food)\n",
    "        print(f'People ate in general: {wrapper.food_records}.' )\n",
    "    wrapper.food_records = []\n",
    "    return wrapper\n",
    "\n",
    "\n",
    "class Person:\n",
    "    \n",
    "    def __init__(self, name):\n",
    "        self.name = name\n",
    "\n",
    "    @food_recorder\n",
    "    def eat(self, food):\n",
    "        print(f'{self.name} ate {food}')\n",
    "        \n",
    "shia = Person('Shia')\n",
    "rafael = Person('Rafael')\n",
    "shia.eat('Apple')\n",
    "shia.eat('Fish')\n",
    "rafael.eat('Orange')\n",
    "shia.eat('Steak')"
   ]
  },
  {
   "cell_type": "markdown",
   "metadata": {},
   "source": [
    "## Декораторы с аргументами"
   ]
  },
  {
   "cell_type": "markdown",
   "metadata": {},
   "source": [
    "А теперь попробуем написать декоратор, принимающий аргументы:"
   ]
  },
  {
   "cell_type": "code",
   "execution_count": 33,
   "metadata": {},
   "outputs": [],
   "source": [
    "def decorator_factory():\n",
    "    print('Я создаю декораторы. Я буду вызван только раз:'\n",
    "          ' когда ты попросишь меня создать декоратор.')\n",
    "    \n",
    "    def decorator(func):\n",
    "        print('Я декоратор. Я буду вызван только раз:'\n",
    "              ' в момент декорирования функции.')\n",
    "        \n",
    "        def wrapper(*args, **kwargs):\n",
    "            print('Я - обёртка вокруг декорируемой функции.\\n'\n",
    "                  'Я буду вызвана каждый раз, когда ты вызываешь'\n",
    "                  ' декорируемую функцию.')\n",
    "            \n",
    "            print('Я вызываю декорируемую функцию:')\n",
    "            return func(*args, **kwargs)\n",
    "        print('Я возвращаю обёрнутую функцию.')\n",
    "        return wrapper\n",
    "    print('Я возвращаю декоратор.')\n",
    "    return decorator"
   ]
  },
  {
   "cell_type": "code",
   "execution_count": 34,
   "metadata": {},
   "outputs": [
    {
     "name": "stdout",
     "output_type": "stream",
     "text": [
      "Я создаю декораторы. Я буду вызван только раз: когда ты попросишь меня создать декоратор.\n",
      "Я возвращаю декоратор.\n"
     ]
    }
   ],
   "source": [
    "# Создаем декоратор\n",
    "new_decorator = decorator_factory()"
   ]
  },
  {
   "cell_type": "code",
   "execution_count": 35,
   "metadata": {},
   "outputs": [
    {
     "name": "stdout",
     "output_type": "stream",
     "text": [
      "Я декоратор. Я буду вызван только раз: в момент декорирования функции.\n",
      "Я возвращаю обёрнутую функцию.\n"
     ]
    }
   ],
   "source": [
    "# Декорируем функцию\n",
    "\n",
    "def foo():\n",
    "    print('--А я декорируемая функция!--')\n",
    "    \n",
    "foo = new_decorator(foo)"
   ]
  },
  {
   "cell_type": "code",
   "execution_count": 36,
   "metadata": {},
   "outputs": [
    {
     "name": "stdout",
     "output_type": "stream",
     "text": [
      "Я - обёртка вокруг декорируемой функции.\n",
      "Я буду вызвана каждый раз, когда ты вызываешь декорируемую функцию.\n",
      "Я вызываю декорируемую функцию:\n",
      "--А я декорируемая функция!--\n"
     ]
    }
   ],
   "source": [
    "# Запускаем функцию\n",
    "\n",
    "foo()"
   ]
  },
  {
   "cell_type": "markdown",
   "metadata": {},
   "source": [
    "Второй способ декорирования:"
   ]
  },
  {
   "cell_type": "code",
   "execution_count": 37,
   "metadata": {},
   "outputs": [
    {
     "name": "stdout",
     "output_type": "stream",
     "text": [
      "Я создаю декораторы. Я буду вызван только раз: когда ты попросишь меня создать декоратор.\n",
      "Я возвращаю декоратор.\n",
      "Я декоратор. Я буду вызван только раз: в момент декорирования функции.\n",
      "Я возвращаю обёрнутую функцию.\n"
     ]
    }
   ],
   "source": [
    "@decorator_factory() # decorator_factory возвращает декоратор, который обертывает foo\n",
    "def foo():\n",
    "    print('А я декорируемая фнкция!')"
   ]
  },
  {
   "cell_type": "code",
   "execution_count": 38,
   "metadata": {},
   "outputs": [
    {
     "name": "stdout",
     "output_type": "stream",
     "text": [
      "Я - обёртка вокруг декорируемой функции.\n",
      "Я буду вызвана каждый раз, когда ты вызываешь декорируемую функцию.\n",
      "Я вызываю декорируемую функцию:\n",
      "А я декорируемая фнкция!\n"
     ]
    }
   ],
   "source": [
    "foo()"
   ]
  },
  {
   "cell_type": "markdown",
   "metadata": {},
   "source": [
    "Вернёмся к аргументам декораторов, ведь, если мы используем функцию, чтобы создавать декораторы \"на лету\", мы можем передавать декоратору любые аргументы, как обычной функции. Мы можем использовать и распаковку через \\*args и \\*\\*kwargs в случае необходимости."
   ]
  },
  {
   "cell_type": "code",
   "execution_count": 40,
   "metadata": {},
   "outputs": [
    {
     "name": "stdout",
     "output_type": "stream",
     "text": [
      "Я создаю декораторы. И у меня есть аргументы:\n",
      " (10, 20) \n",
      " {'key1': 'value1', 'key2': 'value2'}\n",
      "Я декоратор. И могу читать аргументы создателя:\n",
      " (10, 20) \n",
      " {'key1': 'value1', 'key2': 'value2'}\n"
     ]
    }
   ],
   "source": [
    "def decorator_factory(*dargs, **dkwargs):\n",
    "    print('Я создаю декораторы. И у меня есть аргументы:\\n',\n",
    "             dargs, '\\n', dkwargs)\n",
    "    \n",
    "    def decorator(func):\n",
    "        print('Я декоратор. И могу читать аргументы создателя:\\n',\n",
    "                  dargs, '\\n', dkwargs)\n",
    "        \n",
    "        def wrapper(*fargs, **fkwargs):\n",
    "            print('Я - обёртка вокруг декорируемой функции.\\n'\n",
    "                  'И я имею доступ ко всем аргументам.\\n'\n",
    "                  'К аргументам создателя декоратора:\\n',\n",
    "                   dargs, '\\n', dkwargs, '\\n',\n",
    "                   'И к аргументам вызываемой функции:\\n',\n",
    "                   fargs, '\\n', fkwargs)            \n",
    "            return func(*fargs, **fkwargs)\n",
    "        return wrapper\n",
    "    return decorator\n",
    "\n",
    "\n",
    "@decorator_factory(10, 20, key1='value1', key2='value2')\n",
    "def foo(*args, **kwargs):\n",
    "    print('Я декорируемая функция, и знаю только свои аргументы:\\n',\n",
    "             args, '\\n', kwargs)"
   ]
  },
  {
   "cell_type": "code",
   "execution_count": 41,
   "metadata": {},
   "outputs": [
    {
     "name": "stdout",
     "output_type": "stream",
     "text": [
      "Я - обёртка вокруг декорируемой функции.\n",
      "И я имею доступ ко всем аргументам.\n",
      "К аргументам создателя декоратора:\n",
      " (10, 20) \n",
      " {'key1': 'value1', 'key2': 'value2'} \n",
      " И к аргументам вызываемой функции:\n",
      " (3.14, 9.8) \n",
      " {'shape': 'Sphere'}\n",
      "Я декорируемая функция, и знаю только свои аргументы:\n",
      " (3.14, 9.8) \n",
      " {'shape': 'Sphere'}\n"
     ]
    }
   ],
   "source": [
    "foo(3.14, 9.8, shape='Sphere')"
   ]
  },
  {
   "cell_type": "markdown",
   "metadata": {},
   "source": [
    "## Некоторые особенности работы с декораторами\n",
    "\n",
    "* Декораторы несколько замедляют вызов функции, не забывайте об этом.\n",
    "* Вы не можете \"раздекорировать\" функцию. Безусловно, существуют трюки, позволяющие создать декоратор, который можно отсоединить от функции, но это плохая практика. Правильнее будет запомнить, что если функция декорирована — это не отменить.\n",
    "* Декораторы оборачивают функции, что может затруднить отладку."
   ]
  },
  {
   "cell_type": "markdown",
   "metadata": {},
   "source": [
    "Последняя проблема частично решена добавлением в модуле `functools` функции `functools.wraps`, копирующей всю информацию об оборачиваемой функции (её имя, из какого она модуля, её документацию и т.п.) в функцию-обёртку.\n",
    "\n",
    "`functools.wraps` тоже является декоратором.\n",
    "\n",
    "Рассмотрим пример декоратора, который считает время работы функции:"
   ]
  },
  {
   "cell_type": "code",
   "execution_count": 45,
   "metadata": {},
   "outputs": [
    {
     "name": "stdout",
     "output_type": "stream",
     "text": [
      "Время работы: 0.5484252918024985\n",
      "Имя функции: foo\n"
     ]
    }
   ],
   "source": [
    "import time\n",
    "import functools\n",
    "\n",
    "def timer(func):\n",
    "    @functools.wraps(func)    # Попробуйте закомментировать эту строчку\n",
    "                              # и посмотреть как измениться имя функции\n",
    "    def wrapper():\n",
    "        tic = time.perf_counter()\n",
    "        func()\n",
    "        toc = time.perf_counter()\n",
    "        print('Время работы:', toc-tic)\n",
    "    return wrapper\n",
    "  \n",
    "    \n",
    "@timer\n",
    "def foo():\n",
    "    for i in range(4000):\n",
    "        i**i\n",
    "\n",
    "\n",
    "foo()\n",
    "\n",
    "# Проверим имя функции\n",
    "print('Имя функции:', foo.__name__)"
   ]
  },
  {
   "cell_type": "markdown",
   "metadata": {},
   "source": [
    "Декораторы могут быть использованы для расширения возможностей функций из сторонних библиотек (код которых мы не можем изменять), или для упрощения отладки (мы не хотим изменять код, который ещё не устоялся).\n",
    "\n",
    "Также полезно использовать декораторы для расширения различных функций одним и тем же кодом, без повторного его переписывания каждый раз."
   ]
  },
  {
   "cell_type": "code",
   "execution_count": null,
   "metadata": {},
   "outputs": [],
   "source": []
  }
 ],
 "metadata": {
  "kernelspec": {
   "display_name": "Python 3",
   "language": "python",
   "name": "python3"
  },
  "language_info": {
   "codemirror_mode": {
    "name": "ipython",
    "version": 3
   },
   "file_extension": ".py",
   "mimetype": "text/x-python",
   "name": "python",
   "nbconvert_exporter": "python",
   "pygments_lexer": "ipython3",
   "version": "3.6.8"
  }
 },
 "nbformat": 4,
 "nbformat_minor": 4
}
