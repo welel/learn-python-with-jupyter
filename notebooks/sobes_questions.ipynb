{
 "cells": [
  {
   "cell_type": "markdown",
   "metadata": {
    "id": "dzgmtwYR60DM"
   },
   "source": [
    "# Типы даных"
   ]
  },
  {
   "cell_type": "markdown",
   "metadata": {
    "id": "7TYyY6xv60DO"
   },
   "source": [
    "В Python'е всё объекты, у каждого объекта есть тип, а тип определяется классом."
   ]
  },
  {
   "cell_type": "markdown",
   "metadata": {
    "id": "jtcpOlA460DP"
   },
   "source": [
    "## Логический"
   ]
  },
  {
   "cell_type": "code",
   "execution_count": null,
   "metadata": {
    "id": "9gl4pp8O60DR"
   },
   "outputs": [],
   "source": [
    "is_true = True"
   ]
  },
  {
   "cell_type": "markdown",
   "metadata": {
    "id": "cFqPxZt360DW"
   },
   "source": [
    "## Целочисленный"
   ]
  },
  {
   "cell_type": "code",
   "execution_count": null,
   "metadata": {
    "id": "iaHFL4RL60DW"
   },
   "outputs": [],
   "source": [
    "num = 87"
   ]
  },
  {
   "cell_type": "markdown",
   "metadata": {
    "id": "PRNobqjd60Da"
   },
   "source": [
    "## С плавающей точкой"
   ]
  },
  {
   "cell_type": "code",
   "execution_count": null,
   "metadata": {
    "id": "wk249sC260Db"
   },
   "outputs": [],
   "source": [
    "ratio = .42"
   ]
  },
  {
   "cell_type": "markdown",
   "metadata": {
    "id": "78MMiJ_D60Df"
   },
   "source": [
    "## Decimal (повышенная точность дробной части)"
   ]
  },
  {
   "cell_type": "code",
   "execution_count": null,
   "metadata": {
    "id": "b8LKnW1U60Dg",
    "outputId": "d04b0789-fa72-44c6-d9e0-fc2842314eb8"
   },
   "outputs": [
    {
     "name": "stdout",
     "output_type": "stream",
     "text": [
      "0.3333333333333333333333333333\n"
     ]
    }
   ],
   "source": [
    "from decimal import Decimal\n",
    "dec_num = Decimal(1)/Decimal(3)\n",
    "print(dec_num)"
   ]
  },
  {
   "cell_type": "markdown",
   "metadata": {
    "id": "2UcN2EEc60Dk"
   },
   "source": [
    "## Строки"
   ]
  },
  {
   "cell_type": "code",
   "execution_count": null,
   "metadata": {
    "id": "vVTuR9-l60Dl"
   },
   "outputs": [],
   "source": [
    "s = 'I\\'m a string!'"
   ]
  },
  {
   "cell_type": "markdown",
   "metadata": {
    "id": "jjn1Hotw60Do"
   },
   "source": [
    "**Сырые строки** отменяют работу спец символов.\n",
    "Ставится префикс `r` перед строкой от слова row (сырой)."
   ]
  },
  {
   "cell_type": "code",
   "execution_count": null,
   "metadata": {
    "id": "KRo6VmZC60Dp",
    "outputId": "978d8319-01bb-43fa-b362-9968091f5eff"
   },
   "outputs": [
    {
     "name": "stdout",
     "output_type": "stream",
     "text": [
      "I'm the dry one!\n",
      "Cheers!\n",
      "I\\'m the row one!\\nCheers!\n"
     ]
    }
   ],
   "source": [
    "dry = 'I\\'m the dry one!\\nCheers!'\n",
    "raw = r'I\\'m the row one!\\nCheers!'\n",
    "print(dry)\n",
    "print(raw)"
   ]
  },
  {
   "cell_type": "markdown",
   "metadata": {
    "id": "1KkIFWgb60Du"
   },
   "source": [
    "## Списки"
   ]
  },
  {
   "cell_type": "code",
   "execution_count": null,
   "metadata": {
    "id": "FMkLxxjk60Du"
   },
   "outputs": [],
   "source": [
    "ex_list = [432, '35', (325,35)]"
   ]
  },
  {
   "cell_type": "markdown",
   "metadata": {
    "id": "RXDe1Mby60Dy"
   },
   "source": [
    "## Кортежи"
   ]
  },
  {
   "cell_type": "code",
   "execution_count": null,
   "metadata": {
    "id": "MLnieSft60Dz"
   },
   "outputs": [],
   "source": [
    "ex_tuple = (24, 55, )"
   ]
  },
  {
   "cell_type": "markdown",
   "metadata": {
    "id": "EtPfObnp60D4"
   },
   "source": [
    "## Множества"
   ]
  },
  {
   "cell_type": "markdown",
   "metadata": {
    "id": "yAM2I0bk60D5"
   },
   "source": [
    "Множества - колекция данных, которая содержит уникальные значения.\n",
    "Поддреживает операции объединения, пресечения, разность."
   ]
  },
  {
   "cell_type": "code",
   "execution_count": null,
   "metadata": {
    "id": "fj6ZSmGD60D6",
    "outputId": "ceb2dc95-43e2-416e-8a6b-88975a2b8a28"
   },
   "outputs": [
    {
     "name": "stdout",
     "output_type": "stream",
     "text": [
      "{1, 2, 4, 5, 6, 9}\n"
     ]
    }
   ],
   "source": [
    "ex_set = set([4, 5, 4, 9, 6, 1, 2, 1, 2, 1])\n",
    "print(ex_set) # сортируется автоматически"
   ]
  },
  {
   "cell_type": "markdown",
   "metadata": {
    "id": "LumytoXy60D-"
   },
   "source": [
    "**frozenset**\n",
    "Неизменяемое множество."
   ]
  },
  {
   "cell_type": "code",
   "execution_count": null,
   "metadata": {
    "id": "S0AA7Z7J60D-",
    "outputId": "463735fc-a65d-4bad-d6ce-7f7c9512cc3b"
   },
   "outputs": [
    {
     "name": "stdout",
     "output_type": "stream",
     "text": [
      "True\n"
     ]
    },
    {
     "ename": "AttributeError",
     "evalue": "'frozenset' object has no attribute 'add'",
     "output_type": "error",
     "traceback": [
      "\u001b[0;31m---------------------------------------------------------------------------\u001b[0m",
      "\u001b[0;31mAttributeError\u001b[0m                            Traceback (most recent call last)",
      "\u001b[0;32m<ipython-input-23-2a6e7b7191f6>\u001b[0m in \u001b[0;36m<module>\u001b[0;34m\u001b[0m\n\u001b[1;32m      2\u001b[0m \u001b[0mex_set\u001b[0m\u001b[0;34m.\u001b[0m\u001b[0madd\u001b[0m\u001b[0;34m(\u001b[0m\u001b[0;36m333\u001b[0m\u001b[0;34m)\u001b[0m\u001b[0;34m\u001b[0m\u001b[0;34m\u001b[0m\u001b[0m\n\u001b[1;32m      3\u001b[0m \u001b[0mprint\u001b[0m\u001b[0;34m(\u001b[0m\u001b[0;36m333\u001b[0m \u001b[0;32min\u001b[0m \u001b[0mex_set\u001b[0m\u001b[0;34m)\u001b[0m\u001b[0;34m\u001b[0m\u001b[0;34m\u001b[0m\u001b[0m\n\u001b[0;32m----> 4\u001b[0;31m \u001b[0mex_fset\u001b[0m\u001b[0;34m.\u001b[0m\u001b[0madd\u001b[0m\u001b[0;34m(\u001b[0m\u001b[0;36m232\u001b[0m\u001b[0;34m)\u001b[0m\u001b[0;34m\u001b[0m\u001b[0;34m\u001b[0m\u001b[0m\n\u001b[0m",
      "\u001b[0;31mAttributeError\u001b[0m: 'frozenset' object has no attribute 'add'"
     ]
    }
   ],
   "source": [
    "ex_fset = frozenset([32,42,34,23,4,23,52,35])\n",
    "ex_set.add(333)\n",
    "print(333 in ex_set)\n",
    "ex_fset.add(232)"
   ]
  },
  {
   "cell_type": "markdown",
   "metadata": {
    "id": "frmzfQcE60EC"
   },
   "source": [
    "## Словари"
   ]
  },
  {
   "cell_type": "code",
   "execution_count": null,
   "metadata": {
    "id": "5gDtrNGT60ED",
    "outputId": "bc1af70e-8e64-4757-9e7d-7f8321e8ce8a"
   },
   "outputs": [
    {
     "name": "stdout",
     "output_type": "stream",
     "text": [
      "'m the best!\n"
     ]
    }
   ],
   "source": [
    "ex_dict = {'I': '\\'m the best!', 'You': 'are the worst!'}\n",
    "print(ex_dict['I'])"
   ]
  },
  {
   "cell_type": "code",
   "execution_count": null,
   "metadata": {
    "id": "SmcrhaxK60EG",
    "outputId": "34c7853e-74f3-4635-ecfb-161aa12aa842"
   },
   "outputs": [
    {
     "data": {
      "text/plain": [
       "5"
      ]
     },
     "execution_count": 16,
     "metadata": {
      "tags": []
     },
     "output_type": "execute_result"
    }
   ],
   "source": [
    "x = y = 5\n",
    "y += 1\n",
    "x"
   ]
  },
  {
   "cell_type": "markdown",
   "metadata": {
    "id": "IMCHaWV060EK"
   },
   "source": [
    "## Вопросы по типам"
   ]
  },
  {
   "cell_type": "markdown",
   "metadata": {
    "id": "IxI1TUAE60EL"
   },
   "source": [
    "### В чем разница между `tuple` и `list` ?\n",
    "\n",
    "* `tuple` неизменяемый тип данных и он быстрее, чем списки (поэтому, где данные не должны меняться, лучше использовать его)\n",
    "* `list` изменяемый тип данных"
   ]
  },
  {
   "cell_type": "code",
   "execution_count": null,
   "metadata": {
    "id": "fcDu0aGC60EL",
    "outputId": "c1e9ab7b-fd84-4c10-89f3-2b1ac45208ba"
   },
   "outputs": [
    {
     "name": "stdout",
     "output_type": "stream",
     "text": [
      "(24,)\n"
     ]
    },
    {
     "ename": "TypeError",
     "evalue": "'tuple' object does not support item assignment",
     "output_type": "error",
     "traceback": [
      "\u001b[0;31m---------------------------------------------------------------------------\u001b[0m",
      "\u001b[0;31mTypeError\u001b[0m                                 Traceback (most recent call last)",
      "\u001b[0;32m<ipython-input-24-7fef513d3667>\u001b[0m in \u001b[0;36m<module>\u001b[0;34m\u001b[0m\n\u001b[1;32m      1\u001b[0m \u001b[0mex_tuple\u001b[0m \u001b[0;34m=\u001b[0m \u001b[0;34m(\u001b[0m\u001b[0;36m24\u001b[0m\u001b[0;34m,\u001b[0m \u001b[0;36m44\u001b[0m\u001b[0;34m,\u001b[0m \u001b[0;34m)\u001b[0m\u001b[0;34m\u001b[0m\u001b[0;34m\u001b[0m\u001b[0m\n\u001b[1;32m      2\u001b[0m \u001b[0mprint\u001b[0m\u001b[0;34m(\u001b[0m\u001b[0mex_tuple\u001b[0m\u001b[0;34m[\u001b[0m\u001b[0;34m:\u001b[0m\u001b[0;36m1\u001b[0m\u001b[0;34m]\u001b[0m\u001b[0;34m)\u001b[0m \u001b[0;31m# slise\u001b[0m\u001b[0;34m\u001b[0m\u001b[0;34m\u001b[0m\u001b[0m\n\u001b[0;32m----> 3\u001b[0;31m \u001b[0mex_tuple\u001b[0m\u001b[0;34m[\u001b[0m\u001b[0;36m1\u001b[0m\u001b[0;34m]\u001b[0m \u001b[0;34m=\u001b[0m \u001b[0;36m4\u001b[0m \u001b[0;31m# assignment\u001b[0m\u001b[0;34m\u001b[0m\u001b[0;34m\u001b[0m\u001b[0m\n\u001b[0m",
      "\u001b[0;31mTypeError\u001b[0m: 'tuple' object does not support item assignment"
     ]
    }
   ],
   "source": [
    "ex_tuple = (24, 44, )\n",
    "print(ex_tuple[:1]) # slise\n",
    "ex_tuple[1] = 4 # assignment"
   ]
  },
  {
   "cell_type": "markdown",
   "metadata": {
    "id": "ZlmtgHsB60EP"
   },
   "source": [
    "## Изменяемые и неизменяемые типы данных\n",
    "(Mutable and immutable types)"
   ]
  },
  {
   "cell_type": "markdown",
   "metadata": {
    "id": "uHI08bAO60EP"
   },
   "source": [
    "**Immutable**"
   ]
  },
  {
   "cell_type": "code",
   "execution_count": null,
   "metadata": {
    "id": "vdCn66QS60EQ",
    "outputId": "51a78a67-a091-44b4-fc06-e76144943536"
   },
   "outputs": [
    {
     "name": "stdout",
     "output_type": "stream",
     "text": [
      "Address_old 9752448\n",
      "Address_new 9752768\n"
     ]
    }
   ],
   "source": [
    "# int\n",
    "# float\n",
    "# decimal\n",
    "# bool\n",
    "# string\n",
    "# tuple\n",
    "# range?\n",
    "# bytes\n",
    "\n",
    "some_int = 10\n",
    "print('Address_old', id(some_int))\n",
    "some_int = 20\n",
    "print('Address_new', id(some_int))"
   ]
  },
  {
   "cell_type": "markdown",
   "metadata": {
    "id": "U3VloaAx60ET"
   },
   "source": [
    "**Mutable**"
   ]
  },
  {
   "cell_type": "code",
   "execution_count": null,
   "metadata": {
    "id": "nvtwMvGP60EU",
    "outputId": "8877e15d-706f-4436-e536-adb2a5676e83"
   },
   "outputs": [
    {
     "name": "stdout",
     "output_type": "stream",
     "text": [
      "Address_old 140559217275904\n",
      "Address_new 140559217275904\n",
      "{'key1': 'value1', 'key3': 'new value'}\n"
     ]
    }
   ],
   "source": [
    "# list\n",
    "# dict\n",
    "# set\n",
    "# bytearray\n",
    "# user-defined classes (inless specifically made immutable)\n",
    "\n",
    "ex_dict = {'key1': 'value1', 'key2': 'value2'}\n",
    "print('Address_old', id(ex_dict))\n",
    "del ex_dict['key2']\n",
    "ex_dict['key3'] = 'new value'\n",
    "print('Address_new', id(ex_dict))\n",
    "print(ex_dict)"
   ]
  },
  {
   "cell_type": "markdown",
   "metadata": {
    "id": "3d4a4yfM7lcU"
   },
   "source": [
    "# Инструкции и синтаксис"
   ]
  },
  {
   "cell_type": "markdown",
   "metadata": {
    "id": "pJp4PIzP7xdi"
   },
   "source": [
    "## Итерации и генераторы, часть 1"
   ]
  },
  {
   "cell_type": "markdown",
   "metadata": {
    "id": "vU0adOXV8O8Y"
   },
   "source": [
    "### Протокол итераций"
   ]
  },
  {
   "cell_type": "markdown",
   "metadata": {
    "id": "7dewWmH88WFs"
   },
   "source": [
    "**Вариант 1**"
   ]
  },
  {
   "cell_type": "code",
   "execution_count": null,
   "metadata": {
    "colab": {
     "base_uri": "https://localhost:8080/",
     "height": 256
    },
    "executionInfo": {
     "elapsed": 715,
     "status": "error",
     "timestamp": 1601132802423,
     "user": {
      "displayName": "Pavel Loginov",
      "photoUrl": "https://lh3.googleusercontent.com/a-/AOh14GijsCUyp6qB4lgjTMaUCq5kiewMKnlAi3VFueMK=s64",
      "userId": "11601476103812660410"
     },
     "user_tz": -180
    },
    "id": "INyCtIgu790m",
    "outputId": "dbfaf92f-2d74-4392-d33b-36cb1c5f8ae2"
   },
   "outputs": [
    {
     "name": "stdout",
     "output_type": "stream",
     "text": [
      "<class 'list'>\n",
      "<class 'list_iterator'>\n",
      "1 2 4 5 6 "
     ]
    },
    {
     "ename": "StopIteration",
     "evalue": "ignored",
     "output_type": "error",
     "traceback": [
      "\u001b[0;31m---------------------------------------------------------------------------\u001b[0m",
      "\u001b[0;31mStopIteration\u001b[0m                             Traceback (most recent call last)",
      "\u001b[0;32m<ipython-input-5-f72eae8a7bf8>\u001b[0m in \u001b[0;36m<module>\u001b[0;34m()\u001b[0m\n\u001b[1;32m      8\u001b[0m \u001b[0mprint\u001b[0m\u001b[0;34m(\u001b[0m\u001b[0mi\u001b[0m\u001b[0;34m.\u001b[0m\u001b[0m__next__\u001b[0m\u001b[0;34m(\u001b[0m\u001b[0;34m)\u001b[0m\u001b[0;34m,\u001b[0m \u001b[0mend\u001b[0m\u001b[0;34m=\u001b[0m\u001b[0;34m' '\u001b[0m\u001b[0;34m)\u001b[0m\u001b[0;34m\u001b[0m\u001b[0;34m\u001b[0m\u001b[0m\n\u001b[1;32m      9\u001b[0m \u001b[0mprint\u001b[0m\u001b[0;34m(\u001b[0m\u001b[0mi\u001b[0m\u001b[0;34m.\u001b[0m\u001b[0m__next__\u001b[0m\u001b[0;34m(\u001b[0m\u001b[0;34m)\u001b[0m\u001b[0;34m,\u001b[0m \u001b[0mend\u001b[0m\u001b[0;34m=\u001b[0m\u001b[0;34m' '\u001b[0m\u001b[0;34m)\u001b[0m\u001b[0;34m\u001b[0m\u001b[0;34m\u001b[0m\u001b[0m\n\u001b[0;32m---> 10\u001b[0;31m \u001b[0mprint\u001b[0m\u001b[0;34m(\u001b[0m\u001b[0mi\u001b[0m\u001b[0;34m.\u001b[0m\u001b[0m__next__\u001b[0m\u001b[0;34m(\u001b[0m\u001b[0;34m)\u001b[0m\u001b[0;34m,\u001b[0m \u001b[0mend\u001b[0m\u001b[0;34m=\u001b[0m\u001b[0;34m' '\u001b[0m\u001b[0;34m)\u001b[0m\u001b[0;34m\u001b[0m\u001b[0;34m\u001b[0m\u001b[0m\n\u001b[0m",
      "\u001b[0;31mStopIteration\u001b[0m: "
     ]
    }
   ],
   "source": [
    "l = [1, 2, 4, 5, 6]\n",
    "print(type(l))\n",
    "i = iter(l)\n",
    "# Итератор выдает следующее значение, пока не они не кончатся.\n",
    "# Когда значений не остается, выбрасывается исключение StopIteration.\n",
    "print(type(i))\n",
    "print(i.__next__(), end=' ')\n",
    "print(i.__next__(), end=' ')\n",
    "print(i.__next__(), end=' ')\n",
    "print(i.__next__(), end=' ')\n",
    "print(i.__next__(), end=' ')\n",
    "print(i.__next__(), end=' ')"
   ]
  },
  {
   "cell_type": "markdown",
   "metadata": {
    "id": "HD-RSdFl9Kp1"
   },
   "source": [
    "**Вариант 2**"
   ]
  },
  {
   "cell_type": "code",
   "execution_count": null,
   "metadata": {
    "colab": {
     "base_uri": "https://localhost:8080/",
     "height": 256
    },
    "executionInfo": {
     "elapsed": 646,
     "status": "error",
     "timestamp": 1601132911778,
     "user": {
      "displayName": "Pavel Loginov",
      "photoUrl": "https://lh3.googleusercontent.com/a-/AOh14GijsCUyp6qB4lgjTMaUCq5kiewMKnlAi3VFueMK=s64",
      "userId": "11601476103812660410"
     },
     "user_tz": -180
    },
    "id": "mriZmBjB9J_2",
    "outputId": "1e7fb08e-804a-41a5-9a17-b9e274bd9e54"
   },
   "outputs": [
    {
     "name": "stdout",
     "output_type": "stream",
     "text": [
      "<class 'list'>\n",
      "<class 'list_iterator'>\n",
      "1 2 4 5 6 "
     ]
    },
    {
     "ename": "StopIteration",
     "evalue": "ignored",
     "output_type": "error",
     "traceback": [
      "\u001b[0;31m---------------------------------------------------------------------------\u001b[0m",
      "\u001b[0;31mStopIteration\u001b[0m                             Traceback (most recent call last)",
      "\u001b[0;32m<ipython-input-6-acc97345b4d0>\u001b[0m in \u001b[0;36m<module>\u001b[0;34m()\u001b[0m\n\u001b[1;32m     10\u001b[0m \u001b[0mprint\u001b[0m\u001b[0;34m(\u001b[0m\u001b[0mnext\u001b[0m\u001b[0;34m(\u001b[0m\u001b[0mi\u001b[0m\u001b[0;34m)\u001b[0m\u001b[0;34m,\u001b[0m \u001b[0mend\u001b[0m\u001b[0;34m=\u001b[0m\u001b[0;34m' '\u001b[0m\u001b[0;34m)\u001b[0m\u001b[0;34m\u001b[0m\u001b[0;34m\u001b[0m\u001b[0m\n\u001b[1;32m     11\u001b[0m \u001b[0mprint\u001b[0m\u001b[0;34m(\u001b[0m\u001b[0mnext\u001b[0m\u001b[0;34m(\u001b[0m\u001b[0mi\u001b[0m\u001b[0;34m)\u001b[0m\u001b[0;34m,\u001b[0m \u001b[0mend\u001b[0m\u001b[0;34m=\u001b[0m\u001b[0;34m' '\u001b[0m\u001b[0;34m)\u001b[0m\u001b[0;34m\u001b[0m\u001b[0;34m\u001b[0m\u001b[0m\n\u001b[0;32m---> 12\u001b[0;31m \u001b[0mprint\u001b[0m\u001b[0;34m(\u001b[0m\u001b[0mnext\u001b[0m\u001b[0;34m(\u001b[0m\u001b[0mi\u001b[0m\u001b[0;34m)\u001b[0m\u001b[0;34m,\u001b[0m \u001b[0mend\u001b[0m\u001b[0;34m=\u001b[0m\u001b[0;34m' '\u001b[0m\u001b[0;34m)\u001b[0m\u001b[0;34m\u001b[0m\u001b[0;34m\u001b[0m\u001b[0m\n\u001b[0m",
      "\u001b[0;31mStopIteration\u001b[0m: "
     ]
    }
   ],
   "source": [
    "l = [1, 2, 4, 5, 6]\n",
    "print(type(l))\n",
    "i = iter(l)\n",
    "# Итератор выдает следующее значение, пока не они не кончатся.\n",
    "# Когда значений не остается, выбрасывается исключение StopIteration.\n",
    "print(type(i))\n",
    "print(next(i), end=' ')\n",
    "print(next(i), end=' ')\n",
    "print(next(i), end=' ')\n",
    "print(next(i), end=' ')\n",
    "print(next(i), end=' ')\n",
    "print(next(i), end=' ')"
   ]
  },
  {
   "cell_type": "markdown",
   "metadata": {
    "id": "zgRrBnFs9goi"
   },
   "source": [
    "**Backend оператора `for`**"
   ]
  },
  {
   "cell_type": "code",
   "execution_count": null,
   "metadata": {
    "colab": {
     "base_uri": "https://localhost:8080/",
     "height": 52
    },
    "executionInfo": {
     "elapsed": 629,
     "status": "ok",
     "timestamp": 1601133139514,
     "user": {
      "displayName": "Pavel Loginov",
      "photoUrl": "https://lh3.googleusercontent.com/a-/AOh14GijsCUyp6qB4lgjTMaUCq5kiewMKnlAi3VFueMK=s64",
      "userId": "11601476103812660410"
     },
     "user_tz": -180
    },
    "id": "Fac2mH869knV",
    "outputId": "46fb60b3-1e71-4322-d51a-d6e64a8233a5"
   },
   "outputs": [
    {
     "name": "stdout",
     "output_type": "stream",
     "text": [
      "1 2 3 \n",
      "1 2 3 "
     ]
    }
   ],
   "source": [
    "l = [1, 2, 3]\n",
    "for el in l:\n",
    "  print(el, end=' ')\n",
    "\n",
    "print()\n",
    "\n",
    "#backend\n",
    "I = iter(l)\n",
    "while True:\n",
    "  try:\n",
    "    el = next(I)\n",
    "  except StopIteration:\n",
    "    break\n",
    "  #for-body\n",
    "  print(el, end=' ')"
   ]
  },
  {
   "cell_type": "markdown",
   "metadata": {
    "id": "pIYgyAhgPRpi"
   },
   "source": [
    "### ."
   ]
  },
  {
   "cell_type": "code",
   "execution_count": null,
   "metadata": {
    "id": "mHTnscvvPJoX"
   },
   "outputs": [],
   "source": [
    "L = [(1, 18, 'Igor'), (2, 22, 'Pavel')]\n",
    "\n",
    "# генератор\n",
    "lnames = (name for id, age, name in L)\n",
    "print(type(lnames))\n",
    "print(next(lnames), end='\\n\\n')\n",
    "\n",
    "# итератор\n",
    "inames = map((lambda x: x[2]), L)\n",
    "print(type(inames))\n",
    "print(next(inames), end='\\n\\n')\n",
    "\n",
    "print(lnames)\n",
    "print(inames)"
   ]
  },
  {
   "cell_type": "markdown",
   "metadata": {
    "id": "2amQeTcs60FJ"
   },
   "source": [
    "# Функции"
   ]
  },
  {
   "cell_type": "markdown",
   "metadata": {
    "id": "H7C3xMFAU1bo"
   },
   "source": [
    "## Встроенные функции, выполняющие преобразование типов"
   ]
  },
  {
   "cell_type": "markdown",
   "metadata": {
    "id": "gS-Zckv_WNgs"
   },
   "source": [
    "#### bool"
   ]
  },
  {
   "cell_type": "markdown",
   "metadata": {
    "id": "CAg5wnq3WaVP"
   },
   "source": [
    "**bool(x)** - преобразование к типу bool, использующая стандартную проверку истинности. Если х является ложным или опущен, возвращает значение False, в противном случае она возвращает True."
   ]
  },
  {
   "cell_type": "code",
   "execution_count": 6,
   "metadata": {
    "colab": {
     "base_uri": "https://localhost:8080/"
    },
    "executionInfo": {
     "elapsed": 967,
     "status": "ok",
     "timestamp": 1607749980427,
     "user": {
      "displayName": "Pavel Loginov",
      "photoUrl": "https://lh3.googleusercontent.com/a-/AOh14GjVLekLkzkaBLHW95VIlNG2Lo1s6Y4Y35B3Av8l=s64",
      "userId": "11601476103812660410"
     },
     "user_tz": 180
    },
    "id": "DNmSvQ6GWN88",
    "outputId": "a3b23a52-3047-4af5-b6c7-33f83db348b5"
   },
   "outputs": [
    {
     "name": "stdout",
     "output_type": "stream",
     "text": [
      "True\n",
      "False\n",
      "False\n",
      "True\n",
      "False\n",
      "True\n"
     ]
    }
   ],
   "source": [
    "print( bool(True) )\n",
    "print( bool(False) )\n",
    "print( bool([]) )\n",
    "\n",
    "a = 5\n",
    "print( bool(a) )\n",
    "a = 0\n",
    "print( bool(a) )\n",
    "a = 'False'\n",
    "print( bool(a) )"
   ]
  },
  {
   "cell_type": "markdown",
   "metadata": {
    "id": "d4VWU1hXWOXv"
   },
   "source": [
    "#### bytearray / bytes (дополнить)"
   ]
  },
  {
   "cell_type": "markdown",
   "metadata": {
    "id": "UsWWTGyUXuI3"
   },
   "source": [
    "* **bytearray([источник [, кодировка [ошибки]]])**  - преобразование к bytearray. Bytearray - изменяемая последовательность целых чисел в диапазоне 0≤X<256. Вызванная без аргументов, возвращает пустой массив байт.\n",
    "\n",
    "* **bytes([источник [, кодировка [ошибки]]])** - возвращает объект типа bytes, который является неизменяемой последовательностью целых чисел в диапазоне 0≤X<256. Аргументы конструктора интерпретируются как для bytearray()."
   ]
  },
  {
   "cell_type": "code",
   "execution_count": 37,
   "metadata": {
    "colab": {
     "base_uri": "https://localhost:8080/"
    },
    "executionInfo": {
     "elapsed": 1450,
     "status": "ok",
     "timestamp": 1607751547841,
     "user": {
      "displayName": "Pavel Loginov",
      "photoUrl": "https://lh3.googleusercontent.com/a-/AOh14GjVLekLkzkaBLHW95VIlNG2Lo1s6Y4Y35B3Av8l=s64",
      "userId": "11601476103812660410"
     },
     "user_tz": 180
    },
    "id": "IGd0nOLPWOuV",
    "outputId": "79f33199-e051-4780-bded-88ef7c42c0f3"
   },
   "outputs": [
    {
     "name": "stdout",
     "output_type": "stream",
     "text": [
      "bytearray(b'hello world!')\n",
      "h\n",
      "!\n",
      "104 101 108 108 111 32 119 111 114 108 100 33 \n",
      "bytearray(b'\\xc8ello world\\xfe')\n"
     ]
    }
   ],
   "source": [
    "b = bytearray(b'hello world!') #b = bytearray('hello world!', encoding='utf-8')\n",
    "print( b )\n",
    "#print( 'hello world!'.encode('utf-8') )\n",
    "print( chr(104) )\n",
    "print( chr(33) )\n",
    "\n",
    "for byte in b:\n",
    "  print(byte, end=' ')\n",
    "\n",
    "b[0] = 200; b[11] = 254\n",
    "print()\n",
    "print( b )"
   ]
  },
  {
   "cell_type": "code",
   "execution_count": 41,
   "metadata": {
    "colab": {
     "base_uri": "https://localhost:8080/"
    },
    "executionInfo": {
     "elapsed": 1234,
     "status": "ok",
     "timestamp": 1607751676518,
     "user": {
      "displayName": "Pavel Loginov",
      "photoUrl": "https://lh3.googleusercontent.com/a-/AOh14GjVLekLkzkaBLHW95VIlNG2Lo1s6Y4Y35B3Av8l=s64",
      "userId": "11601476103812660410"
     },
     "user_tz": 180
    },
    "id": "AVYlSlFJdeik",
    "outputId": "3f7a92ff-99ae-416d-cfe4-ef7f166eb835"
   },
   "outputs": [
    {
     "name": "stdout",
     "output_type": "stream",
     "text": [
      "b'hello world!'\n",
      "104 101 108 108 111 32 119 111 114 108 100 33 "
     ]
    }
   ],
   "source": [
    "b = bytes(b'hello world!') #b = bytes('hello world!', encoding='utf-8')\n",
    "print( b )\n",
    "#print( 'hello world!'.encode('utf-8') )\n",
    "\n",
    "for byte in b:\n",
    "  print(byte, end=' ')\n",
    "\n",
    "# неизменяемый\n",
    "# b[0] = 50 --> error"
   ]
  },
  {
   "cell_type": "markdown",
   "metadata": {
    "id": "u-RAIQbxWPDp"
   },
   "source": [
    "#### complex"
   ]
  },
  {
   "cell_type": "markdown",
   "metadata": {
    "id": "D62rT-lPeTKh"
   },
   "source": [
    "**complex([real[, imag]])** - преобразование к комплексному числу."
   ]
  },
  {
   "cell_type": "code",
   "execution_count": 47,
   "metadata": {
    "colab": {
     "base_uri": "https://localhost:8080/"
    },
    "executionInfo": {
     "elapsed": 936,
     "status": "ok",
     "timestamp": 1607751954574,
     "user": {
      "displayName": "Pavel Loginov",
      "photoUrl": "https://lh3.googleusercontent.com/a-/AOh14GjVLekLkzkaBLHW95VIlNG2Lo1s6Y4Y35B3Av8l=s64",
      "userId": "11601476103812660410"
     },
     "user_tz": 180
    },
    "id": "sRxDVcjMWPXq",
    "outputId": "94031d63-a4d2-429c-a4f5-8cb8f27a785b"
   },
   "outputs": [
    {
     "name": "stdout",
     "output_type": "stream",
     "text": [
      "(1+2j)\n",
      "(3+4j)\n",
      "(4+6j)\n",
      "(8+12j)\n",
      "False\n"
     ]
    }
   ],
   "source": [
    "x = complex(1, 2)\n",
    "y = complex(3, 4)\n",
    "print(x)\n",
    "print(y)\n",
    "z = x + y\n",
    "print(z)\n",
    "z = z * 2\n",
    "print(z)\n",
    "print(z == x)\n",
    "# z > x  --> error (нельзя сравнивать)"
   ]
  },
  {
   "cell_type": "code",
   "execution_count": null,
   "metadata": {
    "id": "N8elk2dg60FK",
    "outputId": "7f64feec-667b-42d1-f99e-6b25fa2fbaa9"
   },
   "outputs": [
    {
     "name": "stdout",
     "output_type": "stream",
     "text": [
      "364\n"
     ]
    },
    {
     "data": {
      "text/plain": [
       "'11415'"
      ]
     },
     "execution_count": 84,
     "metadata": {
      "tags": []
     },
     "output_type": "execute_result"
    }
   ],
   "source": [
    "# max, min\n",
    "print(max( set([42,124,124,124,1,24,12,41,24,12,5,4,364,346]) ))\n",
    "# работает алфавитное сравнение\n",
    "min(['324', '23426', '99999', '16436346346', '11415', '88888', '342342'])"
   ]
  },
  {
   "cell_type": "markdown",
   "metadata": {
    "id": "tLWgkD5MfBgN"
   },
   "source": [
    "#### set / frozenset"
   ]
  },
  {
   "cell_type": "markdown",
   "metadata": {
    "id": "RigizgW6fQOy"
   },
   "source": [
    "* **set([object])** - создает множество.\n",
    "* **frozenset([последовательность])** - возвращает неизменяемое множество."
   ]
  },
  {
   "cell_type": "code",
   "execution_count": 50,
   "metadata": {
    "colab": {
     "base_uri": "https://localhost:8080/"
    },
    "executionInfo": {
     "elapsed": 953,
     "status": "ok",
     "timestamp": 1607752182319,
     "user": {
      "displayName": "Pavel Loginov",
      "photoUrl": "https://lh3.googleusercontent.com/a-/AOh14GjVLekLkzkaBLHW95VIlNG2Lo1s6Y4Y35B3Av8l=s64",
      "userId": "11601476103812660410"
     },
     "user_tz": 180
    },
    "id": "Hik8m5ajfX_z",
    "outputId": "1bc71f2e-8263-4af5-ccfd-6745f35702cf"
   },
   "outputs": [
    {
     "name": "stdout",
     "output_type": "stream",
     "text": [
      "True\n",
      "<class 'set'>\n"
     ]
    }
   ],
   "source": [
    "a = set('qwerty')\n",
    "b = frozenset('qwerty')\n",
    "\n",
    "print(a == b)\n",
    "print( type(a-b) )\n",
    "\n",
    "a.add('g')\n",
    "\n",
    "# неизменяемый\n",
    "# b.add('g') --> error "
   ]
  },
  {
   "cell_type": "markdown",
   "metadata": {
    "id": "N6sr97eif59p"
   },
   "source": [
    "#### int / float"
   ]
  },
  {
   "cell_type": "markdown",
   "metadata": {
    "id": "KPtjLAx5gKD3"
   },
   "source": [
    "\n",
    "*   **int([object], [основание системы счисления])** - преобразование к целому числу.\n",
    "*   **float([X])** - преобразование к числу с плавающей точкой. Если аргумент не указан, возвращается 0.0."
   ]
  },
  {
   "cell_type": "code",
   "execution_count": 57,
   "metadata": {
    "colab": {
     "base_uri": "https://localhost:8080/"
    },
    "executionInfo": {
     "elapsed": 967,
     "status": "ok",
     "timestamp": 1607752513372,
     "user": {
      "displayName": "Pavel Loginov",
      "photoUrl": "https://lh3.googleusercontent.com/a-/AOh14GjVLekLkzkaBLHW95VIlNG2Lo1s6Y4Y35B3Av8l=s64",
      "userId": "11601476103812660410"
     },
     "user_tz": 180
    },
    "id": "yCtmTJ_ugXwY",
    "outputId": "4fe4a57d-dbed-4c26-f55f-74507f05ea21"
   },
   "outputs": [
    {
     "name": "stdout",
     "output_type": "stream",
     "text": [
      "500\n",
      "64\n",
      "1302\n"
     ]
    }
   ],
   "source": [
    "x = int(500)\n",
    "print(x)\n",
    "\n",
    "x = int('100', 8)\n",
    "print(x)\n",
    "\n",
    "x = int('0b10100010110', 2)\n",
    "print(x)"
   ]
  },
  {
   "cell_type": "code",
   "execution_count": 58,
   "metadata": {
    "colab": {
     "base_uri": "https://localhost:8080/"
    },
    "executionInfo": {
     "elapsed": 1103,
     "status": "ok",
     "timestamp": 1607752557510,
     "user": {
      "displayName": "Pavel Loginov",
      "photoUrl": "https://lh3.googleusercontent.com/a-/AOh14GjVLekLkzkaBLHW95VIlNG2Lo1s6Y4Y35B3Av8l=s64",
      "userId": "11601476103812660410"
     },
     "user_tz": 180
    },
    "id": "37hi1S74hJmv",
    "outputId": "02251249-a6ba-45ab-977a-fd3a3646a4f6"
   },
   "outputs": [
    {
     "name": "stdout",
     "output_type": "stream",
     "text": [
      "9.0\n",
      "33.333333333333336\n"
     ]
    }
   ],
   "source": [
    "x = float(9)\n",
    "print(x)\n",
    "\n",
    "x = float(100/3)\n",
    "print(x)"
   ]
  },
  {
   "cell_type": "markdown",
   "metadata": {
    "id": "Xcl81nLhjZgR"
   },
   "source": [
    "#### list / tuple"
   ]
  },
  {
   "cell_type": "markdown",
   "metadata": {
    "id": "8uwRo1BQjcyD"
   },
   "source": [
    "* **list([object])** - создает список.\n",
    "* **tuple(obj)** - преобразование к кортежу."
   ]
  },
  {
   "cell_type": "code",
   "execution_count": 65,
   "metadata": {
    "colab": {
     "base_uri": "https://localhost:8080/"
    },
    "executionInfo": {
     "elapsed": 1003,
     "status": "ok",
     "timestamp": 1607753327389,
     "user": {
      "displayName": "Pavel Loginov",
      "photoUrl": "https://lh3.googleusercontent.com/a-/AOh14GjVLekLkzkaBLHW95VIlNG2Lo1s6Y4Y35B3Av8l=s64",
      "userId": "11601476103812660410"
     },
     "user_tz": 180
    },
    "id": "55YqeSb5jpo6",
    "outputId": "bb4a314c-2b2c-4ac1-fe75-b8c7e205c55b"
   },
   "outputs": [
    {
     "name": "stdout",
     "output_type": "stream",
     "text": [
      "['a', 'b', 'c', 'd']\n",
      "('a', 'b', 'c', 'd')\n",
      "['Z', 'b', 'c', 'd']\n"
     ]
    }
   ],
   "source": [
    "l = list('abcd')\n",
    "t = tuple('abcd')\n",
    "\n",
    "print(l)\n",
    "print(t)\n",
    "\n",
    "l[0] = 'Z'\n",
    "print(l)\n",
    "\n",
    "# неизменяемый\n",
    "# t[0] = 'Z' --> error"
   ]
  },
  {
   "cell_type": "markdown",
   "metadata": {
    "id": "VYu9rTeVkPZs"
   },
   "source": [
    "#### dict"
   ]
  },
  {
   "cell_type": "markdown",
   "metadata": {
    "id": "xNRi4Qa0kR1R"
   },
   "source": [
    "*   **dict([object])** - преобразование к словарю."
   ]
  },
  {
   "cell_type": "code",
   "execution_count": 59,
   "metadata": {
    "colab": {
     "base_uri": "https://localhost:8080/"
    },
    "executionInfo": {
     "elapsed": 3470,
     "status": "ok",
     "timestamp": 1607752995227,
     "user": {
      "displayName": "Pavel Loginov",
      "photoUrl": "https://lh3.googleusercontent.com/a-/AOh14GjVLekLkzkaBLHW95VIlNG2Lo1s6Y4Y35B3Av8l=s64",
      "userId": "11601476103812660410"
     },
     "user_tz": 180
    },
    "id": "NQERIM0uiONh",
    "outputId": "d8e4023f-c101-4fac-a00a-4ea4f13e40b2"
   },
   "outputs": [
    {
     "name": "stdout",
     "output_type": "stream",
     "text": [
      "{'jack': 4098, 'sape': 4139}\n",
      "{'sape': 4139, 'guido': 4127, 'jack': 4098}\n",
      "{'sape': 4139, 'guido': 4127, 'jack': 4098}\n",
      "{2: 4, 4: 16, 6: 36}\n"
     ]
    }
   ],
   "source": [
    "print( {'jack': 4098, 'sape': 4139} )\n",
    "print( dict([('sape', 4139), ('guido', 4127), ('jack', 4098)]) )\n",
    "print( dict(sape=4139, guido=4127, jack=4098) )\n",
    "print( {x: x**2 for x in (2, 4, 6)} )"
   ]
  },
  {
   "cell_type": "markdown",
   "metadata": {
    "id": "yrlxuKP-kgGf"
   },
   "source": [
    "#### memoryview"
   ]
  },
  {
   "cell_type": "markdown",
   "metadata": {
    "id": "1K6e1dWvkqaI"
   },
   "source": [
    "**memoryview([object])** - создает объект memoryview."
   ]
  },
  {
   "cell_type": "code",
   "execution_count": 66,
   "metadata": {
    "colab": {
     "base_uri": "https://localhost:8080/"
    },
    "executionInfo": {
     "elapsed": 1995,
     "status": "ok",
     "timestamp": 1607753768565,
     "user": {
      "displayName": "Pavel Loginov",
      "photoUrl": "https://lh3.googleusercontent.com/a-/AOh14GjVLekLkzkaBLHW95VIlNG2Lo1s6Y4Y35B3Av8l=s64",
      "userId": "11601476103812660410"
     },
     "user_tz": 180
    },
    "id": "cQ4NRf_HksRT",
    "outputId": "146aed4d-5363-4023-b773-4085cf929968"
   },
   "outputs": [
    {
     "name": "stdout",
     "output_type": "stream",
     "text": [
      "65\n",
      "b'AB'\n",
      "[65, 66, 67]\n",
      "Before updation: bytearray(b'ABC')\n",
      "After updation: bytearray(b'AZC')\n"
     ]
    }
   ],
   "source": [
    "#random bytearray\n",
    "random_byte_array = bytearray('ABC', 'utf-8')\n",
    "\n",
    "mv = memoryview(random_byte_array)\n",
    "\n",
    "# access memory view's zeroth index\n",
    "print(mv[0])\n",
    "\n",
    "# create byte from memory view\n",
    "print(bytes(mv[0:2]))\n",
    "\n",
    "# create list from memory view\n",
    "print(list(mv[0:3]))\n",
    "\n",
    "# random bytearray\n",
    "random_byte_array = bytearray('ABC', 'utf-8')\n",
    "print('Before updation:', random_byte_array)\n",
    "\n",
    "mv = memoryview(random_byte_array)\n",
    "\n",
    "# update 1st index of mv to Z\n",
    "mv[1] = 90\n",
    "print('After updation:', random_byte_array)"
   ]
  },
  {
   "cell_type": "code",
   "execution_count": 67,
   "metadata": {
    "colab": {
     "base_uri": "https://localhost:8080/"
    },
    "executionInfo": {
     "elapsed": 11000,
     "status": "ok",
     "timestamp": 1607753817581,
     "user": {
      "displayName": "Pavel Loginov",
      "photoUrl": "https://lh3.googleusercontent.com/a-/AOh14GjVLekLkzkaBLHW95VIlNG2Lo1s6Y4Y35B3Av8l=s64",
      "userId": "11601476103812660410"
     },
     "user_tz": 180
    },
    "id": "7qqyu4y1mB6p",
    "outputId": "cee1bcd0-34d3-48f1-948e-4ed2a39505ad"
   },
   "outputs": [
    {
     "name": "stdout",
     "output_type": "stream",
     "text": [
      "bytes 100000 0.168790\n",
      "bytes 200000 0.655172\n",
      "bytes 300000 2.355055\n",
      "bytes 400000 6.556565\n",
      "memview 100000 0.012992\n",
      "memview 200000 0.026560\n",
      "memview 300000 0.037741\n",
      "memview 400000 0.050420\n"
     ]
    }
   ],
   "source": [
    "import time\n",
    "for n in (100000, 200000, 300000, 400000):\n",
    "    data = b'x'*n\n",
    "    start = time.time()\n",
    "    b = data\n",
    "    while b:\n",
    "        b = b[1:]\n",
    "    print ('bytes {:d} {:f}'.format(n,time.time()-start))\n",
    "\n",
    "for n in (100000, 200000, 300000, 400000):\n",
    "    data = b'x'*n\n",
    "    start = time.time()\n",
    "    b = memoryview(data)\n",
    "    while b:\n",
    "        b = b[1:]\n",
    "    print ('memview {:d} {:f}'.format(n,time.time()-start))"
   ]
  },
  {
   "cell_type": "markdown",
   "metadata": {
    "id": "qNL9dtQemJNm"
   },
   "source": [
    "#### object"
   ]
  },
  {
   "cell_type": "markdown",
   "metadata": {
    "id": "CxoFfioZmO8g"
   },
   "source": [
    "**object()** - возвращает безликий объект, являющийся базовым для всех объектов."
   ]
  },
  {
   "cell_type": "code",
   "execution_count": 69,
   "metadata": {
    "colab": {
     "base_uri": "https://localhost:8080/"
    },
    "executionInfo": {
     "elapsed": 1892,
     "status": "ok",
     "timestamp": 1607753893939,
     "user": {
      "displayName": "Pavel Loginov",
      "photoUrl": "https://lh3.googleusercontent.com/a-/AOh14GjVLekLkzkaBLHW95VIlNG2Lo1s6Y4Y35B3Av8l=s64",
      "userId": "11601476103812660410"
     },
     "user_tz": 180
    },
    "id": "YqUHWKnAmSHG",
    "outputId": "16cd58b7-1200-4741-d0e2-f5fd59deb084"
   },
   "outputs": [
    {
     "name": "stdout",
     "output_type": "stream",
     "text": [
      "<object object at 0x7fcd3ad61790>\n"
     ]
    }
   ],
   "source": [
    "o = object()\n",
    "print(o)"
   ]
  },
  {
   "cell_type": "markdown",
   "metadata": {
    "id": "KIBC7GwGmc40"
   },
   "source": [
    "#### range"
   ]
  },
  {
   "cell_type": "markdown",
   "metadata": {
    "id": "ZRbAJ9CbmePc"
   },
   "source": [
    "**range([start=0], stop, [step=1])** - арифметическая прогрессия от start до stop с шагом step."
   ]
  },
  {
   "cell_type": "code",
   "execution_count": 74,
   "metadata": {
    "colab": {
     "base_uri": "https://localhost:8080/"
    },
    "executionInfo": {
     "elapsed": 953,
     "status": "ok",
     "timestamp": 1607754007362,
     "user": {
      "displayName": "Pavel Loginov",
      "photoUrl": "https://lh3.googleusercontent.com/a-/AOh14GjVLekLkzkaBLHW95VIlNG2Lo1s6Y4Y35B3Av8l=s64",
      "userId": "11601476103812660410"
     },
     "user_tz": 180
    },
    "id": "5avkxQKxmgFi",
    "outputId": "3b91c6b7-31ea-4b05-a8c3-415104d31b84"
   },
   "outputs": [
    {
     "name": "stdout",
     "output_type": "stream",
     "text": [
      "100\n",
      "400\n",
      "700\n",
      "<class 'range'>\n",
      "range(20, 1)\n"
     ]
    }
   ],
   "source": [
    "for i in range(100, 1000, 300):\n",
    "  print(i)\n",
    "\n",
    "print(type(range(20)))\n",
    "print(range(20, 1))"
   ]
  },
  {
   "cell_type": "markdown",
   "metadata": {
    "id": "2oFuA4Nam3CP"
   },
   "source": [
    "#### slice"
   ]
  },
  {
   "cell_type": "markdown",
   "metadata": {
    "id": "BUU2Qju2m7Ze"
   },
   "source": [
    "**slice([start=0], stop, [step=1])** - объект среза от start до stop с шагом step."
   ]
  },
  {
   "cell_type": "code",
   "execution_count": 83,
   "metadata": {
    "colab": {
     "base_uri": "https://localhost:8080/"
    },
    "executionInfo": {
     "elapsed": 1031,
     "status": "ok",
     "timestamp": 1607754299356,
     "user": {
      "displayName": "Pavel Loginov",
      "photoUrl": "https://lh3.googleusercontent.com/a-/AOh14GjVLekLkzkaBLHW95VIlNG2Lo1s6Y4Y35B3Av8l=s64",
      "userId": "11601476103812660410"
     },
     "user_tz": 180
    },
    "id": "vnVqNrq6m87O",
    "outputId": "b2a41471-f894-4102-cf66-a3665ce099a0"
   },
   "outputs": [
    {
     "name": "stdout",
     "output_type": "stream",
     "text": [
      "('d', 'e')\n",
      "('a', 'd', 'g')\n"
     ]
    }
   ],
   "source": [
    "a = (\"a\", \"b\", \"c\", \"d\", \"e\", \"f\", \"g\", \"h\")\n",
    "x = slice(3, 5)\n",
    "print(a[x])\n",
    "\n",
    "a = (\"a\", \"b\", \"c\", \"d\", \"e\", \"f\", \"g\", \"h\")\n",
    "x = slice(0, 8, 3)\n",
    "print(a[x])"
   ]
  },
  {
   "cell_type": "markdown",
   "metadata": {
    "id": "le9qpngloCSP"
   },
   "source": [
    "#### str"
   ]
  },
  {
   "cell_type": "markdown",
   "metadata": {
    "id": "Dbv_pwN-oDf9"
   },
   "source": [
    "**str([object], [кодировка], [ошибки])** - строковое представление объекта. Использует метод __str__."
   ]
  },
  {
   "cell_type": "code",
   "execution_count": 87,
   "metadata": {
    "colab": {
     "base_uri": "https://localhost:8080/"
    },
    "executionInfo": {
     "elapsed": 952,
     "status": "ok",
     "timestamp": 1607754676571,
     "user": {
      "displayName": "Pavel Loginov",
      "photoUrl": "https://lh3.googleusercontent.com/a-/AOh14GjVLekLkzkaBLHW95VIlNG2Lo1s6Y4Y35B3Av8l=s64",
      "userId": "11601476103812660410"
     },
     "user_tz": 180
    },
    "id": "xUTN_W_7oA2K",
    "outputId": "aa33e191-e382-427e-e0de-164edf46d1ab"
   },
   "outputs": [
    {
     "name": "stdout",
     "output_type": "stream",
     "text": [
      "3.5\n",
      "{'key': 'val', 'key2': 'val2'}\n",
      "[532, 325, 2, 35, 2, 5, 325]\n",
      "string\n"
     ]
    }
   ],
   "source": [
    "print( str(3.5) )\n",
    "print( str({'key': 'val', 'key2': 'val2'}) )\n",
    "print( str([532,325,2,35,2,5,325]) )\n",
    "print( str('string') )\n"
   ]
  },
  {
   "cell_type": "markdown",
   "metadata": {
    "id": "CaMGXC6XpoK_"
   },
   "source": [
    "## Встроенные функции"
   ]
  },
  {
   "cell_type": "markdown",
   "metadata": {
    "id": "J5Kboa4Qpp2V"
   },
   "source": [
    "#### abs"
   ]
  },
  {
   "cell_type": "markdown",
   "metadata": {
    "id": "z_GQqzfzpwsm"
   },
   "source": [
    "**abs(x)** - Возвращает абсолютную величину (модуль числа)."
   ]
  },
  {
   "cell_type": "code",
   "execution_count": 88,
   "metadata": {
    "colab": {
     "base_uri": "https://localhost:8080/"
    },
    "executionInfo": {
     "elapsed": 1089,
     "status": "ok",
     "timestamp": 1607754893551,
     "user": {
      "displayName": "Pavel Loginov",
      "photoUrl": "https://lh3.googleusercontent.com/a-/AOh14GjVLekLkzkaBLHW95VIlNG2Lo1s6Y4Y35B3Av8l=s64",
      "userId": "11601476103812660410"
     },
     "user_tz": 180
    },
    "id": "OQTQrjg7pzIA",
    "outputId": "9e472bf1-4108-429d-fd86-7f1550285212"
   },
   "outputs": [
    {
     "name": "stdout",
     "output_type": "stream",
     "text": [
      "7.25\n",
      "5.830951894845301\n"
     ]
    }
   ],
   "source": [
    "print( abs(-7.25) )\n",
    "print( abs(3+5j) )"
   ]
  },
  {
   "cell_type": "markdown",
   "metadata": {
    "id": "_Av9G29HqPGl"
   },
   "source": [
    "#### all / any"
   ]
  },
  {
   "cell_type": "markdown",
   "metadata": {
    "id": "M3y4Ap3wqSqI"
   },
   "source": [
    "* **all(последовательность)** - Возвращает True, если все элементы истинные (или, если последовательность пуста).\n",
    "\n",
    "* **any(последовательность)** - Возвращает True, если хотя бы один элемент - истина. Для пустой последовательности возвращает False."
   ]
  },
  {
   "cell_type": "code",
   "execution_count": 92,
   "metadata": {
    "colab": {
     "base_uri": "https://localhost:8080/"
    },
    "executionInfo": {
     "elapsed": 1447,
     "status": "ok",
     "timestamp": 1607755141864,
     "user": {
      "displayName": "Pavel Loginov",
      "photoUrl": "https://lh3.googleusercontent.com/a-/AOh14GjVLekLkzkaBLHW95VIlNG2Lo1s6Y4Y35B3Av8l=s64",
      "userId": "11601476103812660410"
     },
     "user_tz": 180
    },
    "id": "dx5hgJuaqX1S",
    "outputId": "23501a4d-e4f3-4720-c31b-9e3724189c1e"
   },
   "outputs": [
    {
     "name": "stdout",
     "output_type": "stream",
     "text": [
      "all:\n",
      "False\n",
      "True\n",
      "False\n",
      "False\n",
      "True\n",
      "\n",
      "any:\n",
      "True\n",
      "True\n",
      "False\n",
      "True\n",
      "True\n"
     ]
    }
   ],
   "source": [
    "ls1 = [0, 1, 1, 1]\n",
    "ls2 = [1, 1, 1, 1]\n",
    "ls3 = [0, 0, 0, 0]\n",
    "ls4 = [True, True, False]\n",
    "ls5 = [True, True]\n",
    "\n",
    "print('all:')\n",
    "print( all(ls1) )\n",
    "print( all(ls2) )\n",
    "print( all(ls3) )\n",
    "print( all(ls4) )\n",
    "print( all(ls5) , end='\\n\\n')\n",
    "print('any:')\n",
    "print( any(ls1) )\n",
    "print( any(ls2) )\n",
    "print( any(ls3) )\n",
    "print( any(ls4) )\n",
    "print( any(ls5) )"
   ]
  },
  {
   "cell_type": "markdown",
   "metadata": {
    "id": "tG-HJABkrMPV"
   },
   "source": [
    "#### ascii"
   ]
  },
  {
   "cell_type": "markdown",
   "metadata": {
    "id": "PcEvePaJrUSA"
   },
   "source": [
    "**ascii(object)** - Как repr(), возвращает строку, содержащую представление объекта, но заменяет не-ASCII символы на экранированные последовательности."
   ]
  },
  {
   "cell_type": "code",
   "execution_count": 94,
   "metadata": {
    "colab": {
     "base_uri": "https://localhost:8080/"
    },
    "executionInfo": {
     "elapsed": 2183,
     "status": "ok",
     "timestamp": 1607755274222,
     "user": {
      "displayName": "Pavel Loginov",
      "photoUrl": "https://lh3.googleusercontent.com/a-/AOh14GjVLekLkzkaBLHW95VIlNG2Lo1s6Y4Y35B3Av8l=s64",
      "userId": "11601476103812660410"
     },
     "user_tz": 180
    },
    "id": "eTSkRr0ErWsz",
    "outputId": "1a1424c0-ecdc-4a6b-fbd2-fc4c317f62e8"
   },
   "outputs": [
    {
     "name": "stdout",
     "output_type": "stream",
     "text": [
      "'My name is St\\xe5le'\n"
     ]
    }
   ],
   "source": [
    "# å will be replaced with \\xe5\n",
    "print( ascii(\"My name is Ståle\") )"
   ]
  },
  {
   "cell_type": "markdown",
   "metadata": {
    "id": "JWLxwsV5rqeW"
   },
   "source": [
    "#### bin / hex / oct"
   ]
  },
  {
   "cell_type": "markdown",
   "metadata": {
    "id": "3v--wY8Brskj"
   },
   "source": [
    "* **bin(x)** - Преобразование целого числа в двоичную строку.\n",
    "* **hex(х)** - Преобразование целого числа в шестнадцатеричную строку.\n",
    "* **oct(х)** - Преобразование целого числа в восьмеричную строку."
   ]
  },
  {
   "cell_type": "code",
   "execution_count": 17,
   "metadata": {
    "colab": {
     "base_uri": "https://localhost:8080/"
    },
    "executionInfo": {
     "elapsed": 939,
     "status": "ok",
     "timestamp": 1607755339101,
     "user": {
      "displayName": "Pavel Loginov",
      "photoUrl": "https://lh3.googleusercontent.com/a-/AOh14GjVLekLkzkaBLHW95VIlNG2Lo1s6Y4Y35B3Av8l=s64",
      "userId": "11601476103812660410"
     },
     "user_tz": 180
    },
    "id": "EuLZblovrw_y",
    "outputId": "5645ee9c-f01e-432f-e62a-0541e4ad1b7e"
   },
   "outputs": [
    {
     "name": "stdout",
     "output_type": "stream",
     "text": [
      "0b1100011\n",
      "0x1d984\n",
      "0o1435\n"
     ]
    }
   ],
   "source": [
    "print( bin(99) )\n",
    "print( hex(121220) )\n",
    "print( oct(797) )"
   ]
  },
  {
   "cell_type": "markdown",
   "metadata": {
    "id": "zGP3CQD7r9Dc"
   },
   "source": [
    "#### callable"
   ]
  },
  {
   "cell_type": "markdown",
   "metadata": {
    "id": "FvcY0IdisBMn"
   },
   "source": [
    "**callable(x)** - Возвращает True для объекта, поддерживающего вызов (как функции)."
   ]
  },
  {
   "cell_type": "code",
   "execution_count": 97,
   "metadata": {
    "colab": {
     "base_uri": "https://localhost:8080/"
    },
    "executionInfo": {
     "elapsed": 991,
     "status": "ok",
     "timestamp": 1607755427554,
     "user": {
      "displayName": "Pavel Loginov",
      "photoUrl": "https://lh3.googleusercontent.com/a-/AOh14GjVLekLkzkaBLHW95VIlNG2Lo1s6Y4Y35B3Av8l=s64",
      "userId": "11601476103812660410"
     },
     "user_tz": 180
    },
    "id": "EnnKOBrIsDdd",
    "outputId": "edf42b26-8523-42d2-cc6a-c02c9812665f"
   },
   "outputs": [
    {
     "name": "stdout",
     "output_type": "stream",
     "text": [
      "True\n",
      "False\n"
     ]
    }
   ],
   "source": [
    "def x():\n",
    "  a = 5\n",
    "print(callable(x))\n",
    "\n",
    "x = 5\n",
    "print(callable(x))"
   ]
  },
  {
   "cell_type": "markdown",
   "metadata": {
    "id": "4jyNZG1QsQUJ"
   },
   "source": [
    "#### chr / ord"
   ]
  },
  {
   "cell_type": "markdown",
   "metadata": {
    "id": "TIO2SWi0sR83"
   },
   "source": [
    "* **chr(x)** - Возвращает односимвольную строку, код символа которой равен x.\n",
    "\n",
    "x in range(0x110000)\n",
    "\n",
    "* **ord(с)** - Код символа."
   ]
  },
  {
   "cell_type": "code",
   "execution_count": 108,
   "metadata": {
    "colab": {
     "base_uri": "https://localhost:8080/"
    },
    "executionInfo": {
     "elapsed": 956,
     "status": "ok",
     "timestamp": 1607755643410,
     "user": {
      "displayName": "Pavel Loginov",
      "photoUrl": "https://lh3.googleusercontent.com/a-/AOh14GjVLekLkzkaBLHW95VIlNG2Lo1s6Y4Y35B3Av8l=s64",
      "userId": "11601476103812660410"
     },
     "user_tz": 180
    },
    "id": "7Iz0yweqsUd1",
    "outputId": "249d6527-d4bc-417a-846c-bcc314965358"
   },
   "outputs": [
    {
     "name": "stdout",
     "output_type": "stream",
     "text": [
      "⌢\n",
      "8994\n"
     ]
    }
   ],
   "source": [
    "print( chr(8994) )\n",
    "print( ord('⌢') )"
   ]
  },
  {
   "cell_type": "markdown",
   "metadata": {
    "id": "r5Xn_-rOtKuW"
   },
   "source": [
    "#### classmethod"
   ]
  },
  {
   "cell_type": "markdown",
   "metadata": {
    "id": "hTOErMfftLU4"
   },
   "source": [
    "**classmethod(x)** - Представляет указанную функцию методом класса."
   ]
  },
  {
   "cell_type": "code",
   "execution_count": 109,
   "metadata": {
    "colab": {
     "base_uri": "https://localhost:8080/"
    },
    "executionInfo": {
     "elapsed": 1453,
     "status": "ok",
     "timestamp": 1607755793510,
     "user": {
      "displayName": "Pavel Loginov",
      "photoUrl": "https://lh3.googleusercontent.com/a-/AOh14GjVLekLkzkaBLHW95VIlNG2Lo1s6Y4Y35B3Av8l=s64",
      "userId": "11601476103812660410"
     },
     "user_tz": 180
    },
    "id": "Qi34ljHRtlSN",
    "outputId": "9e714409-2575-4b15-8c17-2dacecb68b3d"
   },
   "outputs": [
    {
     "name": "stdout",
     "output_type": "stream",
     "text": [
      "The name is :  Geeksforgeeks\n"
     ]
    }
   ],
   "source": [
    "# Python program to understand the classmethod \n",
    "  \n",
    "class Student: \n",
    "      \n",
    "    # create a variable \n",
    "    name = \"Geeksforgeeks\"\n",
    "      \n",
    "    # create a function \n",
    "    def print_name(obj): \n",
    "        print(\"The name is : \", obj.name) \n",
    "          \n",
    "# create print_name classmethod \n",
    "# before creating this line print_name() \n",
    "# It can be called only with object not with class \n",
    "Student.print_name = classmethod(Student.print_name) \n",
    "  \n",
    "# now this method can be called as classmethod \n",
    "# print_name() method is called a class method \n",
    "Student.print_name() "
   ]
  },
  {
   "cell_type": "markdown",
   "metadata": {
    "id": "9eAZpel8tr-P"
   },
   "source": [
    "#### compile / eval / exec"
   ]
  },
  {
   "cell_type": "markdown",
   "metadata": {
    "id": "jflNYzOctsl5"
   },
   "source": [
    "* **compile(source, filename, mode, flags=0, dont_inherit=False)** - Компиляция в программный код, который впоследствии может выполниться функцией eval или exec. Строка не должна содержать символов возврата каретки или нулевые байты.\n",
    "\n",
    "* **eval(expression, globals=None, locals=None)** - Выполняет строку программного кода.\n",
    "\n",
    "* **exec(object[, globals[, locals]])** - Выполняет программный код на Python."
   ]
  },
  {
   "cell_type": "code",
   "execution_count": 110,
   "metadata": {
    "colab": {
     "base_uri": "https://localhost:8080/"
    },
    "executionInfo": {
     "elapsed": 998,
     "status": "ok",
     "timestamp": 1607755902451,
     "user": {
      "displayName": "Pavel Loginov",
      "photoUrl": "https://lh3.googleusercontent.com/a-/AOh14GjVLekLkzkaBLHW95VIlNG2Lo1s6Y4Y35B3Av8l=s64",
      "userId": "11601476103812660410"
     },
     "user_tz": 180
    },
    "id": "oHQyecUMtwyP",
    "outputId": "14c29362-6bd0-4e5a-9b37-135c55d5ce8c"
   },
   "outputs": [
    {
     "name": "stdout",
     "output_type": "stream",
     "text": [
      "55\n"
     ]
    }
   ],
   "source": [
    "x = compile('print(55)', 'test', 'eval')\n",
    "exec(x)"
   ]
  },
  {
   "cell_type": "code",
   "execution_count": 111,
   "metadata": {
    "colab": {
     "base_uri": "https://localhost:8080/"
    },
    "executionInfo": {
     "elapsed": 952,
     "status": "ok",
     "timestamp": 1607755976313,
     "user": {
      "displayName": "Pavel Loginov",
      "photoUrl": "https://lh3.googleusercontent.com/a-/AOh14GjVLekLkzkaBLHW95VIlNG2Lo1s6Y4Y35B3Av8l=s64",
      "userId": "11601476103812660410"
     },
     "user_tz": 180
    },
    "id": "0GhSWzQsuOP4",
    "outputId": "b024df41-56c8-445b-9100-91d0d57ef9b5"
   },
   "outputs": [
    {
     "name": "stdout",
     "output_type": "stream",
     "text": [
      "55\n"
     ]
    }
   ],
   "source": [
    "x = 'print(55)'\n",
    "eval(x)"
   ]
  },
  {
   "cell_type": "code",
   "execution_count": 113,
   "metadata": {
    "colab": {
     "base_uri": "https://localhost:8080/"
    },
    "executionInfo": {
     "elapsed": 1333,
     "status": "ok",
     "timestamp": 1607756017990,
     "user": {
      "displayName": "Pavel Loginov",
      "photoUrl": "https://lh3.googleusercontent.com/a-/AOh14GjVLekLkzkaBLHW95VIlNG2Lo1s6Y4Y35B3Av8l=s64",
      "userId": "11601476103812660410"
     },
     "user_tz": 180
    },
    "id": "FS5kcKfduZPO",
    "outputId": "1a36b363-cd83-42b0-f57a-1b3de7df8ba4"
   },
   "outputs": [
    {
     "name": "stdout",
     "output_type": "stream",
     "text": [
      "John\n",
      "33.0\n"
     ]
    }
   ],
   "source": [
    "x = 'name = \"John\"\\nprint(name)\\nx = 99/3\\nprint(x)'\n",
    "exec(x)"
   ]
  },
  {
   "cell_type": "markdown",
   "metadata": {},
   "source": [
    "#### filter"
   ]
  },
  {
   "cell_type": "markdown",
   "metadata": {},
   "source": [
    "**filter(function, iterable)** - Возвращает итератор из тех элементов, для которых function возвращает истину."
   ]
  },
  {
   "cell_type": "code",
   "execution_count": 96,
   "metadata": {},
   "outputs": [
    {
     "name": "stdout",
     "output_type": "stream",
     "text": [
      "18\n",
      "24\n",
      "32\n"
     ]
    }
   ],
   "source": [
    "ages = [5, 12, 17, 18, 24, 32]\n",
    "\n",
    "def myFunc(x):\n",
    "  if x < 18:\n",
    "    return False\n",
    "  else:\n",
    "    return True\n",
    "\n",
    "adults = filter(myFunc, ages)\n",
    "\n",
    "for x in adults:\n",
    "  print(x)"
   ]
  },
  {
   "cell_type": "markdown",
   "metadata": {},
   "source": [
    "#### format"
   ]
  },
  {
   "cell_type": "markdown",
   "metadata": {},
   "source": [
    "**format(value[,format_spec])** - Форматирование (обычно форматирование строки)."
   ]
  },
  {
   "cell_type": "markdown",
   "metadata": {},
   "source": [
    "format\tThe format you want to format the value into.\n",
    "Legal values:\n",
    "* '<' - Left aligns the result (within the available space)\n",
    "* '>' - Right aligns the result (within the available space)\n",
    "* '^' - Center aligns the result (within the available space)\n",
    "* '=' - Places the sign to the left most position\n",
    "* '+' - Use a plus sign to indicate if the result is positive or negative\n",
    "* '-' - Use a minus sign for negative values only\n",
    "* ' ' - Use a leading space for positive numbers\n",
    "* ',' - Use a comma as a thousand separator\n",
    "* '_' - Use a underscore as a thousand separator\n",
    "* 'b' - Binary format\n",
    "* 'c' - Converts the value into the corresponding unicode character\n",
    "* 'd' - Decimal format\n",
    "* 'e' - Scientific format, with a lower case e\n",
    "* 'E' - Scientific format, with an upper case E\n",
    "* 'f' - Fix point number format\n",
    "* 'F' - Fix point number format, upper case\n",
    "* 'g' - General format\n",
    "* 'G' - General format (using a upper case E for scientific notations)\n",
    "* 'o' - Octal format\n",
    "* 'x' - Hex format, lower case\n",
    "* 'X' - Hex format, upper case\n",
    "* 'n' - Number format\n",
    "* '%' - Percentage format"
   ]
  },
  {
   "cell_type": "code",
   "execution_count": 4,
   "metadata": {},
   "outputs": [
    {
     "name": "stdout",
     "output_type": "stream",
     "text": [
      "50.000000%\n",
      "<class 'str'>\n"
     ]
    }
   ],
   "source": [
    "# Format the number 0.5 into a percentage value:\n",
    "x = format(0.5, '%')\n",
    "print(x)\n",
    "print(type(x))"
   ]
  },
  {
   "cell_type": "markdown",
   "metadata": {},
   "source": [
    "#### getattr / setattr / delattr / hasattr"
   ]
  },
  {
   "cell_type": "markdown",
   "metadata": {},
   "source": [
    "* **getattr(object, name ,[default])** - извлекает атрибут объекта или default.\n",
    "* **setattr(объект, имя, значение)** - Устанавливает атрибут объекта.\n",
    "* **delattr(object, name)** - Удаляет атрибут с именем 'name'.\n",
    "* **hasattr(object, name)** - Имеет ли объект атрибут с именем 'name'."
   ]
  },
  {
   "cell_type": "code",
   "execution_count": 5,
   "metadata": {},
   "outputs": [
    {
     "name": "stdout",
     "output_type": "stream",
     "text": [
      "default value\n",
      "None\n",
      "True\n",
      "999\n",
      "None\n",
      "False\n"
     ]
    }
   ],
   "source": [
    "class Person:\n",
    "    name = \"John\"\n",
    "    age = 36\n",
    "    country = \"Norway\"\n",
    "\n",
    "x = getattr(Person, 'page', 'default value')\n",
    "print(x)\n",
    "x = setattr(Person, 'page', 999)\n",
    "print(x)\n",
    "x = hasattr(Person, 'page')\n",
    "print(x)\n",
    "x = getattr(Person, 'page', 'default value')\n",
    "print(x)\n",
    "x = delattr(Person, 'page')\n",
    "print(x)\n",
    "x = hasattr(Person, 'page')\n",
    "print(x)"
   ]
  },
  {
   "cell_type": "markdown",
   "metadata": {},
   "source": [
    "#### globals / locals"
   ]
  },
  {
   "cell_type": "markdown",
   "metadata": {},
   "source": [
    "* **globals()** - Словарь глобальных имен.\n",
    "* **locals()** - Словарь локальных имен."
   ]
  },
  {
   "cell_type": "code",
   "execution_count": 8,
   "metadata": {
    "collapsed": true
   },
   "outputs": [
    {
     "name": "stdout",
     "output_type": "stream",
     "text": [
      "{'__name__': '__main__', '__doc__': 'Automatically created module for IPython interactive environment', '__package__': None, '__loader__': None, '__spec__': None, '__builtin__': <module 'builtins' (built-in)>, '__builtins__': <module 'builtins' (built-in)>, '_ih': ['', \"# Format the number 0.5 into a percentage value:\\nx = format(0.5, '%')\", \"# Format the number 0.5 into a percentage value:\\nx = format(0.5, '%')\\nprint(x)\", \"# Format the number 0.5 into a percentage value:\\nx = format(0.5, '%')\\nprint(x)\\nprint(type(x)\", \"# Format the number 0.5 into a percentage value:\\nx = format(0.5, '%')\\nprint(x)\\nprint(type(x))\", 'class Person:\\n    name = \"John\"\\n    age = 36\\n    country = \"Norway\"\\n\\nx = getattr(Person, \\'page\\', \\'default value\\')\\nprint(x)\\nx = setattr(Person, \\'page\\', 999)\\nprint(x)\\nx = hasattr(Person, \\'page\\')\\nprint(x)\\nx = getattr(Person, \\'page\\', \\'default value\\')\\nprint(x)\\nx = delattr(Person, \\'page\\')\\nprint(x)\\nx = hasattr(Person, \\'page\\')\\nprint(x)', 'x = globals()\\nprint(x)', 'x = locals()\\nprint(x)', 'y = globals()\\nprint(y)'], '_oh': {}, '_dh': ['D:\\\\Projects\\\\knowledge-base'], 'In': ['', \"# Format the number 0.5 into a percentage value:\\nx = format(0.5, '%')\", \"# Format the number 0.5 into a percentage value:\\nx = format(0.5, '%')\\nprint(x)\", \"# Format the number 0.5 into a percentage value:\\nx = format(0.5, '%')\\nprint(x)\\nprint(type(x)\", \"# Format the number 0.5 into a percentage value:\\nx = format(0.5, '%')\\nprint(x)\\nprint(type(x))\", 'class Person:\\n    name = \"John\"\\n    age = 36\\n    country = \"Norway\"\\n\\nx = getattr(Person, \\'page\\', \\'default value\\')\\nprint(x)\\nx = setattr(Person, \\'page\\', 999)\\nprint(x)\\nx = hasattr(Person, \\'page\\')\\nprint(x)\\nx = getattr(Person, \\'page\\', \\'default value\\')\\nprint(x)\\nx = delattr(Person, \\'page\\')\\nprint(x)\\nx = hasattr(Person, \\'page\\')\\nprint(x)', 'x = globals()\\nprint(x)', 'x = locals()\\nprint(x)', 'y = globals()\\nprint(y)'], 'Out': {}, 'get_ipython': <bound method InteractiveShell.get_ipython of <ipykernel.zmqshell.ZMQInteractiveShell object at 0x000000000518FEB8>>, 'exit': <IPython.core.autocall.ZMQExitAutocall object at 0x00000000051DFA58>, 'quit': <IPython.core.autocall.ZMQExitAutocall object at 0x00000000051DFA58>, '_': '', '__': '', '___': '', '_i': 'x = locals()\\nprint(x)', '_ii': 'x = globals()\\nprint(x)', '_iii': 'class Person:\\n    name = \"John\"\\n    age = 36\\n    country = \"Norway\"\\n\\nx = getattr(Person, \\'page\\', \\'default value\\')\\nprint(x)\\nx = setattr(Person, \\'page\\', 999)\\nprint(x)\\nx = hasattr(Person, \\'page\\')\\nprint(x)\\nx = getattr(Person, \\'page\\', \\'default value\\')\\nprint(x)\\nx = delattr(Person, \\'page\\')\\nprint(x)\\nx = hasattr(Person, \\'page\\')\\nprint(x)', '_i1': \"# Format the number 0.5 into a percentage value:\\nx = format(0.5, '%')\", 'x': {...}, '_i2': \"# Format the number 0.5 into a percentage value:\\nx = format(0.5, '%')\\nprint(x)\", '_i3': \"# Format the number 0.5 into a percentage value:\\nx = format(0.5, '%')\\nprint(x)\\nprint(type(x)\", '_i4': \"# Format the number 0.5 into a percentage value:\\nx = format(0.5, '%')\\nprint(x)\\nprint(type(x))\", '_i5': 'class Person:\\n    name = \"John\"\\n    age = 36\\n    country = \"Norway\"\\n\\nx = getattr(Person, \\'page\\', \\'default value\\')\\nprint(x)\\nx = setattr(Person, \\'page\\', 999)\\nprint(x)\\nx = hasattr(Person, \\'page\\')\\nprint(x)\\nx = getattr(Person, \\'page\\', \\'default value\\')\\nprint(x)\\nx = delattr(Person, \\'page\\')\\nprint(x)\\nx = hasattr(Person, \\'page\\')\\nprint(x)', 'Person': <class '__main__.Person'>, '_i6': 'x = globals()\\nprint(x)', '_i7': 'x = locals()\\nprint(x)', '_i8': 'y = globals()\\nprint(y)', 'y': {...}}\n"
     ]
    }
   ],
   "source": [
    "y = globals()\n",
    "print(y)"
   ]
  },
  {
   "cell_type": "code",
   "execution_count": 9,
   "metadata": {
    "collapsed": true
   },
   "outputs": [
    {
     "name": "stdout",
     "output_type": "stream",
     "text": [
      "{'__name__': '__main__', '__doc__': 'Automatically created module for IPython interactive environment', '__package__': None, '__loader__': None, '__spec__': None, '__builtin__': <module 'builtins' (built-in)>, '__builtins__': <module 'builtins' (built-in)>, '_ih': ['', \"# Format the number 0.5 into a percentage value:\\nx = format(0.5, '%')\", \"# Format the number 0.5 into a percentage value:\\nx = format(0.5, '%')\\nprint(x)\", \"# Format the number 0.5 into a percentage value:\\nx = format(0.5, '%')\\nprint(x)\\nprint(type(x)\", \"# Format the number 0.5 into a percentage value:\\nx = format(0.5, '%')\\nprint(x)\\nprint(type(x))\", 'class Person:\\n    name = \"John\"\\n    age = 36\\n    country = \"Norway\"\\n\\nx = getattr(Person, \\'page\\', \\'default value\\')\\nprint(x)\\nx = setattr(Person, \\'page\\', 999)\\nprint(x)\\nx = hasattr(Person, \\'page\\')\\nprint(x)\\nx = getattr(Person, \\'page\\', \\'default value\\')\\nprint(x)\\nx = delattr(Person, \\'page\\')\\nprint(x)\\nx = hasattr(Person, \\'page\\')\\nprint(x)', 'x = globals()\\nprint(x)', 'x = locals()\\nprint(x)', 'y = globals()\\nprint(y)', 'z = locals()\\nprint(z)'], '_oh': {}, '_dh': ['D:\\\\Projects\\\\knowledge-base'], 'In': ['', \"# Format the number 0.5 into a percentage value:\\nx = format(0.5, '%')\", \"# Format the number 0.5 into a percentage value:\\nx = format(0.5, '%')\\nprint(x)\", \"# Format the number 0.5 into a percentage value:\\nx = format(0.5, '%')\\nprint(x)\\nprint(type(x)\", \"# Format the number 0.5 into a percentage value:\\nx = format(0.5, '%')\\nprint(x)\\nprint(type(x))\", 'class Person:\\n    name = \"John\"\\n    age = 36\\n    country = \"Norway\"\\n\\nx = getattr(Person, \\'page\\', \\'default value\\')\\nprint(x)\\nx = setattr(Person, \\'page\\', 999)\\nprint(x)\\nx = hasattr(Person, \\'page\\')\\nprint(x)\\nx = getattr(Person, \\'page\\', \\'default value\\')\\nprint(x)\\nx = delattr(Person, \\'page\\')\\nprint(x)\\nx = hasattr(Person, \\'page\\')\\nprint(x)', 'x = globals()\\nprint(x)', 'x = locals()\\nprint(x)', 'y = globals()\\nprint(y)', 'z = locals()\\nprint(z)'], 'Out': {}, 'get_ipython': <bound method InteractiveShell.get_ipython of <ipykernel.zmqshell.ZMQInteractiveShell object at 0x000000000518FEB8>>, 'exit': <IPython.core.autocall.ZMQExitAutocall object at 0x00000000051DFA58>, 'quit': <IPython.core.autocall.ZMQExitAutocall object at 0x00000000051DFA58>, '_': '', '__': '', '___': '', '_i': 'y = globals()\\nprint(y)', '_ii': 'x = locals()\\nprint(x)', '_iii': 'x = globals()\\nprint(x)', '_i1': \"# Format the number 0.5 into a percentage value:\\nx = format(0.5, '%')\", 'x': {...}, '_i2': \"# Format the number 0.5 into a percentage value:\\nx = format(0.5, '%')\\nprint(x)\", '_i3': \"# Format the number 0.5 into a percentage value:\\nx = format(0.5, '%')\\nprint(x)\\nprint(type(x)\", '_i4': \"# Format the number 0.5 into a percentage value:\\nx = format(0.5, '%')\\nprint(x)\\nprint(type(x))\", '_i5': 'class Person:\\n    name = \"John\"\\n    age = 36\\n    country = \"Norway\"\\n\\nx = getattr(Person, \\'page\\', \\'default value\\')\\nprint(x)\\nx = setattr(Person, \\'page\\', 999)\\nprint(x)\\nx = hasattr(Person, \\'page\\')\\nprint(x)\\nx = getattr(Person, \\'page\\', \\'default value\\')\\nprint(x)\\nx = delattr(Person, \\'page\\')\\nprint(x)\\nx = hasattr(Person, \\'page\\')\\nprint(x)', 'Person': <class '__main__.Person'>, '_i6': 'x = globals()\\nprint(x)', '_i7': 'x = locals()\\nprint(x)', '_i8': 'y = globals()\\nprint(y)', 'y': {...}, '_i9': 'z = locals()\\nprint(z)', 'z': {...}}\n"
     ]
    }
   ],
   "source": [
    "z = locals()\n",
    "print(z)"
   ]
  },
  {
   "cell_type": "markdown",
   "metadata": {},
   "source": [
    "#### hash"
   ]
  },
  {
   "cell_type": "markdown",
   "metadata": {},
   "source": [
    "**hash(x)** - Возвращает хеш указанного объекта.\n",
    "\n",
    "Работает только для неизменяемых типов данных."
   ]
  },
  {
   "cell_type": "code",
   "execution_count": 10,
   "metadata": {},
   "outputs": [
    {
     "name": "stdout",
     "output_type": "stream",
     "text": [
      "The integer hash value is : 4\n",
      "The string hash value is : 857034812439292237\n",
      "The float hash value is : 1291272085159665688\n"
     ]
    }
   ],
   "source": [
    "int_val = 4\n",
    "str_val = 'GeeksforGeeks'\n",
    "flt_val = 24.56\n",
    "\n",
    "print (\"The integer hash value is : \" + str(hash(int_val))) \n",
    "print (\"The string hash value is : \" + str(hash(str_val))) \n",
    "print (\"The float hash value is : \" + str(hash(flt_val))) "
   ]
  },
  {
   "cell_type": "markdown",
   "metadata": {},
   "source": [
    "#### help"
   ]
  },
  {
   "cell_type": "markdown",
   "metadata": {},
   "source": [
    "**help([object])** - Вызов встроенной справочной системы."
   ]
  },
  {
   "cell_type": "code",
   "execution_count": 13,
   "metadata": {},
   "outputs": [
    {
     "name": "stdout",
     "output_type": "stream",
     "text": [
      "Help on built-in function hex in module builtins:\n",
      "\n",
      "hex(number, /)\n",
      "    Return the hexadecimal representation of an integer.\n",
      "    \n",
      "    >>> hex(12648430)\n",
      "    '0xc0ffee'\n",
      "\n"
     ]
    }
   ],
   "source": [
    "help(hex)"
   ]
  },
  {
   "cell_type": "markdown",
   "metadata": {},
   "source": [
    "#### id"
   ]
  },
  {
   "cell_type": "markdown",
   "metadata": {},
   "source": [
    "**id(object)** - Возвращает \"адрес\" объекта. Это целое число, которое гарантированно будет уникальным и постоянным для данного объекта в течение срока его существования."
   ]
  },
  {
   "cell_type": "code",
   "execution_count": 21,
   "metadata": {},
   "outputs": [
    {
     "name": "stdout",
     "output_type": "stream",
     "text": [
      "85461000\n",
      "88503776\n",
      "88503776\n",
      "85461000\n"
     ]
    }
   ],
   "source": [
    "x = ['apple', 'banana', 'cherry']\n",
    "print( id(x) )\n",
    "print( id(x[1]) )\n",
    "y = 'banana'\n",
    "print( id(y) )\n",
    "x.append(y)\n",
    "print( id(x) )"
   ]
  },
  {
   "cell_type": "markdown",
   "metadata": {},
   "source": [
    "#### input"
   ]
  },
  {
   "cell_type": "markdown",
   "metadata": {},
   "source": [
    "**input([prompt])** - Возвращает введенную пользователем строку. Prompt - подсказка пользователю."
   ]
  },
  {
   "cell_type": "code",
   "execution_count": 23,
   "metadata": {},
   "outputs": [
    {
     "name": "stdout",
     "output_type": "stream",
     "text": [
      "Enter your name:\n",
      "Caesar\n",
      "Hello, Caesar\n"
     ]
    }
   ],
   "source": [
    "print('Enter your name:')\n",
    "x = input()\n",
    "print('Hello, ' + x)"
   ]
  },
  {
   "cell_type": "markdown",
   "metadata": {},
   "source": [
    "#### isinstance"
   ]
  },
  {
   "cell_type": "markdown",
   "metadata": {},
   "source": [
    "**isinstance(object, ClassInfo)** - Истина, если объект является экземпляром ClassInfo или его подклассом. Если объект не является объектом данного типа, функция всегда возвращает ложь."
   ]
  },
  {
   "cell_type": "code",
   "execution_count": 25,
   "metadata": {},
   "outputs": [
    {
     "name": "stdout",
     "output_type": "stream",
     "text": [
      "True\n",
      "True\n",
      "False\n"
     ]
    }
   ],
   "source": [
    "print( isinstance(5, int) )\n",
    "print( isinstance(\"Hello\", (float, int, str, list, dict, tuple)) )\n",
    "print( isinstance(\"Hello\", (float, int, list, dict, tuple)) )"
   ]
  },
  {
   "cell_type": "markdown",
   "metadata": {},
   "source": [
    "**issubclass**"
   ]
  },
  {
   "cell_type": "markdown",
   "metadata": {},
   "source": [
    "**issubclass(класс, ClassInfo)** - Истина, если класс является подклассом ClassInfo. Класс считается подклассом себя."
   ]
  },
  {
   "cell_type": "code",
   "execution_count": 28,
   "metadata": {},
   "outputs": [
    {
     "name": "stdout",
     "output_type": "stream",
     "text": [
      "True\n",
      "False\n"
     ]
    }
   ],
   "source": [
    "class myAge:\n",
    "  age = 36\n",
    "\n",
    "class myObj(myAge):\n",
    "  name = \"John\"\n",
    "  age = myAge\n",
    "\n",
    "print( issubclass(myObj, myAge) )\n",
    "print( issubclass(myAge, myObj) )"
   ]
  },
  {
   "cell_type": "markdown",
   "metadata": {},
   "source": [
    "#### iter / next / reversed"
   ]
  },
  {
   "cell_type": "markdown",
   "metadata": {},
   "source": [
    "* **iter(x)** - Возвращает объект итератора.\n",
    "* **reversed(object)** - Итератор из развернутого объекта.\n",
    "* **next(x)** - Возвращает следующий элемент итератора."
   ]
  },
  {
   "cell_type": "code",
   "execution_count": 49,
   "metadata": {},
   "outputs": [
    {
     "name": "stdout",
     "output_type": "stream",
     "text": [
      "apple\n",
      "banana\n",
      "cherry\n",
      "\n",
      "cherry\n",
      "banana\n",
      "apple\n"
     ]
    }
   ],
   "source": [
    "x = iter([\"apple\", \"banana\", \"cherry\"])\n",
    "print(next(x))\n",
    "print(next(x))\n",
    "print(next(x), end='\\n\\n')\n",
    "x = reversed([\"apple\", \"banana\", \"cherry\"])\n",
    "print(next(x))\n",
    "print(next(x))\n",
    "print(next(x))"
   ]
  },
  {
   "cell_type": "markdown",
   "metadata": {},
   "source": [
    "#### len"
   ]
  },
  {
   "cell_type": "markdown",
   "metadata": {},
   "source": [
    "**len(x)** - Возвращает число элементов в указанном объекте."
   ]
  },
  {
   "cell_type": "code",
   "execution_count": 31,
   "metadata": {},
   "outputs": [
    {
     "name": "stdout",
     "output_type": "stream",
     "text": [
      "3\n"
     ]
    }
   ],
   "source": [
    "x = [\"apple\", \"banana\", \"cherry\"]\n",
    "print(len(x))"
   ]
  },
  {
   "cell_type": "markdown",
   "metadata": {},
   "source": [
    "#### map"
   ]
  },
  {
   "cell_type": "markdown",
   "metadata": {},
   "source": [
    "**map(function, iterator)** - Итератор, получившийся после применения к каждому элементу последовательности функции function."
   ]
  },
  {
   "cell_type": "code",
   "execution_count": 45,
   "metadata": {},
   "outputs": [
    {
     "name": "stdout",
     "output_type": "stream",
     "text": [
      "[True, True, False, True, True]\n"
     ]
    }
   ],
   "source": [
    "def is_instance(s):\n",
    "    return isinstance(s, str)\n",
    "\n",
    "x = map(is_instance, ('apple', 'banana', 747, 'cherry', 'kiwi'))\n",
    "print( list(x) )"
   ]
  },
  {
   "cell_type": "markdown",
   "metadata": {},
   "source": [
    "#### max / min"
   ]
  },
  {
   "cell_type": "markdown",
   "metadata": {},
   "source": [
    "* **max(iter, [args ...] * [, key])** - Максимальный элемент последовательности.\n",
    "\n",
    "* **min(iter, [args ...] * [, key])** - Минимальный элемент последовательности."
   ]
  },
  {
   "cell_type": "code",
   "execution_count": 47,
   "metadata": {},
   "outputs": [
    {
     "name": "stdout",
     "output_type": "stream",
     "text": [
      "3000\n",
      "2\n",
      "Vicky\n"
     ]
    }
   ],
   "source": [
    "print( max(100, 200, 3000, 400, 500, 600, 2, 700) )\n",
    "print( min([100, 200, 3000, 400, 500, 600, 2, 700]) )\n",
    "\n",
    "print( max(\"Mike\", \"John\", \"Vicky\") )"
   ]
  },
  {
   "cell_type": "markdown",
   "metadata": {},
   "source": [
    "#### open"
   ]
  },
  {
   "cell_type": "markdown",
   "metadata": {},
   "source": [
    "**open(file, mode='r', buffering=None, encoding=None, errors=None, newline=None, closefd=True)** - Открывает файл и возвращает соответствующий поток.\n",
    "\n",
    "There are four different methods (modes) for opening a file:\n",
    "\n",
    "* \"r\" - Read - Default value. Opens a file for reading, error if the file does not exist\n",
    "\n",
    "* \"a\" - Append - Opens a file for appending, creates the file if it does not exist\n",
    "\n",
    "* \"w\" - Write - Opens a file for writing, creates the file if it does not exist\n",
    "\n",
    "* \"x\" - Create - Creates the specified file, returns an error if the file exists\n",
    "\n",
    "\n",
    "In addition you can specify if the file should be handled as binary or text mode\n",
    "\n",
    "* \"t\" - Text - Default value. Text mode\n",
    "\n",
    "* \"b\" - Binary - Binary mode (e.g. images)"
   ]
  },
  {
   "cell_type": "code",
   "execution_count": null,
   "metadata": {},
   "outputs": [],
   "source": [
    "f = open('filename.x', 'rt')\n",
    "#read file\n",
    "f.close()"
   ]
  },
  {
   "cell_type": "markdown",
   "metadata": {},
   "source": [
    "#### pow"
   ]
  },
  {
   "cell_type": "markdown",
   "metadata": {},
   "source": [
    "**pow(x, y[, r])** - возведение в степень или `( x ** y ) % r`."
   ]
  },
  {
   "cell_type": "code",
   "execution_count": 48,
   "metadata": {},
   "outputs": [
    {
     "name": "stdout",
     "output_type": "stream",
     "text": [
      "128\n",
      "128\n",
      "4323\n",
      "4323\n"
     ]
    }
   ],
   "source": [
    "print( 2 ** 7 )\n",
    "print( pow(2,7) )\n",
    "print( (3 ** 13) % 10000 )\n",
    "print( pow(3,13,10000) )"
   ]
  },
  {
   "cell_type": "markdown",
   "metadata": {},
   "source": [
    "#### repr"
   ]
  },
  {
   "cell_type": "markdown",
   "metadata": {},
   "source": [
    "**repr(obj)** - Представление объекта.\n"
   ]
  },
  {
   "cell_type": "code",
   "execution_count": 54,
   "metadata": {},
   "outputs": [
    {
     "name": "stdout",
     "output_type": "stream",
     "text": [
      "'Hello, Geeks.'\n",
      "0.18181818181818182\n"
     ]
    }
   ],
   "source": [
    "s = 'Hello, Geeks.'\n",
    "print (repr(s)) \n",
    "print (repr(2.0/11.0)) "
   ]
  },
  {
   "cell_type": "markdown",
   "metadata": {},
   "source": [
    "#### print"
   ]
  },
  {
   "cell_type": "markdown",
   "metadata": {},
   "source": [
    "**print([object, ...], *, sep=\" \", end='\\n', file=sys.stdout)** - Печать."
   ]
  },
  {
   "cell_type": "code",
   "execution_count": 56,
   "metadata": {},
   "outputs": [
    {
     "name": "stdout",
     "output_type": "stream",
     "text": [
      "Hello!!! how are you?\n"
     ]
    }
   ],
   "source": [
    "print(\"Hello\", \"how are you?\", sep=\"!!! \")"
   ]
  },
  {
   "cell_type": "markdown",
   "metadata": {},
   "source": [
    "#### property"
   ]
  },
  {
   "cell_type": "markdown",
   "metadata": {},
   "source": [
    "**property(fget=None, fset=None, fdel=None, doc=None)**. In Python, the main purpose of property() function is to create property of a class.\n",
    "\n",
    "* If no arguments are given, property() method returns a base property attribute that doesn’t contain any getter, setter or deleter.\n",
    "* If doc isn’t provided, property() method takes the docstring of the getter function."
   ]
  },
  {
   "cell_type": "code",
   "execution_count": 57,
   "metadata": {},
   "outputs": [
    {
     "name": "stdout",
     "output_type": "stream",
     "text": [
      "Getting value\n",
      "GeeksforGeeks\n",
      "Setting value to GfG\n",
      "Deleting value\n"
     ]
    }
   ],
   "source": [
    "# Python program to explain property() function \n",
    "  \n",
    "# Alphabet class \n",
    "class Alphabet: \n",
    "    def __init__(self, value): \n",
    "        self._value = value \n",
    "          \n",
    "    # getting the values \n",
    "    def getValue(self): \n",
    "        print('Getting value') \n",
    "        return self._value \n",
    "          \n",
    "    # setting the values \n",
    "    def setValue(self, value): \n",
    "        print('Setting value to ' + value) \n",
    "        self._value = value \n",
    "          \n",
    "    # deleting the values \n",
    "    def delValue(self): \n",
    "        print('Deleting value') \n",
    "        del self._value \n",
    "      \n",
    "    value = property(getValue, setValue, delValue, ) \n",
    "  \n",
    "# passing the value \n",
    "x = Alphabet('GeeksforGeeks') \n",
    "print(x.value) \n",
    "  \n",
    "x.value = 'GfG'\n",
    "  \n",
    "del x.value "
   ]
  },
  {
   "cell_type": "markdown",
   "metadata": {},
   "source": [
    "#### round"
   ]
  },
  {
   "cell_type": "markdown",
   "metadata": {},
   "source": [
    "**round(X [, N])** - Округление до N знаков после запятой."
   ]
  },
  {
   "cell_type": "code",
   "execution_count": 61,
   "metadata": {},
   "outputs": [
    {
     "name": "stdout",
     "output_type": "stream",
     "text": [
      "5.77\n"
     ]
    }
   ],
   "source": [
    "print( round(5.76543, 2) )"
   ]
  },
  {
   "cell_type": "markdown",
   "metadata": {},
   "source": [
    "#### sorted"
   ]
  },
  {
   "cell_type": "markdown",
   "metadata": {},
   "source": [
    "**sorted(iterable[, key][, reverse])** - Отсортированный список."
   ]
  },
  {
   "cell_type": "code",
   "execution_count": 70,
   "metadata": {},
   "outputs": [
    {
     "name": "stdout",
     "output_type": "stream",
     "text": [
      "[-76, -8, 2, 4, 6, 8.9, 9, 13, 23, 45, 436]\n",
      "['Anny', 'Banny', 'John', 'Mike', 'Vicky']\n"
     ]
    }
   ],
   "source": [
    "print( sorted([23, 4, 436, 13, -76, 45, 2, 6, -8, 9, 8.9]) )\n",
    "print( sorted([\"Banny\", \"Mike\", \"Anny\", \"John\", \"Vicky\"]) )"
   ]
  },
  {
   "cell_type": "markdown",
   "metadata": {},
   "source": [
    "#### staticmethod"
   ]
  },
  {
   "cell_type": "markdown",
   "metadata": {},
   "source": [
    "**staticmethod(function)** - Статический метод для функции. (un-pythonic way).\n",
    "\n",
    "Лучше использовать декоратор `@staticmethod`."
   ]
  },
  {
   "cell_type": "code",
   "execution_count": 74,
   "metadata": {},
   "outputs": [
    {
     "name": "stdout",
     "output_type": "stream",
     "text": [
      "The sum is: 15\n"
     ]
    }
   ],
   "source": [
    "# Un-pythonic way\n",
    "class Mathematics:\n",
    "\n",
    "    def addNumbers(x, y):\n",
    "        return x + y\n",
    "\n",
    "# create addNumbers static method\n",
    "Mathematics.addNumbers = staticmethod(Mathematics.addNumbers)\n",
    "\n",
    "print('The sum is:', Mathematics.addNumbers(5, 10))"
   ]
  },
  {
   "cell_type": "code",
   "execution_count": 75,
   "metadata": {},
   "outputs": [
    {
     "name": "stdout",
     "output_type": "stream",
     "text": [
      "The sum is: 15\n"
     ]
    }
   ],
   "source": [
    "# Pythonic way\n",
    "class Mathematics:\n",
    "    \n",
    "    @staticmethod\n",
    "    def addNumbers(x, y):\n",
    "        return x + y\n",
    "\n",
    "print('The sum is:', Mathematics.addNumbers(5, 10))"
   ]
  },
  {
   "cell_type": "markdown",
   "metadata": {},
   "source": [
    "#### sum"
   ]
  },
  {
   "cell_type": "markdown",
   "metadata": {},
   "source": [
    "**sum(iter, start=0)** - Сумма членов последовательности."
   ]
  },
  {
   "cell_type": "code",
   "execution_count": 80,
   "metadata": {},
   "outputs": [
    {
     "name": "stdout",
     "output_type": "stream",
     "text": [
      "15\n",
      "22\n"
     ]
    }
   ],
   "source": [
    "a = (1, 2, 3, 4, 5)\n",
    "print( sum(a) )\n",
    "print( sum(a, 7) )"
   ]
  },
  {
   "cell_type": "markdown",
   "metadata": {},
   "source": [
    "#### super"
   ]
  },
  {
   "cell_type": "markdown",
   "metadata": {},
   "source": [
    "**super([тип [, объект или тип]])** - Доступ к родительскому классу."
   ]
  },
  {
   "cell_type": "code",
   "execution_count": 90,
   "metadata": {},
   "outputs": [
    {
     "name": "stdout",
     "output_type": "stream",
     "text": [
      "Nick Walker\n"
     ]
    }
   ],
   "source": [
    "class Person:\n",
    "    \n",
    "    def __init__(self, fname, lname):\n",
    "        self.fname = fname\n",
    "        self.lname = lname\n",
    "    \n",
    "    def __str__(self):\n",
    "        return '%s %s' % (self.fname, self.lname)\n",
    "\n",
    "class Student(Person):\n",
    "    def __init__(self, fname, lname):\n",
    "        super().__init__(fname, lname)\n",
    "        \n",
    "s = Student('Nick', 'Walker')\n",
    "print(s)"
   ]
  },
  {
   "cell_type": "markdown",
   "metadata": {},
   "source": [
    "#### type"
   ]
  },
  {
   "cell_type": "markdown",
   "metadata": {},
   "source": [
    "* **type(object)** - Возвращает тип объекта.\n",
    "\n",
    "* **type(name, bases, dict)** - Возвращает новый экземпляр класса name."
   ]
  },
  {
   "cell_type": "code",
   "execution_count": 91,
   "metadata": {},
   "outputs": [
    {
     "name": "stdout",
     "output_type": "stream",
     "text": [
      "<class 'str'>\n"
     ]
    }
   ],
   "source": [
    "print( type('hello') )"
   ]
  },
  {
   "cell_type": "markdown",
   "metadata": {},
   "source": [
    "#### vars"
   ]
  },
  {
   "cell_type": "markdown",
   "metadata": {},
   "source": [
    "**vars([object])** - Словарь из атрибутов объекта. По умолчанию - словарь локальных имен."
   ]
  },
  {
   "cell_type": "code",
   "execution_count": 95,
   "metadata": {},
   "outputs": [
    {
     "name": "stdout",
     "output_type": "stream",
     "text": [
      "{'__module__': '__main__', '__doc__': 'doc str', 'name': 'John', 'age': 36, 'country': 'norway', '__dict__': <attribute '__dict__' of 'Person' objects>, '__weakref__': <attribute '__weakref__' of 'Person' objects>}\n"
     ]
    }
   ],
   "source": [
    "class Person:\n",
    "  '''doc str'''\n",
    "  name = \"John\"\n",
    "  age = 36\n",
    "  country = \"norway\"\n",
    "\n",
    "print( vars(Person) )"
   ]
  },
  {
   "cell_type": "markdown",
   "metadata": {},
   "source": [
    "#### zip"
   ]
  },
  {
   "cell_type": "markdown",
   "metadata": {},
   "source": [
    "**zip(*iters)** - Итератор, возвращающий кортежи, состоящие из соответствующих элементов аргументов-последовательностей."
   ]
  },
  {
   "cell_type": "code",
   "execution_count": 101,
   "metadata": {},
   "outputs": [
    {
     "name": "stdout",
     "output_type": "stream",
     "text": [
      "[(1, 'John', 'Jenny'), (2, 'Charles', 'Christy'), (3, 'Mike', 'Monica')]\n"
     ]
    }
   ],
   "source": [
    "a = (\"John\", \"Charles\", \"Mike\")\n",
    "b = (\"Jenny\", \"Christy\", \"Monica\", \"Adel\")\n",
    "n = (1, 2, 3, 4)\n",
    "\n",
    "print( list(zip(n, a, b)) )"
   ]
  },
  {
   "cell_type": "markdown",
   "metadata": {
    "id": "uGHWLLVg60FN"
   },
   "source": [
    "## Декораторы"
   ]
  },
  {
   "cell_type": "markdown",
   "metadata": {
    "id": "NyYUp7Me60FN"
   },
   "source": [
    "Существуюет два вида декораторов:\n",
    "* Декоратор функций\n",
    "* Декоратор классов\n",
    "\n",
    "Декораторы функций используются для управления вызовами функций и самими объектами функций, а декораторы классов используются для управления процедурой создания экземпляров классов и самих классов."
   ]
  },
  {
   "cell_type": "markdown",
   "metadata": {
    "id": "mVuC5k-V60FO"
   },
   "source": [
    "**Пример 1. Реализация при помощи функции.**"
   ]
  },
  {
   "cell_type": "code",
   "execution_count": null,
   "metadata": {
    "id": "NKA2ec0560FO"
   },
   "outputs": [],
   "source": [
    "# Пример декоратора, который логирует исключения основной функции\n",
    "def dec(F):\n",
    "    print('Срабатывает только во время объявления:', end=' ')\n",
    "    print(F)\n",
    "    print('id F define:', id(F))\n",
    "    def wrapper(*args):\n",
    "        print('id F wrapper:', id(F))\n",
    "        print('Decorator:', end=' ')\n",
    "        print(args)\n",
    "        try:\n",
    "            F(*args)\n",
    "        except Exception as e:\n",
    "            print('log:', e)\n",
    "    return wrapper"
   ]
  },
  {
   "cell_type": "markdown",
   "metadata": {
    "id": "00k4en3i60FT"
   },
   "source": [
    "**Пример 2. Реализация при помощи класса.**\n",
    "\n",
    "**Замечание:** пригоден только для декорирования простых функций и не пригоден для декорирования методов классов."
   ]
  },
  {
   "cell_type": "code",
   "execution_count": null,
   "metadata": {
    "id": "IK67JoZo60FT"
   },
   "outputs": [],
   "source": [
    "class decc:\n",
    "    def __init__(self, F):\n",
    "        self.F = F\n",
    "        print('Срабатывает только во время объявления:', end=' ')\n",
    "        print(self.F)\n",
    "        print('id F define:', id(self.F))\n",
    "    def __call__(self, *args):\n",
    "        print('id F wrapper:', id(self.F))\n",
    "        print('Decorator:', end=' ')\n",
    "        print(args)\n",
    "        try:\n",
    "            self.F(*args)\n",
    "        except Exception as e:\n",
    "            print('log:', e)"
   ]
  },
  {
   "cell_type": "code",
   "execution_count": null,
   "metadata": {
    "colab": {
     "base_uri": "https://localhost:8080/",
     "height": 52
    },
    "executionInfo": {
     "elapsed": 634,
     "status": "ok",
     "timestamp": 1601232396938,
     "user": {
      "displayName": "Pavel Loginov",
      "photoUrl": "https://lh3.googleusercontent.com/a-/AOh14GijsCUyp6qB4lgjTMaUCq5kiewMKnlAi3VFueMK=s64",
      "userId": "11601476103812660410"
     },
     "user_tz": -180
    },
    "id": "FlxoR3dx60FW",
    "outputId": "8175da0e-2867-4f17-9edb-9ec4edd0550f"
   },
   "outputs": [
    {
     "name": "stdout",
     "output_type": "stream",
     "text": [
      "Срабатывает только во время объявления: <function func at 0x7f390bef6840>\n",
      "id F define: 139882990102592\n"
     ]
    }
   ],
   "source": [
    "from datetime import datetime\n",
    "\n",
    "@dec #@decc\n",
    "def func(*args):\n",
    "    print('Func', datetime.now())\n",
    "    for arg in args:\n",
    "        print(arg)\n",
    "    raise Exception('EXCEPTION')"
   ]
  },
  {
   "cell_type": "code",
   "execution_count": null,
   "metadata": {
    "colab": {
     "base_uri": "https://localhost:8080/",
     "height": 301
    },
    "executionInfo": {
     "elapsed": 623,
     "status": "ok",
     "timestamp": 1601232400939,
     "user": {
      "displayName": "Pavel Loginov",
      "photoUrl": "https://lh3.googleusercontent.com/a-/AOh14GijsCUyp6qB4lgjTMaUCq5kiewMKnlAi3VFueMK=s64",
      "userId": "11601476103812660410"
     },
     "user_tz": -180
    },
    "id": "guW62-zB60FZ",
    "outputId": "17c9427f-439e-4ee8-e359-a638e83f0593"
   },
   "outputs": [
    {
     "name": "stdout",
     "output_type": "stream",
     "text": [
      "id F before: 139882990103952\n",
      "id F wrapper: 139882990102592\n",
      "Decorator: (321, 3123, 412)\n",
      "Func 2020-09-27 18:46:40.564330\n",
      "321\n",
      "3123\n",
      "412\n",
      "log: EXCEPTION\n",
      "id F wrapper: 139882990102592\n",
      "Decorator: ('dsf', '12312')\n",
      "Func 2020-09-27 18:46:40.566963\n",
      "dsf\n",
      "12312\n",
      "log: EXCEPTION\n",
      "id F after: 139882990103952\n",
      "id D: 139882990100960\n"
     ]
    }
   ],
   "source": [
    "print('id F before:', id(func))\n",
    "func(321,3123,412)\n",
    "func('dsf','12312')\n",
    "print('id F after:', id(func))\n",
    "print('id D:', id(dec))"
   ]
  },
  {
   "cell_type": "code",
   "execution_count": null,
   "metadata": {
    "id": "lkRW4gzU60Fc"
   },
   "outputs": [],
   "source": [
    "# @staticmethod, @classmethod"
   ]
  },
  {
   "cell_type": "markdown",
   "metadata": {
    "id": "CNpZDwwW60Ff"
   },
   "source": [
    "## Лямбда функции"
   ]
  },
  {
   "cell_type": "markdown",
   "metadata": {
    "id": "e2-qIvLuTqFg"
   },
   "source": [
    "# Исключения"
   ]
  },
  {
   "cell_type": "markdown",
   "metadata": {
    "id": "cq2ZIQiv60EX"
   },
   "source": [
    "# Стандартные библиотеки Python"
   ]
  },
  {
   "cell_type": "markdown",
   "metadata": {
    "id": "ZSDENh-L60EY"
   },
   "source": [
    "json, datetime, os, sys, unittest, re"
   ]
  },
  {
   "cell_type": "code",
   "execution_count": null,
   "metadata": {
    "id": "Jwmx5F3X60EY",
    "outputId": "a0fcaf72-cc7b-4475-98c7-c6f838376bb1"
   },
   "outputs": [
    {
     "name": "stdout",
     "output_type": "stream",
     "text": [
      "{'key1': 1, 'key2': 2, 'key3': {'kkey1': 11, 'kkey2': [32, 423, 432, 4]}}\n",
      "{\n",
      "    \"key1\": 1,\n",
      "    \"key2\": 2,\n",
      "    \"key3\": {\n",
      "        \"kkey1\": 11,\n",
      "        \"kkey2\": [\n",
      "            32,\n",
      "            423,\n",
      "            432,\n",
      "            4\n",
      "        ]\n",
      "    }\n",
      "}\n"
     ]
    }
   ],
   "source": [
    "# json - читаемый вывод\n",
    "dc = {'key1': 1, 'key2': 2, 'key3': {'kkey1': 11, 'kkey2':[32,423,432,4]}}\n",
    "print(dc)\n",
    "\n",
    "import json\n",
    "print(json.dumps(dc, indent=4, sort_keys=True))"
   ]
  },
  {
   "cell_type": "markdown",
   "metadata": {
    "id": "whIKtbIS60Ec"
   },
   "source": [
    "# Общие вопросы"
   ]
  },
  {
   "cell_type": "markdown",
   "metadata": {
    "id": "BpK8DE1Q60Ec"
   },
   "source": [
    "### **1. Swap переменных**"
   ]
  },
  {
   "cell_type": "code",
   "execution_count": null,
   "metadata": {
    "id": "IVJekIs860Ed",
    "outputId": "21e6cb2d-3710-4967-8cfe-75ac43211cab"
   },
   "outputs": [
    {
     "name": "stdout",
     "output_type": "stream",
     "text": [
      "a 20 \n",
      "b 100\n",
      "a 100 \n",
      "b 20\n"
     ]
    }
   ],
   "source": [
    "a, b = 20, 100\n",
    "print('a', a, '\\nb', b)\n",
    "a, b = b, a\n",
    "print('a', a, '\\nb', b)"
   ]
  },
  {
   "cell_type": "markdown",
   "metadata": {
    "id": "wbG2Te9s60Eg"
   },
   "source": [
    "### **2. Разница `range` и `xrange`**\n",
    "Разница существует в версии Python 2. В 3-ей `range` то же самое, что в 2-ом `xrange`.\n",
    "\n",
    "`range` возвращает итерируемый объект (но не итератор) и поддерживает 3 операции:\n",
    "  * итерацию\n",
    "  * обращение по индексу\n",
    "  * `len`\n",
    "\n",
    "  \n",
    "  *Примечание:* такие функции как `map`, `filter`, `zip` возвращают итератор, поэтому нельзя пройтись по ним дважды. Для `range` же можно создать несколько независимых итераторов.\n",
    "\n",
    "  `range` во Python 2.x возвращает лист."
   ]
  },
  {
   "cell_type": "code",
   "execution_count": null,
   "metadata": {
    "colab": {
     "base_uri": "https://localhost:8080/",
     "height": 194
    },
    "executionInfo": {
     "elapsed": 620,
     "status": "ok",
     "timestamp": 1601148588472,
     "user": {
      "displayName": "Pavel Loginov",
      "photoUrl": "https://lh3.googleusercontent.com/a-/AOh14GijsCUyp6qB4lgjTMaUCq5kiewMKnlAi3VFueMK=s64",
      "userId": "11601476103812660410"
     },
     "user_tz": -180
    },
    "id": "A15F0s0W3uA9",
    "outputId": "14b9c5ac-4542-47c4-9771-0c941876dfe9"
   },
   "outputs": [
    {
     "name": "stdout",
     "output_type": "stream",
     "text": [
      "Type: <class 'range'>\n",
      "print: range(5, 100, 2)\n",
      "Attrs:\n",
      "5\n",
      "2\n",
      "100\n",
      "Index: 15\n",
      "len: 48\n",
      "Iter next: 5\n",
      "Iter next: 7\n"
     ]
    }
   ],
   "source": [
    "R = range(5, 100, 2)\n",
    "print('Type:', type(R))\n",
    "print('print:', R)\n",
    "print('Attrs:')\n",
    "print(R.start)\n",
    "print(R.step)\n",
    "print(R.stop)\n",
    "print('Index:', R[5])\n",
    "print('len:', len(R))\n",
    "IR = iter(R)\n",
    "print('Iter next:', next(IR))\n",
    "print('Iter next:', next(IR))"
   ]
  },
  {
   "cell_type": "markdown",
   "metadata": {
    "id": "xCCFxjNu60Eh"
   },
   "source": [
    "### 3. Как передаются аргументы в функцию по ссылке или по значению?\n",
    "В python все объекты, есть два вида передачи аргументов:\n",
    "1. Для неизменяемых - call-by-object\n",
    "2. Для изменяемых - call-by-object-reference"
   ]
  },
  {
   "cell_type": "code",
   "execution_count": null,
   "metadata": {
    "id": "rYJ4Qm5-60Eh"
   },
   "outputs": [],
   "source": [
    "a = 5 # call-by-object\n",
    "ls = [a, 10, 15] # call-by-object-reference"
   ]
  },
  {
   "cell_type": "code",
   "execution_count": null,
   "metadata": {
    "id": "htegO_JJ60En"
   },
   "outputs": [],
   "source": [
    "def func1(num, lst):\n",
    "    num = 111\n",
    "    lst = list(lst)\n",
    "    lst.append(num)\n",
    "    lst.append(200)\n",
    "    lst[0] = 33\n",
    "    \n",
    "def func2(num, lst):\n",
    "    num = 111\n",
    "    lst.append(num)\n",
    "    lst.append(200)\n",
    "    lst[0] = 33"
   ]
  },
  {
   "cell_type": "code",
   "execution_count": null,
   "metadata": {
    "id": "IpcxyxtX60Er",
    "outputId": "ca749f3a-1cfb-4093-b7bf-e5c593aa9de7"
   },
   "outputs": [
    {
     "name": "stdout",
     "output_type": "stream",
     "text": [
      "a: 5 \n",
      "ls: [5, 10, 15]\n",
      "call func1\n",
      "a: 5 \n",
      "ls: [5, 10, 15]\n",
      "call func2\n",
      "a: 5 \n",
      "ls: [33, 10, 15, 111, 200]\n"
     ]
    }
   ],
   "source": [
    "print('a:', a, '\\nls:', ls)\n",
    "print('call func1')\n",
    "func1(a, ls)\n",
    "print('a:', a, '\\nls:', ls)\n",
    "print('call func2')\n",
    "func2(a, ls)\n",
    "print('a:', a, '\\nls:', ls)"
   ]
  },
  {
   "cell_type": "markdown",
   "metadata": {
    "id": "l_VUbeCf60Ev"
   },
   "source": [
    "### 4. Есть ли ошибка в функции `is_none`?"
   ]
  },
  {
   "cell_type": "code",
   "execution_count": null,
   "metadata": {
    "id": "2q-lyoms60Ew",
    "outputId": "e6da9fba-d595-45a9-f370-f8db1823ef77"
   },
   "outputs": [
    {
     "name": "stdout",
     "output_type": "stream",
     "text": [
      "True\n",
      "True\n",
      "True\n",
      "\n",
      "True\n",
      "False\n",
      "False\n"
     ]
    }
   ],
   "source": [
    "def is_none(arg):\n",
    "    if arg:\n",
    "        return False\n",
    "    else:\n",
    "        return True\n",
    "        \n",
    "print(is_none(None))\n",
    "print(is_none([])) # isn't None\n",
    "print(is_none(''), end='\\n\\n') # isn't None\n",
    "\n",
    "def is_none_corrected(arg):\n",
    "    if arg is not None:\n",
    "        return False\n",
    "    else:\n",
    "        return True\n",
    "\n",
    "print(is_none_corrected(None))\n",
    "print(is_none_corrected([]))\n",
    "print(is_none_corrected(''))"
   ]
  },
  {
   "cell_type": "markdown",
   "metadata": {
    "id": "g29raZln60Ez"
   },
   "source": [
    "### 5. Отличие `copy.copy()` и `copy.deepcopy()`?\n",
    "`copy` позволяет не просто передавать ссылку на объект, а полность скопировать его.\n",
    "\n",
    "При этом `copy` копирует одномерные вложенности, а `deepcopy` многомерные (рекурсивно), как в примере с `matrix`."
   ]
  },
  {
   "cell_type": "code",
   "execution_count": null,
   "metadata": {
    "id": "ZVY-yl3W60E0",
    "outputId": "5623e6a7-bb51-4077-f11e-130f0220f2ad"
   },
   "outputs": [
    {
     "name": "stdout",
     "output_type": "stream",
     "text": [
      "[[0, 53, 24], 10000000, [3, 3, 6], [[11, 4124, 55], 78, 32]]\n",
      "[[0, 0, 24], 10000000, [3, 3, 6], [[11, 4124, 55], 78, 32]]\n",
      "[[0, 0, 24], 10000000, [3, 3, 6], [[11, 4124, 55], 78, 32]]\n"
     ]
    }
   ],
   "source": [
    "matrix = [[421, 53, 24], 10000000, [3, 3, 6], [[11, 4124, 55], 78, 32]]\n",
    "nm = matrix\n",
    "nm[0][0] = 0\n",
    "# nm изменил matrix\n",
    "print(matrix)\n",
    "\n",
    "import copy\n",
    "nm = copy.copy(matrix)\n",
    "nm[0][1] = 0\n",
    "nm[1] = 0\n",
    "# nm обнулил вложенный список в matrix, но не смог обнулить первую вложенность\n",
    "print(matrix)\n",
    "\n",
    "nm = copy.deepcopy(matrix)\n",
    "nm[3][0][0] = 0\n",
    "nm[2][0] = 0\n",
    "nm[1] = 0\n",
    "# не смог обнулить ни первую, не вторую,третью вложенности -->\n",
    "# nm полностью новый объект не связанный с matrix\n",
    "print(matrix)"
   ]
  },
  {
   "cell_type": "markdown",
   "metadata": {
    "id": "KNW6TM-s60E2"
   },
   "source": [
    "### 6. Что делает метод `id`?\n",
    "* Возвращает адрес объекта в памяти\n",
    "* Уникальный для каждого объекта\n",
    "* При этом несколько переменных могут ссылаться на один объект"
   ]
  },
  {
   "cell_type": "code",
   "execution_count": null,
   "metadata": {
    "id": "sL2ERerF60E3",
    "outputId": "26b7d138-68ba-41eb-9805-21a09467f8e0"
   },
   "outputs": [
    {
     "name": "stdout",
     "output_type": "stream",
     "text": [
      "True\n",
      "False\n"
     ]
    }
   ],
   "source": [
    "a = b = 7\n",
    "print(id(a) == id(b))\n",
    "a = a + 10\n",
    "print(id(a) == id(b))"
   ]
  },
  {
   "cell_type": "markdown",
   "metadata": {
    "id": "5n2VXgJy60E6"
   },
   "source": [
    "### 7. Что выведет программа? (`datetime`, `function def`)\n",
    "Значения по умолчанию присваиваются в момент создания функции, и не меняется (не вызывается каждый раз `now()`)"
   ]
  },
  {
   "cell_type": "code",
   "execution_count": null,
   "metadata": {
    "id": "WCY0CtiK60E7",
    "outputId": "9432d003-5808-4251-e1d3-5ac8a036d733"
   },
   "outputs": [
    {
     "name": "stdout",
     "output_type": "stream",
     "text": [
      "2020-09-22 11:12:18.731084\n",
      "2020-09-22 11:12:18.731084\n",
      "2020-09-22 11:12:18.731084\n"
     ]
    }
   ],
   "source": [
    "import datetime as dt\n",
    "from time import sleep\n",
    "\n",
    "def foo(time=dt.datetime.now()):\n",
    "    sleep(1)\n",
    "    print(time)\n",
    "    \n",
    "foo()    \n",
    "foo()\n",
    "foo()"
   ]
  },
  {
   "cell_type": "markdown",
   "metadata": {
    "id": "vyGk2Y5u60E-"
   },
   "source": [
    "### 8. Что выведет программа? (`default values of funcs`)"
   ]
  },
  {
   "cell_type": "code",
   "execution_count": null,
   "metadata": {
    "id": "km_cfaPx60E-",
    "outputId": "06db82c0-100d-4dba-a3e2-1a39dcd7bb4f"
   },
   "outputs": [
    {
     "name": "stdout",
     "output_type": "stream",
     "text": [
      "[2]\n",
      "[1, 2, 3]\n",
      "[2, 4]\n",
      "[2, 4, 8]\n"
     ]
    }
   ],
   "source": [
    "def foo(x, a=[]):\n",
    "    a.append(x)\n",
    "    print(a)\n",
    "    \n",
    "foo(2)\n",
    "foo(3, [1,2])\n",
    "foo(4)\n",
    "foo(8)"
   ]
  },
  {
   "cell_type": "markdown",
   "metadata": {
    "id": "rqlfEN_W60FC"
   },
   "source": [
    "### 9. Разница `is` и `==`\n",
    "* `is` сравнивает адреса, т.е. по `id`\n",
    "* `==` сравнивает значения"
   ]
  },
  {
   "cell_type": "code",
   "execution_count": null,
   "metadata": {
    "id": "-5Uew17O60FD",
    "outputId": "f5ab716f-cb5d-4e20-9202-0fffc0f59f1b"
   },
   "outputs": [
    {
     "name": "stdout",
     "output_type": "stream",
     "text": [
      "True\n",
      "True\n",
      "\n",
      "False\n",
      "True\n"
     ]
    }
   ],
   "source": [
    "a = b = [1, 2, 3]\n",
    "\n",
    "print(a is b)\n",
    "print(a == b, end='\\n\\n')\n",
    "\n",
    "b = list(a)\n",
    "\n",
    "print(a is b)\n",
    "print(a == b)"
   ]
  },
  {
   "cell_type": "markdown",
   "metadata": {
    "id": "ueKSedQN60FG"
   },
   "source": [
    "### 10. Разница между `function` и `method`."
   ]
  },
  {
   "cell_type": "code",
   "execution_count": null,
   "metadata": {
    "id": "x9J0L8sy60FG",
    "outputId": "6fef257b-c28c-4f48-ddc3-1920b22f1431"
   },
   "outputs": [
    {
     "name": "stdout",
     "output_type": "stream",
     "text": [
      "<class 'function'>\n",
      "<class 'function'>\n",
      "<class 'method'>\n"
     ]
    }
   ],
   "source": [
    "class MyClass:\n",
    "    def class_func(self):\n",
    "        pass\n",
    "\n",
    "def my_function():\n",
    "    pass\n",
    "\n",
    "inst = MyClass()\n",
    "print(type(my_function))\n",
    "print(type(MyClass.class_func))\n",
    "print(type(inst.class_func))"
   ]
  },
  {
   "cell_type": "markdown",
   "metadata": {
    "id": "_IgEt32nVNfn"
   },
   "source": [
    "### 11. Как посмотреть все ключевые слова? (keyword)"
   ]
  },
  {
   "cell_type": "code",
   "execution_count": 4,
   "metadata": {
    "colab": {
     "base_uri": "https://localhost:8080/"
    },
    "executionInfo": {
     "elapsed": 947,
     "status": "ok",
     "timestamp": 1607749597697,
     "user": {
      "displayName": "Pavel Loginov",
      "photoUrl": "https://lh3.googleusercontent.com/a-/AOh14GjVLekLkzkaBLHW95VIlNG2Lo1s6Y4Y35B3Av8l=s64",
      "userId": "11601476103812660410"
     },
     "user_tz": 180
    },
    "id": "3NkyTn7nVYNw",
    "outputId": "411d6221-4f08-44d2-d330-cbef7097b7d3"
   },
   "outputs": [
    {
     "name": "stdout",
     "output_type": "stream",
     "text": [
      "['False', 'None', 'True', 'and', 'as', 'assert', 'break', 'class', 'continue', 'def', 'del', 'elif', 'else', 'except', 'finally', 'for', 'from', 'global', 'if', 'import', 'in', 'is', 'lambda', 'nonlocal', 'not', 'or', 'pass', 'raise', 'return', 'try', 'while', 'with', 'yield']\n",
      "33\n",
      "False\n",
      "True\n"
     ]
    }
   ],
   "source": [
    "import keyword\n",
    "# Список ключевых слов Python\n",
    "print(keyword.kwlist)\n",
    "print(len(keyword.kwlist))\n",
    "\n",
    "# Провека ключевых слов\n",
    "print(keyword.iskeyword('ffrom'))\n",
    "print(keyword.iskeyword('from'))"
   ]
  },
  {
   "cell_type": "markdown",
   "metadata": {
    "id": "7IfAurXv60Fg"
   },
   "source": [
    "# Best practices"
   ]
  },
  {
   "cell_type": "markdown",
   "metadata": {
    "id": "IvPUEmy060Fp"
   },
   "source": [
    "**Объединение словарей.**"
   ]
  },
  {
   "cell_type": "code",
   "execution_count": null,
   "metadata": {
    "colab": {
     "base_uri": "https://localhost:8080/",
     "height": 34
    },
    "executionInfo": {
     "elapsed": 659,
     "status": "ok",
     "timestamp": 1601133342133,
     "user": {
      "displayName": "Pavel Loginov",
      "photoUrl": "https://lh3.googleusercontent.com/a-/AOh14GijsCUyp6qB4lgjTMaUCq5kiewMKnlAi3VFueMK=s64",
      "userId": "11601476103812660410"
     },
     "user_tz": -180
    },
    "id": "DWVtwdLC60Fp",
    "outputId": "a1b708ec-c7f0-4a23-c17e-c2ff648e7079"
   },
   "outputs": [
    {
     "data": {
      "text/plain": [
       "{'hey4': 4, 'key1': 7, 'key2': 2, 'key3': 3}"
      ]
     },
     "execution_count": 16,
     "metadata": {
      "tags": []
     },
     "output_type": "execute_result"
    }
   ],
   "source": [
    "# Объединить два словаря\n",
    "d1 = {'key1': 1, 'key2': 2}\n",
    "d2 = {'key3': 3, 'hey4': 4, 'key1': 7}\n",
    "d1 = {**d1, **d2} # overriding depends on order here\n",
    "d1"
   ]
  },
  {
   "cell_type": "markdown",
   "metadata": {
    "id": "YmM4MQ-K60Ft"
   },
   "source": [
    "**Итерация по строкам файла.**"
   ]
  },
  {
   "cell_type": "code",
   "execution_count": null,
   "metadata": {
    "id": "yzSUdEPR60Fu"
   },
   "outputs": [],
   "source": [
    "for line in open('file.txt', 'r'):\n",
    "    print(line)"
   ]
  },
  {
   "cell_type": "markdown",
   "metadata": {
    "id": "OFI5xh_e60Fh"
   },
   "source": [
    "###  Операции с листом"
   ]
  },
  {
   "cell_type": "code",
   "execution_count": null,
   "metadata": {
    "colab": {
     "base_uri": "https://localhost:8080/",
     "height": 34
    },
    "executionInfo": {
     "elapsed": 604,
     "status": "ok",
     "timestamp": 1601133263832,
     "user": {
      "displayName": "Pavel Loginov",
      "photoUrl": "https://lh3.googleusercontent.com/a-/AOh14GijsCUyp6qB4lgjTMaUCq5kiewMKnlAi3VFueMK=s64",
      "userId": "11601476103812660410"
     },
     "user_tz": -180
    },
    "id": "G8yRLtRS60Fi",
    "outputId": "59c0d69b-ce02-4329-cc68-3baea8b57db7"
   },
   "outputs": [
    {
     "name": "stdout",
     "output_type": "stream",
     "text": [
      "[]\n"
     ]
    }
   ],
   "source": [
    "# Удаление всех элементов листа\n",
    "ex_list = [42,463,36,3,636,36]\n",
    "del ex_list[:]\n",
    "print(ex_list)"
   ]
  },
  {
   "cell_type": "code",
   "execution_count": null,
   "metadata": {
    "colab": {
     "base_uri": "https://localhost:8080/",
     "height": 52
    },
    "executionInfo": {
     "elapsed": 674,
     "status": "ok",
     "timestamp": 1601133318713,
     "user": {
      "displayName": "Pavel Loginov",
      "photoUrl": "https://lh3.googleusercontent.com/a-/AOh14GijsCUyp6qB4lgjTMaUCq5kiewMKnlAi3VFueMK=s64",
      "userId": "11601476103812660410"
     },
     "user_tz": -180
    },
    "id": "La8apw7Y60Fm",
    "outputId": "38f19e97-7ea9-4220-a1c1-c74a5f0379f1"
   },
   "outputs": [
    {
     "name": "stdout",
     "output_type": "stream",
     "text": [
      "140188136566856 [42, 463, 36, 3, 636, 36]\n",
      "140187995851080 [42, 463, 36, 3, 636, 36]\n"
     ]
    }
   ],
   "source": [
    "# Создание новой копии листа (нового объекта)\n",
    "ex_list = [42,463,36,3,636,36]\n",
    "new_list =  ex_list[:]\n",
    "print(id(ex_list), ex_list)\n",
    "print(id(new_list), new_list)"
   ]
  },
  {
   "cell_type": "markdown",
   "metadata": {
    "id": "V4FBk63Uy8nk"
   },
   "source": [
    "**Упаковка/распаковка кортежей** (zip)"
   ]
  },
  {
   "cell_type": "code",
   "execution_count": null,
   "metadata": {
    "colab": {
     "base_uri": "https://localhost:8080/",
     "height": 52
    },
    "executionInfo": {
     "elapsed": 697,
     "status": "ok",
     "timestamp": 1601147467513,
     "user": {
      "displayName": "Pavel Loginov",
      "photoUrl": "https://lh3.googleusercontent.com/a-/AOh14GijsCUyp6qB4lgjTMaUCq5kiewMKnlAi3VFueMK=s64",
      "userId": "11601476103812660410"
     },
     "user_tz": -180
    },
    "id": "7l3OrptFy1SC",
    "outputId": "386c4aca-eca3-4b5a-a87c-d2db4ba05875"
   },
   "outputs": [
    {
     "name": "stdout",
     "output_type": "stream",
     "text": [
      "[(1, 'A'), (2, 'B'), (3, 'C'), (4, 'D'), (5, 'E')]\n",
      "(1, 2, 3, 4, 5) ('A', 'B', 'C', 'D', 'E')\n"
     ]
    }
   ],
   "source": [
    "A = [1, 2, 3, 4, 5]\n",
    "B = ['A', 'B', 'C', 'D', 'E']\n",
    "# Упаковка\n",
    "print(list(zip(A,B)))\n",
    "Z = zip(A,B)\n",
    "\n",
    "# Распаковка\n",
    "AA, BB = zip(*Z)\n",
    "print(AA, BB)"
   ]
  },
  {
   "cell_type": "code",
   "execution_count": null,
   "metadata": {
    "colab": {
     "base_uri": "https://localhost:8080/",
     "height": 158
    },
    "executionInfo": {
     "elapsed": 591,
     "status": "ok",
     "timestamp": 1601154295173,
     "user": {
      "displayName": "Pavel Loginov",
      "photoUrl": "https://lh3.googleusercontent.com/a-/AOh14GijsCUyp6qB4lgjTMaUCq5kiewMKnlAi3VFueMK=s64",
      "userId": "11601476103812660410"
     },
     "user_tz": -180
    },
    "id": "MFLujCKuANrZ",
    "outputId": "e92be5e5-406b-4a84-ed87-a31dad67e9b9"
   },
   "outputs": [
    {
     "name": "stdout",
     "output_type": "stream",
     "text": [
      "<class 'generator'>\n",
      "Igor\n",
      "\n",
      "<class 'map'>\n",
      "Igor\n",
      "\n",
      "<generator object <genexpr> at 0x7f800fb07f10>\n",
      "<map object at 0x7f800faa0e10>\n"
     ]
    }
   ],
   "source": []
  }
 ],
 "metadata": {
  "colab": {
   "collapsed_sections": [
    "dzgmtwYR60DM",
    "jtcpOlA460DP",
    "cFqPxZt360DW",
    "PRNobqjd60Da",
    "78MMiJ_D60Df",
    "2UcN2EEc60Dk",
    "1KkIFWgb60Du",
    "RXDe1Mby60Dy",
    "EtPfObnp60D4",
    "frmzfQcE60EC",
    "IMCHaWV060EK",
    "IxI1TUAE60EL",
    "ZlmtgHsB60EP",
    "3d4a4yfM7lcU",
    "pJp4PIzP7xdi",
    "vU0adOXV8O8Y",
    "2amQeTcs60FJ",
    "H7C3xMFAU1bo",
    "gS-Zckv_WNgs",
    "d4VWU1hXWOXv",
    "u-RAIQbxWPDp",
    "tLWgkD5MfBgN",
    "N6sr97eif59p",
    "Xcl81nLhjZgR",
    "VYu9rTeVkPZs",
    "yrlxuKP-kgGf",
    "qNL9dtQemJNm",
    "KIBC7GwGmc40",
    "2oFuA4Nam3CP",
    "CaMGXC6XpoK_",
    "J5Kboa4Qpp2V",
    "_Av9G29HqPGl",
    "tG-HJABkrMPV",
    "JWLxwsV5rqeW",
    "zGP3CQD7r9Dc",
    "4jyNZG1QsQUJ",
    "r5Xn_-rOtKuW",
    "9eAZpel8tr-P",
    "uGHWLLVg60FN",
    "CNpZDwwW60Ff",
    "cq2ZIQiv60EX",
    "whIKtbIS60Ec",
    "BpK8DE1Q60Ec",
    "xCCFxjNu60Eh",
    "l_VUbeCf60Ev",
    "g29raZln60Ez",
    "KNW6TM-s60E2",
    "5n2VXgJy60E6",
    "vyGk2Y5u60E-",
    "rqlfEN_W60FC",
    "ueKSedQN60FG",
    "_IgEt32nVNfn",
    "7IfAurXv60Fg"
   ],
   "name": "python-theory-questions.ipynb",
   "provenance": []
  },
  "kernelspec": {
   "display_name": "Python 3",
   "language": "python",
   "name": "python3"
  },
  "language_info": {
   "codemirror_mode": {
    "name": "ipython",
    "version": 3
   },
   "file_extension": ".py",
   "mimetype": "text/x-python",
   "name": "python",
   "nbconvert_exporter": "python",
   "pygments_lexer": "ipython3",
   "version": "3.6.8"
  }
 },
 "nbformat": 4,
 "nbformat_minor": 1
}
