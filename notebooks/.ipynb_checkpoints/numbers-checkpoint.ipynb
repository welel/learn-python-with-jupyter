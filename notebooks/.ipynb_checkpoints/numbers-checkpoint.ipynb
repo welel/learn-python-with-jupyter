{
 "cells": [
  {
   "cell_type": "markdown",
   "metadata": {},
   "source": [
    "# Числа\n",
    "\n",
    "* целые\n",
    "* вещественные\n",
    "* комплексные"
   ]
  },
  {
   "cell_type": "code",
   "execution_count": 1,
   "metadata": {},
   "outputs": [
    {
     "name": "stdout",
     "output_type": "stream",
     "text": [
      "a) 23\n",
      "б) -13\n",
      "в) 90\n",
      "г) 3.6\n",
      "д) 3\n",
      "е) 34\n",
      "ж) -5\n",
      "з) 3814697265625\n"
     ]
    }
   ],
   "source": [
    "# Арифметические операции\n",
    "\n",
    "x, y, z = 5, 18, 100\n",
    "\n",
    "print('a)', x + y)\n",
    "print('б)', x - y)\n",
    "print('в)', x * y)\n",
    "print('г)', y / x)\n",
    "print('д)', y // x) # получение целой части от деления\n",
    "print('е)', 1234 % z) # получение остатка от деления\n",
    "print('ж)', -x)\n",
    "print('з)', x ** y) # возведение в степень"
   ]
  },
  {
   "cell_type": "code",
   "execution_count": 7,
   "metadata": {},
   "outputs": [
    {
     "name": "stdout",
     "output_type": "stream",
     "text": [
      "50\n",
      "size: 28\n",
      "\n",
      "97656250000000000\n",
      "size: 32\n",
      "\n",
      "8881784197001252323389053344726562500000000000000000000000000000000000000000000000000\n",
      "size: 64\n",
      "\n"
     ]
    }
   ],
   "source": [
    "# Целые числа в Python поддерживают длинную арифметику, \n",
    "# но требуют для этого больше памяти.\n",
    "x = 50\n",
    "print(x)\n",
    "print('size:', x.__sizeof__(), end='\\n\\n')\n",
    "\n",
    "x = x ** 10\n",
    "print(x)\n",
    "print('size:', x.__sizeof__(), end='\\n\\n')\n",
    "\n",
    "x = x ** 5\n",
    "print(x)\n",
    "print('size:', x.__sizeof__(), end='\\n\\n')"
   ]
  },
  {
   "cell_type": "code",
   "execution_count": 3,
   "metadata": {},
   "outputs": [
    {
     "name": "stdout",
     "output_type": "stream",
     "text": [
      "a) 31\n",
      "б) 7\n",
      "в) 24\n",
      "г) 7\n",
      "д) 116\n",
      "е) -30\n"
     ]
    }
   ],
   "source": [
    "# Битовые операции\n",
    "\n",
    "x = 29 # 11101\n",
    "y = 26 # 11010\n",
    "\n",
    "print('a)', x | y) # 11111 (побитовое ИЛИ)\n",
    "print('б)', x ^ y) # 00111 (побитовое исключающее ИЛИ)\n",
    "print('в)', x & y) # 11000 (побитовое И)\n",
    "print('г)', x >> 2) # 111 (битовый сдвиг вправо)\n",
    "print('д)', x << 2) # 1110100 (битовый сдвиг влево)\n",
    "print('е)', ~x) # -11110 (инверсия битов)"
   ]
  },
  {
   "cell_type": "markdown",
   "metadata": {},
   "source": [
    "Системы счисления\n",
    "\n",
    "* **int(object, основание системы счисления)** - преобразование к целому числу в десятичной симтеме счисления. (Системы счисления от 2 до 36 включительно).\n",
    "\n",
    "    *Возвращают `str`*\n",
    "* **bin(x)** - преобразование целого числа в двоичною строку.\n",
    "* **oct(x)** - преобразование целого числа в восмиричную строку.\n",
    "* **hex(x)** - преобразование целого числа в шеснадцатиричную строку."
   ]
  },
  {
   "cell_type": "code",
   "execution_count": 4,
   "metadata": {},
   "outputs": [
    {
     "name": "stdout",
     "output_type": "stream",
     "text": [
      "a) 49\n",
      "б) 0b11101\n",
      "в) 0o35\n",
      "г) 0x1d\n"
     ]
    }
   ],
   "source": [
    "x = 29\n",
    "\n",
    "print('a)', int('29', 20)) # 29 в 20-ой = 49 в 10-ой\n",
    "print('б)', bin(x))\n",
    "print('в)', oct(x))\n",
    "print('г)', hex(x))"
   ]
  },
  {
   "cell_type": "markdown",
   "metadata": {},
   "source": [
    "Вещественные числа (float)\n",
    "* Не очень точны -> для точности используют Decimal и Fraction\n",
    "* Не поддерживают длинную арифметику"
   ]
  },
  {
   "cell_type": "code",
   "execution_count": 8,
   "metadata": {},
   "outputs": [
    {
     "name": "stdout",
     "output_type": "stream",
     "text": [
      "33.333333333333336\n",
      "0.9999999999999999\n",
      "2.5\n"
     ]
    }
   ],
   "source": [
    "print(100 / 3)\n",
    "print(.1 + .1 + .1 + .1 + .1 + .1 + .1 + .1 + .1 + .1)\n",
    "print(0.5 / 0.2)"
   ]
  },
  {
   "cell_type": "markdown",
   "metadata": {},
   "source": [
    "Встроенные функции для работы в числами\n",
    "* **abs(x)** - Возвращает абсолютную величину (модуль числа).\n",
    "* **pow(x, y[, r])** - возведение в степень или `( x ** y ) % r`.\n",
    "* **round(X [, N])** - Округление до N знаков после запятой."
   ]
  },
  {
   "cell_type": "code",
   "execution_count": 9,
   "metadata": {},
   "outputs": [
    {
     "name": "stdout",
     "output_type": "stream",
     "text": [
      "а) 5\n",
      "б) 298023223876953125\n",
      "в) 125\n",
      "г) 0.1235\n"
     ]
    }
   ],
   "source": [
    "x, y, z = 5, 25, 1000\n",
    "f = 0.123456789\n",
    "\n",
    "print('а)', abs(-x))\n",
    "print('б)', pow(x, y))\n",
    "print('в)', pow(x, y, z))\n",
    "print('г)', round(f, 4))"
   ]
  },
  {
   "cell_type": "code",
   "execution_count": null,
   "metadata": {},
   "outputs": [],
   "source": []
  }
 ],
 "metadata": {
  "kernelspec": {
   "display_name": "Python 3",
   "language": "python",
   "name": "python3"
  },
  "language_info": {
   "codemirror_mode": {
    "name": "ipython",
    "version": 3
   },
   "file_extension": ".py",
   "mimetype": "text/x-python",
   "name": "python",
   "nbconvert_exporter": "python",
   "pygments_lexer": "ipython3",
   "version": "3.6.8"
  }
 },
 "nbformat": 4,
 "nbformat_minor": 4
}
