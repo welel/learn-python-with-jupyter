{
 "cells": [
  {
   "cell_type": "code",
   "execution_count": 1,
   "metadata": {},
   "outputs": [],
   "source": [
    "import random\n",
    "import time\n",
    "import functools\n",
    "\n",
    "def timer(func):\n",
    "    '''Декоратор для оценки времени работы функции.'''\n",
    "    @functools.wraps(func)\n",
    "    def wrapper_timer(*args, **kwargs):\n",
    "        tic = time.perf_counter()\n",
    "        value = func(*args, **kwargs)\n",
    "        toc = time.perf_counter()\n",
    "        elapsed_time = toc - tic\n",
    "        print(f'[{func.__name__}] execution time: ' \\\n",
    "                f'{elapsed_time:0.4f} seconds\\n')\n",
    "        return value\n",
    "    return wrapper_timer\n",
    "\n",
    "def is_sorted(sort_func):\n",
    "    \"\"\"Checks result of a sort function.\"\"\"\n",
    "    @functools.wraps(sort_func)\n",
    "    def checker(*args, **kwargs):\n",
    "        arr = sort_func(*args, **kwargs)\n",
    "        sorted_well = True\n",
    "        for i in range(len(arr)-1):\n",
    "            if arr[i] > arr[i+1]:\n",
    "                sorted_well = False\n",
    "        print('Sorted well:', sorted_well)\n",
    "        return arr\n",
    "    return checker\n",
    "    "
   ]
  },
  {
   "cell_type": "code",
   "execution_count": 78,
   "metadata": {},
   "outputs": [],
   "source": [
    "'''Bubble sort\n",
    "    \n",
    "    Worst-case performance: O(N^2)\n",
    "'''\n",
    "\n",
    "@is_sorted\n",
    "@timer\n",
    "def bubble_sort(arr):\n",
    "    for i in range(1, len(arr)):\n",
    "        for j in range(len(arr)-i):\n",
    "            if arr[j] > arr[j+1]:\n",
    "                arr[j], arr[j+1] = arr[j+1], arr[j]\n",
    "    return li"
   ]
  },
  {
   "cell_type": "code",
   "execution_count": 79,
   "metadata": {},
   "outputs": [
    {
     "name": "stdout",
     "output_type": "stream",
     "text": [
      "[bubble_sort] execution time: 15.2299 seconds\n",
      "\n",
      "Sorted well: True\n",
      "\n"
     ]
    }
   ],
   "source": [
    "li = list(range(10000))\n",
    "random.shuffle(li)\n",
    "bubble_sort(li)\n",
    "print()"
   ]
  },
  {
   "cell_type": "code",
   "execution_count": 4,
   "metadata": {},
   "outputs": [],
   "source": [
    "'''Quick sort\n",
    "\n",
    "Complexity: \n",
    "    best O(n log(n)) \n",
    "    avg O(n log(n))\n",
    "    worst O(N^2)\n",
    "'''\n",
    "\n",
    "@is_sorted\n",
    "@timer\n",
    "def quick_sort(arr):\n",
    "\n",
    "    arr = quick_sort_recur(arr, 0, len(arr) - 1)\n",
    "    return arr\n",
    "\n",
    "def quick_sort_recur(arr, first, last):\n",
    "    if first < last:\n",
    "        pos = partition(arr, first, last)\n",
    "        # Start our two recursive calls\n",
    "            \n",
    "        _ = quick_sort_recur(arr, first, pos - 1)\n",
    "        _ = quick_sort_recur(arr, pos + 1, last)\n",
    "\n",
    "    return arr\n",
    "\n",
    "def partition(arr, first, last):\n",
    "    wall = first\n",
    "    for pos in range(first, last):\n",
    "        if arr[pos] < arr[last]:  # last is the pivot\n",
    "            arr[pos], arr[wall] = arr[wall], arr[pos]\n",
    "            wall += 1\n",
    "    arr[wall], arr[last] = arr[last], arr[wall]\n",
    "    return wall"
   ]
  },
  {
   "cell_type": "code",
   "execution_count": 5,
   "metadata": {},
   "outputs": [
    {
     "name": "stdout",
     "output_type": "stream",
     "text": [
      "[quick_sort] execution time: 0.0468 seconds\n",
      "\n",
      "Sorted well: True\n",
      "\n"
     ]
    }
   ],
   "source": [
    "li = list(range(10000))\n",
    "random.shuffle(li)\n",
    "quick_sort(li)\n",
    "print()"
   ]
  },
  {
   "cell_type": "code",
   "execution_count": 6,
   "metadata": {},
   "outputs": [],
   "source": [
    "@timer\n",
    "def factorial(n):\n",
    "    \"\"\"Calculates factorial iteratively.\n",
    "    Time Complexity - O(n)\"\"\"\n",
    "\n",
    "    result = 1\n",
    "    if n == 0:\n",
    "        return 1\n",
    "    for i in range(2, n+1):\n",
    "        result *= i\n",
    "    return result\n",
    "\n",
    "\n",
    "@timer\n",
    "def factorial_recur(n):\n",
    "    \"\"\"Calculates factorial recursively.\n",
    "    Time Complexity - O(n)\"\"\"\n",
    "    \n",
    "    if n == 0:\n",
    "        return 1\n",
    "    result = n * factorial(n - 1)\n",
    "    return result"
   ]
  },
  {
   "cell_type": "code",
   "execution_count": 7,
   "metadata": {},
   "outputs": [
    {
     "name": "stdout",
     "output_type": "stream",
     "text": [
      "[factorial] execution time: 4.7465 seconds\n",
      "\n",
      "------\n",
      "[factorial] execution time: 4.7250 seconds\n",
      "\n",
      "[factorial_recur] execution time: 4.7253 seconds\n",
      "\n"
     ]
    }
   ],
   "source": [
    "n = 100000\n",
    "res1 = factorial(n)\n",
    "print('------')\n",
    "res2 = factorial_recur(n)\n",
    "\n",
    "assert res1 == res2"
   ]
  },
  {
   "cell_type": "code",
   "execution_count": 2,
   "metadata": {},
   "outputs": [],
   "source": [
    "@timer\n",
    "def fib_list(n):\n",
    "    \"\"\"This algorithm computes the n-th fibbonacci number very quick. \n",
    "    \n",
    "    approximate O(n)\n",
    "    The algorithm use dynamic programming.\n",
    "\n",
    "    \"\"\"\n",
    "\n",
    "    assert n >= 0, 'n must be a positive integer'\n",
    "\n",
    "    list_results = [0, 1]\n",
    "    for i in range(2, n+1):\n",
    "        list_results.append(list_results[i-1] + list_results[i-2])\n",
    "    return list_results[n]\n",
    "\n",
    "\n",
    "@timer\n",
    "def fib_iter(n):\n",
    "    \"\"\"\n",
    "    Works iterative approximate O(n)\n",
    "    \"\"\"\n",
    "\n",
    "    assert n >= 0, 'n must be positive integer'\n",
    "\n",
    "    fib_1 = 0\n",
    "    fib_2 = 1\n",
    "    sum_ = 0\n",
    "    if n <= 1:\n",
    "        return n\n",
    "    for _ in range(n-1):\n",
    "        sum_ = fib_1 + fib_2\n",
    "        fib_1 = fib_2\n",
    "        fib_2 = sum_\n",
    "    return sum_"
   ]
  },
  {
   "cell_type": "code",
   "execution_count": 7,
   "metadata": {},
   "outputs": [
    {
     "name": "stdout",
     "output_type": "stream",
     "text": [
      "[fib_list] execution time: 0.4107 seconds\n",
      "\n",
      "[fib_iter] execution time: 0.1342 seconds\n",
      "\n"
     ]
    }
   ],
   "source": [
    "n = 100000\n",
    "fibnum = fib_list(n)\n",
    "fibnum2 = fib_iter(n)\n",
    "assert fibnum == fibnum2"
   ]
  },
  {
   "cell_type": "code",
   "execution_count": 3,
   "metadata": {},
   "outputs": [],
   "source": [
    "def binary_search(arr, query):\n",
    "    \n",
    "    left = 0\n",
    "    right = len(arr) - 1\n",
    "    \n",
    "    while left <= right:\n",
    "        mid = (right + left) // 2\n",
    "        if arr[mid] > query:\n",
    "            right = mid - 1\n",
    "        elif arr[mid] < query:\n",
    "            left = mid + 1 \n",
    "        else:\n",
    "            return mid\n",
    "    return -1"
   ]
  },
  {
   "cell_type": "code",
   "execution_count": 4,
   "metadata": {},
   "outputs": [
    {
     "name": "stdout",
     "output_type": "stream",
     "text": [
      "50\n"
     ]
    }
   ],
   "source": [
    "li = list(range(100))\n",
    "index = binary_search(li, 50)\n",
    "print(index)"
   ]
  },
  {
   "cell_type": "code",
   "execution_count": null,
   "metadata": {},
   "outputs": [],
   "source": [
    "def binary_search(array, query):\n",
    "    lo, hi = 0, len(array) - 1\n",
    "    while lo <= hi:\n",
    "        mid = (hi + lo) // 2\n",
    "        val = array[mid]\n",
    "        if val == query:\n",
    "            return mid\n",
    "        elif val < query:\n",
    "            lo = mid + 1\n",
    "        else:\n",
    "            hi = mid - 1\n",
    "    return None\n",
    "\n",
    "def binary_search_recur(array, low, high, val):\n",
    "    if low > high:       # error case\n",
    "        return -1\n",
    "    mid = (low + high) // 2\n",
    "    if val < array[mid]:\n",
    "        return binary_search_recur(array, low, mid - 1, val)\n",
    "    elif val > array[mid]:\n",
    "        return binary_search_recur(array, mid + 1, high, val)\n",
    "    else:\n",
    "        return mid"
   ]
  },
  {
   "cell_type": "code",
   "execution_count": null,
   "metadata": {},
   "outputs": [],
   "source": [
    "# Linear search works in any array.\n",
    "# T(n): O(n)\n",
    "\n",
    "def linear_search(array, query):\n",
    "    for i in range(len(array)):\n",
    "        if array[i] == query:\n",
    "            return i\n",
    "\n",
    "    return -1"
   ]
  },
  {
   "cell_type": "code",
   "execution_count": null,
   "metadata": {},
   "outputs": [],
   "source": [
    "def merge_sort(arr):\n",
    "    \"\"\" Merge Sort\n",
    "        Complexity: O(n log(n))\n",
    "    \"\"\"\n",
    "    # Our recursive base case\n",
    "    if len(arr) <= 1:\n",
    "        return arr\n",
    "    mid = len(arr) // 2\n",
    "    # Perform merge_sort recursively on both halves\n",
    "    left, right = merge_sort(arr[:mid]), merge_sort(arr[mid:])\n",
    "\n",
    "    # Merge each side together\n",
    "    return merge(left, right, arr.copy())\n",
    "\n",
    "\n",
    "def merge(left, right, merged):\n",
    "    \"\"\" Merge helper\n",
    "        Complexity: O(n)\n",
    "    \"\"\"\n",
    "\n",
    "    left_cursor, right_cursor = 0, 0\n",
    "    while left_cursor < len(left) and right_cursor < len(right):\n",
    "        # Sort each one and place into the result\n",
    "        if left[left_cursor] <= right[right_cursor]:\n",
    "            merged[left_cursor+right_cursor]=left[left_cursor]\n",
    "            left_cursor += 1\n",
    "        else:\n",
    "            merged[left_cursor + right_cursor] = right[right_cursor]\n",
    "            right_cursor += 1\n",
    "    # Add the left overs if there's any left to the result\n",
    "    for left_cursor in range(left_cursor, len(left)):\n",
    "        merged[left_cursor + right_cursor] = left[left_cursor]\n",
    "    # Add the left overs if there's any left to the result\n",
    "    for right_cursor in range(right_cursor, len(right)):\n",
    "        merged[left_cursor + right_cursor] = right[right_cursor]\n",
    "\n",
    "    # Return result\n",
    "    return merged"
   ]
  }
 ],
 "metadata": {
  "kernelspec": {
   "display_name": "Python 3",
   "language": "python",
   "name": "python3"
  },
  "language_info": {
   "codemirror_mode": {
    "name": "ipython",
    "version": 3
   },
   "file_extension": ".py",
   "mimetype": "text/x-python",
   "name": "python",
   "nbconvert_exporter": "python",
   "pygments_lexer": "ipython3",
   "version": "3.6.8"
  }
 },
 "nbformat": 4,
 "nbformat_minor": 4
}
