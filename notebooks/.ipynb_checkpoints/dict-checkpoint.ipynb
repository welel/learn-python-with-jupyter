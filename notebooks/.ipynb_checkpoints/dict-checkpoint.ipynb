{
 "cells": [
  {
   "cell_type": "markdown",
   "metadata": {},
   "source": [
    "# Словари (dict)"
   ]
  },
  {
   "cell_type": "markdown",
   "metadata": {},
   "source": [
    "## Описание\n",
    "\n",
    "Словарь - неупорядоченная коллекция произвольных объектов с доступом по ключу. Иногда их еще называют ассоциативными массивами или хеш-таблицами."
   ]
  },
  {
   "cell_type": "markdown",
   "metadata": {},
   "source": [
    "## Создание и использование\n",
    "\n",
    "Словарь можно создать четыремя способами, с помощью:\n",
    "\n",
    "1. Литералов `{ }`.\n",
    "2. Конструктора `dict()`.\n",
    "3. Метода `fromkeys()`\n",
    "4. Генератора `{выражение}`.\n",
    "\n",
    "Словарь хранит пары ключ-значение. Поэтому чтобы добраться или задать значение необходимо передать словарю ключ. Делается это следующим образом: `dictionary[key]`."
   ]
  },
  {
   "cell_type": "code",
   "execution_count": 1,
   "metadata": {},
   "outputs": [
    {
     "name": "stdout",
     "output_type": "stream",
     "text": [
      "value2\n"
     ]
    }
   ],
   "source": [
    "\"\"\"\n",
    "Простые примеры создания словаря.\n",
    "\n",
    "Замечание: \n",
    "    в качестве ключа может быть любое значение любого неизменяемого типа\n",
    "    данных, а в качестве значения вообще любое. В примерах используются \n",
    "    строки key№ и value№ для наглядности.\n",
    "\"\"\"\n",
    "\n",
    "# 1\n",
    "d = {'key1': 'value1', 'key2': 'value2'}\n",
    "print(d['key2'])"
   ]
  },
  {
   "cell_type": "code",
   "execution_count": 3,
   "metadata": {},
   "outputs": [
    {
     "name": "stdout",
     "output_type": "stream",
     "text": [
      "value1\n",
      "value3\n"
     ]
    }
   ],
   "source": [
    "# 2.1\n",
    "d = dict(key1='value1', key2='value2')\n",
    "print(d['key1'])\n",
    "\n",
    "# 2.2\n",
    "d = dict([('key1', 'value1'), ('key3', 'value3')])\n",
    "print(d['key3'])"
   ]
  },
  {
   "cell_type": "code",
   "execution_count": 5,
   "metadata": {},
   "outputs": [
    {
     "name": "stdout",
     "output_type": "stream",
     "text": [
      "{'key1': None, 'key2': None}\n",
      "{'key1': 100, 'key2': 100}\n"
     ]
    }
   ],
   "source": [
    "# 3.1\n",
    "d = dict.fromkeys(['key1', 'key2'])\n",
    "print(d)\n",
    "\n",
    "# 3.2\n",
    "d = dict.fromkeys(['key1', 'key2'], 100)\n",
    "print(d)"
   ]
  },
  {
   "cell_type": "code",
   "execution_count": 17,
   "metadata": {},
   "outputs": [
    {
     "name": "stdout",
     "output_type": "stream",
     "text": [
      "{'A': 'a', 'B': 'b', 'C': 'c'}\n"
     ]
    }
   ],
   "source": [
    "# 4\n",
    "# Метод lower() приводит прописные символы строк к строчным\n",
    "d = {char: char.lower() for char in 'ABC'}\n",
    "print(d)"
   ]
  },
  {
   "cell_type": "markdown",
   "metadata": {},
   "source": [
    "## Расширение и перезапись\n",
    "\n",
    "* Расширение - добавление новой пары в существующий словарь.\n",
    "* Перезапись - изменение значения по существующему ключу."
   ]
  },
  {
   "cell_type": "code",
   "execution_count": 18,
   "metadata": {},
   "outputs": [
    {
     "name": "stdout",
     "output_type": "stream",
     "text": [
      "{'key1': 'value1', 'key2': 'value2'}\n",
      "{'key1': 'value1', 'key2': 'value2', 'key3': 'value3'}\n"
     ]
    }
   ],
   "source": [
    "# расширение\n",
    "d = {'key1': 'value1', 'key2': 'value2'}\n",
    "print(d)\n",
    "\n",
    "d['key3'] = 'value3'\n",
    "print(d)"
   ]
  },
  {
   "cell_type": "code",
   "execution_count": 19,
   "metadata": {},
   "outputs": [
    {
     "name": "stdout",
     "output_type": "stream",
     "text": [
      "{'key1': 'value1', 'key2': 'value2'}\n",
      "{'key1': 'value1', 'key2': 'new value'}\n"
     ]
    }
   ],
   "source": [
    "# перезапись\n",
    "d = {'key1': 'value1', 'key2': 'value2'}\n",
    "print(d)\n",
    "\n",
    "d['key2'] = 'new value'\n",
    "print(d)"
   ]
  },
  {
   "cell_type": "markdown",
   "metadata": {},
   "source": [
    "# Методы"
   ]
  },
  {
   "cell_type": "markdown",
   "metadata": {},
   "source": [
    "|Метод|Назначение|\n",
    "|----:|:---------|\n",
    "|dict.clear() | очищает словарь.|\n",
    "|dict.copy() | возвращает копию словаря.|\n",
    "|classmethod dict.fromkeys(seq[, value]) | создает словарь с ключами из seq и значением value (по умолчанию None).|\n",
    "|dict.get(key[, default]) | возвращает значение ключа, но если его нет, не бросает исключение, а возвращает default (по умолчанию None).|\n",
    "|dict.items() | возвращает пары (ключ, значение).|\n",
    "|dict.keys() | возвращает ключи в словаре.|\n",
    "|dict.pop(key[, default]) | удаляет ключ и возвращает значение. Если ключа нет, возвращает default (по умолчанию бросает исключение).|\n",
    "|dict.popitem() | удаляет и возвращает пару (ключ, значение). Если словарь пуст, бросает исключение KeyError. Помните, что словари неупорядочены.|\n",
    "|dict.setdefault(key[, default]) | возвращает значение ключа, но если его нет, не бросает исключение, а создает ключ с значением default (по умолчанию None).|\n",
    "|dict.update([other]) | обновляет словарь, добавляя пары (ключ, значение) из other. Существующие ключи перезаписываются. Возвращает None (не новый словарь!).|\n",
    "|dict.values() | возвращает значения в словаре.|"
   ]
  },
  {
   "cell_type": "code",
   "execution_count": 25,
   "metadata": {},
   "outputs": [
    {
     "name": "stdout",
     "output_type": "stream",
     "text": [
      "None\n",
      "default value\n"
     ]
    }
   ],
   "source": [
    "# get\n",
    "concap = {'Australia': 'Canberra', 'New Zealand': 'Wellington'}\n",
    "print(concap.get('Cook Islands'))\n",
    "print(concap.get('Cook Islands', 'default value'))"
   ]
  },
  {
   "cell_type": "code",
   "execution_count": 22,
   "metadata": {},
   "outputs": [
    {
     "name": "stdout",
     "output_type": "stream",
     "text": [
      "<class 'dict_keys'> dict_keys(['USA', 'China', 'India'])\n"
     ]
    }
   ],
   "source": [
    "# keys\n",
    "concap = {'USA': 'Washington', 'China': 'Beijing', 'India': 'New Delhi'}\n",
    "keys = concap.keys()\n",
    "print(type(keys), keys)"
   ]
  },
  {
   "cell_type": "code",
   "execution_count": 21,
   "metadata": {},
   "outputs": [
    {
     "name": "stdout",
     "output_type": "stream",
     "text": [
      "<class 'dict_values'> dict_values(['Moscow', 'London', 'Ottawa'])\n"
     ]
    }
   ],
   "source": [
    "# values\n",
    "concap = {'Russia': 'Moscow', 'UK': 'London', 'Canada': 'Ottawa'}\n",
    "values = concap.values()\n",
    "print(type(values), values)"
   ]
  },
  {
   "cell_type": "code",
   "execution_count": 11,
   "metadata": {},
   "outputs": [
    {
     "name": "stdout",
     "output_type": "stream",
     "text": [
      "('Russia', 'Moscow')\n",
      "('UK', 'London')\n",
      "('Canada', 'Ottawa')\n"
     ]
    }
   ],
   "source": [
    "# items\n",
    "concap = {'Russia': 'Moscow', 'UK': 'London', 'Canada': 'Ottawa'}\n",
    "items = concap.items()\n",
    "\n",
    "for item in items:\n",
    "    print(item)"
   ]
  },
  {
   "cell_type": "code",
   "execution_count": null,
   "metadata": {},
   "outputs": [],
   "source": []
  }
 ],
 "metadata": {
  "kernelspec": {
   "display_name": "Python 3",
   "language": "python",
   "name": "python3"
  },
  "language_info": {
   "codemirror_mode": {
    "name": "ipython",
    "version": 3
   },
   "file_extension": ".py",
   "mimetype": "text/x-python",
   "name": "python",
   "nbconvert_exporter": "python",
   "pygments_lexer": "ipython3",
   "version": "3.6.8"
  }
 },
 "nbformat": 4,
 "nbformat_minor": 4
}
