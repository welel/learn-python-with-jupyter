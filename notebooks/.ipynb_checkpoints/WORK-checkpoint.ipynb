{
 "cells": [
  {
   "cell_type": "code",
   "execution_count": 1,
   "metadata": {},
   "outputs": [],
   "source": [
    "candidates = [\n",
    " {\"name\": \"Vasya\",  \"scores\": {\"math\": 58, \"russian_language\": 62, \"computer_science\": 48}, \"extra_scores\":0},\n",
    " {\"name\": \"Fedya\",  \"scores\": {\"math\": 33, \"russian_language\": 85, \"computer_science\": 42},  \"extra_scores\":2},\n",
    " {\"name\": \"Petya\",  \"scores\": {\"math\": 92, \"russian_language\": 33, \"computer_science\": 34},  \"extra_scores\":1}\n",
    "]"
   ]
  },
  {
   "cell_type": "code",
   "execution_count": 2,
   "metadata": {},
   "outputs": [],
   "source": [
    "import random"
   ]
  },
  {
   "cell_type": "code",
   "execution_count": 17,
   "metadata": {},
   "outputs": [],
   "source": [
    "for i in range(10000):\n",
    "    candidates.append(\n",
    "        {\n",
    "            \"name\": 'Person' + f' {i}',\n",
    "            \"scores\": {\n",
    "                \"math\": random.randrange(1, 101),\n",
    "                \"russian_language\": random.randrange(1, 101),\n",
    "                \"computer_science\": random.randrange(1, 101)\n",
    "            },\n",
    "            \"extra_scores\": random.randrange(1, 4)\n",
    "        }\n",
    "    )"
   ]
  },
  {
   "cell_type": "code",
   "execution_count": 19,
   "metadata": {},
   "outputs": [
    {
     "name": "stdout",
     "output_type": "stream",
     "text": [
      "[{'extra_scores': 3,\n",
      "  'name': 'Person 2661',\n",
      "  'scores': {'computer_science': 99, 'math': 99, 'russian_language': 99}},\n",
      " {'extra_scores': 2,\n",
      "  'name': 'Person 715',\n",
      "  'scores': {'computer_science': 98, 'math': 89, 'russian_language': 100}},\n",
      " {'extra_scores': 3,\n",
      "  'name': 'Person 3715',\n",
      "  'scores': {'computer_science': 89, 'math': 100, 'russian_language': 97}},\n",
      " {'extra_scores': 2,\n",
      "  'name': 'Person 2497',\n",
      "  'scores': {'computer_science': 100, 'math': 88, 'russian_language': 96}},\n",
      " {'extra_scores': 1,\n",
      "  'name': 'Person 9174',\n",
      "  'scores': {'computer_science': 90, 'math': 100, 'russian_language': 95}},\n",
      " {'extra_scores': 1,\n",
      "  'name': 'Person 5651',\n",
      "  'scores': {'computer_science': 90, 'math': 99, 'russian_language': 96}},\n",
      " {'extra_scores': 3,\n",
      "  'name': 'Person 1116',\n",
      "  'scores': {'computer_science': 95, 'math': 96, 'russian_language': 90}},\n",
      " {'extra_scores': 1,\n",
      "  'name': 'Person 5174',\n",
      "  'scores': {'computer_science': 89, 'math': 99, 'russian_language': 95}},\n",
      " {'extra_scores': 3,\n",
      "  'name': 'Person 9438',\n",
      "  'scores': {'computer_science': 100, 'math': 80, 'russian_language': 100}},\n",
      " {'extra_scores': 2,\n",
      "  'name': 'Person 1336',\n",
      "  'scores': {'computer_science': 96, 'math': 99, 'russian_language': 86}},\n",
      " {'extra_scores': 3,\n",
      "  'name': 'Person 3350',\n",
      "  'scores': {'computer_science': 93, 'math': 93, 'russian_language': 94}},\n",
      " {'extra_scores': 2,\n",
      "  'name': 'Person 8422',\n",
      "  'scores': {'computer_science': 95, 'math': 88, 'russian_language': 97}},\n",
      " {'extra_scores': 3,\n",
      "  'name': 'Person 7146',\n",
      "  'scores': {'computer_science': 93, 'math': 87, 'russian_language': 99}},\n",
      " {'extra_scores': 2,\n",
      "  'name': 'Person 6552',\n",
      "  'scores': {'computer_science': 87, 'math': 98, 'russian_language': 95}},\n",
      " {'extra_scores': 3,\n",
      "  'name': 'Person 8615',\n",
      "  'scores': {'computer_science': 86, 'math': 100, 'russian_language': 93}},\n",
      " {'extra_scores': 1,\n",
      "  'name': 'Person 9017',\n",
      "  'scores': {'computer_science': 98, 'math': 91, 'russian_language': 91}},\n",
      " {'extra_scores': 1,\n",
      "  'name': 'Person 4031',\n",
      "  'scores': {'computer_science': 89, 'math': 98, 'russian_language': 93}},\n",
      " {'extra_scores': 2,\n",
      "  'name': 'Person 4118',\n",
      "  'scores': {'computer_science': 85, 'math': 95, 'russian_language': 99}},\n",
      " {'extra_scores': 3,\n",
      "  'name': 'Person 7015',\n",
      "  'scores': {'computer_science': 90, 'math': 95, 'russian_language': 92}},\n",
      " {'extra_scores': 2,\n",
      "  'name': 'Person 3121',\n",
      "  'scores': {'computer_science': 100, 'math': 98, 'russian_language': 78}}]\n"
     ]
    }
   ],
   "source": [
    "def find_top_20(candidates):\n",
    "    top = sorted(\n",
    "        candidates,\n",
    "        key=lambda x: (sum(x['scores'].values()) + x['extra_scores'],\n",
    "                       x['scores']['computer_science'],\n",
    "                       x['scores']['math']\n",
    "                      ),\n",
    "        reverse=True)\n",
    "    return top[:20]\n",
    "\n",
    "import pprint\n",
    "pprint.pprint(find_top_20(candidates))"
   ]
  },
  {
   "cell_type": "code",
   "execution_count": 46,
   "metadata": {},
   "outputs": [],
   "source": [
    "names = [\"Vasya\",\"Alice\",\"Petya\",\"Jenny\",\"Fedya\",\"Viola\",\"Mark\",\"Chris\",\"Margo\", 'Mug']\n",
    "birthday_years = [1962,1995,2000,None,None,None,None,1998,2001, 2000]\n",
    "genders = [\"Male\",\"Female\",\"Male\",\"Female\",\"Male\",None,None,None,None, 'Male']"
   ]
  },
  {
   "cell_type": "code",
   "execution_count": 47,
   "metadata": {},
   "outputs": [],
   "source": [
    "def get_inductees(names, birthday_years, genders):\n",
    "    \"\"\" 'выведены отдельно' - воспринял как `print`.\"\"\"\n",
    "    fits = []\n",
    "    for name, birth, gender in zip(names, birthday_years, genders):\n",
    "        if gender == 'Male' and birth:\n",
    "            if 2002 >= birth >= 1990:\n",
    "                fits.append(name)\n",
    "        elif gender in ('Male', None) and birth:\n",
    "            if 2002 >= birth >= 1990:\n",
    "                print(name)\n",
    "        elif None == gender == birth:\n",
    "            print(name)\n",
    "    return fits"
   ]
  },
  {
   "cell_type": "code",
   "execution_count": 48,
   "metadata": {},
   "outputs": [
    {
     "name": "stdout",
     "output_type": "stream",
     "text": [
      "Viola\n",
      "Mark\n",
      "Chris\n",
      "Margo\n"
     ]
    },
    {
     "data": {
      "text/plain": [
       "['Petya', 'Mug']"
      ]
     },
     "execution_count": 48,
     "metadata": {},
     "output_type": "execute_result"
    }
   ],
   "source": [
    "get_inductees(names, birthday_years, genders)"
   ]
  },
  {
   "cell_type": "code",
   "execution_count": 50,
   "metadata": {},
   "outputs": [],
   "source": [
    "know_english = [\"Vasya\",\"Jimmy\",\"Max\",\"Peter\",\"Eric\",\"Zoi\",\"Felix\"]\n",
    "sportsmen = [\"Don\",\"Peter\",\"Eric\",\"Jimmy\",\"Mark\"]\n",
    "more_than_20_years = [\"Peter\",\"Julie\",\"Jimmy\",\"Mark\",\"Max\"]"
   ]
  },
  {
   "cell_type": "code",
   "execution_count": 51,
   "metadata": {},
   "outputs": [],
   "source": [
    "def find_athlets(know_english, sportsmen, more_than_20_years):\n",
    "    return list(set(know_english) & set(sportsmen) & set(more_than_20_years))"
   ]
  },
  {
   "cell_type": "code",
   "execution_count": 52,
   "metadata": {},
   "outputs": [
    {
     "data": {
      "text/plain": [
       "['Peter', 'Jimmy']"
      ]
     },
     "execution_count": 52,
     "metadata": {},
     "output_type": "execute_result"
    }
   ],
   "source": [
    "find_athlets(know_english, sportsmen, more_than_20_years)"
   ]
  },
  {
   "cell_type": "code",
   "execution_count": 64,
   "metadata": {},
   "outputs": [],
   "source": [
    "students_avg_scores = {'Max': 4.964, 'Eric': 4.962, 'Peter': 4.923, 'Mark': 4.957, 'Julie': 4.95, 'Jimmy': 4.973, 'Felix': 4.937, 'Vasya': 4.911, 'Don': 4.936, 'Zoi': 4.937}"
   ]
  },
  {
   "cell_type": "code",
   "execution_count": 83,
   "metadata": {},
   "outputs": [],
   "source": [
    "def make_report_about_top3(students_avg_scores):\n",
    "    \"\"\"\n",
    "    Из задания не совсем понятно надо ли вернуть ссылку на\n",
    "    дескриптор файла или путь к файлу.\n",
    "    \"\"\"\n",
    "    import os\n",
    "    top = sorted(students_avg_scores.items(), key=lambda x: x[1],\n",
    "                 reverse=True)\n",
    "    with open('report_about_top3.xls', 'w+') as report_file:\n",
    "        for name, _ in top[:3]:\n",
    "            report_file.write(name + '\\n')\n",
    "    return os.path.abspath(file.name)"
   ]
  },
  {
   "cell_type": "code",
   "execution_count": 84,
   "metadata": {},
   "outputs": [],
   "source": [
    "file = make_report_about_top3(students_avg_scores)"
   ]
  },
  {
   "cell_type": "code",
   "execution_count": 85,
   "metadata": {},
   "outputs": [
    {
     "data": {
      "text/plain": [
       "'D:\\\\learn-python-fast\\\\notebooks\\\\report_about_top3.xls'"
      ]
     },
     "execution_count": 85,
     "metadata": {},
     "output_type": "execute_result"
    }
   ],
   "source": [
    "file"
   ]
  },
  {
   "cell_type": "code",
   "execution_count": null,
   "metadata": {},
   "outputs": [],
   "source": []
  }
 ],
 "metadata": {
  "kernelspec": {
   "display_name": "Python 3",
   "language": "python",
   "name": "python3"
  },
  "language_info": {
   "codemirror_mode": {
    "name": "ipython",
    "version": 3
   },
   "file_extension": ".py",
   "mimetype": "text/x-python",
   "name": "python",
   "nbconvert_exporter": "python",
   "pygments_lexer": "ipython3",
   "version": "3.6.8"
  }
 },
 "nbformat": 4,
 "nbformat_minor": 4
}
