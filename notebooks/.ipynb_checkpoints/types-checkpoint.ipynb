{
 "cells": [
  {
   "cell_type": "markdown",
   "metadata": {
    "id": "dzgmtwYR60DM"
   },
   "source": [
    "# Типы даных"
   ]
  },
  {
   "cell_type": "markdown",
   "metadata": {
    "id": "7TYyY6xv60DO"
   },
   "source": [
    "В Python'е всё объекты, у каждого объекта есть тип, а тип определяется классом."
   ]
  },
  {
   "cell_type": "markdown",
   "metadata": {
    "id": "jtcpOlA460DP"
   },
   "source": [
    "## Логический"
   ]
  },
  {
   "cell_type": "code",
   "execution_count": 1,
   "metadata": {
    "id": "9gl4pp8O60DR"
   },
   "outputs": [],
   "source": [
    "is_true = True"
   ]
  },
  {
   "cell_type": "markdown",
   "metadata": {
    "id": "cFqPxZt360DW"
   },
   "source": [
    "## Целочисленный"
   ]
  },
  {
   "cell_type": "code",
   "execution_count": 2,
   "metadata": {
    "id": "iaHFL4RL60DW"
   },
   "outputs": [],
   "source": [
    "num = 87"
   ]
  },
  {
   "cell_type": "markdown",
   "metadata": {
    "id": "PRNobqjd60Da"
   },
   "source": [
    "## С плавающей точкой"
   ]
  },
  {
   "cell_type": "code",
   "execution_count": 3,
   "metadata": {
    "id": "wk249sC260Db"
   },
   "outputs": [],
   "source": [
    "ratio = 0.42"
   ]
  },
  {
   "cell_type": "markdown",
   "metadata": {
    "id": "78MMiJ_D60Df"
   },
   "source": [
    "## Decimal (повышенная точность дробной части)"
   ]
  },
  {
   "cell_type": "code",
   "execution_count": 4,
   "metadata": {
    "id": "b8LKnW1U60Dg",
    "outputId": "d04b0789-fa72-44c6-d9e0-fc2842314eb8"
   },
   "outputs": [
    {
     "name": "stdout",
     "output_type": "stream",
     "text": [
      "0.3333333333333333333333333333\n"
     ]
    }
   ],
   "source": [
    "from decimal import Decimal\n",
    "dec_num = Decimal(1)/Decimal(3)\n",
    "print(dec_num)"
   ]
  },
  {
   "cell_type": "markdown",
   "metadata": {
    "id": "2UcN2EEc60Dk"
   },
   "source": [
    "## Строки"
   ]
  },
  {
   "cell_type": "code",
   "execution_count": 5,
   "metadata": {
    "id": "vVTuR9-l60Dl"
   },
   "outputs": [],
   "source": [
    "s = 'Обычная строка'"
   ]
  },
  {
   "cell_type": "markdown",
   "metadata": {
    "id": "jjn1Hotw60Do"
   },
   "source": [
    "**Сырые строки** отменяют работу спец символов.\n",
    "Ставится префикс `r` перед строкой от слова row (сырой)."
   ]
  },
  {
   "cell_type": "code",
   "execution_count": 6,
   "metadata": {
    "id": "KRo6VmZC60Dp",
    "outputId": "978d8319-01bb-43fa-b362-9968091f5eff"
   },
   "outputs": [
    {
     "name": "stdout",
     "output_type": "stream",
     "text": [
      "I'm the dry one!\n",
      "Cheers!\n",
      "I\\'m the row one!\\nCheers!\n"
     ]
    }
   ],
   "source": [
    "dry = 'I\\'m the dry one!\\nCheers!'\n",
    "raw = r'I\\'m the row one!\\nCheers!'\n",
    "print(dry)\n",
    "print(raw)"
   ]
  },
  {
   "cell_type": "markdown",
   "metadata": {
    "id": "1KkIFWgb60Du"
   },
   "source": [
    "## Списки"
   ]
  },
  {
   "cell_type": "code",
   "execution_count": 7,
   "metadata": {
    "id": "FMkLxxjk60Du"
   },
   "outputs": [],
   "source": [
    "ex_list = [432, '35', (325,35)]"
   ]
  },
  {
   "cell_type": "markdown",
   "metadata": {
    "id": "RXDe1Mby60Dy"
   },
   "source": [
    "## Кортежи"
   ]
  },
  {
   "cell_type": "code",
   "execution_count": 8,
   "metadata": {
    "id": "MLnieSft60Dz"
   },
   "outputs": [],
   "source": [
    "ex_tuple = (24, 55, )"
   ]
  },
  {
   "cell_type": "markdown",
   "metadata": {
    "id": "EtPfObnp60D4"
   },
   "source": [
    "## Множества"
   ]
  },
  {
   "cell_type": "markdown",
   "metadata": {
    "id": "yAM2I0bk60D5"
   },
   "source": [
    "Множества - колекция данных, которая содержит уникальные значения.\n",
    "Поддреживает операции объединения, пресечения, разность."
   ]
  },
  {
   "cell_type": "code",
   "execution_count": 9,
   "metadata": {
    "id": "fj6ZSmGD60D6",
    "outputId": "ceb2dc95-43e2-416e-8a6b-88975a2b8a28"
   },
   "outputs": [
    {
     "name": "stdout",
     "output_type": "stream",
     "text": [
      "{1, 2, 4, 5, 6, 9}\n"
     ]
    }
   ],
   "source": [
    "ex_set = set([4, 5, 4, 9, 6, 1, 2, 1, 2, 1])\n",
    "print(ex_set) # сортируется автоматически"
   ]
  },
  {
   "cell_type": "markdown",
   "metadata": {
    "id": "LumytoXy60D-"
   },
   "source": [
    "**frozenset**\n",
    "Неизменяемое множество."
   ]
  },
  {
   "cell_type": "code",
   "execution_count": 10,
   "metadata": {
    "id": "S0AA7Z7J60D-",
    "outputId": "463735fc-a65d-4bad-d6ce-7f7c9512cc3b"
   },
   "outputs": [
    {
     "name": "stdout",
     "output_type": "stream",
     "text": [
      "True\n"
     ]
    }
   ],
   "source": [
    "ex_fset = frozenset([32,42,34,23,4,23,52,35])\n",
    "ex_set.add(333)\n",
    "print(333 in ex_set)\n",
    "# ex_fset.add(232) -> error"
   ]
  },
  {
   "cell_type": "markdown",
   "metadata": {
    "id": "frmzfQcE60EC"
   },
   "source": [
    "## Словари"
   ]
  },
  {
   "cell_type": "code",
   "execution_count": 11,
   "metadata": {
    "id": "5gDtrNGT60ED",
    "outputId": "bc1af70e-8e64-4757-9e7d-7f8321e8ce8a"
   },
   "outputs": [
    {
     "name": "stdout",
     "output_type": "stream",
     "text": [
      "I'm the best!\n",
      "You are the worst!\n"
     ]
    }
   ],
   "source": [
    "ex_dict = {'I': 'I\\'m the best!', 'You': 'You are the worst!'}\n",
    "print(ex_dict['I'])\n",
    "print(ex_dict['You'])"
   ]
  },
  {
   "cell_type": "markdown",
   "metadata": {
    "id": "IMCHaWV060EK"
   },
   "source": [
    "## Вопросы по типам"
   ]
  },
  {
   "cell_type": "markdown",
   "metadata": {
    "id": "IxI1TUAE60EL"
   },
   "source": [
    "### В чем разница между `tuple` и `list` ?\n",
    "\n",
    "* `tuple` неизменяемый тип данных и он быстрее, чем списки (поэтому, где данные не должны меняться, лучше использовать его)\n",
    "* `list` изменяемый тип данных"
   ]
  },
  {
   "cell_type": "code",
   "execution_count": 12,
   "metadata": {
    "id": "fcDu0aGC60EL",
    "outputId": "c1e9ab7b-fd84-4c10-89f3-2b1ac45208ba"
   },
   "outputs": [
    {
     "name": "stdout",
     "output_type": "stream",
     "text": [
      "(24,)\n"
     ]
    },
    {
     "ename": "TypeError",
     "evalue": "'tuple' object does not support item assignment",
     "output_type": "error",
     "traceback": [
      "\u001b[1;31m---------------------------------------------------------------------------\u001b[0m",
      "\u001b[1;31mTypeError\u001b[0m                                 Traceback (most recent call last)",
      "\u001b[1;32m<ipython-input-12-7fef513d3667>\u001b[0m in \u001b[0;36m<module>\u001b[1;34m\u001b[0m\n\u001b[0;32m      1\u001b[0m \u001b[0mex_tuple\u001b[0m \u001b[1;33m=\u001b[0m \u001b[1;33m(\u001b[0m\u001b[1;36m24\u001b[0m\u001b[1;33m,\u001b[0m \u001b[1;36m44\u001b[0m\u001b[1;33m,\u001b[0m \u001b[1;33m)\u001b[0m\u001b[1;33m\u001b[0m\u001b[1;33m\u001b[0m\u001b[0m\n\u001b[0;32m      2\u001b[0m \u001b[0mprint\u001b[0m\u001b[1;33m(\u001b[0m\u001b[0mex_tuple\u001b[0m\u001b[1;33m[\u001b[0m\u001b[1;33m:\u001b[0m\u001b[1;36m1\u001b[0m\u001b[1;33m]\u001b[0m\u001b[1;33m)\u001b[0m \u001b[1;31m# slise\u001b[0m\u001b[1;33m\u001b[0m\u001b[1;33m\u001b[0m\u001b[0m\n\u001b[1;32m----> 3\u001b[1;33m \u001b[0mex_tuple\u001b[0m\u001b[1;33m[\u001b[0m\u001b[1;36m1\u001b[0m\u001b[1;33m]\u001b[0m \u001b[1;33m=\u001b[0m \u001b[1;36m4\u001b[0m \u001b[1;31m# assignment\u001b[0m\u001b[1;33m\u001b[0m\u001b[1;33m\u001b[0m\u001b[0m\n\u001b[0m",
      "\u001b[1;31mTypeError\u001b[0m: 'tuple' object does not support item assignment"
     ]
    }
   ],
   "source": [
    "ex_tuple = (24, 44, )\n",
    "print(ex_tuple[:1]) # slise\n",
    "ex_tuple[1] = 4 # assignment"
   ]
  },
  {
   "cell_type": "markdown",
   "metadata": {
    "id": "ZlmtgHsB60EP"
   },
   "source": [
    "## Изменяемые и неизменяемые типы данных\n",
    "(Mutable and immutable types)"
   ]
  },
  {
   "cell_type": "markdown",
   "metadata": {
    "id": "uHI08bAO60EP"
   },
   "source": [
    "**Immutable**"
   ]
  },
  {
   "cell_type": "code",
   "execution_count": 13,
   "metadata": {
    "id": "vdCn66QS60EQ",
    "outputId": "51a78a67-a091-44b4-fc06-e76144943536"
   },
   "outputs": [
    {
     "name": "stdout",
     "output_type": "stream",
     "text": [
      "Address_old 1946124688\n",
      "Address_new 1946124848\n"
     ]
    }
   ],
   "source": [
    "# int\n",
    "# float\n",
    "# decimal\n",
    "# bool\n",
    "# string\n",
    "# tuple\n",
    "# range?\n",
    "# bytes\n",
    "\n",
    "some_int = 10\n",
    "print('Address_old', id(some_int))\n",
    "some_int = some_int + 5\n",
    "print('Address_new', id(some_int))"
   ]
  },
  {
   "cell_type": "markdown",
   "metadata": {
    "id": "U3VloaAx60ET"
   },
   "source": [
    "**Mutable**"
   ]
  },
  {
   "cell_type": "code",
   "execution_count": 14,
   "metadata": {
    "id": "nvtwMvGP60EU",
    "outputId": "8877e15d-706f-4436-e536-adb2a5676e83"
   },
   "outputs": [
    {
     "name": "stdout",
     "output_type": "stream",
     "text": [
      "Address_old 85090808\n",
      "Address_new 85090808\n",
      "{'key1': 'value1', 'key3': 'new value'}\n"
     ]
    }
   ],
   "source": [
    "# list\n",
    "# dict\n",
    "# set\n",
    "# bytearray\n",
    "# user-defined classes (inless specifically made immutable)\n",
    "\n",
    "ex_dict = {'key1': 'value1', 'key2': 'value2'}\n",
    "print('Address_old', id(ex_dict))\n",
    "del ex_dict['key2']\n",
    "ex_dict['key3'] = 'new value'\n",
    "print('Address_new', id(ex_dict))\n",
    "print(ex_dict)"
   ]
  },
  {
   "cell_type": "markdown",
   "metadata": {
    "id": "3d4a4yfM7lcU"
   },
   "source": [
    "# Инструкции и синтаксис"
   ]
  },
  {
   "cell_type": "markdown",
   "metadata": {
    "id": "pJp4PIzP7xdi"
   },
   "source": [
    "## Итерации и генераторы, часть 1"
   ]
  },
  {
   "cell_type": "markdown",
   "metadata": {
    "id": "vU0adOXV8O8Y"
   },
   "source": [
    "### Протокол итераций"
   ]
  },
  {
   "cell_type": "markdown",
   "metadata": {
    "id": "7dewWmH88WFs"
   },
   "source": [
    "**Вариант 1**"
   ]
  },
  {
   "cell_type": "code",
   "execution_count": 22,
   "metadata": {
    "colab": {
     "base_uri": "https://localhost:8080/",
     "height": 256
    },
    "executionInfo": {
     "elapsed": 715,
     "status": "error",
     "timestamp": 1601132802423,
     "user": {
      "displayName": "Pavel Loginov",
      "photoUrl": "https://lh3.googleusercontent.com/a-/AOh14GijsCUyp6qB4lgjTMaUCq5kiewMKnlAi3VFueMK=s64",
      "userId": "11601476103812660410"
     },
     "user_tz": -180
    },
    "id": "INyCtIgu790m",
    "outputId": "dbfaf92f-2d74-4392-d33b-36cb1c5f8ae2"
   },
   "outputs": [
    {
     "name": "stdout",
     "output_type": "stream",
     "text": [
      "<class 'list'>\n",
      "<class 'list_iterator'>\n",
      "1\n",
      "2\n",
      "4\n"
     ]
    },
    {
     "ename": "StopIteration",
     "evalue": "",
     "output_type": "error",
     "traceback": [
      "\u001b[1;31m---------------------------------------------------------------------------\u001b[0m",
      "\u001b[1;31mStopIteration\u001b[0m                             Traceback (most recent call last)",
      "\u001b[1;32m<ipython-input-22-e2bb2680b43c>\u001b[0m in \u001b[0;36m<module>\u001b[1;34m\u001b[0m\n\u001b[0;32m      9\u001b[0m \u001b[0mprint\u001b[0m\u001b[1;33m(\u001b[0m\u001b[0mi\u001b[0m\u001b[1;33m.\u001b[0m\u001b[0m__next__\u001b[0m\u001b[1;33m(\u001b[0m\u001b[1;33m)\u001b[0m\u001b[1;33m)\u001b[0m \u001b[1;31m# 2\u001b[0m\u001b[1;33m\u001b[0m\u001b[1;33m\u001b[0m\u001b[0m\n\u001b[0;32m     10\u001b[0m \u001b[0mprint\u001b[0m\u001b[1;33m(\u001b[0m\u001b[0mi\u001b[0m\u001b[1;33m.\u001b[0m\u001b[0m__next__\u001b[0m\u001b[1;33m(\u001b[0m\u001b[1;33m)\u001b[0m\u001b[1;33m)\u001b[0m \u001b[1;31m# 4\u001b[0m\u001b[1;33m\u001b[0m\u001b[1;33m\u001b[0m\u001b[0m\n\u001b[1;32m---> 11\u001b[1;33m \u001b[0mprint\u001b[0m\u001b[1;33m(\u001b[0m\u001b[0mi\u001b[0m\u001b[1;33m.\u001b[0m\u001b[0m__next__\u001b[0m\u001b[1;33m(\u001b[0m\u001b[1;33m)\u001b[0m\u001b[1;33m)\u001b[0m \u001b[1;31m# raises StopIteration\u001b[0m\u001b[1;33m\u001b[0m\u001b[1;33m\u001b[0m\u001b[0m\n\u001b[0m",
      "\u001b[1;31mStopIteration\u001b[0m: "
     ]
    }
   ],
   "source": [
    "ls = [1, 2, 4]\n",
    "print(type(ls))\n",
    "i = iter(ls)\n",
    "# Итератор выдает следующее значение, пока они не кончатся.\n",
    "# Когда значений не остается, выбрасывается исключение StopIteration.\n",
    "print(type(i))\n",
    "\n",
    "print(i.__next__()) # 1\n",
    "print(i.__next__()) # 2\n",
    "print(i.__next__()) # 4 \n",
    "print(i.__next__()) # raises StopIteration"
   ]
  },
  {
   "cell_type": "markdown",
   "metadata": {
    "id": "HD-RSdFl9Kp1"
   },
   "source": [
    "**Вариант 2**"
   ]
  },
  {
   "cell_type": "code",
   "execution_count": 21,
   "metadata": {
    "colab": {
     "base_uri": "https://localhost:8080/",
     "height": 256
    },
    "executionInfo": {
     "elapsed": 646,
     "status": "error",
     "timestamp": 1601132911778,
     "user": {
      "displayName": "Pavel Loginov",
      "photoUrl": "https://lh3.googleusercontent.com/a-/AOh14GijsCUyp6qB4lgjTMaUCq5kiewMKnlAi3VFueMK=s64",
      "userId": "11601476103812660410"
     },
     "user_tz": -180
    },
    "id": "mriZmBjB9J_2",
    "outputId": "1e7fb08e-804a-41a5-9a17-b9e274bd9e54"
   },
   "outputs": [
    {
     "name": "stdout",
     "output_type": "stream",
     "text": [
      "<class 'list'>\n",
      "<class 'list_iterator'>\n",
      "1\n",
      "2\n",
      "4\n"
     ]
    },
    {
     "ename": "StopIteration",
     "evalue": "",
     "output_type": "error",
     "traceback": [
      "\u001b[1;31m---------------------------------------------------------------------------\u001b[0m",
      "\u001b[1;31mStopIteration\u001b[0m                             Traceback (most recent call last)",
      "\u001b[1;32m<ipython-input-21-e04468615b97>\u001b[0m in \u001b[0;36m<module>\u001b[1;34m\u001b[0m\n\u001b[0;32m      9\u001b[0m \u001b[0mprint\u001b[0m\u001b[1;33m(\u001b[0m\u001b[0mnext\u001b[0m\u001b[1;33m(\u001b[0m\u001b[0mi\u001b[0m\u001b[1;33m)\u001b[0m\u001b[1;33m)\u001b[0m \u001b[1;31m# 2\u001b[0m\u001b[1;33m\u001b[0m\u001b[1;33m\u001b[0m\u001b[0m\n\u001b[0;32m     10\u001b[0m \u001b[0mprint\u001b[0m\u001b[1;33m(\u001b[0m\u001b[0mnext\u001b[0m\u001b[1;33m(\u001b[0m\u001b[0mi\u001b[0m\u001b[1;33m)\u001b[0m\u001b[1;33m)\u001b[0m \u001b[1;31m# 4\u001b[0m\u001b[1;33m\u001b[0m\u001b[1;33m\u001b[0m\u001b[0m\n\u001b[1;32m---> 11\u001b[1;33m \u001b[0mprint\u001b[0m\u001b[1;33m(\u001b[0m\u001b[0mnext\u001b[0m\u001b[1;33m(\u001b[0m\u001b[0mi\u001b[0m\u001b[1;33m)\u001b[0m\u001b[1;33m)\u001b[0m \u001b[1;31m# raises StopIteration\u001b[0m\u001b[1;33m\u001b[0m\u001b[1;33m\u001b[0m\u001b[0m\n\u001b[0m",
      "\u001b[1;31mStopIteration\u001b[0m: "
     ]
    }
   ],
   "source": [
    "ls = [1, 2, 4]\n",
    "print(type(ls))\n",
    "i = iter(ls)\n",
    "# Итератор выдает следующее значение, пока они не кончатся.\n",
    "# Когда значений не остается, выбрасывается исключение StopIteration.\n",
    "print(type(i))\n",
    "\n",
    "print(next(i)) # 1\n",
    "print(next(i)) # 2\n",
    "print(next(i)) # 4\n",
    "print(next(i)) # raises StopIteration"
   ]
  },
  {
   "cell_type": "markdown",
   "metadata": {
    "id": "zgRrBnFs9goi"
   },
   "source": [
    "**Backend оператора `for`**"
   ]
  },
  {
   "cell_type": "code",
   "execution_count": 26,
   "metadata": {
    "colab": {
     "base_uri": "https://localhost:8080/",
     "height": 52
    },
    "executionInfo": {
     "elapsed": 629,
     "status": "ok",
     "timestamp": 1601133139514,
     "user": {
      "displayName": "Pavel Loginov",
      "photoUrl": "https://lh3.googleusercontent.com/a-/AOh14GijsCUyp6qB4lgjTMaUCq5kiewMKnlAi3VFueMK=s64",
      "userId": "11601476103812660410"
     },
     "user_tz": -180
    },
    "id": "Fac2mH869knV",
    "outputId": "46fb60b3-1e71-4322-d51a-d6e64a8233a5"
   },
   "outputs": [
    {
     "name": "stdout",
     "output_type": "stream",
     "text": [
      "11\n",
      "22\n",
      "33\n",
      "\n",
      "11\n",
      "22\n",
      "33\n"
     ]
    }
   ],
   "source": [
    "ls = [11, 22, 33]\n",
    "for el in ls:\n",
    "    print(el) # for body\n",
    "\n",
    "print()\n",
    "\n",
    "# backend\n",
    "I = iter(ls)\n",
    "while True:\n",
    "    try:\n",
    "        el = next(I)\n",
    "    except StopIteration:\n",
    "        break\n",
    "    print(el)  # for body"
   ]
  },
  {
   "cell_type": "code",
   "execution_count": 41,
   "metadata": {
    "id": "mHTnscvvPJoX"
   },
   "outputs": [
    {
     "name": "stdout",
     "output_type": "stream",
     "text": [
      "<class 'generator'>\n",
      "(1, 35, 'Maximus ')\n",
      "(2, 28, 'Commodus')\n",
      "\n",
      "<class 'list_iterator'>\n",
      "(1, 35, 'Maximus ')\n",
      "(2, 28, 'Commodus')\n",
      "\n"
     ]
    }
   ],
   "source": [
    "L = [(1, 35, 'Maximus '), (2, 28, 'Commodus')]\n",
    "\n",
    "# Генератор\n",
    "generator = (row for row in L)\n",
    "print(type(generator))\n",
    "print(next(generator))\n",
    "print(next(generator), end='\\n\\n')\n",
    "\n",
    "# Итератор\n",
    "iterator = iter(L)\n",
    "print(type(iterator))\n",
    "print(next(iterator))\n",
    "print(next(iterator), end='\\n\\n')"
   ]
  },
  {
   "cell_type": "markdown",
   "metadata": {
    "id": "2amQeTcs60FJ"
   },
   "source": [
    "# Функции"
   ]
  },
  {
   "cell_type": "markdown",
   "metadata": {
    "id": "H7C3xMFAU1bo"
   },
   "source": [
    "## Встроенные функции, выполняющие преобразование типов"
   ]
  },
  {
   "cell_type": "markdown",
   "metadata": {
    "id": "gS-Zckv_WNgs"
   },
   "source": [
    "#### bool"
   ]
  },
  {
   "cell_type": "markdown",
   "metadata": {
    "id": "CAg5wnq3WaVP"
   },
   "source": [
    "**bool(x)** - преобразование к типу bool, использующая стандартную проверку истинности. Если х является ложным или опущен, возвращает значение False, в противном случае она возвращает True."
   ]
  },
  {
   "cell_type": "code",
   "execution_count": 42,
   "metadata": {
    "colab": {
     "base_uri": "https://localhost:8080/"
    },
    "executionInfo": {
     "elapsed": 967,
     "status": "ok",
     "timestamp": 1607749980427,
     "user": {
      "displayName": "Pavel Loginov",
      "photoUrl": "https://lh3.googleusercontent.com/a-/AOh14GjVLekLkzkaBLHW95VIlNG2Lo1s6Y4Y35B3Av8l=s64",
      "userId": "11601476103812660410"
     },
     "user_tz": 180
    },
    "id": "DNmSvQ6GWN88",
    "outputId": "a3b23a52-3047-4af5-b6c7-33f83db348b5"
   },
   "outputs": [
    {
     "name": "stdout",
     "output_type": "stream",
     "text": [
      "a) True\n",
      "б) False\n",
      "в) False\n",
      "г) True\n",
      "д) False\n",
      "е) True\n",
      "ж) False\n"
     ]
    }
   ],
   "source": [
    "print('a)', bool(True))\n",
    "print('б)', bool(False))\n",
    "print('в)', bool([])) # Пустой список\n",
    "\n",
    "a = 5\n",
    "print('г)', bool(a))\n",
    "a = 0\n",
    "print('д)', bool(a))\n",
    "a = 'False'\n",
    "print('е)', bool(a))\n",
    "print('ж)', bool(None))"
   ]
  },
  {
   "cell_type": "markdown",
   "metadata": {
    "id": "d4VWU1hXWOXv"
   },
   "source": [
    "#### bytearray / bytes (дополнить+понять)"
   ]
  },
  {
   "cell_type": "markdown",
   "metadata": {
    "id": "UsWWTGyUXuI3"
   },
   "source": [
    "* **bytearray([источник [, кодировка [ошибки]]])**  - преобразование к bytearray. Bytearray - изменяемая последовательность целых чисел в диапазоне 0≤X<256. Вызванная без аргументов, возвращает пустой массив байт.\n",
    "\n",
    "* **bytes([источник [, кодировка [ошибки]]])** - возвращает объект типа bytes, который является неизменяемой последовательностью целых чисел в диапазоне 0≤X<256. Аргументы конструктора интерпретируются как для bytearray()."
   ]
  },
  {
   "cell_type": "code",
   "execution_count": 32,
   "metadata": {
    "colab": {
     "base_uri": "https://localhost:8080/"
    },
    "executionInfo": {
     "elapsed": 1450,
     "status": "ok",
     "timestamp": 1607751547841,
     "user": {
      "displayName": "Pavel Loginov",
      "photoUrl": "https://lh3.googleusercontent.com/a-/AOh14GjVLekLkzkaBLHW95VIlNG2Lo1s6Y4Y35B3Av8l=s64",
      "userId": "11601476103812660410"
     },
     "user_tz": 180
    },
    "id": "IGd0nOLPWOuV",
    "outputId": "79f33199-e051-4780-bded-88ef7c42c0f3"
   },
   "outputs": [
    {
     "name": "stdout",
     "output_type": "stream",
     "text": [
      "bytearray(b'hello world!')\n",
      "h\n",
      "!\n",
      "104 101 108 108 111 32 119 111 114 108 100 33 \n",
      "bytearray(b'\\xc8ello world\\xfe')\n"
     ]
    }
   ],
   "source": [
    "b = bytearray(b'hello world!') #b = bytearray('hello world!', encoding='utf-8')\n",
    "print( b )\n",
    "#print( 'hello world!'.encode('utf-8') )\n",
    "print( chr(104) )\n",
    "print( chr(33) )\n",
    "\n",
    "for byte in b:\n",
    "  print(byte, end=' ')\n",
    "\n",
    "b[0] = 200; b[11] = 254\n",
    "print()\n",
    "print( b )"
   ]
  },
  {
   "cell_type": "code",
   "execution_count": 33,
   "metadata": {
    "colab": {
     "base_uri": "https://localhost:8080/"
    },
    "executionInfo": {
     "elapsed": 1234,
     "status": "ok",
     "timestamp": 1607751676518,
     "user": {
      "displayName": "Pavel Loginov",
      "photoUrl": "https://lh3.googleusercontent.com/a-/AOh14GjVLekLkzkaBLHW95VIlNG2Lo1s6Y4Y35B3Av8l=s64",
      "userId": "11601476103812660410"
     },
     "user_tz": 180
    },
    "id": "AVYlSlFJdeik",
    "outputId": "3f7a92ff-99ae-416d-cfe4-ef7f166eb835"
   },
   "outputs": [
    {
     "name": "stdout",
     "output_type": "stream",
     "text": [
      "b'hello world!'\n",
      "104 101 108 108 111 32 119 111 114 108 100 33 "
     ]
    }
   ],
   "source": [
    "b = bytes(b'hello world!') #b = bytes('hello world!', encoding='utf-8')\n",
    "print( b )\n",
    "#print( 'hello world!'.encode('utf-8') )\n",
    "\n",
    "for byte in b:\n",
    "  print(byte, end=' ')\n",
    "\n",
    "# неизменяемый\n",
    "# b[0] = 50 --> error"
   ]
  },
  {
   "cell_type": "markdown",
   "metadata": {
    "id": "u-RAIQbxWPDp"
   },
   "source": [
    "#### complex"
   ]
  },
  {
   "cell_type": "markdown",
   "metadata": {
    "id": "D62rT-lPeTKh"
   },
   "source": [
    "**complex([real[, imag]])** - преобразование к комплексному числу."
   ]
  },
  {
   "cell_type": "code",
   "execution_count": 43,
   "metadata": {
    "colab": {
     "base_uri": "https://localhost:8080/"
    },
    "executionInfo": {
     "elapsed": 936,
     "status": "ok",
     "timestamp": 1607751954574,
     "user": {
      "displayName": "Pavel Loginov",
      "photoUrl": "https://lh3.googleusercontent.com/a-/AOh14GjVLekLkzkaBLHW95VIlNG2Lo1s6Y4Y35B3Av8l=s64",
      "userId": "11601476103812660410"
     },
     "user_tz": 180
    },
    "id": "sRxDVcjMWPXq",
    "outputId": "94031d63-a4d2-429c-a4f5-8cb8f27a785b"
   },
   "outputs": [
    {
     "name": "stdout",
     "output_type": "stream",
     "text": [
      "(1+2j)\n",
      "(3+4j)\n",
      "a) (4+6j)\n",
      "б) (8+12j)\n",
      "False\n"
     ]
    }
   ],
   "source": [
    "x = complex(1, 2)\n",
    "y = complex(3, 4)\n",
    "print(x)\n",
    "print(y)\n",
    "z = x + y\n",
    "print('a)', z)\n",
    "z = z * 2\n",
    "print('б)', z)\n",
    "print(z == x)\n",
    "# z > x  --> error (нельзя сравнивать)"
   ]
  },
  {
   "cell_type": "markdown",
   "metadata": {
    "id": "tLWgkD5MfBgN"
   },
   "source": [
    "#### set / frozenset"
   ]
  },
  {
   "cell_type": "markdown",
   "metadata": {
    "id": "RigizgW6fQOy"
   },
   "source": [
    "* **set([object])** - создает множество.\n",
    "* **frozenset([последовательность])** - возвращает неизменяемое множество."
   ]
  },
  {
   "cell_type": "code",
   "execution_count": 46,
   "metadata": {
    "colab": {
     "base_uri": "https://localhost:8080/"
    },
    "executionInfo": {
     "elapsed": 953,
     "status": "ok",
     "timestamp": 1607752182319,
     "user": {
      "displayName": "Pavel Loginov",
      "photoUrl": "https://lh3.googleusercontent.com/a-/AOh14GjVLekLkzkaBLHW95VIlNG2Lo1s6Y4Y35B3Av8l=s64",
      "userId": "11601476103812660410"
     },
     "user_tz": 180
    },
    "id": "Hik8m5ajfX_z",
    "outputId": "1bc71f2e-8263-4af5-ccfd-6745f35702cf"
   },
   "outputs": [
    {
     "name": "stdout",
     "output_type": "stream",
     "text": [
      "True\n",
      "<class 'set'>\n",
      "<class 'frozenset'>\n"
     ]
    }
   ],
   "source": [
    "s = set('qwerty')\n",
    "fs = frozenset('qwerty')\n",
    "\n",
    "print(s == fs)\n",
    "print(type(s - fs))\n",
    "print(type(fs - s))\n",
    "\n",
    "s.add('g')\n",
    "#fs.add('g') --> error "
   ]
  },
  {
   "cell_type": "markdown",
   "metadata": {
    "id": "N6sr97eif59p"
   },
   "source": [
    "#### int / float"
   ]
  },
  {
   "cell_type": "markdown",
   "metadata": {
    "id": "KPtjLAx5gKD3"
   },
   "source": [
    "\n",
    "*   **int([object], [основание системы счисления])** - преобразование к целому числу.\n",
    "*   **float([X])** - преобразование к числу с плавающей точкой. Если аргумент не указан, возвращается 0.0."
   ]
  },
  {
   "cell_type": "code",
   "execution_count": 50,
   "metadata": {
    "colab": {
     "base_uri": "https://localhost:8080/"
    },
    "executionInfo": {
     "elapsed": 967,
     "status": "ok",
     "timestamp": 1607752513372,
     "user": {
      "displayName": "Pavel Loginov",
      "photoUrl": "https://lh3.googleusercontent.com/a-/AOh14GjVLekLkzkaBLHW95VIlNG2Lo1s6Y4Y35B3Av8l=s64",
      "userId": "11601476103812660410"
     },
     "user_tz": 180
    },
    "id": "yCtmTJ_ugXwY",
    "outputId": "4fe4a57d-dbed-4c26-f55f-74507f05ea21"
   },
   "outputs": [
    {
     "name": "stdout",
     "output_type": "stream",
     "text": [
      "10\n",
      "64\n",
      "1302\n"
     ]
    }
   ],
   "source": [
    "x = int(10.8)\n",
    "print(x)\n",
    "\n",
    "x = int('100', 8)\n",
    "print(x) # 100 в 8-ой = 64 в 10-ой\n",
    "\n",
    "x = int('0b10100010110', 2)\n",
    "print(x) # 10100010110 в 2-ой = 1302 в 10-ой"
   ]
  },
  {
   "cell_type": "code",
   "execution_count": 51,
   "metadata": {
    "colab": {
     "base_uri": "https://localhost:8080/"
    },
    "executionInfo": {
     "elapsed": 1103,
     "status": "ok",
     "timestamp": 1607752557510,
     "user": {
      "displayName": "Pavel Loginov",
      "photoUrl": "https://lh3.googleusercontent.com/a-/AOh14GjVLekLkzkaBLHW95VIlNG2Lo1s6Y4Y35B3Av8l=s64",
      "userId": "11601476103812660410"
     },
     "user_tz": 180
    },
    "id": "37hi1S74hJmv",
    "outputId": "02251249-a6ba-45ab-977a-fd3a3646a4f6"
   },
   "outputs": [
    {
     "name": "stdout",
     "output_type": "stream",
     "text": [
      "9.0\n",
      "33.333333333333336\n"
     ]
    }
   ],
   "source": [
    "x = float(9)\n",
    "print(x)\n",
    "\n",
    "x = float(100/3)\n",
    "print(x)"
   ]
  },
  {
   "cell_type": "markdown",
   "metadata": {
    "id": "Xcl81nLhjZgR"
   },
   "source": [
    "#### list / tuple"
   ]
  },
  {
   "cell_type": "markdown",
   "metadata": {
    "id": "8uwRo1BQjcyD"
   },
   "source": [
    "* **list([object])** - создает список.\n",
    "* **tuple(obj)** - преобразование к кортежу."
   ]
  },
  {
   "cell_type": "code",
   "execution_count": 52,
   "metadata": {
    "colab": {
     "base_uri": "https://localhost:8080/"
    },
    "executionInfo": {
     "elapsed": 1003,
     "status": "ok",
     "timestamp": 1607753327389,
     "user": {
      "displayName": "Pavel Loginov",
      "photoUrl": "https://lh3.googleusercontent.com/a-/AOh14GjVLekLkzkaBLHW95VIlNG2Lo1s6Y4Y35B3Av8l=s64",
      "userId": "11601476103812660410"
     },
     "user_tz": 180
    },
    "id": "55YqeSb5jpo6",
    "outputId": "bb4a314c-2b2c-4ac1-fe75-b8c7e205c55b"
   },
   "outputs": [
    {
     "name": "stdout",
     "output_type": "stream",
     "text": [
      "['a', 'b', 'c', 'd']\n",
      "('a', 'b', 'c', 'd')\n",
      "['Z', 'b', 'c', 'd']\n"
     ]
    }
   ],
   "source": [
    "ls = list('abcd')\n",
    "t = tuple('abcd')\n",
    "\n",
    "print(ls)\n",
    "print(t)\n",
    "\n",
    "ls[0] = 'Z'\n",
    "print(ls)\n",
    "\n",
    "#t[0] = 'Z' --> error"
   ]
  },
  {
   "cell_type": "markdown",
   "metadata": {
    "id": "VYu9rTeVkPZs"
   },
   "source": [
    "#### dict"
   ]
  },
  {
   "cell_type": "markdown",
   "metadata": {
    "id": "xNRi4Qa0kR1R"
   },
   "source": [
    "**dict([object])** - преобразование к словарю."
   ]
  },
  {
   "cell_type": "code",
   "execution_count": 54,
   "metadata": {
    "colab": {
     "base_uri": "https://localhost:8080/"
    },
    "executionInfo": {
     "elapsed": 3470,
     "status": "ok",
     "timestamp": 1607752995227,
     "user": {
      "displayName": "Pavel Loginov",
      "photoUrl": "https://lh3.googleusercontent.com/a-/AOh14GjVLekLkzkaBLHW95VIlNG2Lo1s6Y4Y35B3Av8l=s64",
      "userId": "11601476103812660410"
     },
     "user_tz": 180
    },
    "id": "NQERIM0uiONh",
    "outputId": "d8e4023f-c101-4fac-a00a-4ea4f13e40b2"
   },
   "outputs": [
    {
     "name": "stdout",
     "output_type": "stream",
     "text": [
      "{'jack': 4098, 'sape': 4139}\n",
      "{'sape': 4139, 'guido': 4127, 'jack': 4098}\n",
      "{'sape': 4139, 'guido': 4127, 'jack': 4098}\n",
      "{2: 4, 4: 16, 6: 36}\n"
     ]
    }
   ],
   "source": [
    "d1 = {'jack': 4098, 'sape': 4139}\n",
    "d2 = dict([('sape', 4139), ('guido', 4127), ('jack', 4098)])\n",
    "d3 = dict(sape=4139, guido=4127, jack=4098)\n",
    "d4 = {x: x**2 for x in (2, 4, 6)}\n",
    "\n",
    "print(d1)\n",
    "print(d2)\n",
    "print(d3)\n",
    "print(d4)"
   ]
  },
  {
   "cell_type": "markdown",
   "metadata": {
    "id": "yrlxuKP-kgGf"
   },
   "source": [
    "#### memoryview  (разобраться)"
   ]
  },
  {
   "cell_type": "markdown",
   "metadata": {
    "id": "1K6e1dWvkqaI"
   },
   "source": [
    "**memoryview([object])** - создает объект memoryview."
   ]
  },
  {
   "cell_type": "code",
   "execution_count": 55,
   "metadata": {
    "colab": {
     "base_uri": "https://localhost:8080/"
    },
    "executionInfo": {
     "elapsed": 1995,
     "status": "ok",
     "timestamp": 1607753768565,
     "user": {
      "displayName": "Pavel Loginov",
      "photoUrl": "https://lh3.googleusercontent.com/a-/AOh14GjVLekLkzkaBLHW95VIlNG2Lo1s6Y4Y35B3Av8l=s64",
      "userId": "11601476103812660410"
     },
     "user_tz": 180
    },
    "id": "cQ4NRf_HksRT",
    "outputId": "146aed4d-5363-4023-b773-4085cf929968"
   },
   "outputs": [
    {
     "name": "stdout",
     "output_type": "stream",
     "text": [
      "65\n",
      "b'AB'\n",
      "[65, 66, 67]\n",
      "Before updation: bytearray(b'ABC')\n",
      "After updation: bytearray(b'AZC')\n"
     ]
    }
   ],
   "source": [
    "#random bytearray\n",
    "random_byte_array = bytearray('ABC', 'utf-8')\n",
    "\n",
    "mv = memoryview(random_byte_array)\n",
    "\n",
    "# access memory view's zeroth index\n",
    "print(mv[0])\n",
    "\n",
    "# create byte from memory view\n",
    "print(bytes(mv[0:2]))\n",
    "\n",
    "# create list from memory view\n",
    "print(list(mv[0:3]))\n",
    "\n",
    "# random bytearray\n",
    "random_byte_array = bytearray('ABC', 'utf-8')\n",
    "print('Before updation:', random_byte_array)\n",
    "\n",
    "mv = memoryview(random_byte_array)\n",
    "\n",
    "# update 1st index of mv to Z\n",
    "mv[1] = 90\n",
    "print('After updation:', random_byte_array)"
   ]
  },
  {
   "cell_type": "code",
   "execution_count": 41,
   "metadata": {
    "colab": {
     "base_uri": "https://localhost:8080/"
    },
    "executionInfo": {
     "elapsed": 11000,
     "status": "ok",
     "timestamp": 1607753817581,
     "user": {
      "displayName": "Pavel Loginov",
      "photoUrl": "https://lh3.googleusercontent.com/a-/AOh14GjVLekLkzkaBLHW95VIlNG2Lo1s6Y4Y35B3Av8l=s64",
      "userId": "11601476103812660410"
     },
     "user_tz": 180
    },
    "id": "7qqyu4y1mB6p",
    "outputId": "cee1bcd0-34d3-48f1-948e-4ed2a39505ad"
   },
   "outputs": [
    {
     "name": "stdout",
     "output_type": "stream",
     "text": [
      "bytes 100000 0.492019\n",
      "bytes 200000 1.913428\n",
      "bytes 300000 4.397410\n",
      "bytes 400000 11.422867\n",
      "memview 100000 0.015600\n",
      "memview 200000 0.046800\n",
      "memview 300000 0.062400\n",
      "memview 400000 0.078000\n"
     ]
    }
   ],
   "source": [
    "import time\n",
    "for n in (100000, 200000, 300000, 400000):\n",
    "    data = b'x'*n\n",
    "    start = time.time()\n",
    "    b = data\n",
    "    while b:\n",
    "        b = b[1:]\n",
    "    print ('bytes {:d} {:f}'.format(n,time.time()-start))\n",
    "\n",
    "for n in (100000, 200000, 300000, 400000):\n",
    "    data = b'x'*n\n",
    "    start = time.time()\n",
    "    b = memoryview(data)\n",
    "    while b:\n",
    "        b = b[1:]\n",
    "    print ('memview {:d} {:f}'.format(n,time.time()-start))"
   ]
  },
  {
   "cell_type": "markdown",
   "metadata": {
    "id": "qNL9dtQemJNm"
   },
   "source": [
    "#### object"
   ]
  },
  {
   "cell_type": "markdown",
   "metadata": {
    "id": "CxoFfioZmO8g"
   },
   "source": [
    "**object()** - возвращает безликий объект, являющийся базовым для всех объектов."
   ]
  },
  {
   "cell_type": "code",
   "execution_count": 63,
   "metadata": {
    "colab": {
     "base_uri": "https://localhost:8080/"
    },
    "executionInfo": {
     "elapsed": 1892,
     "status": "ok",
     "timestamp": 1607753893939,
     "user": {
      "displayName": "Pavel Loginov",
      "photoUrl": "https://lh3.googleusercontent.com/a-/AOh14GjVLekLkzkaBLHW95VIlNG2Lo1s6Y4Y35B3Av8l=s64",
      "userId": "11601476103812660410"
     },
     "user_tz": 180
    },
    "id": "YqUHWKnAmSHG",
    "outputId": "16cd58b7-1200-4741-d0e2-f5fd59deb084"
   },
   "outputs": [
    {
     "name": "stdout",
     "output_type": "stream",
     "text": [
      "<object object at 0x00000000053BD0D0>\n",
      "['__class__', '__delattr__', '__dir__', '__doc__', '__eq__', '__format__', '__ge__', '__getattribute__', '__gt__', '__hash__', '__init__', '__init_subclass__', '__le__', '__lt__', '__ne__', '__new__', '__reduce__', '__reduce_ex__', '__repr__', '__setattr__', '__sizeof__', '__str__', '__subclasshook__']\n"
     ]
    }
   ],
   "source": [
    "obj = object()\n",
    "print(obj)\n",
    "print(dir(obj))"
   ]
  },
  {
   "cell_type": "markdown",
   "metadata": {
    "id": "KIBC7GwGmc40"
   },
   "source": [
    "#### range"
   ]
  },
  {
   "cell_type": "markdown",
   "metadata": {
    "id": "ZRbAJ9CbmePc"
   },
   "source": [
    "**range([start=0], stop, [step=1])** - арифметическая прогрессия от start до stop с шагом step."
   ]
  },
  {
   "cell_type": "code",
   "execution_count": 76,
   "metadata": {
    "colab": {
     "base_uri": "https://localhost:8080/"
    },
    "executionInfo": {
     "elapsed": 953,
     "status": "ok",
     "timestamp": 1607754007362,
     "user": {
      "displayName": "Pavel Loginov",
      "photoUrl": "https://lh3.googleusercontent.com/a-/AOh14GjVLekLkzkaBLHW95VIlNG2Lo1s6Y4Y35B3Av8l=s64",
      "userId": "11601476103812660410"
     },
     "user_tz": 180
    },
    "id": "5avkxQKxmgFi",
    "outputId": "3b91c6b7-31ea-4b05-a8c3-415104d31b84"
   },
   "outputs": [
    {
     "name": "stdout",
     "output_type": "stream",
     "text": [
      "range(50, 1000, 300)\n",
      "<class 'range'>\n",
      "50\n",
      "350\n",
      "650\n",
      "950\n",
      "350 950\n"
     ]
    }
   ],
   "source": [
    "r = range(50, 1000, 300)\n",
    "print(r)\n",
    "print(type(r))\n",
    "\n",
    "for i in r:\n",
    "    print(i)\n",
    "\n",
    "print(r[1], r[3])"
   ]
  },
  {
   "cell_type": "markdown",
   "metadata": {
    "id": "2oFuA4Nam3CP"
   },
   "source": [
    "#### slice"
   ]
  },
  {
   "cell_type": "markdown",
   "metadata": {
    "id": "BUU2Qju2m7Ze"
   },
   "source": [
    "**slice([start=0], stop, [step=1])** - объект среза от start до stop с шагом step."
   ]
  },
  {
   "cell_type": "code",
   "execution_count": 77,
   "metadata": {
    "colab": {
     "base_uri": "https://localhost:8080/"
    },
    "executionInfo": {
     "elapsed": 1031,
     "status": "ok",
     "timestamp": 1607754299356,
     "user": {
      "displayName": "Pavel Loginov",
      "photoUrl": "https://lh3.googleusercontent.com/a-/AOh14GjVLekLkzkaBLHW95VIlNG2Lo1s6Y4Y35B3Av8l=s64",
      "userId": "11601476103812660410"
     },
     "user_tz": 180
    },
    "id": "vnVqNrq6m87O",
    "outputId": "b2a41471-f894-4102-cf66-a3665ce099a0"
   },
   "outputs": [
    {
     "name": "stdout",
     "output_type": "stream",
     "text": [
      "('d', 'e')\n",
      "('a', 'd', 'g')\n"
     ]
    }
   ],
   "source": [
    "a = (\"a\", \"b\", \"c\", \"d\", \"e\", \"f\", \"g\", \"h\")\n",
    "x = slice(3, 5)\n",
    "print(a[x])\n",
    "\n",
    "a = (\"a\", \"b\", \"c\", \"d\", \"e\", \"f\", \"g\", \"h\")\n",
    "x = slice(0, 8, 3)\n",
    "print(a[x])"
   ]
  },
  {
   "cell_type": "markdown",
   "metadata": {
    "id": "le9qpngloCSP"
   },
   "source": [
    "#### str"
   ]
  },
  {
   "cell_type": "markdown",
   "metadata": {
    "id": "Dbv_pwN-oDf9"
   },
   "source": [
    "**str([object], [кодировка], [ошибки])** - строковое представление объекта. Использует метод __str__."
   ]
  },
  {
   "cell_type": "code",
   "execution_count": 78,
   "metadata": {
    "colab": {
     "base_uri": "https://localhost:8080/"
    },
    "executionInfo": {
     "elapsed": 952,
     "status": "ok",
     "timestamp": 1607754676571,
     "user": {
      "displayName": "Pavel Loginov",
      "photoUrl": "https://lh3.googleusercontent.com/a-/AOh14GjVLekLkzkaBLHW95VIlNG2Lo1s6Y4Y35B3Av8l=s64",
      "userId": "11601476103812660410"
     },
     "user_tz": 180
    },
    "id": "xUTN_W_7oA2K",
    "outputId": "aa33e191-e382-427e-e0de-164edf46d1ab"
   },
   "outputs": [
    {
     "name": "stdout",
     "output_type": "stream",
     "text": [
      "3.5\n",
      "{'key': 'val', 'key2': 'val2'}\n",
      "[532, 325, 2, 35, 2, 5, 325]\n",
      "string\n"
     ]
    }
   ],
   "source": [
    "print(str(3.5))\n",
    "print(str({'key': 'val', 'key2': 'val2'}))\n",
    "print(str([532,325,2,35,2,5,325]))\n",
    "print(str('string'))"
   ]
  },
  {
   "cell_type": "markdown",
   "metadata": {
    "id": "CaMGXC6XpoK_"
   },
   "source": [
    "## Встроенные функции"
   ]
  },
  {
   "cell_type": "markdown",
   "metadata": {
    "id": "J5Kboa4Qpp2V"
   },
   "source": [
    "#### abs"
   ]
  },
  {
   "cell_type": "markdown",
   "metadata": {
    "id": "z_GQqzfzpwsm"
   },
   "source": [
    "**abs(x)** - Возвращает абсолютную величину (модуль числа)."
   ]
  },
  {
   "cell_type": "code",
   "execution_count": 79,
   "metadata": {
    "colab": {
     "base_uri": "https://localhost:8080/"
    },
    "executionInfo": {
     "elapsed": 1089,
     "status": "ok",
     "timestamp": 1607754893551,
     "user": {
      "displayName": "Pavel Loginov",
      "photoUrl": "https://lh3.googleusercontent.com/a-/AOh14GjVLekLkzkaBLHW95VIlNG2Lo1s6Y4Y35B3Av8l=s64",
      "userId": "11601476103812660410"
     },
     "user_tz": 180
    },
    "id": "OQTQrjg7pzIA",
    "outputId": "9e472bf1-4108-429d-fd86-7f1550285212"
   },
   "outputs": [
    {
     "name": "stdout",
     "output_type": "stream",
     "text": [
      "7.25\n",
      "5.830951894845301\n"
     ]
    }
   ],
   "source": [
    "print(abs(-7.25))\n",
    "print(abs(3+5j))"
   ]
  },
  {
   "cell_type": "markdown",
   "metadata": {
    "id": "_Av9G29HqPGl"
   },
   "source": [
    "#### all / any"
   ]
  },
  {
   "cell_type": "markdown",
   "metadata": {
    "id": "M3y4Ap3wqSqI"
   },
   "source": [
    "* **all(последовательность)** - Возвращает True, если все элементы истинные (или, если последовательность пуста).\n",
    "\n",
    "* **any(последовательность)** - Возвращает True, если хотя бы один элемент - истина. Для пустой последовательности возвращает False."
   ]
  },
  {
   "cell_type": "code",
   "execution_count": 83,
   "metadata": {
    "colab": {
     "base_uri": "https://localhost:8080/"
    },
    "executionInfo": {
     "elapsed": 1447,
     "status": "ok",
     "timestamp": 1607755141864,
     "user": {
      "displayName": "Pavel Loginov",
      "photoUrl": "https://lh3.googleusercontent.com/a-/AOh14GjVLekLkzkaBLHW95VIlNG2Lo1s6Y4Y35B3Av8l=s64",
      "userId": "11601476103812660410"
     },
     "user_tz": 180
    },
    "id": "dx5hgJuaqX1S",
    "outputId": "23501a4d-e4f3-4720-c31b-9e3724189c1e"
   },
   "outputs": [
    {
     "name": "stdout",
     "output_type": "stream",
     "text": [
      "True\n",
      "True\n",
      "False\n",
      "True\n",
      "True\n",
      "False\n"
     ]
    }
   ],
   "source": [
    "ls1 = [0, 1, 1, 1]\n",
    "ls2 = [1, 1, 1, 1]\n",
    "ls3 = [0, 0, 0, 0]\n",
    "ls4 = [True, True, False]\n",
    "ls5 = [True, True]\n",
    "ls6 = []\n",
    "\n",
    "print(any(ls1))\n",
    "print(any(ls2))\n",
    "print(any(ls3))\n",
    "print(any(ls4))\n",
    "print(any(ls5))\n",
    "print(any(ls6))"
   ]
  },
  {
   "cell_type": "code",
   "execution_count": 82,
   "metadata": {},
   "outputs": [
    {
     "name": "stdout",
     "output_type": "stream",
     "text": [
      "False\n",
      "True\n",
      "False\n",
      "False\n",
      "True\n",
      "True\n"
     ]
    }
   ],
   "source": [
    "ls1 = [0, 1, 1, 1]\n",
    "ls2 = [1, 1, 1, 1]\n",
    "ls3 = [0, 0, 0, 0]\n",
    "ls4 = [True, True, False]\n",
    "ls5 = [True, True]\n",
    "ls6 = []\n",
    "\n",
    "print(all(ls1))\n",
    "print(all(ls2))\n",
    "print(all(ls3))\n",
    "print(all(ls4))\n",
    "print(all(ls5))\n",
    "print(all(ls6))"
   ]
  },
  {
   "cell_type": "markdown",
   "metadata": {
    "id": "tG-HJABkrMPV"
   },
   "source": [
    "#### ascii"
   ]
  },
  {
   "cell_type": "markdown",
   "metadata": {
    "id": "PcEvePaJrUSA"
   },
   "source": [
    "**ascii(object)** - Как repr(), возвращает строку, содержащую представление объекта, но заменяет не-ASCII символы на экранированные последовательности."
   ]
  },
  {
   "cell_type": "code",
   "execution_count": 48,
   "metadata": {
    "colab": {
     "base_uri": "https://localhost:8080/"
    },
    "executionInfo": {
     "elapsed": 2183,
     "status": "ok",
     "timestamp": 1607755274222,
     "user": {
      "displayName": "Pavel Loginov",
      "photoUrl": "https://lh3.googleusercontent.com/a-/AOh14GjVLekLkzkaBLHW95VIlNG2Lo1s6Y4Y35B3Av8l=s64",
      "userId": "11601476103812660410"
     },
     "user_tz": 180
    },
    "id": "eTSkRr0ErWsz",
    "outputId": "1a1424c0-ecdc-4a6b-fbd2-fc4c317f62e8"
   },
   "outputs": [
    {
     "name": "stdout",
     "output_type": "stream",
     "text": [
      "'My name is St\\xe5le'\n"
     ]
    }
   ],
   "source": [
    "# å will be replaced with \\xe5\n",
    "print( ascii(\"My name is Ståle\") )"
   ]
  },
  {
   "cell_type": "markdown",
   "metadata": {
    "id": "JWLxwsV5rqeW"
   },
   "source": [
    "#### bin / hex / oct"
   ]
  },
  {
   "cell_type": "markdown",
   "metadata": {
    "id": "3v--wY8Brskj"
   },
   "source": [
    "* **bin(x)** - Преобразование целого числа в двоичную строку.\n",
    "* **hex(х)** - Преобразование целого числа в шестнадцатеричную строку.\n",
    "* **oct(х)** - Преобразование целого числа в восьмеричную строку.\n",
    "\n",
    "Принимают `int`, возвращают `str`."
   ]
  },
  {
   "cell_type": "code",
   "execution_count": 90,
   "metadata": {
    "colab": {
     "base_uri": "https://localhost:8080/"
    },
    "executionInfo": {
     "elapsed": 939,
     "status": "ok",
     "timestamp": 1607755339101,
     "user": {
      "displayName": "Pavel Loginov",
      "photoUrl": "https://lh3.googleusercontent.com/a-/AOh14GjVLekLkzkaBLHW95VIlNG2Lo1s6Y4Y35B3Av8l=s64",
      "userId": "11601476103812660410"
     },
     "user_tz": 180
    },
    "id": "EuLZblovrw_y",
    "outputId": "5645ee9c-f01e-432f-e62a-0541e4ad1b7e"
   },
   "outputs": [
    {
     "name": "stdout",
     "output_type": "stream",
     "text": [
      "0b1100011\n",
      "0x1d984\n",
      "0o1435\n"
     ]
    }
   ],
   "source": [
    "print(bin(99))\n",
    "print(hex(121220))\n",
    "print(oct(797))"
   ]
  },
  {
   "cell_type": "markdown",
   "metadata": {
    "id": "zGP3CQD7r9Dc"
   },
   "source": [
    "#### callable"
   ]
  },
  {
   "cell_type": "markdown",
   "metadata": {
    "id": "FvcY0IdisBMn"
   },
   "source": [
    "**callable(x)** - Возвращает True для объекта, поддерживающего вызов (как функции)."
   ]
  },
  {
   "cell_type": "code",
   "execution_count": 91,
   "metadata": {
    "colab": {
     "base_uri": "https://localhost:8080/"
    },
    "executionInfo": {
     "elapsed": 991,
     "status": "ok",
     "timestamp": 1607755427554,
     "user": {
      "displayName": "Pavel Loginov",
      "photoUrl": "https://lh3.googleusercontent.com/a-/AOh14GjVLekLkzkaBLHW95VIlNG2Lo1s6Y4Y35B3Av8l=s64",
      "userId": "11601476103812660410"
     },
     "user_tz": 180
    },
    "id": "EnnKOBrIsDdd",
    "outputId": "edf42b26-8523-42d2-cc6a-c02c9812665f"
   },
   "outputs": [
    {
     "name": "stdout",
     "output_type": "stream",
     "text": [
      "True\n",
      "False\n"
     ]
    }
   ],
   "source": [
    "def x():\n",
    "    a = 5\n",
    "print(callable(x))\n",
    "\n",
    "x = 5\n",
    "print(callable(x))"
   ]
  },
  {
   "cell_type": "markdown",
   "metadata": {
    "id": "4jyNZG1QsQUJ"
   },
   "source": [
    "#### chr / ord"
   ]
  },
  {
   "cell_type": "markdown",
   "metadata": {
    "id": "TIO2SWi0sR83"
   },
   "source": [
    "* **chr(n)** - Возвращает односимвольную строку, код символа которой равен x.\n",
    "\n",
    "x in range(0x110000)\n",
    "\n",
    "* **ord(сhar)** - Код символа."
   ]
  },
  {
   "cell_type": "code",
   "execution_count": 93,
   "metadata": {
    "colab": {
     "base_uri": "https://localhost:8080/"
    },
    "executionInfo": {
     "elapsed": 956,
     "status": "ok",
     "timestamp": 1607755643410,
     "user": {
      "displayName": "Pavel Loginov",
      "photoUrl": "https://lh3.googleusercontent.com/a-/AOh14GjVLekLkzkaBLHW95VIlNG2Lo1s6Y4Y35B3Av8l=s64",
      "userId": "11601476103812660410"
     },
     "user_tz": 180
    },
    "id": "7Iz0yweqsUd1",
    "outputId": "249d6527-d4bc-417a-846c-bcc314965358"
   },
   "outputs": [
    {
     "name": "stdout",
     "output_type": "stream",
     "text": [
      "⌢\n",
      "8994\n"
     ]
    }
   ],
   "source": [
    "print(chr(8994))\n",
    "print(ord('⌢'))"
   ]
  },
  {
   "cell_type": "markdown",
   "metadata": {
    "id": "r5Xn_-rOtKuW"
   },
   "source": [
    "#### classmethod"
   ]
  },
  {
   "cell_type": "markdown",
   "metadata": {
    "id": "hTOErMfftLU4"
   },
   "source": [
    "**classmethod(x)** - Представляет указанную функцию методом класса."
   ]
  },
  {
   "cell_type": "code",
   "execution_count": 97,
   "metadata": {
    "colab": {
     "base_uri": "https://localhost:8080/"
    },
    "executionInfo": {
     "elapsed": 1453,
     "status": "ok",
     "timestamp": 1607755793510,
     "user": {
      "displayName": "Pavel Loginov",
      "photoUrl": "https://lh3.googleusercontent.com/a-/AOh14GjVLekLkzkaBLHW95VIlNG2Lo1s6Y4Y35B3Av8l=s64",
      "userId": "11601476103812660410"
     },
     "user_tz": 180
    },
    "id": "Qi34ljHRtlSN",
    "outputId": "9e714409-2575-4b15-8c17-2dacecb68b3d"
   },
   "outputs": [
    {
     "name": "stdout",
     "output_type": "stream",
     "text": [
      "The name is :  Geeksforgeeks\n"
     ]
    }
   ],
   "source": [
    "# Bad practice\n",
    "  \n",
    "class Student: \n",
    "      \n",
    "    # Create a attribute \n",
    "    name = \"Geeksforgeeks\"\n",
    "      \n",
    "    # Create a method\n",
    "    def print_name(obj): \n",
    "        print(\"The name is : \", obj.name) \n",
    "\n",
    "#Student.print_name() --> error\n",
    "\n",
    "# Create print_name classmethod \n",
    "# before creating this line print_name() \n",
    "# It can be called only with object not with class \n",
    "Student.print_name = classmethod(Student.print_name) \n",
    "  \n",
    "# now this method can be called as classmethod \n",
    "# print_name() method is called a class method \n",
    "Student.print_name() "
   ]
  },
  {
   "cell_type": "code",
   "execution_count": 98,
   "metadata": {},
   "outputs": [
    {
     "name": "stdout",
     "output_type": "stream",
     "text": [
      "The name is :  Geeksforgeeks\n"
     ]
    }
   ],
   "source": [
    "# Good practice\n",
    "  \n",
    "class Student: \n",
    "      \n",
    "    name = \"Geeksforgeeks\"\n",
    "      \n",
    "    @classmethod\n",
    "    def print_name(obj): \n",
    "        print(\"The name is : \", obj.name) \n",
    "\n",
    "Student.print_name() "
   ]
  },
  {
   "cell_type": "markdown",
   "metadata": {
    "id": "9eAZpel8tr-P"
   },
   "source": [
    "#### compile / eval / exec"
   ]
  },
  {
   "cell_type": "markdown",
   "metadata": {
    "id": "jflNYzOctsl5"
   },
   "source": [
    "* **compile(source, filename, mode, flags=0, dont_inherit=False)** - Компиляция в программный код, который впоследствии может выполниться функцией eval или exec. Строка не должна содержать символов возврата каретки или нулевые байты.\n",
    "\n",
    "* **eval(expression, globals=None, locals=None)** - Выполняет строку программного кода.\n",
    "\n",
    "* **exec(object[, globals[, locals]])** - Выполняет программный код на Python."
   ]
  },
  {
   "cell_type": "code",
   "execution_count": 103,
   "metadata": {
    "colab": {
     "base_uri": "https://localhost:8080/"
    },
    "executionInfo": {
     "elapsed": 998,
     "status": "ok",
     "timestamp": 1607755902451,
     "user": {
      "displayName": "Pavel Loginov",
      "photoUrl": "https://lh3.googleusercontent.com/a-/AOh14GjVLekLkzkaBLHW95VIlNG2Lo1s6Y4Y35B3Av8l=s64",
      "userId": "11601476103812660410"
     },
     "user_tz": 180
    },
    "id": "oHQyecUMtwyP",
    "outputId": "14c29362-6bd0-4e5a-9b37-135c55d5ce8c"
   },
   "outputs": [
    {
     "name": "stdout",
     "output_type": "stream",
     "text": [
      "55\n"
     ]
    }
   ],
   "source": [
    "x = compile('print(55)', 'test', 'eval')\n",
    "exec(x)"
   ]
  },
  {
   "cell_type": "code",
   "execution_count": 100,
   "metadata": {
    "colab": {
     "base_uri": "https://localhost:8080/"
    },
    "executionInfo": {
     "elapsed": 952,
     "status": "ok",
     "timestamp": 1607755976313,
     "user": {
      "displayName": "Pavel Loginov",
      "photoUrl": "https://lh3.googleusercontent.com/a-/AOh14GjVLekLkzkaBLHW95VIlNG2Lo1s6Y4Y35B3Av8l=s64",
      "userId": "11601476103812660410"
     },
     "user_tz": 180
    },
    "id": "0GhSWzQsuOP4",
    "outputId": "b024df41-56c8-445b-9100-91d0d57ef9b5"
   },
   "outputs": [
    {
     "name": "stdout",
     "output_type": "stream",
     "text": [
      "55\n"
     ]
    }
   ],
   "source": [
    "x = 'print(55)' # Только одна инструкция\n",
    "eval(x)"
   ]
  },
  {
   "cell_type": "code",
   "execution_count": 55,
   "metadata": {
    "colab": {
     "base_uri": "https://localhost:8080/"
    },
    "executionInfo": {
     "elapsed": 1333,
     "status": "ok",
     "timestamp": 1607756017990,
     "user": {
      "displayName": "Pavel Loginov",
      "photoUrl": "https://lh3.googleusercontent.com/a-/AOh14GjVLekLkzkaBLHW95VIlNG2Lo1s6Y4Y35B3Av8l=s64",
      "userId": "11601476103812660410"
     },
     "user_tz": 180
    },
    "id": "FS5kcKfduZPO",
    "outputId": "1a36b363-cd83-42b0-f57a-1b3de7df8ba4"
   },
   "outputs": [
    {
     "name": "stdout",
     "output_type": "stream",
     "text": [
      "John\n",
      "33.0\n"
     ]
    }
   ],
   "source": [
    "x = 'name = \"John\"\\nprint(name)\\nx = 99/3\\nprint(x)'\n",
    "exec(x)"
   ]
  },
  {
   "cell_type": "markdown",
   "metadata": {},
   "source": [
    "#### filter"
   ]
  },
  {
   "cell_type": "markdown",
   "metadata": {},
   "source": [
    "**filter(function, iterable)** - Возвращает итератор из тех элементов, для которых function возвращает истину."
   ]
  },
  {
   "cell_type": "code",
   "execution_count": 104,
   "metadata": {},
   "outputs": [
    {
     "name": "stdout",
     "output_type": "stream",
     "text": [
      "<class 'filter'>\n",
      "18\n",
      "24\n",
      "32\n"
     ]
    }
   ],
   "source": [
    "ages = [5, 12, 17, 18, 24, 32]\n",
    "\n",
    "def isadult(x):\n",
    "    if x < 18:\n",
    "        return False\n",
    "    else:\n",
    "        return True\n",
    "\n",
    "adults = filter(isadult, ages)\n",
    "print(type(adults))\n",
    "\n",
    "for x in adults:\n",
    "    print(x)"
   ]
  },
  {
   "cell_type": "markdown",
   "metadata": {},
   "source": [
    "#### format"
   ]
  },
  {
   "cell_type": "markdown",
   "metadata": {},
   "source": [
    "**format(value[,format_spec])** - Форматирование (обычно форматирование строки)."
   ]
  },
  {
   "cell_type": "markdown",
   "metadata": {},
   "source": [
    "format\tThe format you want to format the value into.\n",
    "Legal values:\n",
    "* '<' - Left aligns the result (within the available space)\n",
    "* '>' - Right aligns the result (within the available space)\n",
    "* '^' - Center aligns the result (within the available space)\n",
    "* '=' - Places the sign to the left most position\n",
    "* '+' - Use a plus sign to indicate if the result is positive or negative\n",
    "* '-' - Use a minus sign for negative values only\n",
    "* ' ' - Use a leading space for positive numbers\n",
    "* ',' - Use a comma as a thousand separator\n",
    "* '_' - Use a underscore as a thousand separator\n",
    "* 'b' - Binary format\n",
    "* 'c' - Converts the value into the corresponding unicode character\n",
    "* 'd' - Decimal format\n",
    "* 'e' - Scientific format, with a lower case e\n",
    "* 'E' - Scientific format, with an upper case E\n",
    "* 'f' - Fix point number format\n",
    "* 'F' - Fix point number format, upper case\n",
    "* 'g' - General format\n",
    "* 'G' - General format (using a upper case E for scientific notations)\n",
    "* 'o' - Octal format\n",
    "* 'x' - Hex format, lower case\n",
    "* 'X' - Hex format, upper case\n",
    "* 'n' - Number format\n",
    "* '%' - Percentage format"
   ]
  },
  {
   "cell_type": "code",
   "execution_count": 116,
   "metadata": {},
   "outputs": [
    {
     "name": "stdout",
     "output_type": "stream",
     "text": [
      "<class 'str'>\n",
      "50.00%\n",
      "64\n",
      "1100100\n",
      "87,394,823,794,238\n"
     ]
    }
   ],
   "source": [
    "x = format(0.5, '.2%') # В проценты с 2-мя числами после запятой\n",
    "print(type(x))\n",
    "print(x)\n",
    "\n",
    "x = format(100, 'x') # Из 10-ой в 8-ую.\n",
    "print(x)\n",
    "\n",
    "x = format(100, 'b') # Из 10-ой в 2-ую.\n",
    "print(x)\n",
    "\n",
    "x = format(87394823794238, ',')\n",
    "print(x)"
   ]
  },
  {
   "cell_type": "markdown",
   "metadata": {},
   "source": [
    "#### getattr / setattr / delattr / hasattr"
   ]
  },
  {
   "cell_type": "markdown",
   "metadata": {},
   "source": [
    "* **getattr(object, name ,[default])** - извлекает атрибут объекта или default.\n",
    "* **setattr(объект, имя, значение)** - Устанавливает атрибут объекта.\n",
    "* **delattr(object, name)** - Удаляет атрибут с именем 'name'.\n",
    "* **hasattr(object, name)** - Имеет ли объект атрибут с именем 'name'."
   ]
  },
  {
   "cell_type": "code",
   "execution_count": 118,
   "metadata": {},
   "outputs": [
    {
     "name": "stdout",
     "output_type": "stream",
     "text": [
      "default value\n",
      "None\n",
      "True\n",
      "999\n",
      "None\n",
      "False\n"
     ]
    }
   ],
   "source": [
    "class Person:\n",
    "    name = \"John\"\n",
    "    age = 36\n",
    "    country = \"Norway\"\n",
    "\n",
    "x = getattr(Person, 'page', 'default value') # Взять или вернуть default\n",
    "print(x)\n",
    "x = setattr(Person, 'page', 999) # Установить атрибут\n",
    "print(x)\n",
    "x = hasattr(Person, 'page') # Проверить наличие атрибута\n",
    "print(x)\n",
    "x = getattr(Person, 'page', 'default value') # Взять или вернуть default\n",
    "print(x)\n",
    "x = delattr(Person, 'page') # Удалить атрибут\n",
    "print(x)\n",
    "x = hasattr(Person, 'page') # Проверить наличие атрибута\n",
    "print(x)"
   ]
  },
  {
   "cell_type": "markdown",
   "metadata": {},
   "source": [
    "#### globals / locals"
   ]
  },
  {
   "cell_type": "markdown",
   "metadata": {},
   "source": [
    "* **globals()** - Словарь глобальных имен.\n",
    "* **locals()** - Словарь локальных имен."
   ]
  },
  {
   "cell_type": "code",
   "execution_count": 129,
   "metadata": {},
   "outputs": [
    {
     "name": "stdout",
     "output_type": "stream",
     "text": [
      "dict_keys(['__name__', '__doc__', '__package__', '__loader__', '__spec__', '__builtin__', '__builtins__', '_ih', '_oh', '_dh', 'In', 'Out', 'get_ipython', 'exit', 'quit', '_', '__', '___', '_i', '_ii', '_iii', '_i1', 'is_true', '_i2', 'num', '_i3', 'ratio', '_i4', 'Decimal', 'dec_num', '_i5', 's', '_i6', 'dry', 'raw', '_i7', 'ex_list', '_i8', 'ex_tuple', '_i9', 'ex_set', '_i10', 'ex_fset', '_i11', 'ex_dict', '_i12', '_i13', 'some_int', '_i14', '_i15', 'l', 'i', '_i16', 'ls', '_i17', '_i18', '_i19', '_i20', '_i21', '_i22', '_i23', 'el', 'I', '_i24', '_i25', '_i26', '_i27', 'L', 'lnames', 'inames', '_i28', '_i29', '_i30', '_i31', '_i32', '_i33', 'names_generator', '_i34', 'ages_iterator', '_i35', '_i36', '_i37', '_i38', '_i39', 'generator', '_i40', 'iterator', '_i41', '_i42', 'a', '_i43', 'x', 'y', 'z', '_i44', 'b', '_i45', '_i46', 'fs', '_i47', '_i48', '_i49', '_i50', '_i51', '_i52', 't', '_i53', '_i54', 'd1', 'd2', 'd3', 'd4', '_i55', 'random_byte_array', 'mv', '_i56', 'obj', '_i57', '_i58', '_i59', '_i60', '_i61', '_i62', '_i63', '_i64', 'r', '_i65', '_i66', '_i67', '_i68', '_i69', '_i70', '_i71', '_i72', '_i73', '_i74', '_74', '_i75', '_75', '_i76', '_i77', '_i78', '_i79', '_i80', 'ls1', 'ls2', 'ls3', 'ls4', 'ls5', 'ls6', '_i81', '_i82', '_i83', '_i84', '_84', '_i85', '_i86', '_i87', '_i88', '_i89', '_i90', '_i91', '_i92', '_i93', '_i94', 'Student', '_i95', '_i96', '_i97', '_i98', '_i99', '_i100', '_i101', '_i102', '_i103', '_i104', 'ages', 'isadult', 'adults', '_i105', '_i106', '_i107', '_i108', '_i109', '_i110', '_i111', '_i112', '_i113', '_i114', '_i115', '_i116', '_i117', 'Person', '_i118', '_i119', '_i120', '_i121', '_i122', '_i123', '_i124', '_i125', '_i126', '_i127', '_i128', '_i129', 'g'])\n",
      "['', 'is_true = True', 'num = 87', 'ratio = 0.42', 'from decimal import Decimal\\ndec_num = Decimal(1)/Decimal(3)\\nprint(dec_num)']\n"
     ]
    }
   ],
   "source": [
    "g = globals()\n",
    "print(g.keys())\n",
    "print(g['_ih'][:5])"
   ]
  },
  {
   "cell_type": "code",
   "execution_count": 130,
   "metadata": {},
   "outputs": [
    {
     "name": "stdout",
     "output_type": "stream",
     "text": [
      "dict_keys(['__name__', '__doc__', '__package__', '__loader__', '__spec__', '__builtin__', '__builtins__', '_ih', '_oh', '_dh', 'In', 'Out', 'get_ipython', 'exit', 'quit', '_', '__', '___', '_i', '_ii', '_iii', '_i1', 'is_true', '_i2', 'num', '_i3', 'ratio', '_i4', 'Decimal', 'dec_num', '_i5', 's', '_i6', 'dry', 'raw', '_i7', 'ex_list', '_i8', 'ex_tuple', '_i9', 'ex_set', '_i10', 'ex_fset', '_i11', 'ex_dict', '_i12', '_i13', 'some_int', '_i14', '_i15', 'l', 'i', '_i16', 'ls', '_i17', '_i18', '_i19', '_i20', '_i21', '_i22', '_i23', 'el', 'I', '_i24', '_i25', '_i26', '_i27', 'L', 'lnames', 'inames', '_i28', '_i29', '_i30', '_i31', '_i32', '_i33', 'names_generator', '_i34', 'ages_iterator', '_i35', '_i36', '_i37', '_i38', '_i39', 'generator', '_i40', 'iterator', '_i41', '_i42', 'a', '_i43', 'x', 'y', 'z', '_i44', 'b', '_i45', '_i46', 'fs', '_i47', '_i48', '_i49', '_i50', '_i51', '_i52', 't', '_i53', '_i54', 'd1', 'd2', 'd3', 'd4', '_i55', 'random_byte_array', 'mv', '_i56', 'obj', '_i57', '_i58', '_i59', '_i60', '_i61', '_i62', '_i63', '_i64', 'r', '_i65', '_i66', '_i67', '_i68', '_i69', '_i70', '_i71', '_i72', '_i73', '_i74', '_74', '_i75', '_75', '_i76', '_i77', '_i78', '_i79', '_i80', 'ls1', 'ls2', 'ls3', 'ls4', 'ls5', 'ls6', '_i81', '_i82', '_i83', '_i84', '_84', '_i85', '_i86', '_i87', '_i88', '_i89', '_i90', '_i91', '_i92', '_i93', '_i94', 'Student', '_i95', '_i96', '_i97', '_i98', '_i99', '_i100', '_i101', '_i102', '_i103', '_i104', 'ages', 'isadult', 'adults', '_i105', '_i106', '_i107', '_i108', '_i109', '_i110', '_i111', '_i112', '_i113', '_i114', '_i115', '_i116', '_i117', 'Person', '_i118', '_i119', '_i120', '_i121', '_i122', '_i123', '_i124', '_i125', '_i126', '_i127', '_i128', '_i129', 'g', '_i130'])\n",
      "['', 'is_true = True', 'num = 87', 'ratio = 0.42', 'from decimal import Decimal\\ndec_num = Decimal(1)/Decimal(3)\\nprint(dec_num)']\n"
     ]
    }
   ],
   "source": [
    "z = locals()\n",
    "print(z.keys())\n",
    "print(z['_ih'][:5])"
   ]
  },
  {
   "cell_type": "markdown",
   "metadata": {},
   "source": [
    "#### hash"
   ]
  },
  {
   "cell_type": "markdown",
   "metadata": {},
   "source": [
    "**hash(x)** - Возвращает хеш указанного объекта.\n",
    "\n",
    "Работает только для неизменяемых типов данных."
   ]
  },
  {
   "cell_type": "code",
   "execution_count": 131,
   "metadata": {},
   "outputs": [
    {
     "name": "stdout",
     "output_type": "stream",
     "text": [
      "The integer hash value is : 4\n",
      "The string hash value is : -8456838247871661445\n",
      "The float hash value is : 1291272085159665688\n"
     ]
    }
   ],
   "source": [
    "int_val = 4\n",
    "str_val = 'GeeksforGeeks'\n",
    "flt_val = 24.56\n",
    "\n",
    "print (\"The integer hash value is : \" + str(hash(int_val))) \n",
    "print (\"The string hash value is : \" + str(hash(str_val))) \n",
    "print (\"The float hash value is : \" + str(hash(flt_val))) "
   ]
  },
  {
   "cell_type": "markdown",
   "metadata": {},
   "source": [
    "#### help"
   ]
  },
  {
   "cell_type": "markdown",
   "metadata": {},
   "source": [
    "**help([object])** - Вызов встроенной справочной системы."
   ]
  },
  {
   "cell_type": "code",
   "execution_count": 134,
   "metadata": {},
   "outputs": [
    {
     "name": "stdout",
     "output_type": "stream",
     "text": [
      "Help on built-in function bin in module builtins:\n",
      "\n",
      "bin(number, /)\n",
      "    Return the binary representation of an integer.\n",
      "    \n",
      "    >>> bin(2796202)\n",
      "    '0b1010101010101010101010'\n",
      "\n"
     ]
    }
   ],
   "source": [
    "help(bin)"
   ]
  },
  {
   "cell_type": "markdown",
   "metadata": {},
   "source": [
    "#### id"
   ]
  },
  {
   "cell_type": "markdown",
   "metadata": {},
   "source": [
    "**id(object)** - Возвращает \"адрес\" объекта. Это целое число, которое гарантированно будет уникальным и постоянным для данного объекта в течение срока его существования."
   ]
  },
  {
   "cell_type": "code",
   "execution_count": 138,
   "metadata": {},
   "outputs": [
    {
     "name": "stdout",
     "output_type": "stream",
     "text": [
      "list x: 87749064\n",
      "str \"banana\" in x: 133907936\n",
      "str \"banana\" in y: 133907936\n",
      "list x after a change: 87749064\n"
     ]
    }
   ],
   "source": [
    "x = ['apple', 'banana', 'cherry']\n",
    "print('list x:', id(x))\n",
    "print('str \"banana\" in x:', id(x[1]))\n",
    "\n",
    "y = 'banana'\n",
    "print('str \"banana\" in y:', id(y))\n",
    "\n",
    "x.append(y)\n",
    "print('list x after a change:', id(x))"
   ]
  },
  {
   "cell_type": "markdown",
   "metadata": {},
   "source": [
    "#### input"
   ]
  },
  {
   "cell_type": "markdown",
   "metadata": {},
   "source": [
    "**input([prompt])** - Возвращает введенную пользователем строку."
   ]
  },
  {
   "cell_type": "code",
   "execution_count": 140,
   "metadata": {},
   "outputs": [
    {
     "name": "stdout",
     "output_type": "stream",
     "text": [
      "Enter your name:\n",
      "Caesar\n",
      "\n",
      "\tHello, Caesar\n"
     ]
    }
   ],
   "source": [
    "print('Enter your name:')\n",
    "x = input()\n",
    "print('\\n\\tHello, ' + x)"
   ]
  },
  {
   "cell_type": "markdown",
   "metadata": {},
   "source": [
    "#### isinstance"
   ]
  },
  {
   "cell_type": "markdown",
   "metadata": {},
   "source": [
    "**isinstance(object, ClassInfo)** - Истина, если объект является экземпляром ClassInfo или его подклассом. Если объект не является объектом данного типа, функция всегда возвращает ложь."
   ]
  },
  {
   "cell_type": "code",
   "execution_count": 142,
   "metadata": {},
   "outputs": [
    {
     "name": "stdout",
     "output_type": "stream",
     "text": [
      "True\n",
      "True\n",
      "False\n",
      "True\n"
     ]
    }
   ],
   "source": [
    "print(isinstance(5, int))\n",
    "print(isinstance(\"Hello\", (float, int, str, list, dict, tuple)))\n",
    "print(isinstance(\"Hello\", (float, int, list, dict, tuple)))\n",
    "print(isinstance(27.64, float))"
   ]
  },
  {
   "cell_type": "markdown",
   "metadata": {},
   "source": [
    "**issubclass**"
   ]
  },
  {
   "cell_type": "markdown",
   "metadata": {},
   "source": [
    "**issubclass(класс, ClassInfo)** - Истина, если класс является подклассом ClassInfo. Класс считается подклассом себя."
   ]
  },
  {
   "cell_type": "code",
   "execution_count": 144,
   "metadata": {},
   "outputs": [
    {
     "name": "stdout",
     "output_type": "stream",
     "text": [
      "False\n",
      "True\n"
     ]
    }
   ],
   "source": [
    "class Shoes():\n",
    "    material = 'Leather'\n",
    "\n",
    "class Trainers(Shoes):\n",
    "    material = 'Synthetic'\n",
    "    sole = 'Rubber'\n",
    "\n",
    "print(issubclass(Shoes, Trainers))\n",
    "print(issubclass(Trainers, Shoes))"
   ]
  },
  {
   "cell_type": "markdown",
   "metadata": {},
   "source": [
    "#### iter / next / reversed"
   ]
  },
  {
   "cell_type": "markdown",
   "metadata": {},
   "source": [
    "* **iter(x)** - Возвращает объект итератора.\n",
    "* **reversed(object)** - Итератор из развернутого объекта.\n",
    "* **next(x)** - Возвращает следующий элемент итератора."
   ]
  },
  {
   "cell_type": "code",
   "execution_count": 145,
   "metadata": {},
   "outputs": [
    {
     "name": "stdout",
     "output_type": "stream",
     "text": [
      "apple\n",
      "banana\n",
      "cherry\n",
      "\n",
      "cherry\n",
      "banana\n",
      "apple\n"
     ]
    }
   ],
   "source": [
    "x = iter([\"apple\", \"banana\", \"cherry\"])\n",
    "print(next(x))\n",
    "print(next(x))\n",
    "print(next(x), end='\\n\\n')\n",
    "x = reversed([\"apple\", \"banana\", \"cherry\"])\n",
    "print(next(x))\n",
    "print(next(x))\n",
    "print(next(x))"
   ]
  },
  {
   "cell_type": "markdown",
   "metadata": {},
   "source": [
    "#### len"
   ]
  },
  {
   "cell_type": "markdown",
   "metadata": {},
   "source": [
    "**len(x)** - Возвращает число элементов в указанном объекте."
   ]
  },
  {
   "cell_type": "code",
   "execution_count": 146,
   "metadata": {},
   "outputs": [
    {
     "name": "stdout",
     "output_type": "stream",
     "text": [
      "3\n"
     ]
    }
   ],
   "source": [
    "x = [\"apple\", \"banana\", \"cherry\"]\n",
    "print(len(x))"
   ]
  },
  {
   "cell_type": "markdown",
   "metadata": {},
   "source": [
    "#### map"
   ]
  },
  {
   "cell_type": "markdown",
   "metadata": {},
   "source": [
    "**map(function, iterator)** - Итератор, получившийся после применения к каждому элементу последовательности функции function."
   ]
  },
  {
   "cell_type": "code",
   "execution_count": 150,
   "metadata": {},
   "outputs": [
    {
     "name": "stdout",
     "output_type": "stream",
     "text": [
      "[500, 350, 125, 600, 15]\n"
     ]
    }
   ],
   "source": [
    "def make_discount(val, percentage=0.5):\n",
    "    return int(val * percentage)\n",
    "\n",
    "x = map(make_discount, (1000, 700, 250, 1200, 30))\n",
    "print(list(x))"
   ]
  },
  {
   "cell_type": "markdown",
   "metadata": {},
   "source": [
    "#### max / min"
   ]
  },
  {
   "cell_type": "markdown",
   "metadata": {},
   "source": [
    "* **max(iter, [args ...] * [, key])** - Максимальный элемент последовательности.\n",
    "\n",
    "* **min(iter, [args ...] * [, key])** - Минимальный элемент последовательности."
   ]
  },
  {
   "cell_type": "code",
   "execution_count": 154,
   "metadata": {},
   "outputs": [
    {
     "name": "stdout",
     "output_type": "stream",
     "text": [
      "3000\n",
      "5\n",
      "Vicky\n"
     ]
    }
   ],
   "source": [
    "print(max(100, 3000, 700))\n",
    "print(min([100, 5, 700]))\n",
    "\n",
    "print(max(\"Mike\", \"John\", \"Vicky\"))"
   ]
  },
  {
   "cell_type": "markdown",
   "metadata": {},
   "source": [
    "#### open"
   ]
  },
  {
   "cell_type": "markdown",
   "metadata": {},
   "source": [
    "**open(file, mode='r', buffering=None, encoding=None, errors=None, newline=None, closefd=True)** - Открывает файл и возвращает соответствующий поток.\n",
    "\n",
    "There are four different methods (modes) for opening a file:\n",
    "\n",
    "* \"r\" - Read - Default value. Opens a file for reading, error if the file does not exist\n",
    "\n",
    "* \"a\" - Append - Opens a file for appending, creates the file if it does not exist\n",
    "\n",
    "* \"w\" - Write - Opens a file for writing, creates the file if it does not exist\n",
    "\n",
    "* \"x\" - Create - Creates the specified file, returns an error if the file exists\n",
    "\n",
    "\n",
    "In addition you can specify if the file should be handled as binary or text mode\n",
    "\n",
    "* \"t\" - Text - Default value. Text mode\n",
    "\n",
    "* \"b\" - Binary - Binary mode (e.g. images)"
   ]
  },
  {
   "cell_type": "code",
   "execution_count": 157,
   "metadata": {},
   "outputs": [
    {
     "name": "stdout",
     "output_type": "stream",
     "text": [
      "From the day that I first knew you,\n",
      "\n"
     ]
    }
   ],
   "source": [
    "f = open('files/poem.txt', 'rt')\n",
    "print(f.readline())\n",
    "f.close()"
   ]
  },
  {
   "cell_type": "markdown",
   "metadata": {},
   "source": [
    "#### pow"
   ]
  },
  {
   "cell_type": "markdown",
   "metadata": {},
   "source": [
    "**pow(x, y[, r])** - возведение в степень или `( x ** y ) % r`."
   ]
  },
  {
   "cell_type": "code",
   "execution_count": 159,
   "metadata": {},
   "outputs": [
    {
     "name": "stdout",
     "output_type": "stream",
     "text": [
      "128\n",
      "128\n",
      "4323\n",
      "4323\n"
     ]
    }
   ],
   "source": [
    "print(2 ** 7)\n",
    "print(pow(2, 7))\n",
    "\n",
    "print((3 ** 13) % 10000)\n",
    "print(pow(3, 13, 10000))"
   ]
  },
  {
   "cell_type": "markdown",
   "metadata": {},
   "source": [
    "#### repr"
   ]
  },
  {
   "cell_type": "markdown",
   "metadata": {},
   "source": [
    "**repr(obj)** - Представление объекта.\n"
   ]
  },
  {
   "cell_type": "code",
   "execution_count": 163,
   "metadata": {},
   "outputs": [
    {
     "name": "stdout",
     "output_type": "stream",
     "text": [
      "'Hello, Geeks.'\n",
      "0.18181818181818182\n"
     ]
    }
   ],
   "source": [
    "s = 'Hello, Geeks.'\n",
    "print(repr(s)) \n",
    "print(repr(2.0 / 11.0))"
   ]
  },
  {
   "cell_type": "markdown",
   "metadata": {},
   "source": [
    "#### print"
   ]
  },
  {
   "cell_type": "markdown",
   "metadata": {},
   "source": [
    "**print([object, ...], *, sep=\" \", end='\\n', file=sys.stdout)** - Печать."
   ]
  },
  {
   "cell_type": "code",
   "execution_count": 165,
   "metadata": {},
   "outputs": [
    {
     "name": "stdout",
     "output_type": "stream",
     "text": [
      "Hello!!! how are you?"
     ]
    }
   ],
   "source": [
    "print(\"Hello\", \"how are you\", sep='!!! ', end='?')"
   ]
  },
  {
   "cell_type": "markdown",
   "metadata": {},
   "source": [
    "#### property"
   ]
  },
  {
   "cell_type": "markdown",
   "metadata": {},
   "source": [
    "**property(fget=None, fset=None, fdel=None, doc=None)**. In Python, the main purpose of property() function is to create property of a class.\n",
    "\n",
    "* If no arguments are given, property() method returns a base property attribute that doesn’t contain any getter, setter or deleter.\n",
    "* If doc isn’t provided, property() method takes the docstring of the getter function."
   ]
  },
  {
   "cell_type": "code",
   "execution_count": 166,
   "metadata": {},
   "outputs": [
    {
     "name": "stdout",
     "output_type": "stream",
     "text": [
      "Getting value\n",
      "GeeksforGeeks\n",
      "Setting value to GfG\n",
      "Deleting value\n"
     ]
    }
   ],
   "source": [
    "# Alphabet class \n",
    "class Alphabet: \n",
    "    def __init__(self, value): \n",
    "        self._value = value \n",
    "          \n",
    "    # getting the values \n",
    "    def getValue(self): \n",
    "        print('Getting value') \n",
    "        return self._value \n",
    "          \n",
    "    # setting the values \n",
    "    def setValue(self, value): \n",
    "        print('Setting value to ' + value) \n",
    "        self._value = value \n",
    "          \n",
    "    # deleting the values \n",
    "    def delValue(self): \n",
    "        print('Deleting value') \n",
    "        del self._value \n",
    "      \n",
    "    value = property(getValue, setValue, delValue, ) \n",
    "  \n",
    "\n",
    "x = Alphabet('GeeksforGeeks') \n",
    "print(x.value) \n",
    "  \n",
    "x.value = 'GfG'\n",
    "  \n",
    "del x.value "
   ]
  },
  {
   "cell_type": "markdown",
   "metadata": {},
   "source": [
    "#### round"
   ]
  },
  {
   "cell_type": "markdown",
   "metadata": {},
   "source": [
    "**round(X [, N])** - Округление до N знаков после запятой."
   ]
  },
  {
   "cell_type": "code",
   "execution_count": 169,
   "metadata": {},
   "outputs": [
    {
     "name": "stdout",
     "output_type": "stream",
     "text": [
      "5.77\n"
     ]
    }
   ],
   "source": [
    "print(round(5.7656743, 2))"
   ]
  },
  {
   "cell_type": "markdown",
   "metadata": {},
   "source": [
    "#### sorted"
   ]
  },
  {
   "cell_type": "markdown",
   "metadata": {},
   "source": [
    "**sorted(iterable[, key][, reverse])** - Отсортированный список."
   ]
  },
  {
   "cell_type": "code",
   "execution_count": 170,
   "metadata": {},
   "outputs": [
    {
     "name": "stdout",
     "output_type": "stream",
     "text": [
      "[-76, -4, 8.9, 9, 23, 436]\n",
      "['Anny', 'Banny', 'John', 'Mike', 'Vicky']\n"
     ]
    }
   ],
   "source": [
    "print( sorted([23, -4, 436, -76, 9, 8.9]) )\n",
    "print( sorted([\"Banny\", \"Mike\", \"Anny\", \"John\", \"Vicky\"]) )"
   ]
  },
  {
   "cell_type": "markdown",
   "metadata": {},
   "source": [
    "#### staticmethod"
   ]
  },
  {
   "cell_type": "markdown",
   "metadata": {},
   "source": [
    "**staticmethod(function)** - Статический метод для функции. (un-pythonic way).\n",
    "\n",
    "Лучше использовать декоратор `@staticmethod`."
   ]
  },
  {
   "cell_type": "code",
   "execution_count": 173,
   "metadata": {},
   "outputs": [
    {
     "name": "stdout",
     "output_type": "stream",
     "text": [
      "The sum is: 15\n"
     ]
    }
   ],
   "source": [
    "# Un-pythonic way\n",
    "class Mathematics:\n",
    "\n",
    "    def addNumbers(x, y):\n",
    "        return x + y\n",
    "\n",
    "# create addNumbers static method\n",
    "Mathematics.addNumbers = staticmethod(Mathematics.addNumbers)\n",
    "\n",
    "print('The sum is:', Mathematics.addNumbers(5, 10))"
   ]
  },
  {
   "cell_type": "code",
   "execution_count": 174,
   "metadata": {},
   "outputs": [
    {
     "name": "stdout",
     "output_type": "stream",
     "text": [
      "The sum is: 15\n"
     ]
    }
   ],
   "source": [
    "# Pythonic way\n",
    "class Mathematics:\n",
    "    \n",
    "    @staticmethod\n",
    "    def addNumbers(x, y):\n",
    "        return x + y\n",
    "\n",
    "print('The sum is:', Mathematics.addNumbers(5, 10))"
   ]
  },
  {
   "cell_type": "markdown",
   "metadata": {},
   "source": [
    "#### sum"
   ]
  },
  {
   "cell_type": "markdown",
   "metadata": {},
   "source": [
    "**sum(iter, start=0)** - Сумма членов последовательности."
   ]
  },
  {
   "cell_type": "code",
   "execution_count": 179,
   "metadata": {},
   "outputs": [
    {
     "name": "stdout",
     "output_type": "stream",
     "text": [
      "6\n",
      "13\n"
     ]
    }
   ],
   "source": [
    "a = (1, 2, 3)\n",
    "print(sum(a))\n",
    "print(sum(a, 7))"
   ]
  },
  {
   "cell_type": "markdown",
   "metadata": {},
   "source": [
    "#### super"
   ]
  },
  {
   "cell_type": "markdown",
   "metadata": {},
   "source": [
    "**super([тип [, объект или тип]])** - Доступ к родительскому классу."
   ]
  },
  {
   "cell_type": "code",
   "execution_count": 180,
   "metadata": {},
   "outputs": [
    {
     "name": "stdout",
     "output_type": "stream",
     "text": [
      "Nick Walker\n"
     ]
    }
   ],
   "source": [
    "class Person:\n",
    "    \n",
    "    def __init__(self, fname, lname):\n",
    "        self.fname = fname\n",
    "        self.lname = lname\n",
    "    \n",
    "    def __str__(self):\n",
    "        return '%s %s' % (self.fname, self.lname)\n",
    "\n",
    "\n",
    "class Student(Person):\n",
    "    def __init__(self, fname, lname):\n",
    "        super().__init__(fname, lname)\n",
    "        \n",
    "s = Student('Nick', 'Walker')\n",
    "print(s)"
   ]
  },
  {
   "cell_type": "markdown",
   "metadata": {},
   "source": [
    "#### type"
   ]
  },
  {
   "cell_type": "markdown",
   "metadata": {},
   "source": [
    "* **type(object)** - Возвращает тип объекта.\n",
    "\n",
    "* **type(name, bases, dict)** - Возвращает новый экземпляр класса name. ???"
   ]
  },
  {
   "cell_type": "code",
   "execution_count": 185,
   "metadata": {},
   "outputs": [
    {
     "name": "stdout",
     "output_type": "stream",
     "text": [
      "<class 'str'>\n"
     ]
    }
   ],
   "source": [
    "print(type('hello'))"
   ]
  },
  {
   "cell_type": "markdown",
   "metadata": {},
   "source": [
    "#### vars / dir"
   ]
  },
  {
   "cell_type": "markdown",
   "metadata": {},
   "source": [
    "* **vars([object])** - Словарь из атрибутов класса или объекта со значениями. По умолчанию - словарь локальных имен.\n",
    "* **dir([object])** - Словарь из атрибутов объекта без значений. Возвращает и локальные имена класса и его родителей."
   ]
  },
  {
   "cell_type": "code",
   "execution_count": 188,
   "metadata": {},
   "outputs": [
    {
     "name": "stdout",
     "output_type": "stream",
     "text": [
      "{'__module__': '__main__', 'name': 'John', 'age': 36, 'country': 'norway', '__dict__': <attribute '__dict__' of 'Person' objects>, '__weakref__': <attribute '__weakref__' of 'Person' objects>, '__doc__': None}\n",
      "\n",
      "['__class__', '__delattr__', '__dict__', '__dir__', '__doc__', '__eq__', '__format__', '__ge__', '__getattribute__', '__gt__', '__hash__', '__init__', '__init_subclass__', '__le__', '__lt__', '__module__', '__ne__', '__new__', '__reduce__', '__reduce_ex__', '__repr__', '__setattr__', '__sizeof__', '__str__', '__subclasshook__', '__weakref__', 'age', 'country', 'name']\n"
     ]
    }
   ],
   "source": [
    "class Person:\n",
    "\n",
    "    name = \"John\"\n",
    "    age = 36\n",
    "    country = \"norway\"\n",
    "\n",
    "print(vars(Person), end='\\n\\n')\n",
    "print(dir(Person))"
   ]
  },
  {
   "cell_type": "markdown",
   "metadata": {},
   "source": [
    "#### zip"
   ]
  },
  {
   "cell_type": "markdown",
   "metadata": {},
   "source": [
    "**zip(*iters)** - Итератор, возвращающий кортежи, состоящие из соответствующих элементов аргументов-последовательностей."
   ]
  },
  {
   "cell_type": "code",
   "execution_count": 190,
   "metadata": {},
   "outputs": [
    {
     "name": "stdout",
     "output_type": "stream",
     "text": [
      "[(1, 'John', 'Jenny'), (2, 'Charles', 'Christy'), (3, 'Mike', 'Monica')]\n"
     ]
    }
   ],
   "source": [
    "m = (\"John\", \"Charles\", \"Mike\")\n",
    "f = (\"Jenny\", \"Christy\", \"Monica\", \"Adel\")\n",
    "n = (1, 2, 3, 4)\n",
    "\n",
    "print(list(zip(n, m, f)))"
   ]
  },
  {
   "cell_type": "code",
   "execution_count": null,
   "metadata": {},
   "outputs": [],
   "source": []
  }
 ],
 "metadata": {
  "kernelspec": {
   "display_name": "Python 3",
   "language": "python",
   "name": "python3"
  },
  "language_info": {
   "codemirror_mode": {
    "name": "ipython",
    "version": 3
   },
   "file_extension": ".py",
   "mimetype": "text/x-python",
   "name": "python",
   "nbconvert_exporter": "python",
   "pygments_lexer": "ipython3",
   "version": "3.6.8"
  }
 },
 "nbformat": 4,
 "nbformat_minor": 4
}
