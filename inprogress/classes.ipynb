{
 "cells": [
  {
   "cell_type": "markdown",
   "metadata": {},
   "source": [
    "# ООП"
   ]
  },
  {
   "cell_type": "markdown",
   "metadata": {},
   "source": [
    "**Объектно-ориентированное программирование (ООП)** - парадигма программирования, где основными концепциями являются понятия объекта и класса.\n",
    "\n",
    "**Класс** - тип, описывающий устройство объектов. **Объект** - экземпляр класса.\n",
    "\n",
    "В Python все является объектами."
   ]
  },
  {
   "cell_type": "markdown",
   "metadata": {},
   "source": [
    "# Классы (class)\n",
    "\n",
    "Пример создания собственного класса:"
   ]
  },
  {
   "cell_type": "code",
   "execution_count": 2,
   "metadata": {},
   "outputs": [],
   "source": [
    "class MyClassA:    # объявление класса\n",
    "    pass"
   ]
  },
  {
   "cell_type": "markdown",
   "metadata": {},
   "source": [
    "Теперь можно создать экземпляры этого класса (объекты):"
   ]
  },
  {
   "cell_type": "code",
   "execution_count": 3,
   "metadata": {},
   "outputs": [
    {
     "name": "stdout",
     "output_type": "stream",
     "text": [
      "<class '__main__.MyClassA'> <class '__main__.MyClassA'>\n"
     ]
    }
   ],
   "source": [
    "obj1 = MyClassA()\n",
    "obj2 = MyClassA()\n",
    "\n",
    "print(type(obj1), type(obj2))"
   ]
  },
  {
   "cell_type": "markdown",
   "metadata": {},
   "source": [
    "Присвоение атрибутов объектам класса:"
   ]
  },
  {
   "cell_type": "code",
   "execution_count": 4,
   "metadata": {},
   "outputs": [
    {
     "name": "stdout",
     "output_type": "stream",
     "text": [
      "I'm an attr of the object 1 \n",
      " I'm an attr of the object 2\n"
     ]
    }
   ],
   "source": [
    "obj1 = MyClassA()\n",
    "obj2 = MyClassA()\n",
    "\n",
    "obj1.attr = 'I\\'m an attr of the object 1'\n",
    "obj2.attr = 'I\\'m an attr of the object 2'\n",
    "\n",
    "print(obj1.attr, '\\n', obj2.attr)"
   ]
  },
  {
   "cell_type": "markdown",
   "metadata": {},
   "source": [
    "Классу возможно создать собственные методы.\n",
    "\n",
    "`self` - обязательный аргумент, содержащий в себе экземпляр класса, передающийся при вызове метода. Поэтому `self` должен присутствовать во всех методах класса на первой позиции принимаемых аргументов. При этом, при вызове метода не следует передавать `self`, это происходит автоматически.\n",
    "\n",
    "Пример:"
   ]
  },
  {
   "cell_type": "code",
   "execution_count": 5,
   "metadata": {},
   "outputs": [
    {
     "name": "stdout",
     "output_type": "stream",
     "text": [
      "Hello, everyone!\n"
     ]
    }
   ],
   "source": [
    "class Speaker:\n",
    "    \n",
    "    def say(self, text):\n",
    "        print(text)\n",
    "        \n",
    "speaker = Speaker()\n",
    "speaker.say('Hello, everyone!')"
   ]
  },
  {
   "cell_type": "markdown",
   "metadata": {},
   "source": [
    "Если задать классу атрибут, то он будет у всех его экземпляров. Экземпляром можно считать `self`, вне класса `self` передается методу неявно на первой позиции аргументов. После создания экземпляра, атрибуты можно изменять.\n",
    "\n",
    "Пример:"
   ]
  },
  {
   "cell_type": "code",
   "execution_count": 7,
   "metadata": {},
   "outputs": [
    {
     "name": "stdout",
     "output_type": "stream",
     "text": [
      "Battery chemicals are bad for the environment and can't be recycled. No more electric vehicles!\n"
     ]
    }
   ],
   "source": [
    "class Speaker:\n",
    "    # speech - атрибут класса\n",
    "    speech = str('The Earth will not continue to offer its harvest,'\n",
    "                 'except with faithful stewardship. We cannot say'\n",
    "                 'we love the land and then take steps to destroy'\n",
    "                 'it for use by future generations.'\n",
    "                )\n",
    "    \n",
    "    def say_speech(self):\n",
    "        print(self.speech)\n",
    "        \n",
    "bspeaker = Speaker()\n",
    "\n",
    "bspeaker.speech = str('Battery chemicals are bad for the environment'\n",
    "                      ' and can\\'t be recycled. No more electric vehicles!')\n",
    "bspeaker.say_speech()"
   ]
  },
  {
   "cell_type": "markdown",
   "metadata": {},
   "source": [
    "# Основополагающие концепции ООП"
   ]
  },
  {
   "cell_type": "markdown",
   "metadata": {},
   "source": [
    "1. Инкапсуляция\n",
    "2. Наследование\n",
    "3. Полиморфизм\n",
    "\n",
    "\n",
    "## Инкапсуляция\n",
    "\n",
    "**Инкапсуляци** - ограничение доспука к состовляющим объект компонентам (методам и переменным). Инкапсуляция делает некоторые из компонент доступными только внутри класса.\n",
    "\n",
    "Инкапсуляция в Python работает лишь на уровне соглашения между программистами о том, какие атрибуты являются общедоступными, а какие - внутренними.\n",
    "\n",
    "Одиночное подчеркивание в начале имени атрибута класса говорит о том, что переменная или метод не предназначена для использования вне методов класса, однако атрибут доступен по этому имени.\n",
    "\n",
    "Пример:"
   ]
  },
  {
   "cell_type": "code",
   "execution_count": 8,
   "metadata": {},
   "outputs": [
    {
     "name": "stdout",
     "output_type": "stream",
     "text": [
      "I'm private method.\n"
     ]
    }
   ],
   "source": [
    "class A:\n",
    "    \n",
    "    def _private(self):\n",
    "        print('I\\'m private method.')\n",
    "\n",
    "a = A()\n",
    "a._private()"
   ]
  },
  {
   "cell_type": "markdown",
   "metadata": {},
   "source": [
    "Двойное подчеркивания в начале имени атрибута дает большую защиту. Теперь по этому имени не обратиться вне класса.\n",
    "\n",
    "Пример:"
   ]
  },
  {
   "cell_type": "code",
   "execution_count": 9,
   "metadata": {},
   "outputs": [
    {
     "ename": "AttributeError",
     "evalue": "'A' object has no attribute '__superprivate'",
     "output_type": "error",
     "traceback": [
      "\u001b[1;31m---------------------------------------------------------------------------\u001b[0m",
      "\u001b[1;31mAttributeError\u001b[0m                            Traceback (most recent call last)",
      "\u001b[1;32m<ipython-input-9-acb3f7a60f16>\u001b[0m in \u001b[0;36m<module>\u001b[1;34m\u001b[0m\n\u001b[0;32m      5\u001b[0m \u001b[1;33m\u001b[0m\u001b[0m\n\u001b[0;32m      6\u001b[0m \u001b[0ma\u001b[0m \u001b[1;33m=\u001b[0m \u001b[0mA\u001b[0m\u001b[1;33m(\u001b[0m\u001b[1;33m)\u001b[0m\u001b[1;33m\u001b[0m\u001b[1;33m\u001b[0m\u001b[0m\n\u001b[1;32m----> 7\u001b[1;33m \u001b[0ma\u001b[0m\u001b[1;33m.\u001b[0m\u001b[0m__superprivate\u001b[0m\u001b[1;33m(\u001b[0m\u001b[1;33m)\u001b[0m\u001b[1;33m\u001b[0m\u001b[1;33m\u001b[0m\u001b[0m\n\u001b[0m",
      "\u001b[1;31mAttributeError\u001b[0m: 'A' object has no attribute '__superprivate'"
     ]
    }
   ],
   "source": [
    "class A:\n",
    "    \n",
    "    def __superprivate(self):\n",
    "        print('I\\'m super private method.')\n",
    "        \n",
    "a = A()\n",
    "a.__superprivate()"
   ]
  },
  {
   "cell_type": "markdown",
   "metadata": {},
   "source": [
    "Но все же есть способ добраться и до атрибута с двумя подчеркиваниями. Для этого следует при вызове перед названием атрибута добвить название класса с нижним подчеркиванием впереди.\n",
    "\n",
    "Пример:"
   ]
  },
  {
   "cell_type": "code",
   "execution_count": 10,
   "metadata": {},
   "outputs": [
    {
     "name": "stdout",
     "output_type": "stream",
     "text": [
      "I'm super private method.\n"
     ]
    }
   ],
   "source": [
    "class A:\n",
    "    \n",
    "    def __superprivate(self):\n",
    "        print('I\\'m super private method.')\n",
    "        \n",
    "a = A()\n",
    "a._A__superprivate()"
   ]
  },
  {
   "cell_type": "markdown",
   "metadata": {},
   "source": [
    "## Наследование\n",
    "\n",
    "Наследование подразумевает то, что дочерний класс содержит все атрибуты родительского класса, при этом некоторые из них могут быть переопределены или добавлены в дочернем. \n",
    "\n",
    "Синтаксис: `class Дочерний(Родитель):`"
   ]
  },
  {
   "cell_type": "code",
   "execution_count": 13,
   "metadata": {},
   "outputs": [
    {
     "name": "stdout",
     "output_type": "stream",
     "text": [
      "[1, 2, 3, 4, 5]\n",
      "[200, 100, 1, 2, 3, 4, 5]\n",
      "Position: 1\n"
     ]
    }
   ],
   "source": [
    "class MyList(list):\n",
    "    \n",
    "    def appfront(self, element): # реализация нового метода\n",
    "        self.reverse()\n",
    "        self.append(element)\n",
    "        self.reverse()\n",
    "    \n",
    "    def index(self, i): # переопределение родительского метода\n",
    "        print('Position:', list.index(self, i))\n",
    "        \n",
    "    \n",
    "my_list = MyList([1, 2, 3, 4, 5])\n",
    "print(my_list)\n",
    "\n",
    "my_list.appfront(100)\n",
    "my_list.appfront(200)\n",
    "print(my_list)\n",
    "\n",
    "my_list.index(100)"
   ]
  },
  {
   "cell_type": "markdown",
   "metadata": {},
   "source": [
    "## Полиморфизм\n",
    "\n",
    "**Полиморфизм** - разное поведение одного и того же метода в разных классах. Например, мы можем сложить два числа, и можем сложить две строки. При этом получим разный результат, так как числа и строки разные типы.\n",
    "\n",
    "? Для объектно-ориентированного программирования в Python это означает, что конкретный объект, принадлежащий определенному классу, можно использовать так же, как если бы это был другой объект, принадлежащий другому классу."
   ]
  },
  {
   "cell_type": "code",
   "execution_count": 39,
   "metadata": {},
   "outputs": [
    {
     "name": "stdout",
     "output_type": "stream",
     "text": [
      "2\n",
      "11\n"
     ]
    }
   ],
   "source": [
    "print(1 + 1)\n",
    "print('1' + '1')"
   ]
  },
  {
   "cell_type": "markdown",
   "metadata": {},
   "source": [
    "Когда несколько классов или подклассов имеют одинаковые имена методов, но разные реализации для одних и тех же методов, классы полиморфны, потому что они используют один интерфейс для использования с объектами разных типов. Функция сможет оценивать эти полиморфные методы, не зная, какие классы вызываются."
   ]
  },
  {
   "cell_type": "markdown",
   "metadata": {},
   "source": [
    "### Создание полиморфных классов\n",
    "\n",
    "Чтобы использовать полиморфизм, мы собираемся создать два отдельных класса для использования с двумя различными объектами. Каждый из этих отдельных классов должен иметь общий интерфейс, чтобы их можно было использовать полиморфно, поэтому мы дадим им методы, которые различны, но имеют одинаковое имя."
   ]
  },
  {
   "cell_type": "code",
   "execution_count": 51,
   "metadata": {},
   "outputs": [],
   "source": [
    "class Student:\n",
    "    \n",
    "    def eat(self):\n",
    "        print('The student ate.')\n",
    "    \n",
    "    def sleep(self):\n",
    "        print('The student slept.')\n",
    "\n",
    "        \n",
    "class Employee:\n",
    "    \n",
    "    def eat(self):\n",
    "        print('The employee ate.')\n",
    "    \n",
    "    def sleep(self):\n",
    "        print('The employee slept.')"
   ]
  },
  {
   "cell_type": "markdown",
   "metadata": {},
   "source": [
    "В приведенном выше коде классы имеют два общих метода с одним и тем же именем. Тем не менее, каждая из функций этих методов отличается для каждого класса. Теперь, когда у нас есть два объекта, использующих общий интерфейс, мы можем использовать два объекта одинаково, независимо от их отдельных типов.\n",
    "\n",
    "Примеры:"
   ]
  },
  {
   "cell_type": "code",
   "execution_count": 55,
   "metadata": {},
   "outputs": [
    {
     "name": "stdout",
     "output_type": "stream",
     "text": [
      "<class '__main__.Student'>\n",
      "The student ate.\n",
      "The student slept.\n",
      "<class '__main__.Employee'>\n",
      "The employee ate.\n",
      "The employee slept.\n"
     ]
    }
   ],
   "source": [
    "# 1\n",
    "persons = [Student(), Employee()]\n",
    "\n",
    "for person in persons:\n",
    "    print(type(person))\n",
    "    person.eat()\n",
    "    person.sleep()"
   ]
  },
  {
   "cell_type": "markdown",
   "metadata": {},
   "source": [
    "Цикл `for` повторяется сначала с помощью экземпляра класса `Student`, затем объекта класса `Employee`, поэтому мы видим методы, связанные с `Student` сначала, затем с `Employee`.\n",
    "\n",
    "Это показывает, что Python использует эти методы способом, не зная или не заботясь точно, какой тип класса у каждого из этих объектов. То есть, используя эти методы полиморфно."
   ]
  },
  {
   "cell_type": "code",
   "execution_count": 54,
   "metadata": {},
   "outputs": [
    {
     "name": "stdout",
     "output_type": "stream",
     "text": [
      "<class '__main__.Student'>\n",
      "The student ate.\n",
      "The student slept.\n",
      "<class '__main__.Employee'>\n",
      "The employee ate.\n",
      "The employee slept.\n"
     ]
    }
   ],
   "source": [
    "# 2\n",
    "def do_daily_needs(person):\n",
    "    print(type(person))\n",
    "    person.eat()\n",
    "    person.sleep()\n",
    "    \n",
    "katy = Student()\n",
    "tommy = Employee()\n",
    "\n",
    "do_daily_needs(katy)\n",
    "do_daily_needs(tommy)"
   ]
  },
  {
   "cell_type": "markdown",
   "metadata": {},
   "source": [
    "Несмотря на то, что мы передали объекты разных типов в функцию `do_daily_needs`, мы все же смогли эффективно использовать инструкции функции, которые являются общими для обоих типов."
   ]
  },
  {
   "cell_type": "markdown",
   "metadata": {},
   "source": [
    "### Перегрузка опреаторов\n",
    "\n",
    "Перегрузка операторов - один из способов реализации полиморфизма, когда мы можем задать свою реализацию какого-либо метода в своем классе.\n"
   ]
  },
  {
   "cell_type": "markdown",
   "metadata": {},
   "source": [
    "Создадим родительский класс с методом и два дочерних. Один из дочерних переопределил (перегрузил) родительский метод, а второй нет."
   ]
  },
  {
   "cell_type": "code",
   "execution_count": 60,
   "metadata": {},
   "outputs": [
    {
     "name": "stdout",
     "output_type": "stream",
     "text": [
      "The person ate.\n",
      "The student ate.\n",
      "The person ate.\n"
     ]
    }
   ],
   "source": [
    "class Person: # Родитель\n",
    "    \n",
    "    def eat(self):\n",
    "        print('The person ate.')\n",
    "\n",
    "\n",
    "class Student(Person): # Дочерний перегрузил метод\n",
    "    \n",
    "    def eat(self):\n",
    "        print('The student ate.')\n",
    "        \n",
    "        \n",
    "class Employee(Person): # Дочерний не перегружал\n",
    "    pass\n",
    "\n",
    "unknown = Person()\n",
    "kate = Student()\n",
    "tommy = Employee()\n",
    "\n",
    "unknown.eat()\n",
    "kate.eat()\n",
    "tommy.eat()"
   ]
  },
  {
   "cell_type": "markdown",
   "metadata": {},
   "source": [
    "Видим, что объект класса `Employee` ведет себя так же как и родитель `Person`, а `Student` по другому, потому что перегрузил метод."
   ]
  },
  {
   "cell_type": "markdown",
   "metadata": {},
   "source": [
    "## \"Магические\" методы\n",
    "\n",
    "**\"Магические\" методы** - методы классов Python, которые не вызываются напрямую, а вызывются встроенными функциями или операторами. Такие методы начинаются и заканчиваются двумя нижними подчеркиваниями.\n",
    "\n",
    "Например, расширим реализацию наших классов и добавим \"магический\" метод `__str__`, который срабатывает при вызове встроенной функции `print()`."
   ]
  },
  {
   "cell_type": "code",
   "execution_count": 14,
   "metadata": {},
   "outputs": [],
   "source": [
    "class Person: # Родитель\n",
    "    \n",
    "    def __init__(self, name):\n",
    "        self.name = name\n",
    "\n",
    "    def __str__(self):\n",
    "        return f'Person: {self.name}'\n",
    "\n",
    "        \n",
    "class Student(Person): # Дочерний перегрузил метод\n",
    "        \n",
    "    def __str__(self):\n",
    "        return f'Student: {self.name}'\n",
    "        \n",
    "        \n",
    "class Employee(Person): # Дочерний не перегружал\n",
    "    pass"
   ]
  },
  {
   "cell_type": "code",
   "execution_count": 15,
   "metadata": {},
   "outputs": [
    {
     "name": "stdout",
     "output_type": "stream",
     "text": [
      "Person: None\n",
      "Student: Kate\n",
      "Person: Tommy\n"
     ]
    }
   ],
   "source": [
    "unknown = Person(None)\n",
    "kate = Student('Kate')\n",
    "tommy = Employee('Tommy')\n",
    "\n",
    "print(unknown)\n",
    "print(kate)\n",
    "print(tommy)"
   ]
  },
  {
   "cell_type": "markdown",
   "metadata": {},
   "source": [
    "1. \"Магические\" методы вызвались через встроенную функцию `print()`.\n",
    "2. Видим, что перегрузка \"магических\" методов ведет себя точно так же, как и обычных.\n",
    "\n",
    "Также, можно добавить магичемкие методы, которые будут вызываться при операторах `+` сложения, `*` умножения, `<` сравнения и т.д.\n",
    "\n",
    "Собственно, далее пойдёт список таких \"магических\" методов."
   ]
  },
  {
   "cell_type": "markdown",
   "metadata": {},
   "source": [
    "|Название метода|Назначение|\n",
    "|-----------------:|:-|\n",
    "|\\_\\_new__(cls[, ...]) | управляет созданием экземпляра. В качестве обязательного аргумента принимает класс (не путать с экземпляром). Должен возвращать экземпляр класса для его последующей его передачи методу \\_\\_init__.|\n",
    "|\\_\\_init__(self[, ...]) | как уже было сказано выше, конструктор.|\n",
    "|\\_\\_del__(self) | вызывается при удалении объекта сборщиком мусора.|\n",
    "|\\_\\_repr__(self) | вызывается встроенной функцией repr; возвращает \"сырые\" данные, использующиеся для внутреннего представления в python.|\n",
    "|\\_\\_str__(self) | вызывается функциями str, print и format. Возвращает строковое представление объекта.|\n",
    "|\\_\\_bytes__(self) | вызывается функцией bytes при преобразовании к байтам.|\n",
    "|\\_\\_format__(self, format_spec) | используется функцией format (а также методом format у строк).|\n",
    "|\\_\\_lt__(self, other) | x < y вызывает x.\\_\\_lt__(y).|\n",
    "|\\_\\_le__(self, other) | x ≤ y вызывает x.\\_\\_le__(y).|\n",
    "|\\_\\_eq__(self, other) | x == y вызывает x.\\_\\_eq__(y).|\n",
    "|\\_\\_ne__(self, other) | x != y вызывает x.\\_\\_ne__(y)|\n",
    "|\\_\\_gt__(self, other) | x > y вызывает x.\\_\\_gt__(y).|\n",
    "|\\_\\_ge__(self, other) | x ≥ y вызывает x.\\_\\_ge__(y).|\n",
    "|\\_\\_hash__(self) | получение хэш-суммы объекта, например, для добавления в словарь.|\n",
    "|\\_\\_bool__(self) | вызывается при проверке истинности. Если этот метод не определён, вызывается метод \\_\\_len__ (объекты, имеющие ненулевую длину, считаются истинными).|\n",
    "|\\_\\_getattr__(self, name) | вызывается, когда атрибут экземпляра класса не найден в обычных местах (например, у экземпляра нет метода с таким названием).|\n",
    "|\\_\\_setattr__(self, name, value) | назначение атрибута.|\n",
    "|\\_\\_delattr__(self, name) | удаление атрибута (del obj.name).|\n",
    "|\\_\\_call__(self[, args...]) | вызов экземпляра класса как функции.|\n",
    "|\\_\\_len__(self) | длина объекта.|\n",
    "|\\_\\_getitem__(self, key) | доступ по индексу (или ключу).|\n",
    "|\\_\\_setitem__(self, key, value) | назначение элемента по индексу.|\n",
    "|\\_\\_delitem__(self, key) | удаление элемента по индексу.|\n",
    "|\\_\\_iter__(self) | возвращает итератор для контейнера.|\n",
    "|\\_\\_reversed__(self) | итератор из элементов, следующих в обратном порядке.|\n",
    "|\\_\\_contains__(self, item) | проверка на принадлежность элемента контейнеру (item in self).|"
   ]
  },
  {
   "cell_type": "markdown",
   "metadata": {},
   "source": [
    "Перегрузка арифметических операторов"
   ]
  },
  {
   "cell_type": "markdown",
   "metadata": {},
   "source": [
    "|Название метода|Назначение|\n",
    "|-----------------:|:-|\n",
    "|\\_\\_add__(self, other) | сложение. x + y вызывает x.__add__(y).|\n",
    "|\\_\\_sub__(self, other) | вычитание (x - y).|\n",
    "|\\_\\_mul__(self, other) | умножение (x * y).|\n",
    "|\\_\\_truediv__(self, other) | деление (x / y).|\n",
    "|\\_\\_floordiv__(self, other) | целочисленное деление (x // y).|\n",
    "|\\_\\_mod__(self, other) | остаток от деления (x % y).|\n",
    "|\\_\\_divmod__(self, other) | частное и остаток (divmod(x, y)).|\n",
    "|\\_\\_pow__(self, other[, modulo]) | возведение в степень (x ** y, pow(x, y[, modulo])).|\n",
    "|\\_\\_lshift__(self, other) | битовый сдвиг влево (x << y).|\n",
    "|\\_\\_rshift__(self, other) | битовый сдвиг вправо (x >> y).|\n",
    "|\\_\\_and__(self, other) | битовое И (x & y).|\n",
    "|\\_\\_xor__(self, other) | битовое ИСКЛЮЧАЮЩЕЕ ИЛИ (x ^ y).|\n",
    "|\\_\\_or__(self, other) | битовое ИЛИ (x | y).|"
   ]
  },
  {
   "cell_type": "markdown",
   "metadata": {},
   "source": [
    "Далее идут методы как в таблице № только с добавлением `__r*__` после перых двух подчеркиваний. Например, `__ror__`.\n",
    "Они делают то же самое, что и арифметические операторы, перечисленные выше, но для аргументов, находящихся справа, и только в случае, если для левого операнда не определён соответствующий метод.\n",
    "\n",
    "Например, операция `x + y` будет сначала пытаться вызвать `x.__add__(y)`, и только в том случае, если это не получилось, будет пытаться вызвать `y.__radd__(x)`. Аналогично для остальных методов."
   ]
  },
  {
   "cell_type": "markdown",
   "metadata": {},
   "source": [
    "|Название метода|Назначение|\n",
    "|-----------------:|:-|\n",
    "|\\_\\_iadd__(self, other) | +=.|\n",
    "|\\_\\_isub__(self, other) | -=.|\n",
    "|\\_\\_imul__(self, other) | \\*=.|\n",
    "|\\_\\_itruediv__(self, other) | /=.|\n",
    "|\\_\\_ifloordiv__(self, other) | //=.|\n",
    "|\\_\\_imod__(self, other) | %=.|\n",
    "|\\_\\_ipow__(self, other[, modulo]) | \\*\\*=.|\n",
    "|\\_\\_ilshift__(self, other) | <<=.|\n",
    "|\\_\\_irshift__(self, other) | >>=.|\n",
    "|\\_\\_iand__(self, other) | &=.|\n",
    "|\\_\\_ixor__(self, other) | ^=.|\n",
    "|\\_\\_ior__(self, other) | |=.|\n",
    "|\\_\\_neg__(self) | унарный -.|\n",
    "|\\_\\_pos__(self) | унарный +.|\n",
    "|\\_\\_abs__(self) | модуль (abs()).|\n",
    "|\\_\\_invert__(self) | инверсия (~).|\n",
    "|\\_\\_complex__(self) | приведение к complex.|\n",
    "|\\_\\_int__(self) | приведение к int.|\n",
    "|\\_\\_float__(self) | приведение к float.|\n",
    "|\\_\\_round__(self[, n]) | округление.|\n",
    "|\\_\\_enter__(self), \\_\\exit__(self, exc_type, exc_value, traceback) | реализация менеджеров контекста.|"
   ]
  },
  {
   "cell_type": "markdown",
   "metadata": {},
   "source": [
    "**Немного практики:**"
   ]
  },
  {
   "cell_type": "markdown",
   "metadata": {},
   "source": [
    "Создадим класс для страны и добавим этому классу возможность сравнивать страны по их площади:"
   ]
  },
  {
   "cell_type": "code",
   "execution_count": 32,
   "metadata": {},
   "outputs": [],
   "source": [
    "class Country:\n",
    "    \n",
    "    def __init__(self, name, area):\n",
    "        self.name, self.area = name, area\n",
    "        \n",
    "    def __lt__(self, other):\n",
    "        return self.area < other.area\n",
    "        \n",
    "    def __eq__(self, other):\n",
    "        return self.area == other.area\n",
    "    \n",
    "    def __ne__(self, other):\n",
    "        return self.area != other.area\n",
    "    \n",
    "    def __gt__(self, other):\n",
    "        return not self.__lt__(other) and self.__ne__(other)\n",
    "    \n",
    "    def __le__(self, other):\n",
    "        return self.__lt__(other) or self.__eq__(other)\n",
    "    \n",
    "    def __ge__(self, other):\n",
    "        return self.__gt__(other) or self.__eq__(other)"
   ]
  },
  {
   "cell_type": "code",
   "execution_count": 33,
   "metadata": {},
   "outputs": [
    {
     "name": "stdout",
     "output_type": "stream",
     "text": [
      "True\n",
      "True\n",
      "False\n",
      "False\n"
     ]
    }
   ],
   "source": [
    "russia = Country('Russia', 17098246)\n",
    "uk = Country('United Kindom', 242495)\n",
    "china = Country('China', 9597324)\n",
    "\n",
    "print(russia > uk)\n",
    "print(china != uk)\n",
    "print(uk >= china)\n",
    "print(russia == china)"
   ]
  },
  {
   "cell_type": "markdown",
   "metadata": {},
   "source": [
    "Рассмотрим пример двухмерного вектора, для которого переопределим некоторые методы:"
   ]
  },
  {
   "cell_type": "code",
   "execution_count": 68,
   "metadata": {},
   "outputs": [],
   "source": [
    "import math\n",
    "\n",
    "class Vector2D:\n",
    "    def __init__(self, x, y):\n",
    "        self.x = x\n",
    "        self.y = y\n",
    "\n",
    "    def __repr__(self):\n",
    "        return 'Vector2D({}, {})'.format(self.x, self.y)\n",
    "\n",
    "    def __str__(self):\n",
    "        return '({}, {})'.format(self.x, self.y)\n",
    "\n",
    "    def __add__(self, other):\n",
    "        return Vector2D(self.x + other.x, self.y + other.y)\n",
    "\n",
    "    def __iadd__(self, other):\n",
    "        self.x += other.x\n",
    "        self.y += other.y\n",
    "        return self\n",
    "\n",
    "    def __sub__(self, other):\n",
    "        return Vector2D(self.x - other.x, self.y - other.y)\n",
    "\n",
    "    def __isub__(self, other):\n",
    "        self.x -= other.x\n",
    "        self.y -= other.y\n",
    "        return self\n",
    "\n",
    "    def __abs__(self):\n",
    "        return math.hypot(self.x, self.y)\n",
    "\n",
    "    def __bool__(self):\n",
    "        return self.x != 0 or self.y != 0\n",
    "\n",
    "    def __neg__(self):\n",
    "        return Vector2D(-self.x, -self.y)"
   ]
  },
  {
   "cell_type": "code",
   "execution_count": 74,
   "metadata": {},
   "outputs": [
    {
     "name": "stdout",
     "output_type": "stream",
     "text": [
      "x: (3, 4)\n",
      "y: (5, 6)\n",
      "abs(x): 5.0\n",
      "x + y: (8, 10)\n",
      "x - y: (-2, -2)\n",
      "-x: (-3, -4)\n",
      "x += y: (8, 10)\n",
      "bool(x): True\n",
      "bool(z) False\n"
     ]
    }
   ],
   "source": [
    "x = Vector2D(3, 4)\n",
    "y = Vector2D(5, 6)\n",
    "\n",
    "print('x:', x)\n",
    "print('y:', y)\n",
    "\n",
    "print('abs(x):' ,abs(x))\n",
    "print('x + y:', x + y)\n",
    "print('x - y:', x - y)\n",
    "print('-x:', -x)\n",
    "x += y\n",
    "print('x += y:', x)\n",
    "print('bool(x):', bool(x))\n",
    "z = Vector2D(0,0)\n",
    "print('bool(z)', bool(z))"
   ]
  },
  {
   "cell_type": "markdown",
   "metadata": {},
   "source": [
    "Перегрузка специальных методов - вещь хорошая, но не стоит ей слишком злоупотреблять. Перегружайте их только тогда, когда вы уверены в том, что это поможет пониманию программного кода."
   ]
  },
  {
   "cell_type": "code",
   "execution_count": null,
   "metadata": {},
   "outputs": [],
   "source": []
  }
 ],
 "metadata": {
  "kernelspec": {
   "display_name": "Python 3",
   "language": "python",
   "name": "python3"
  },
  "language_info": {
   "codemirror_mode": {
    "name": "ipython",
    "version": 3
   },
   "file_extension": ".py",
   "mimetype": "text/x-python",
   "name": "python",
   "nbconvert_exporter": "python",
   "pygments_lexer": "ipython3",
   "version": "3.6.8"
  }
 },
 "nbformat": 4,
 "nbformat_minor": 4
}
