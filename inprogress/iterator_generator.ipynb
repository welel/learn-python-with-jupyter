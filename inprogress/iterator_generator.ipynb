{
 "cells": [
  {
   "cell_type": "markdown",
   "metadata": {},
   "source": [
    "# Итераторы"
   ]
  },
  {
   "cell_type": "markdown",
   "metadata": {},
   "source": [
    "Итераторы — объекты, которые позволяют обходить коллекции. Коллекции не должны обязательно существовать в памяти и быть конечными.\n",
    "\n",
    "Давайте уточним определения. \n",
    "* Итерируемый — объект, в котором есть метод `__iter__`. \n",
    "* Итератор — объект, в котором есть два метода: `__iter__` и `__next__`.\n",
    "\n",
    "Некоторые итерируемые (iterable) не являются итераторами, но используют другие объекты как итераторы. Например, объект list относится к итерируемым, но не является итератором.\n",
    "\n",
    "\n",
    "Почти всегда iterator возвращает себя из метода `__iter__`, так как они выступают итераторами для самих себя, но есть исключения.\n",
    "\n",
    "Итераторы не должны иметь и часто не имеют определённой длины."
   ]
  },
  {
   "attachments": {},
   "cell_type": "markdown",
   "metadata": {},
   "source": [
    "## Протокол итераций\n",
    "\n",
    "Для итерации по итератору используется метод `next`.\n",
    "\n",
    "При вызове этих методов, итератор возвращет свое следующее значение, а если значений не остальнось, то выбрасывает исключение `StopIteration`."
   ]
  },
  {
   "cell_type": "code",
   "execution_count": 5,
   "metadata": {},
   "outputs": [
    {
     "name": "stdout",
     "output_type": "stream",
     "text": [
      "<class 'list'>\n",
      "<class 'list_iterator'>\n",
      "1\n",
      "2\n",
      "4\n"
     ]
    },
    {
     "ename": "StopIteration",
     "evalue": "",
     "output_type": "error",
     "traceback": [
      "\u001b[1;31m---------------------------------------------------------------------------\u001b[0m",
      "\u001b[1;31mStopIteration\u001b[0m                             Traceback (most recent call last)",
      "\u001b[1;32m<ipython-input-5-9dfa8640b73b>\u001b[0m in \u001b[0;36m<module>\u001b[1;34m\u001b[0m\n\u001b[0;32m     11\u001b[0m \u001b[0mprint\u001b[0m\u001b[1;33m(\u001b[0m\u001b[0mnext\u001b[0m\u001b[1;33m(\u001b[0m\u001b[0mit\u001b[0m\u001b[1;33m)\u001b[0m\u001b[1;33m)\u001b[0m \u001b[1;31m# 4\u001b[0m\u001b[1;33m\u001b[0m\u001b[1;33m\u001b[0m\u001b[0m\n\u001b[0;32m     12\u001b[0m \u001b[1;31m# Значений больше не осталось.\u001b[0m\u001b[1;33m\u001b[0m\u001b[1;33m\u001b[0m\u001b[1;33m\u001b[0m\u001b[0m\n\u001b[1;32m---> 13\u001b[1;33m \u001b[0mprint\u001b[0m\u001b[1;33m(\u001b[0m\u001b[0mnext\u001b[0m\u001b[1;33m(\u001b[0m\u001b[0mit\u001b[0m\u001b[1;33m)\u001b[0m\u001b[1;33m)\u001b[0m \u001b[1;31m# -> raises StopIteration\u001b[0m\u001b[1;33m\u001b[0m\u001b[1;33m\u001b[0m\u001b[0m\n\u001b[0m",
      "\u001b[1;31mStopIteration\u001b[0m: "
     ]
    }
   ],
   "source": [
    "\"\"\"Протокол итерации.\"\"\"\n",
    "\n",
    "li = [1, 2, 4]    # list\n",
    "print(type(li))\n",
    "\n",
    "it = iter(li)     # listiterator\n",
    "print(type(it))\n",
    "\n",
    "print(it.__next__()) # 1\n",
    "print(it.__next__()) # 2\n",
    "print(next(it)) # 4\n",
    "# Значений больше не осталось.\n",
    "print(next(it)) # -> raises StopIteration"
   ]
  },
  {
   "cell_type": "markdown",
   "metadata": {},
   "source": [
    "### Релизация for"
   ]
  },
  {
   "cell_type": "code",
   "execution_count": 8,
   "metadata": {},
   "outputs": [
    {
     "name": "stdout",
     "output_type": "stream",
     "text": [
      "11 22 33 "
     ]
    }
   ],
   "source": [
    "\"\"\"Работа цикла `for` с итератором.\"\"\"\n",
    "li = [11, 22, 33]\n",
    "for el in li:\n",
    "    print(el, end=' ')"
   ]
  },
  {
   "cell_type": "code",
   "execution_count": 10,
   "metadata": {},
   "outputs": [
    {
     "name": "stdout",
     "output_type": "stream",
     "text": [
      "11 22 33 "
     ]
    }
   ],
   "source": [
    "\"\"\"Реализация цикла `for` для работы с итератором.\"\"\"\n",
    "li = [11, 22, 33]\n",
    "it = iter(li)\n",
    "\n",
    "while True:\n",
    "    try:\n",
    "        el = next(it)\n",
    "    except StopIteration:\n",
    "        break\n",
    "    # Тело цикла\n",
    "    print(el, end=' ')  "
   ]
  },
  {
   "cell_type": "markdown",
   "metadata": {},
   "source": [
    "---"
   ]
  },
  {
   "cell_type": "markdown",
   "metadata": {},
   "source": [
    "Итераторы могут работать с бесконечными множествами. В таких случаях программист должен позаботиться о выходе из цикла.\n",
    "\n",
    "Ниже дан простой пример итератора. Он считает с нуля до бесконечности."
   ]
  },
  {
   "cell_type": "code",
   "execution_count": 2,
   "metadata": {},
   "outputs": [],
   "source": [
    "class count_iterator:\n",
    "    n = 0\n",
    "\n",
    "    def __iter__(self):\n",
    "        return self\n",
    "\n",
    "    def __next__(self):\n",
    "        y = self.n\n",
    "        self.n += 1\n",
    "        return y"
   ]
  },
  {
   "cell_type": "code",
   "execution_count": 3,
   "metadata": {},
   "outputs": [
    {
     "name": "stdout",
     "output_type": "stream",
     "text": [
      "100001\n"
     ]
    }
   ],
   "source": [
    "counter = count_iterator()\n",
    "for num in counter:\n",
    "    if num > 100000:\n",
    "        print(num)\n",
    "        break"
   ]
  },
  {
   "cell_type": "markdown",
   "metadata": {},
   "source": [
    "Если у объекта нет метода `__iter__`, его можно обойти, если определить метод `__getitem__`. В этом случае встроенная функция iter возвращает итератор с типом iterator, который использует `__getitem__` для обхода элементов списка. Этот метод возвращает StopIteration или IndexError, когда обход завершается. \n",
    "\n",
    "Пример:"
   ]
  },
  {
   "cell_type": "code",
   "execution_count": 4,
   "metadata": {},
   "outputs": [],
   "source": [
    "class SimpleList(object):\n",
    "    def __init__(self, *items):\n",
    "        self.items = items\n",
    "\n",
    "    def __getitem__(self, i):\n",
    "        return self.items[i]"
   ]
  },
  {
   "cell_type": "code",
   "execution_count": 6,
   "metadata": {},
   "outputs": [
    {
     "name": "stdout",
     "output_type": "stream",
     "text": [
      "<class 'iterator'>\n",
      "1997\n",
      "2020\n"
     ]
    }
   ],
   "source": [
    "a = SimpleList(1997, 2020, 2021)\n",
    "it = iter(a)\n",
    "print(type(it))\n",
    "\n",
    "print(next(it))\n",
    "print(next(it))"
   ]
  },
  {
   "cell_type": "markdown",
   "metadata": {},
   "source": [
    "# Генераторы"
   ]
  },
  {
   "cell_type": "markdown",
   "metadata": {},
   "source": [
    "Генераторы — функции, которые внутри используют выражение yield. Генераторы не возвращают значения, вместо этого выдают элементы по готовности. Python автоматизирует запоминание контекста генератора, то есть текущий поток управления, значение локальных переменных и так далее.\n",
    "\n",
    "Каждый вызов метода `__next__` у объекта генератора возвращает следующее значение. Метод `__iter__` также реализуется автоматически. То есть генераторы можно использовать везде, где требуются итераторы.\n",
    "\n",
    "В генераторе не нужно вручную использовать `StopIteration`. Это исключение срабатывает автоматически, когда поток управления достигает конца функции.\n",
    "\n",
    "Генераторы могут быть рекурсивными, как любая другая функция.\n",
    "\n",
    "Пример генерации бесконечной последовательности с помощью генератора:"
   ]
  },
  {
   "cell_type": "code",
   "execution_count": 7,
   "metadata": {},
   "outputs": [],
   "source": [
    "def count_generator():\n",
    "    n = 0\n",
    "    while True:\n",
    "        yield n\n",
    "        n += 1"
   ]
  },
  {
   "cell_type": "code",
   "execution_count": 10,
   "metadata": {},
   "outputs": [
    {
     "name": "stdout",
     "output_type": "stream",
     "text": [
      "<class 'generator'>\n",
      "55556\n"
     ]
    }
   ],
   "source": [
    "counter = count_generator()\n",
    "print(type(counter))\n",
    "\n",
    "for num in counter:\n",
    "    if num > 55555:\n",
    "        print(num)\n",
    "        break"
   ]
  },
  {
   "cell_type": "markdown",
   "metadata": {},
   "source": [
    "# Модуль `itertools`"
   ]
  },
  {
   "cell_type": "markdown",
   "metadata": {},
   "source": [
    "В модуле `itertools` есть набор итераторов, которые упрощают работу с перестановками, комбинациями, декартовыми произведениями и другими комбинаторными структурами."
   ]
  },
  {
   "cell_type": "markdown",
   "metadata": {},
   "source": []
  },
  {
   "cell_type": "code",
   "execution_count": null,
   "metadata": {},
   "outputs": [],
   "source": []
  },
  {
   "cell_type": "code",
   "execution_count": null,
   "metadata": {},
   "outputs": [],
   "source": []
  },
  {
   "cell_type": "code",
   "execution_count": null,
   "metadata": {},
   "outputs": [],
   "source": []
  },
  {
   "cell_type": "code",
   "execution_count": null,
   "metadata": {},
   "outputs": [],
   "source": []
  },
  {
   "cell_type": "code",
   "execution_count": null,
   "metadata": {},
   "outputs": [],
   "source": [
    "Источники:\n",
    "    https://ru.hexlet.io/blog/posts/znakomimsya-s-prodvinutymi-vozmozhnostyami-python-iteratory-generatory-itertools"
   ]
  }
 ],
 "metadata": {
  "kernelspec": {
   "display_name": "Python 3",
   "language": "python",
   "name": "python3"
  },
  "language_info": {
   "codemirror_mode": {
    "name": "ipython",
    "version": 3
   },
   "file_extension": ".py",
   "mimetype": "text/x-python",
   "name": "python",
   "nbconvert_exporter": "python",
   "pygments_lexer": "ipython3",
   "version": "3.10.6"
  },
  "vscode": {
   "interpreter": {
    "hash": "97cc609b13305c559618ec78a438abc56230b9381f827f22d070313b9a1f3777"
   }
  }
 },
 "nbformat": 4,
 "nbformat_minor": 4
}
