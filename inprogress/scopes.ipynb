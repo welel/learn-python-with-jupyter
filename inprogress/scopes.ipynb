{
 "cells": [
  {
   "cell_type": "markdown",
   "metadata": {},
   "source": [
    "# Области видимости"
   ]
  },
  {
   "cell_type": "markdown",
   "metadata": {},
   "source": [
    "## Встроенная область видимости `builtins`"
   ]
  },
  {
   "cell_type": "code",
   "execution_count": null,
   "metadata": {},
   "outputs": [],
   "source": []
  },
  {
   "cell_type": "markdown",
   "metadata": {},
   "source": [
    "# Оператор `global`"
   ]
  },
  {
   "cell_type": "code",
   "execution_count": 4,
   "metadata": {},
   "outputs": [
    {
     "name": "stdout",
     "output_type": "stream",
     "text": [
      "2022\n"
     ]
    }
   ],
   "source": [
    "x = 2021\n",
    "\n",
    "def get_older():\n",
    "    global x\n",
    "    x += 1\n",
    "\n",
    "get_older()\n",
    "print(x)"
   ]
  },
  {
   "cell_type": "code",
   "execution_count": 1,
   "metadata": {},
   "outputs": [
    {
     "name": "stdout",
     "output_type": "stream",
     "text": [
      "13\n"
     ]
    }
   ],
   "source": [
    "x, y = 10, 3\n",
    "\n",
    "def calc():\n",
    "    global z\n",
    "    z = x + y\n",
    "\n",
    "calc()\n",
    "print(z)"
   ]
  },
  {
   "cell_type": "markdown",
   "metadata": {},
   "source": [
    "# Фабричные функции"
   ]
  },
  {
   "cell_type": "code",
   "execution_count": 9,
   "metadata": {},
   "outputs": [
    {
     "name": "stdout",
     "output_type": "stream",
     "text": [
      "9\n",
      "16\n"
     ]
    }
   ],
   "source": [
    "def maker(n):\n",
    "    def action(x):\n",
    "        return x ** n\n",
    "    return action\n",
    "\n",
    "f = maker(2)\n",
    "\n",
    "print(f(3))\n",
    "print(f(4))"
   ]
  },
  {
   "cell_type": "markdown",
   "metadata": {},
   "source": [
    "# Оператор `nonlocal`\n",
    "\n",
    "Ищет переменную только в объемлющих функциях и не трограет глобальные переменные."
   ]
  },
  {
   "cell_type": "code",
   "execution_count": 3,
   "metadata": {},
   "outputs": [
    {
     "name": "stdout",
     "output_type": "stream",
     "text": [
      "Hello 1\n",
      "my 2\n",
      "darlin 3\n",
      "global c: 100\n",
      "Second function 101\n",
      "First function 4\n"
     ]
    }
   ],
   "source": [
    "с = 100\n",
    "\n",
    "def counter(start):\n",
    "    c = start\n",
    "    def func(s):\n",
    "        nonlocal c\n",
    "        c += 1\n",
    "        print(s, c)\n",
    "    return func\n",
    "        \n",
    "f = counter(0)\n",
    "\n",
    "f('Hello')\n",
    "f('my')\n",
    "f('darlin')\n",
    "\n",
    "print(\"global c:\", с)\n",
    "\n",
    "sf = counter(100)\n",
    "\n",
    "sf('Second function')\n",
    "f('First function')"
   ]
  },
  {
   "cell_type": "code",
   "execution_count": null,
   "metadata": {},
   "outputs": [],
   "source": []
  }
 ],
 "metadata": {
  "kernelspec": {
   "display_name": "Python 3",
   "language": "python",
   "name": "python3"
  },
  "language_info": {
   "codemirror_mode": {
    "name": "ipython",
    "version": 3
   },
   "file_extension": ".py",
   "mimetype": "text/x-python",
   "name": "python",
   "nbconvert_exporter": "python",
   "pygments_lexer": "ipython3",
   "version": "3.10.6"
  },
  "vscode": {
   "interpreter": {
    "hash": "97cc609b13305c559618ec78a438abc56230b9381f827f22d070313b9a1f3777"
   }
  }
 },
 "nbformat": 4,
 "nbformat_minor": 4
}
