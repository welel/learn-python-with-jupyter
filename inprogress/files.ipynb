{
 "cells": [
  {
   "cell_type": "markdown",
   "metadata": {},
   "source": [
    "# Файлы"
   ]
  },
  {
   "cell_type": "markdown",
   "metadata": {},
   "source": [
    "## Описание \n",
    "\n",
    "Файлы в Python являются объектами, через которые происходит взаимодействие с физическими файлами на машине.\n",
    "\n",
    "Встроенные стредства языка позволяют:\n",
    "\n",
    "* открывать/закрывать файлы\n",
    "* читать/писать"
   ]
  },
  {
   "cell_type": "markdown",
   "metadata": {},
   "source": [
    "### Открытие/закрытие файла (open/close)\n",
    "\n",
    "Файлы открываются с помощью функции `open()`. Функция `open()` имеет много аргументов, рассмотрим пока два: путь к файлу и режим.\n",
    "\n",
    "После работы с файлом, его необходимо обязательно закрыть. Это делается с помощью метода `file.close()`."
   ]
  },
  {
   "cell_type": "markdown",
   "metadata": {},
   "source": [
    "Таблица 1 - **Таблица режимов открытия файлов**"
   ]
  },
  {
   "cell_type": "markdown",
   "metadata": {},
   "source": [
    "|Режим|Обозначение|\n",
    "|----:|:----------|\n",
    "|'r'|открытие на чтение (является значением по умолчанию).|\n",
    "|'w'|открытие на запись, содержимое файла удаляется, если файла не существует, создается новый.|\n",
    "|'x'|открытие на запись, если файла не существует, иначе исключение.|\n",
    "|'a'|открытие на дозапись, информация добавляется в конец файла.|\n",
    "|'b'|открытие в двоичном режиме.|\n",
    "|'t'|открытие в текстовом режиме (является значением по умолчанию).|\n",
    "|'+'|открытие на чтение и запись.|"
   ]
  },
  {
   "cell_type": "markdown",
   "metadata": {},
   "source": [
    "Режимы можно комбинировать, например: `rb` - чтение в двоичном режиме. По умолчанию режим равен `rt`."
   ]
  },
  {
   "cell_type": "code",
   "execution_count": 3,
   "metadata": {},
   "outputs": [],
   "source": [
    "file = open('files/poem.txt', 'r') # открыть файл на чтение\n",
    "file.close() # закрыть файл"
   ]
  },
  {
   "cell_type": "markdown",
   "metadata": {},
   "source": [
    "### Чтение из файла"
   ]
  },
  {
   "cell_type": "markdown",
   "metadata": {},
   "source": [
    "Рассмотрим 3 способа прочитать файл.\n",
    "\n",
    "1. Метод `read(n)`. `n` - количество символов. Если `read()` вызывается без аргумента, то читается файл целиком.\n",
    "2. Метод `readline()`.\n",
    "3. С помощью цикла `for`."
   ]
  },
  {
   "cell_type": "code",
   "execution_count": 6,
   "metadata": {},
   "outputs": [
    {
     "name": "stdout",
     "output_type": "stream",
     "text": [
      "Fro\n",
      "m the day that I first knew you,\n",
      "Your heart was pure and kind;\n",
      "Your smile was sweet and innocent,\n",
      "Your wit was well refined.\n"
     ]
    }
   ],
   "source": [
    "# 1\n",
    "file = open('files/poem.txt', 'r')\n",
    "print(file.read(3))\n",
    "print(file.read())\n",
    "file.close()"
   ]
  },
  {
   "cell_type": "code",
   "execution_count": 7,
   "metadata": {},
   "outputs": [
    {
     "name": "stdout",
     "output_type": "stream",
     "text": [
      "From the day that I first knew you,\n",
      "\n",
      "Your heart was pure and kind;\n",
      "\n",
      "Your smile was sweet and innocent,\n",
      "\n",
      "Your wit was well refined.\n"
     ]
    }
   ],
   "source": [
    "# 2\n",
    "file = open('files/poem.txt', 'r')\n",
    "print(file.readline())\n",
    "print(file.readline())\n",
    "print(file.readline())\n",
    "print(file.readline())\n",
    "file.close()"
   ]
  },
  {
   "cell_type": "code",
   "execution_count": 11,
   "metadata": {},
   "outputs": [
    {
     "name": "stdout",
     "output_type": "stream",
     "text": [
      "From the day that I first knew you,\n",
      "Your heart was pure and kind;\n",
      "Your smile was sweet and innocent,\n",
      "Your wit was well refined."
     ]
    }
   ],
   "source": [
    "# 3 \n",
    "file = open('files/poem.txt', 'r')\n",
    "for line in file:\n",
    "    print(line, end='')\n",
    "file.close()"
   ]
  },
  {
   "cell_type": "markdown",
   "metadata": {},
   "source": [
    "### Запись в файл (write)"
   ]
  },
  {
   "cell_type": "code",
   "execution_count": 20,
   "metadata": {},
   "outputs": [
    {
     "name": "stdout",
     "output_type": "stream",
     "text": [
      "['1', '7', '1', '2', '2', '0', '2', '0']\n",
      "1\n",
      "7\n",
      "1\n",
      "2\n",
      "2\n",
      "0\n",
      "2\n",
      "0\n",
      "\n"
     ]
    }
   ],
   "source": [
    "numbers = [x for x in '17122020']\n",
    "print(numbers)\n",
    "\n",
    "file = open('files/numbers.txt', 'w')\n",
    "for number in numbers:\n",
    "    file.write(number + '\\n')\n",
    "file.close()\n",
    "\n",
    "# Тут же прочитаем файл\n",
    "file = open('files/numbers.txt', 'r')\n",
    "print(file.read())\n",
    "file.close()"
   ]
  },
  {
   "cell_type": "markdown",
   "metadata": {},
   "source": [
    "## Менеджеры контекста (with-as)\n",
    "\n",
    "Конструкция with-as используется для оборачивания выполнения блока инструкций менеджером контекста.\n",
    "\n",
    "Синтаксис:\n",
    "\n",
    "`\n",
    "with выражение as переменная:\n",
    "    тело\n",
    "`\n",
    "\n",
    "Конструкция применяется для того, чтобы критические функции выполнялись в любом случае. Ее чаще всего используют при открытии файлов.\n",
    "\n",
    "Пример: файлы необходимо всегда закрывать всегда после использования. Если использовать конструкцию with-as то файлы закрываются автоматически, даже если в теле with-as что-то пошло не так."
   ]
  },
  {
   "cell_type": "code",
   "execution_count": 38,
   "metadata": {},
   "outputs": [
    {
     "name": "stdout",
     "output_type": "stream",
     "text": [
      "From the day that I first knew you,\n",
      "Your heart was pure and kind;\n",
      "Your smile was sweet and innocent,\n",
      "Your wit was well refined.\n"
     ]
    }
   ],
   "source": [
    "# использование\n",
    "with open('files/poem.txt') as f:\n",
    "    print(f.read())"
   ]
  },
  {
   "cell_type": "markdown",
   "metadata": {},
   "source": [
    "**Эквивалентные записи вложенных менеджеров контекста:**"
   ]
  },
  {
   "cell_type": "code",
   "execution_count": 48,
   "metadata": {},
   "outputs": [
    {
     "name": "stdout",
     "output_type": "stream",
     "text": [
      "<class '_io.TextIOWrapper'> <class '_io.TextIOWrapper'>\n",
      "<class '_io.TextIOWrapper'> <class '_io.TextIOWrapper'>\n"
     ]
    }
   ],
   "source": [
    "poem_path = 'files/poem.txt'\n",
    "numbers_path = 'files/numbers.txt'\n",
    "\n",
    "# Это\n",
    "with open(poem_path) as f1:\n",
    "    with open(numbers_path) as f2:\n",
    "        print(type(f1), type(f2))\n",
    "        \n",
    "# эквивалентно этому\n",
    "with open(poem_path) as f1, open(numbers_path) as f2:\n",
    "    print(type(f1), type(f2))"
   ]
  },
  {
   "cell_type": "markdown",
   "metadata": {},
   "source": [
    "**Как работает менеджер контекста:**\n",
    "1. Выполняется выражение в конструкции with-as.\n",
    "2. Загружается специальный метод `__exit__` для дальнейшего использования.\n",
    "3. Выполняется метод `__enter__`. Если конструкция `with` включает в себя слово `as`, то возвращаемое методом `__enter__` значение записывается в переменную.\n",
    "4. Выполняется тело.\n",
    "5. Вызывается метод `__exit__`, причем неважно, выполнилось ли тело или произошло исключение. В этот метод передаются параметры исключения, если оно произошло, или во всех аргументах значение None, если исключения не было.\n",
    "\n",
    "Рассмотрим условный пример для понимания:"
   ]
  },
  {
   "cell_type": "code",
   "execution_count": 45,
   "metadata": {},
   "outputs": [
    {
     "name": "stdout",
     "output_type": "stream",
     "text": [
      "Удачное использование:\n",
      "From the day that I first knew you,\n",
      "Your heart was pure and kind;\n",
      "Your smile was sweet and innocent,\n",
      "Your wit was well refined.\n",
      "--log--\n",
      " (None, None, None)\n",
      "The file is closed.\n",
      "--log--\n",
      "\n",
      "Использование с ошибкой:\n",
      "--log--\n",
      " (<class 'NameError'>, NameError(\"name 'рисуй' is not defined\",), <traceback object at 0x000000000572AE88>)\n",
      "The file is closed.\n",
      "--log--\n",
      "\n"
     ]
    },
    {
     "ename": "NameError",
     "evalue": "name 'рисуй' is not defined",
     "output_type": "error",
     "traceback": [
      "\u001b[1;31m---------------------------------------------------------------------------\u001b[0m",
      "\u001b[1;31mNameError\u001b[0m                                 Traceback (most recent call last)",
      "\u001b[1;32m<ipython-input-45-af4dd7ad9729>\u001b[0m in \u001b[0;36m<module>\u001b[1;34m\u001b[0m\n\u001b[0;32m     19\u001b[0m \u001b[0mprint\u001b[0m\u001b[1;33m(\u001b[0m\u001b[1;34m'Использование с ошибкой:'\u001b[0m\u001b[1;33m)\u001b[0m\u001b[1;33m\u001b[0m\u001b[1;33m\u001b[0m\u001b[0m\n\u001b[0;32m     20\u001b[0m \u001b[1;32mwith\u001b[0m \u001b[0m_open\u001b[0m\u001b[1;33m(\u001b[0m\u001b[1;34m'files/poem.txt'\u001b[0m\u001b[1;33m)\u001b[0m \u001b[1;32mas\u001b[0m \u001b[0mf\u001b[0m\u001b[1;33m:\u001b[0m\u001b[1;33m\u001b[0m\u001b[1;33m\u001b[0m\u001b[0m\n\u001b[1;32m---> 21\u001b[1;33m     \u001b[0mрисуй\u001b[0m\u001b[1;33m(\u001b[0m\u001b[0mf\u001b[0m\u001b[1;33m.\u001b[0m\u001b[0mread\u001b[0m\u001b[1;33m(\u001b[0m\u001b[1;33m)\u001b[0m\u001b[1;33m)\u001b[0m\u001b[1;33m\u001b[0m\u001b[1;33m\u001b[0m\u001b[0m\n\u001b[0m",
      "\u001b[1;31mNameError\u001b[0m: name 'рисуй' is not defined"
     ]
    }
   ],
   "source": [
    "# Обратите внимание, что файл всегда будет закрыт.\n",
    "\n",
    "class _open:\n",
    "    def __init__(self, path, mode='rt'):\n",
    "        self.file = open(path, mode)\n",
    "    \n",
    "    def __enter__(self): \n",
    "        return iter(self.file)\n",
    "\n",
    "    def __exit__(self, *args):\n",
    "        self.file.close()\n",
    "        print('--log--\\n', args)\n",
    "        print('The file is closed.\\n--log--\\n')\n",
    "\n",
    "print('Удачное использование:')\n",
    "with _open('files/poem.txt') as f:\n",
    "    print(f.read())\n",
    "   \n",
    "print('Использование с ошибкой:')\n",
    "with _open('files/poem.txt') as f:\n",
    "    рисуй(f.read())"
   ]
  }
 ],
 "metadata": {
  "kernelspec": {
   "display_name": "Python 3",
   "language": "python",
   "name": "python3"
  },
  "language_info": {
   "codemirror_mode": {
    "name": "ipython",
    "version": 3
   },
   "file_extension": ".py",
   "mimetype": "text/x-python",
   "name": "python",
   "nbconvert_exporter": "python",
   "pygments_lexer": "ipython3",
   "version": "3.6.8"
  }
 },
 "nbformat": 4,
 "nbformat_minor": 4
}
