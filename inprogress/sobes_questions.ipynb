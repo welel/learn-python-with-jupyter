{
 "cells": [
  {
   "cell_type": "markdown",
   "metadata": {
    "id": "uGHWLLVg60FN"
   },
   "source": [
    "## Декораторы"
   ]
  },
  {
   "cell_type": "markdown",
   "metadata": {
    "id": "NyYUp7Me60FN"
   },
   "source": [
    "Существуюет два вида декораторов:\n",
    "* Декоратор функций\n",
    "* Декоратор классов\n",
    "\n",
    "Декораторы функций используются для управления вызовами функций и самими объектами функций, а декораторы классов используются для управления процедурой создания экземпляров классов и самих классов."
   ]
  },
  {
   "cell_type": "markdown",
   "metadata": {
    "id": "mVuC5k-V60FO"
   },
   "source": [
    "**Пример 1. Реализация при помощи функции.**"
   ]
  },
  {
   "cell_type": "code",
   "execution_count": null,
   "metadata": {
    "id": "NKA2ec0560FO"
   },
   "outputs": [],
   "source": [
    "# Пример декоратора, который логирует исключения основной функции\n",
    "def dec(F):\n",
    "    print('Срабатывает только во время объявления:', end=' ')\n",
    "    print(F)\n",
    "    print('id F define:', id(F))\n",
    "    def wrapper(*args):\n",
    "        print('id F wrapper:', id(F))\n",
    "        print('Decorator:', end=' ')\n",
    "        print(args)\n",
    "        try:\n",
    "            F(*args)\n",
    "        except Exception as e:\n",
    "            print('log:', e)\n",
    "    return wrapper"
   ]
  },
  {
   "cell_type": "markdown",
   "metadata": {
    "id": "00k4en3i60FT"
   },
   "source": [
    "**Пример 2. Реализация при помощи класса.**\n",
    "\n",
    "**Замечание:** пригоден только для декорирования простых функций и не пригоден для декорирования методов классов."
   ]
  },
  {
   "cell_type": "code",
   "execution_count": null,
   "metadata": {
    "id": "IK67JoZo60FT"
   },
   "outputs": [],
   "source": [
    "class decc:\n",
    "    def __init__(self, F):\n",
    "        self.F = F\n",
    "        print('Срабатывает только во время объявления:', end=' ')\n",
    "        print(self.F)\n",
    "        print('id F define:', id(self.F))\n",
    "    def __call__(self, *args):\n",
    "        print('id F wrapper:', id(self.F))\n",
    "        print('Decorator:', end=' ')\n",
    "        print(args)\n",
    "        try:\n",
    "            self.F(*args)\n",
    "        except Exception as e:\n",
    "            print('log:', e)"
   ]
  },
  {
   "cell_type": "code",
   "execution_count": null,
   "metadata": {
    "colab": {
     "base_uri": "https://localhost:8080/",
     "height": 52
    },
    "executionInfo": {
     "elapsed": 634,
     "status": "ok",
     "timestamp": 1601232396938,
     "user": {
      "displayName": "Pavel Loginov",
      "photoUrl": "https://lh3.googleusercontent.com/a-/AOh14GijsCUyp6qB4lgjTMaUCq5kiewMKnlAi3VFueMK=s64",
      "userId": "11601476103812660410"
     },
     "user_tz": -180
    },
    "id": "FlxoR3dx60FW",
    "outputId": "8175da0e-2867-4f17-9edb-9ec4edd0550f"
   },
   "outputs": [
    {
     "name": "stdout",
     "output_type": "stream",
     "text": [
      "Срабатывает только во время объявления: <function func at 0x7f390bef6840>\n",
      "id F define: 139882990102592\n"
     ]
    }
   ],
   "source": [
    "from datetime import datetime\n",
    "\n",
    "@dec #@decc\n",
    "def func(*args):\n",
    "    print('Func', datetime.now())\n",
    "    for arg in args:\n",
    "        print(arg)\n",
    "    raise Exception('EXCEPTION')"
   ]
  },
  {
   "cell_type": "code",
   "execution_count": null,
   "metadata": {
    "colab": {
     "base_uri": "https://localhost:8080/",
     "height": 301
    },
    "executionInfo": {
     "elapsed": 623,
     "status": "ok",
     "timestamp": 1601232400939,
     "user": {
      "displayName": "Pavel Loginov",
      "photoUrl": "https://lh3.googleusercontent.com/a-/AOh14GijsCUyp6qB4lgjTMaUCq5kiewMKnlAi3VFueMK=s64",
      "userId": "11601476103812660410"
     },
     "user_tz": -180
    },
    "id": "guW62-zB60FZ",
    "outputId": "17c9427f-439e-4ee8-e359-a638e83f0593"
   },
   "outputs": [
    {
     "name": "stdout",
     "output_type": "stream",
     "text": [
      "id F before: 139882990103952\n",
      "id F wrapper: 139882990102592\n",
      "Decorator: (321, 3123, 412)\n",
      "Func 2020-09-27 18:46:40.564330\n",
      "321\n",
      "3123\n",
      "412\n",
      "log: EXCEPTION\n",
      "id F wrapper: 139882990102592\n",
      "Decorator: ('dsf', '12312')\n",
      "Func 2020-09-27 18:46:40.566963\n",
      "dsf\n",
      "12312\n",
      "log: EXCEPTION\n",
      "id F after: 139882990103952\n",
      "id D: 139882990100960\n"
     ]
    }
   ],
   "source": [
    "print('id F before:', id(func))\n",
    "func(321,3123,412)\n",
    "func('dsf','12312')\n",
    "print('id F after:', id(func))\n",
    "print('id D:', id(dec))"
   ]
  },
  {
   "cell_type": "code",
   "execution_count": null,
   "metadata": {
    "id": "lkRW4gzU60Fc"
   },
   "outputs": [],
   "source": [
    "# @staticmethod, @classmethod"
   ]
  },
  {
   "cell_type": "markdown",
   "metadata": {
    "id": "CNpZDwwW60Ff"
   },
   "source": [
    "## Лямбда функции"
   ]
  },
  {
   "cell_type": "markdown",
   "metadata": {
    "id": "e2-qIvLuTqFg"
   },
   "source": [
    "# Исключения"
   ]
  },
  {
   "cell_type": "markdown",
   "metadata": {
    "id": "cq2ZIQiv60EX"
   },
   "source": [
    "# Стандартные библиотеки Python"
   ]
  },
  {
   "cell_type": "markdown",
   "metadata": {
    "id": "ZSDENh-L60EY"
   },
   "source": [
    "json, datetime, os, sys, unittest, re"
   ]
  },
  {
   "cell_type": "code",
   "execution_count": null,
   "metadata": {
    "id": "Jwmx5F3X60EY",
    "outputId": "a0fcaf72-cc7b-4475-98c7-c6f838376bb1"
   },
   "outputs": [
    {
     "name": "stdout",
     "output_type": "stream",
     "text": [
      "{'key1': 1, 'key2': 2, 'key3': {'kkey1': 11, 'kkey2': [32, 423, 432, 4]}}\n",
      "{\n",
      "    \"key1\": 1,\n",
      "    \"key2\": 2,\n",
      "    \"key3\": {\n",
      "        \"kkey1\": 11,\n",
      "        \"kkey2\": [\n",
      "            32,\n",
      "            423,\n",
      "            432,\n",
      "            4\n",
      "        ]\n",
      "    }\n",
      "}\n"
     ]
    }
   ],
   "source": [
    "# json - читаемый вывод\n",
    "dc = {'key1': 1, 'key2': 2, 'key3': {'kkey1': 11, 'kkey2':[32,423,432,4]}}\n",
    "print(dc)\n",
    "\n",
    "import json\n",
    "print(json.dumps(dc, indent=4, sort_keys=True))"
   ]
  },
  {
   "cell_type": "markdown",
   "metadata": {
    "id": "xCCFxjNu60Eh"
   },
   "source": [
    "### 3. Как передаются аргументы в функцию по ссылке или по значению?\n",
    "В python все объекты, есть два вида передачи аргументов:\n",
    "1. Для неизменяемых - call-by-object\n",
    "2. Для изменяемых - call-by-object-reference"
   ]
  },
  {
   "cell_type": "code",
   "execution_count": 1,
   "metadata": {
    "id": "rYJ4Qm5-60Eh"
   },
   "outputs": [],
   "source": [
    "a = 5 # call-by-object\n",
    "ls = [a, 10, 15] # call-by-object-reference"
   ]
  },
  {
   "cell_type": "code",
   "execution_count": 2,
   "metadata": {
    "id": "htegO_JJ60En"
   },
   "outputs": [],
   "source": [
    "def func1(num, lst):\n",
    "    num = 111\n",
    "    lst = list(lst)\n",
    "    lst.append(num)\n",
    "    lst.append(200)\n",
    "    lst[0] = 33\n",
    "    \n",
    "def func2(num, lst):\n",
    "    num = 111\n",
    "    lst.append(num)\n",
    "    lst.append(200)\n",
    "    lst[0] = 33"
   ]
  },
  {
   "cell_type": "code",
   "execution_count": 3,
   "metadata": {
    "id": "IpcxyxtX60Er",
    "outputId": "ca749f3a-1cfb-4093-b7bf-e5c593aa9de7"
   },
   "outputs": [
    {
     "name": "stdout",
     "output_type": "stream",
     "text": [
      "a: 5 \n",
      "ls: [5, 10, 15]\n",
      "call func1\n",
      "a: 5 \n",
      "ls: [5, 10, 15]\n",
      "call func2\n",
      "a: 5 \n",
      "ls: [33, 10, 15, 111, 200]\n"
     ]
    }
   ],
   "source": [
    "print('a:', a, '\\nls:', ls)\n",
    "print('call func1')\n",
    "func1(a, ls)\n",
    "print('a:', a, '\\nls:', ls)\n",
    "print('call func2')\n",
    "func2(a, ls)\n",
    "print('a:', a, '\\nls:', ls)"
   ]
  },
  {
   "cell_type": "markdown",
   "metadata": {
    "id": "l_VUbeCf60Ev"
   },
   "source": [
    "### 4. Есть ли ошибка в функции `is_none`?"
   ]
  },
  {
   "cell_type": "code",
   "execution_count": null,
   "metadata": {
    "id": "2q-lyoms60Ew",
    "outputId": "e6da9fba-d595-45a9-f370-f8db1823ef77"
   },
   "outputs": [
    {
     "name": "stdout",
     "output_type": "stream",
     "text": [
      "True\n",
      "True\n",
      "True\n",
      "\n",
      "True\n",
      "False\n",
      "False\n"
     ]
    }
   ],
   "source": [
    "def is_none(arg):\n",
    "    if arg:\n",
    "        return False\n",
    "    else:\n",
    "        return True\n",
    "        \n",
    "print(is_none(None))\n",
    "print(is_none([])) # isn't None\n",
    "print(is_none(''), end='\\n\\n') # isn't None\n",
    "\n",
    "def is_none_corrected(arg):\n",
    "    if arg is not None:\n",
    "        return False\n",
    "    else:\n",
    "        return True\n",
    "\n",
    "print(is_none_corrected(None))\n",
    "print(is_none_corrected([]))\n",
    "print(is_none_corrected(''))"
   ]
  },
  {
   "cell_type": "markdown",
   "metadata": {
    "id": "g29raZln60Ez"
   },
   "source": [
    "### 5. Отличие `copy.copy()` и `copy.deepcopy()`?\n",
    "`copy` позволяет не просто передавать ссылку на объект, а полность скопировать его.\n",
    "\n",
    "При этом `copy` копирует одномерные вложенности, а `deepcopy` многомерные (рекурсивно), как в примере с `matrix`."
   ]
  },
  {
   "cell_type": "code",
   "execution_count": null,
   "metadata": {
    "id": "ZVY-yl3W60E0",
    "outputId": "5623e6a7-bb51-4077-f11e-130f0220f2ad"
   },
   "outputs": [
    {
     "name": "stdout",
     "output_type": "stream",
     "text": [
      "[[0, 53, 24], 10000000, [3, 3, 6], [[11, 4124, 55], 78, 32]]\n",
      "[[0, 0, 24], 10000000, [3, 3, 6], [[11, 4124, 55], 78, 32]]\n",
      "[[0, 0, 24], 10000000, [3, 3, 6], [[11, 4124, 55], 78, 32]]\n"
     ]
    }
   ],
   "source": [
    "matrix = [[421, 53, 24], 10000000, [3, 3, 6], [[11, 4124, 55], 78, 32]]\n",
    "nm = matrix\n",
    "nm[0][0] = 0\n",
    "# nm изменил matrix\n",
    "print(matrix)\n",
    "\n",
    "import copy\n",
    "nm = copy.copy(matrix)\n",
    "nm[0][1] = 0\n",
    "nm[1] = 0\n",
    "# nm обнулил вложенный список в matrix, но не смог обнулить первую вложенность\n",
    "print(matrix)\n",
    "\n",
    "nm = copy.deepcopy(matrix)\n",
    "nm[3][0][0] = 0\n",
    "nm[2][0] = 0\n",
    "nm[1] = 0\n",
    "# не смог обнулить ни первую, не вторую,третью вложенности -->\n",
    "# nm полностью новый объект не связанный с matrix\n",
    "print(matrix)"
   ]
  },
  {
   "cell_type": "markdown",
   "metadata": {
    "id": "KNW6TM-s60E2"
   },
   "source": [
    "### 6. Что делает метод `id`?\n",
    "* Возвращает адрес объекта в памяти\n",
    "* Уникальный для каждого объекта\n",
    "* При этом несколько переменных могут ссылаться на один объект"
   ]
  },
  {
   "cell_type": "code",
   "execution_count": null,
   "metadata": {
    "id": "sL2ERerF60E3",
    "outputId": "26b7d138-68ba-41eb-9805-21a09467f8e0"
   },
   "outputs": [
    {
     "name": "stdout",
     "output_type": "stream",
     "text": [
      "True\n",
      "False\n"
     ]
    }
   ],
   "source": [
    "a = b = 7\n",
    "print(id(a) == id(b))\n",
    "a = a + 10\n",
    "print(id(a) == id(b))"
   ]
  },
  {
   "cell_type": "markdown",
   "metadata": {
    "id": "5n2VXgJy60E6"
   },
   "source": [
    "### 7. Что выведет программа? (`datetime`, `function def`)\n",
    "Значения по умолчанию присваиваются в момент создания функции, и не меняется (не вызывается каждый раз `now()`)"
   ]
  },
  {
   "cell_type": "code",
   "execution_count": null,
   "metadata": {
    "id": "WCY0CtiK60E7",
    "outputId": "9432d003-5808-4251-e1d3-5ac8a036d733"
   },
   "outputs": [
    {
     "name": "stdout",
     "output_type": "stream",
     "text": [
      "2020-09-22 11:12:18.731084\n",
      "2020-09-22 11:12:18.731084\n",
      "2020-09-22 11:12:18.731084\n"
     ]
    }
   ],
   "source": [
    "import datetime as dt\n",
    "from time import sleep\n",
    "\n",
    "def foo(time=dt.datetime.now()):\n",
    "    sleep(1)\n",
    "    print(time)\n",
    "    \n",
    "foo()    \n",
    "foo()\n",
    "foo()"
   ]
  },
  {
   "cell_type": "markdown",
   "metadata": {
    "id": "vyGk2Y5u60E-"
   },
   "source": [
    "### 8. Что выведет программа? (`default values of funcs`)"
   ]
  },
  {
   "cell_type": "code",
   "execution_count": null,
   "metadata": {
    "id": "km_cfaPx60E-",
    "outputId": "06db82c0-100d-4dba-a3e2-1a39dcd7bb4f"
   },
   "outputs": [
    {
     "name": "stdout",
     "output_type": "stream",
     "text": [
      "[2]\n",
      "[1, 2, 3]\n",
      "[2, 4]\n",
      "[2, 4, 8]\n"
     ]
    }
   ],
   "source": [
    "def foo(x, a=[]):\n",
    "    a.append(x)\n",
    "    print(a)\n",
    "    \n",
    "foo(2)\n",
    "foo(3, [1,2])\n",
    "foo(4)\n",
    "foo(8)"
   ]
  },
  {
   "cell_type": "markdown",
   "metadata": {
    "id": "rqlfEN_W60FC"
   },
   "source": [
    "### 9. Разница `is` и `==`\n",
    "* `is` сравнивает адреса, т.е. по `id`\n",
    "* `==` сравнивает значения"
   ]
  },
  {
   "cell_type": "code",
   "execution_count": null,
   "metadata": {
    "id": "-5Uew17O60FD",
    "outputId": "f5ab716f-cb5d-4e20-9202-0fffc0f59f1b"
   },
   "outputs": [
    {
     "name": "stdout",
     "output_type": "stream",
     "text": [
      "True\n",
      "True\n",
      "\n",
      "False\n",
      "True\n"
     ]
    }
   ],
   "source": [
    "a = b = [1, 2, 3]\n",
    "\n",
    "print(a is b)\n",
    "print(a == b, end='\\n\\n')\n",
    "\n",
    "b = list(a)\n",
    "\n",
    "print(a is b)\n",
    "print(a == b)"
   ]
  },
  {
   "cell_type": "markdown",
   "metadata": {
    "id": "ueKSedQN60FG"
   },
   "source": [
    "### 10. Разница между `function` и `method`."
   ]
  },
  {
   "cell_type": "code",
   "execution_count": null,
   "metadata": {
    "id": "x9J0L8sy60FG",
    "outputId": "6fef257b-c28c-4f48-ddc3-1920b22f1431"
   },
   "outputs": [
    {
     "name": "stdout",
     "output_type": "stream",
     "text": [
      "<class 'function'>\n",
      "<class 'function'>\n",
      "<class 'method'>\n"
     ]
    }
   ],
   "source": [
    "class MyClass:\n",
    "    def class_func(self):\n",
    "        pass\n",
    "\n",
    "def my_function():\n",
    "    pass\n",
    "\n",
    "inst = MyClass()\n",
    "print(type(my_function))\n",
    "print(type(MyClass.class_func))\n",
    "print(type(inst.class_func))"
   ]
  },
  {
   "cell_type": "markdown",
   "metadata": {
    "id": "_IgEt32nVNfn"
   },
   "source": [
    "### 11. Как посмотреть все ключевые слова? (keyword)"
   ]
  },
  {
   "cell_type": "code",
   "execution_count": 4,
   "metadata": {
    "colab": {
     "base_uri": "https://localhost:8080/"
    },
    "executionInfo": {
     "elapsed": 947,
     "status": "ok",
     "timestamp": 1607749597697,
     "user": {
      "displayName": "Pavel Loginov",
      "photoUrl": "https://lh3.googleusercontent.com/a-/AOh14GjVLekLkzkaBLHW95VIlNG2Lo1s6Y4Y35B3Av8l=s64",
      "userId": "11601476103812660410"
     },
     "user_tz": 180
    },
    "id": "3NkyTn7nVYNw",
    "outputId": "411d6221-4f08-44d2-d330-cbef7097b7d3"
   },
   "outputs": [
    {
     "name": "stdout",
     "output_type": "stream",
     "text": [
      "['False', 'None', 'True', 'and', 'as', 'assert', 'break', 'class', 'continue', 'def', 'del', 'elif', 'else', 'except', 'finally', 'for', 'from', 'global', 'if', 'import', 'in', 'is', 'lambda', 'nonlocal', 'not', 'or', 'pass', 'raise', 'return', 'try', 'while', 'with', 'yield']\n",
      "33\n",
      "False\n",
      "True\n"
     ]
    }
   ],
   "source": [
    "import keyword\n",
    "# Список ключевых слов Python\n",
    "print(keyword.kwlist)\n",
    "print(len(keyword.kwlist))\n",
    "\n",
    "# Провека ключевых слов\n",
    "print(keyword.iskeyword('ffrom'))\n",
    "print(keyword.iskeyword('from'))"
   ]
  },
  {
   "cell_type": "markdown",
   "metadata": {
    "id": "7IfAurXv60Fg"
   },
   "source": [
    "# Best practices"
   ]
  },
  {
   "cell_type": "markdown",
   "metadata": {
    "id": "IvPUEmy060Fp"
   },
   "source": [
    "**Объединение словарей.**"
   ]
  },
  {
   "cell_type": "code",
   "execution_count": null,
   "metadata": {
    "colab": {
     "base_uri": "https://localhost:8080/",
     "height": 34
    },
    "executionInfo": {
     "elapsed": 659,
     "status": "ok",
     "timestamp": 1601133342133,
     "user": {
      "displayName": "Pavel Loginov",
      "photoUrl": "https://lh3.googleusercontent.com/a-/AOh14GijsCUyp6qB4lgjTMaUCq5kiewMKnlAi3VFueMK=s64",
      "userId": "11601476103812660410"
     },
     "user_tz": -180
    },
    "id": "DWVtwdLC60Fp",
    "outputId": "a1b708ec-c7f0-4a23-c17e-c2ff648e7079"
   },
   "outputs": [
    {
     "data": {
      "text/plain": [
       "{'hey4': 4, 'key1': 7, 'key2': 2, 'key3': 3}"
      ]
     },
     "execution_count": 16,
     "metadata": {
      "tags": []
     },
     "output_type": "execute_result"
    }
   ],
   "source": [
    "# Объединить два словаря\n",
    "d1 = {'key1': 1, 'key2': 2}\n",
    "d2 = {'key3': 3, 'hey4': 4, 'key1': 7}\n",
    "d1 = {**d1, **d2} # overriding depends on order here\n",
    "d1"
   ]
  },
  {
   "cell_type": "markdown",
   "metadata": {
    "id": "YmM4MQ-K60Ft"
   },
   "source": [
    "**Итерация по строкам файла.**"
   ]
  },
  {
   "cell_type": "code",
   "execution_count": null,
   "metadata": {
    "id": "yzSUdEPR60Fu"
   },
   "outputs": [],
   "source": [
    "for line in open('file.txt', 'r'):\n",
    "    print(line)"
   ]
  },
  {
   "cell_type": "markdown",
   "metadata": {
    "id": "OFI5xh_e60Fh"
   },
   "source": [
    "###  Операции с листом"
   ]
  },
  {
   "cell_type": "code",
   "execution_count": null,
   "metadata": {
    "colab": {
     "base_uri": "https://localhost:8080/",
     "height": 34
    },
    "executionInfo": {
     "elapsed": 604,
     "status": "ok",
     "timestamp": 1601133263832,
     "user": {
      "displayName": "Pavel Loginov",
      "photoUrl": "https://lh3.googleusercontent.com/a-/AOh14GijsCUyp6qB4lgjTMaUCq5kiewMKnlAi3VFueMK=s64",
      "userId": "11601476103812660410"
     },
     "user_tz": -180
    },
    "id": "G8yRLtRS60Fi",
    "outputId": "59c0d69b-ce02-4329-cc68-3baea8b57db7"
   },
   "outputs": [
    {
     "name": "stdout",
     "output_type": "stream",
     "text": [
      "[]\n"
     ]
    }
   ],
   "source": [
    "# Удаление всех элементов листа\n",
    "ex_list = [42,463,36,3,636,36]\n",
    "del ex_list[:]\n",
    "print(ex_list)"
   ]
  },
  {
   "cell_type": "code",
   "execution_count": null,
   "metadata": {
    "colab": {
     "base_uri": "https://localhost:8080/",
     "height": 52
    },
    "executionInfo": {
     "elapsed": 674,
     "status": "ok",
     "timestamp": 1601133318713,
     "user": {
      "displayName": "Pavel Loginov",
      "photoUrl": "https://lh3.googleusercontent.com/a-/AOh14GijsCUyp6qB4lgjTMaUCq5kiewMKnlAi3VFueMK=s64",
      "userId": "11601476103812660410"
     },
     "user_tz": -180
    },
    "id": "La8apw7Y60Fm",
    "outputId": "38f19e97-7ea9-4220-a1c1-c74a5f0379f1"
   },
   "outputs": [
    {
     "name": "stdout",
     "output_type": "stream",
     "text": [
      "140188136566856 [42, 463, 36, 3, 636, 36]\n",
      "140187995851080 [42, 463, 36, 3, 636, 36]\n"
     ]
    }
   ],
   "source": [
    "# Создание новой копии листа (нового объекта)\n",
    "ex_list = [42,463,36,3,636,36]\n",
    "new_list =  ex_list[:]\n",
    "print(id(ex_list), ex_list)\n",
    "print(id(new_list), new_list)"
   ]
  },
  {
   "cell_type": "markdown",
   "metadata": {
    "id": "V4FBk63Uy8nk"
   },
   "source": [
    "**Упаковка/распаковка кортежей** (zip)"
   ]
  },
  {
   "cell_type": "code",
   "execution_count": null,
   "metadata": {
    "colab": {
     "base_uri": "https://localhost:8080/",
     "height": 52
    },
    "executionInfo": {
     "elapsed": 697,
     "status": "ok",
     "timestamp": 1601147467513,
     "user": {
      "displayName": "Pavel Loginov",
      "photoUrl": "https://lh3.googleusercontent.com/a-/AOh14GijsCUyp6qB4lgjTMaUCq5kiewMKnlAi3VFueMK=s64",
      "userId": "11601476103812660410"
     },
     "user_tz": -180
    },
    "id": "7l3OrptFy1SC",
    "outputId": "386c4aca-eca3-4b5a-a87c-d2db4ba05875"
   },
   "outputs": [
    {
     "name": "stdout",
     "output_type": "stream",
     "text": [
      "[(1, 'A'), (2, 'B'), (3, 'C'), (4, 'D'), (5, 'E')]\n",
      "(1, 2, 3, 4, 5) ('A', 'B', 'C', 'D', 'E')\n"
     ]
    }
   ],
   "source": [
    "A = [1, 2, 3, 4, 5]\n",
    "B = ['A', 'B', 'C', 'D', 'E']\n",
    "# Упаковка\n",
    "print(list(zip(A,B)))\n",
    "Z = zip(A,B)\n",
    "\n",
    "# Распаковка\n",
    "AA, BB = zip(*Z)\n",
    "print(AA, BB)"
   ]
  }
 ],
 "metadata": {
  "colab": {
   "collapsed_sections": [
    "dzgmtwYR60DM",
    "jtcpOlA460DP",
    "cFqPxZt360DW",
    "PRNobqjd60Da",
    "78MMiJ_D60Df",
    "2UcN2EEc60Dk",
    "1KkIFWgb60Du",
    "RXDe1Mby60Dy",
    "EtPfObnp60D4",
    "frmzfQcE60EC",
    "IMCHaWV060EK",
    "IxI1TUAE60EL",
    "ZlmtgHsB60EP",
    "3d4a4yfM7lcU",
    "pJp4PIzP7xdi",
    "vU0adOXV8O8Y",
    "2amQeTcs60FJ",
    "H7C3xMFAU1bo",
    "gS-Zckv_WNgs",
    "d4VWU1hXWOXv",
    "u-RAIQbxWPDp",
    "tLWgkD5MfBgN",
    "N6sr97eif59p",
    "Xcl81nLhjZgR",
    "VYu9rTeVkPZs",
    "yrlxuKP-kgGf",
    "qNL9dtQemJNm",
    "KIBC7GwGmc40",
    "2oFuA4Nam3CP",
    "CaMGXC6XpoK_",
    "J5Kboa4Qpp2V",
    "_Av9G29HqPGl",
    "tG-HJABkrMPV",
    "JWLxwsV5rqeW",
    "zGP3CQD7r9Dc",
    "4jyNZG1QsQUJ",
    "r5Xn_-rOtKuW",
    "9eAZpel8tr-P",
    "uGHWLLVg60FN",
    "CNpZDwwW60Ff",
    "cq2ZIQiv60EX",
    "whIKtbIS60Ec",
    "BpK8DE1Q60Ec",
    "xCCFxjNu60Eh",
    "l_VUbeCf60Ev",
    "g29raZln60Ez",
    "KNW6TM-s60E2",
    "5n2VXgJy60E6",
    "vyGk2Y5u60E-",
    "rqlfEN_W60FC",
    "ueKSedQN60FG",
    "_IgEt32nVNfn",
    "7IfAurXv60Fg"
   ],
   "name": "python-theory-questions.ipynb",
   "provenance": []
  },
  "kernelspec": {
   "display_name": "Python 3",
   "language": "python",
   "name": "python3"
  },
  "language_info": {
   "codemirror_mode": {
    "name": "ipython",
    "version": 3
   },
   "file_extension": ".py",
   "mimetype": "text/x-python",
   "name": "python",
   "nbconvert_exporter": "python",
   "pygments_lexer": "ipython3",
   "version": "3.10.6"
  },
  "vscode": {
   "interpreter": {
    "hash": "97cc609b13305c559618ec78a438abc56230b9381f827f22d070313b9a1f3777"
   }
  }
 },
 "nbformat": 4,
 "nbformat_minor": 1
}
