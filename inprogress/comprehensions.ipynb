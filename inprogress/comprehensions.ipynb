{
 "cells": [
  {
   "cell_type": "markdown",
   "metadata": {},
   "source": [
    "# List comprehension"
   ]
  },
  {
   "cell_type": "markdown",
   "metadata": {},
   "source": [
    "List comprehension — это способ компактного описания операций обработки списков."
   ]
  },
  {
   "cell_type": "markdown",
   "metadata": {},
   "source": [
    "Давайте сначала рассмотрим способы заполнения списков."
   ]
  },
  {
   "cell_type": "code",
   "execution_count": 8,
   "metadata": {},
   "outputs": [
    {
     "name": "stdout",
     "output_type": "stream",
     "text": [
      "[0, 1, 4, 9, 16, 25, 36, 49, 64, 81]\n"
     ]
    }
   ],
   "source": [
    "\"\"\"Заполнение списка циклом `for`.\"\"\"\n",
    "\n",
    "squares = []\n",
    "for x in range(10):\n",
    "    squares.append(x**2)\n",
    "    \n",
    "print(squares)"
   ]
  },
  {
   "cell_type": "code",
   "execution_count": 13,
   "metadata": {},
   "outputs": [
    {
     "name": "stdout",
     "output_type": "stream",
     "text": [
      "[0, 2, 4, 6, 8, 10, 12, 14, 16, 18]\n"
     ]
    }
   ],
   "source": [
    "\"\"\"Заполнение списка с помощью функции `map`.\"\"\"\n",
    "\n",
    "squares_map = map(lambda x: x * 2, range(10))\n",
    "squares = list(squares_map)\n",
    "\n",
    "print(squares)"
   ]
  },
  {
   "cell_type": "code",
   "execution_count": 14,
   "metadata": {},
   "outputs": [
    {
     "name": "stdout",
     "output_type": "stream",
     "text": [
      "[0, 1, 4, 9, 16, 25, 36, 49, 64, 81]\n"
     ]
    }
   ],
   "source": [
    "\"\"\"Заполнение списка, используя list Comprehensions.\"\"\"\n",
    "squares = [x ** 2 for x in range(10)]\n",
    "\n",
    "print(squares)"
   ]
  },
  {
   "cell_type": "markdown",
   "metadata": {},
   "source": [
    "## Использование условной логики.\n",
    "\n",
    "Условные выражения позволяют отфильтровывать нежелательные значения, без вызова `filter()`.\n",
    "\n",
    "Так выглядит шаблон создания условного list comprehension:\n",
    "    \n",
    "`new_list = [expression for member in iterable (if conditional)]`\n",
    "\n",
    "В `conditional` можно поместить логические выражения или функции, которые возвращают булевые значения.\n",
    "\n",
    "Рассмотрим пример, где отбираются только прописные буквы строки:"
   ]
  },
  {
   "cell_type": "code",
   "execution_count": 16,
   "metadata": {},
   "outputs": [
    {
     "name": "stdout",
     "output_type": "stream",
     "text": [
      "['E', 'A', 'I', 'E', 'N', 'E']\n"
     ]
    }
   ],
   "source": [
    "\"\"\"Использование метода перебираемого значения в условии.\"\"\"\n",
    "\n",
    "expr = 'bEAuty lIvEs with kiNdnEss.'\n",
    "caps = [ch for ch in expr if ch.isupper()]\n",
    "\n",
    "print(caps)"
   ]
  },
  {
   "cell_type": "markdown",
   "metadata": {},
   "source": [
    "Пример отбора только четный значений:"
   ]
  },
  {
   "cell_type": "code",
   "execution_count": 17,
   "metadata": {},
   "outputs": [
    {
     "name": "stdout",
     "output_type": "stream",
     "text": [
      "[0, 2, 4, 6, 8, 10, 12, 14, 16, 18, 20, 22, 24]\n"
     ]
    }
   ],
   "source": [
    "\"\"\"Использование условия для фильтрации.\"\"\"\n",
    "\n",
    "evens = [x for x in range(25) if x % 2 == 0]\n",
    "\n",
    "print(evens)"
   ]
  },
  {
   "cell_type": "code",
   "execution_count": 20,
   "metadata": {},
   "outputs": [
    {
     "name": "stdout",
     "output_type": "stream",
     "text": [
      "[1, 2, 4, 5, 7, 8, 10]\n"
     ]
    }
   ],
   "source": [
    "\"\"\"Использование дополнительной функции для фильтрации.\"\"\"\n",
    "\n",
    "def isremainder(a, b):\n",
    "    if a / b != a // b:\n",
    "        return True\n",
    "    return False\n",
    "\n",
    "nums = [x for x in range(11) if isremainder(x, 3)]\n",
    "\n",
    "print(nums)"
   ]
  },
  {
   "cell_type": "markdown",
   "metadata": {},
   "source": [
    "**Изменить значение элемента вместо его фильтрации.**\n",
    "\n",
    "В этом случае следует поместить условное выражение в начале выражения.\n",
    "\n",
    "`new_list = [expression (if conditional) for member in iterable]`"
   ]
  },
  {
   "cell_type": "code",
   "execution_count": 28,
   "metadata": {},
   "outputs": [
    {
     "name": "stdout",
     "output_type": "stream",
     "text": [
      "[0, 0, 0, 0, 0, 0, 0, 0, 0, 0, 10, 0, 0, 0, 0, 0, 0, 0, 0, 0, 20, 0, 0, 0, 0, 0, 0, 0, 0, 0, 30, 0, 0, 0, 0, 0, 0, 0, 0, 0, 40, 0, 0, 0, 0, 0, 0, 0, 0, 0]\n"
     ]
    }
   ],
   "source": [
    "\"\"\"Использование `else` для задания значения по-умолчанию.\"\"\"\n",
    "\n",
    "nums = [x if x % 10 == 0 else 0 for x in range(50)]\n",
    "\n",
    "print(nums)"
   ]
  },
  {
   "cell_type": "code",
   "execution_count": null,
   "metadata": {},
   "outputs": [],
   "source": [
    "С значением, которое отправляется в список, можно производить операции."
   ]
  },
  {
   "cell_type": "code",
   "execution_count": 30,
   "metadata": {},
   "outputs": [
    {
     "name": "stdout",
     "output_type": "stream",
     "text": [
      "[0, 0, 2, 4, 8, 12, 18, 24, 32, 40, 50, 60, 72, 84, 98]\n"
     ]
    }
   ],
   "source": [
    "\"\"\"Произведение операций со значением, перед записью.\"\"\"\n",
    "\n",
    "nums = [pow(x, 2) // 2 for x in range(15)]\n",
    "\n",
    "print(nums)"
   ]
  },
  {
   "cell_type": "markdown",
   "metadata": {},
   "source": [
    "# Set сomprehension\n",
    "\n",
    "Set сomprehension создает `set`, т.е. в нем останутся только уникальные значнеия. Сама логика написания ....!!!!!!!!!!!!!"
   ]
  },
  {
   "cell_type": "code",
   "execution_count": 33,
   "metadata": {},
   "outputs": [
    {
     "name": "stdout",
     "output_type": "stream",
     "text": [
      "{0, 40, 10, 20, 30} <class 'set'>\n"
     ]
    }
   ],
   "source": [
    "\"\"\"Использование `else` для задания значения по-умолчанию.\"\"\"\n",
    "\n",
    "nums = {x if x % 10 == 0 else 0 for x in range(50)}\n",
    "\n",
    "print(nums, type(nums))"
   ]
  },
  {
   "cell_type": "markdown",
   "metadata": {},
   "source": [
    "# Dictionary сomprehension"
   ]
  },
  {
   "cell_type": "code",
   "execution_count": 34,
   "metadata": {},
   "outputs": [
    {
     "name": "stdout",
     "output_type": "stream",
     "text": [
      "{0: 0, 1: 1, 2: 4, 3: 9, 4: 16, 5: 25, 6: 36, 7: 49, 8: 64, 9: 81}\n"
     ]
    }
   ],
   "source": [
    "squares = {i: i * i for i in range(10)}\n",
    "\n",
    "print(squares)"
   ]
  },
  {
   "cell_type": "markdown",
   "metadata": {},
   "source": [
    "# Warlus"
   ]
  },
  {
   "cell_type": "code",
   "execution_count": 35,
   "metadata": {},
   "outputs": [
    {
     "ename": "SyntaxError",
     "evalue": "invalid syntax (<ipython-input-35-8b3462e7ea07>, line 6)",
     "output_type": "error",
     "traceback": [
      "\u001b[1;36m  File \u001b[1;32m\"<ipython-input-35-8b3462e7ea07>\"\u001b[1;36m, line \u001b[1;32m6\u001b[0m\n\u001b[1;33m    hot_temps = [temp for _ in range(20) if (temp := get_weather_data()) >= 100]\u001b[0m\n\u001b[1;37m                                                  ^\u001b[0m\n\u001b[1;31mSyntaxError\u001b[0m\u001b[1;31m:\u001b[0m invalid syntax\n"
     ]
    }
   ],
   "source": [
    "\"\"\"ONLY PYTHON 3.8 +\"\"\"\n",
    "import random\n",
    "\n",
    "def get_weather_data():\n",
    "    return random.randrange(90, 110)\n",
    "\n",
    "hot_temps = [temp for _ in range(20) if (temp := get_weather_data()) >= 100]\n",
    "\n",
    "print(hot_temps)"
   ]
  },
  {
   "cell_type": "markdown",
   "metadata": {},
   "source": [
    "## Вложенные comprehensions\n",
    "\n",
    "Comprehensions могут быть вложенными при создания комбинаций списков, словарей и наборов в коллекции."
   ]
  },
  {
   "cell_type": "code",
   "execution_count": 36,
   "metadata": {},
   "outputs": [
    {
     "name": "stdout",
     "output_type": "stream",
     "text": [
      "{'Austin': [0, 0, 0, 0, 0, 0, 0], 'Tacoma': [0, 0, 0, 0, 0, 0, 0], 'Topeka': [0, 0, 0, 0, 0, 0, 0], 'Sacramento': [0, 0, 0, 0, 0, 0, 0], 'Charlotte': [0, 0, 0, 0, 0, 0, 0]}\n"
     ]
    }
   ],
   "source": [
    "cities = ['Austin', 'Tacoma', 'Topeka', 'Sacramento', 'Charlotte']\n",
    "temps = {city: [0 for _ in range(7)] for city in cities}\n",
    "\n",
    "print(temps)"
   ]
  },
  {
   "cell_type": "markdown",
   "metadata": {},
   "source": [
    "Вложенные списки являются распространенным способом создания матриц, которые часто используются в математических целях."
   ]
  },
  {
   "cell_type": "code",
   "execution_count": 37,
   "metadata": {},
   "outputs": [
    {
     "name": "stdout",
     "output_type": "stream",
     "text": [
      "[[0, 1, 2, 3, 4], [0, 1, 2, 3, 4], [0, 1, 2, 3, 4], [0, 1, 2, 3, 4], [0, 1, 2, 3, 4], [0, 1, 2, 3, 4]]\n"
     ]
    }
   ],
   "source": [
    "matrix = [[i for i in range(5)] for _ in range(6)]\n",
    "\n",
    "print(matrix)"
   ]
  },
  {
   "cell_type": "markdown",
   "metadata": {},
   "source": [
    "Внешнее представление списка `[… for _ in range(6)]` создает шесть строк, в то время как внутреннее представление списка `[i for i in range(5)]` заполняет каждую из этих строк значениями."
   ]
  },
  {
   "cell_type": "code",
   "execution_count": 39,
   "metadata": {},
   "outputs": [
    {
     "name": "stdout",
     "output_type": "stream",
     "text": [
      "[0, 0, 0, 1, 1, 1, 2, 2, 2]\n"
     ]
    }
   ],
   "source": [
    "matrix = [\n",
    "    [0, 0, 0],\n",
    "    [1, 1, 1],\n",
    "    [2, 2, 2],\n",
    "]\n",
    "\n",
    "flat = [num for row in matrix for num in row]\n",
    "\n",
    "print(flat)"
   ]
  },
  {
   "cell_type": "markdown",
   "metadata": {},
   "source": [
    "## Генераторы"
   ]
  },
  {
   "cell_type": "markdown",
   "metadata": {},
   "source": [
    "Представление списков в Python работает путем загрузки всего списка в память.\n",
    "\n",
    "Когда размер списка становится проблематичным, часто полезно использовать генератор вместо list comprehension. Генератор не создает единую большую структуру данных в памяти, а вместо этого возвращает итерацию."
   ]
  },
  {
   "cell_type": "code",
   "execution_count": null,
   "metadata": {},
   "outputs": [],
   "source": [
    "gen = (x for x in range(10 ** 100))\n",
    "\n",
    "print(type(gen))\n",
    "print(next(gen))\n",
    "print(next(gen))\n",
    "print(next(gen))"
   ]
  },
  {
   "cell_type": "code",
   "execution_count": null,
   "metadata": {},
   "outputs": [],
   "source": [
    "# Долго выполняется, но не засоряет память (map() также работает)\n",
    "gen = sum(x for x in range(100000000))\n",
    "print(gen)"
   ]
  },
  {
   "cell_type": "markdown",
   "metadata": {},
   "source": [
    "### Скорость\n",
    "\n",
    "* `map` — быстро\n",
    "* `comperhension` — на 35 % медленее `map`\n",
    "* `loop` — на 50 % медленее map"
   ]
  },
  {
   "cell_type": "code",
   "execution_count": null,
   "metadata": {},
   "outputs": [],
   "source": []
  },
  {
   "cell_type": "code",
   "execution_count": null,
   "metadata": {},
   "outputs": [],
   "source": []
  },
  {
   "cell_type": "markdown",
   "metadata": {},
   "source": [
    "## Преимущества использования Comprehensions\n",
    "\n",
    "* Считается как Pythonic way.\n",
    "* Можно использовать в самых разных ситуациях.\n",
    "* Не нужно запоминать правильный порядок аргументов, как при вызове map().\n",
    "* Их легче читать и понимать (в случае их компактности).\n",
    "* Использование условной логики.\n",
    "\n",
    "Но он не всегда является правильным выбором. Он может заставить ваш код работать медленнее или использовать больше памяти. В таких случаях лучше выбрать альтернативу."
   ]
  },
  {
   "cell_type": "code",
   "execution_count": null,
   "metadata": {},
   "outputs": [],
   "source": []
  },
  {
   "cell_type": "code",
   "execution_count": null,
   "metadata": {},
   "outputs": [],
   "source": []
  },
  {
   "cell_type": "code",
   "execution_count": null,
   "metadata": {},
   "outputs": [],
   "source": []
  },
  {
   "cell_type": "code",
   "execution_count": null,
   "metadata": {},
   "outputs": [],
   "source": []
  },
  {
   "cell_type": "code",
   "execution_count": null,
   "metadata": {},
   "outputs": [],
   "source": []
  },
  {
   "cell_type": "code",
   "execution_count": null,
   "metadata": {},
   "outputs": [],
   "source": []
  },
  {
   "cell_type": "code",
   "execution_count": null,
   "metadata": {},
   "outputs": [],
   "source": [
    "Источники:\n",
    "    https://webdevblog.ru/kogda-ispolzovat-list-comprehension-v-python/\n",
    "        "
   ]
  }
 ],
 "metadata": {
  "kernelspec": {
   "display_name": "Python 3",
   "language": "python",
   "name": "python3"
  },
  "language_info": {
   "codemirror_mode": {
    "name": "ipython",
    "version": 3
   },
   "file_extension": ".py",
   "mimetype": "text/x-python",
   "name": "python",
   "nbconvert_exporter": "python",
   "pygments_lexer": "ipython3",
   "version": "3.6.8"
  }
 },
 "nbformat": 4,
 "nbformat_minor": 4
}
