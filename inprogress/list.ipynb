{
 "cells": [
  {
   "cell_type": "markdown",
   "metadata": {},
   "source": [
    "# Списки (list)"
   ]
  },
  {
   "cell_type": "markdown",
   "metadata": {},
   "source": [
    "## Описание\n",
    "\n",
    "Списки - упорядоченные изменяемые коллекции объектов произвольных типов."
   ]
  },
  {
   "cell_type": "markdown",
   "metadata": {},
   "source": [
    "## Создание списков\n",
    "\n",
    "Способы:\n",
    "* литералы `[ ]` \n",
    "* конструктор `list(iterable)`\n",
    "* генератор списков (list comprehansion) `[выражение]`"
   ]
  },
  {
   "cell_type": "code",
   "execution_count": 6,
   "metadata": {},
   "outputs": [
    {
     "name": "stdout",
     "output_type": "stream",
     "text": [
      "[1, 2, 3]\n",
      "['R', 'a', 'b', 'b', 'i', 't']\n",
      "['R', 'a', 'i', 't']\n"
     ]
    }
   ],
   "source": [
    "# Простые примеры\n",
    "seq = [1, 2, 3]\n",
    "print(seq)\n",
    "\n",
    "seq = list('Rabbit')\n",
    "print(seq)\n",
    "\n",
    "seq = [x for x in 'Rabbit' if x != 'b']\n",
    "print(seq)"
   ]
  },
  {
   "cell_type": "markdown",
   "metadata": {},
   "source": [
    "## Методы\n",
    "\n",
    "Списки являются изменяемыми, поэтому методы списка не возвращают новый список, методы изменяют имеющийся. "
   ]
  },
  {
   "cell_type": "markdown",
   "metadata": {},
   "source": [
    "|Метод|Что делает|\n",
    "|-----|:---------|\n",
    "|list.append(x)|\tДобавляет элемент в конец списка|\n",
    "|list.extend(L)|\tРасширяет список list, добавляя в конец все элементы списка L|\n",
    "|list.insert(i, x)|\tВставляет на i-ый элемент значение x|\n",
    "|list.remove(x)|\tУдаляет первый элемент в списке, имеющий значение x. ValueError, если такого элемента не существует|\n",
    "|list.pop([i])|\tУдаляет i-ый элемент и возвращает его. Если индекс не указан, удаляется последний элемент|\n",
    "|list.index(x, [start [, end]])|\tВозвращает положение первого элемента со значением x (при этом поиск ведется от start до end)|\n",
    "|list.count(x)|\tВозвращает количество элементов со значением x|\n",
    "|list.sort([key=функция])|\tСортирует список на основе функции|\n",
    "|list.reverse()|\tРазворачивает список|\n",
    "|list.copy()|\tПоверхностная копия списка|\n",
    "|list.clear()|\tОчищает список|"
   ]
  },
  {
   "cell_type": "code",
   "execution_count": 2,
   "metadata": {},
   "outputs": [
    {
     "name": "stdout",
     "output_type": "stream",
     "text": [
      "[-7, 31, 27, 976, -10231, 15, -22, 74]\n",
      "[-10231, -22, -7, 15, 27, 31, 74, 976]\n"
     ]
    }
   ],
   "source": [
    "# sort\n",
    "seq = [-7, 31, 27, 976, -10231, 15, -22, 74]\n",
    "print(seq)\n",
    "\n",
    "seq.sort()\n",
    "print(seq)"
   ]
  },
  {
   "cell_type": "code",
   "execution_count": 3,
   "metadata": {},
   "outputs": [
    {
     "name": "stdout",
     "output_type": "stream",
     "text": [
      "['Russia', 'China', 'Japan', 'USA']\n",
      "['Russia', 'China', 'USA']\n"
     ]
    }
   ],
   "source": [
    "# remove\n",
    "seq = ['Russia', 'China', 'Japan', 'USA']\n",
    "print(seq)\n",
    "\n",
    "seq.remove('Japan')\n",
    "print(seq)"
   ]
  },
  {
   "cell_type": "code",
   "execution_count": 4,
   "metadata": {},
   "outputs": [
    {
     "name": "stdout",
     "output_type": "stream",
     "text": [
      "['Russia', 'China', 'Japan', 'USA']\n",
      "['Russia', 'China', 'Japan', 'Great Britain', 'USA']\n"
     ]
    }
   ],
   "source": [
    "# insert\n",
    "seq = ['Russia', 'China', 'Japan', 'USA']\n",
    "print(seq)\n",
    "\n",
    "seq.insert(3, 'Great Britain')\n",
    "print(seq)"
   ]
  },
  {
   "cell_type": "markdown",
   "metadata": {},
   "source": [
    "# Кортежи (tuple)"
   ]
  },
  {
   "cell_type": "markdown",
   "metadata": {},
   "source": [
    "## Описание\n",
    "\n",
    "Кортеж - это неизменяемый список.\n",
    "\n",
    "Отличии кортежа от списка:\n",
    "\n",
    " 1. Не изменяется. После создания нельзя не добавить, не убрать, не изменить элемент кортежа.\n",
    " 2. Кортеж использует меньше памяти для хранения данных.\n",
    " 3. Может выступать в качестве ключей словаря, т.к. неизменяемый."
   ]
  },
  {
   "cell_type": "markdown",
   "metadata": {},
   "source": [
    "## Создание\n",
    "\n",
    "Способы:\n",
    "* литералы `(el, ...)` \n",
    "* конструктор `tuple(iterable)`"
   ]
  },
  {
   "cell_type": "code",
   "execution_count": 5,
   "metadata": {},
   "outputs": [
    {
     "name": "stdout",
     "output_type": "stream",
     "text": [
      "('list', 'tuple', 'set', 'dict')\n",
      "('list', 'tuple', 'set', 'dict')\n"
     ]
    }
   ],
   "source": [
    "# Примеры создания\n",
    "tup = ('list', 'tuple', 'set', 'dict')\n",
    "print(tup)\n",
    "\n",
    "tup = tuple(['list', 'tuple', 'set', 'dict'])\n",
    "print(tup)"
   ]
  },
  {
   "cell_type": "markdown",
   "metadata": {},
   "source": [
    "Справедливо будет сказать, что для создание кортежа необходимо три литерала: две скобки и запятая.\n",
    "\n",
    "Особенность создания кортежа из одного элемента (без запятой):"
   ]
  },
  {
   "cell_type": "code",
   "execution_count": 9,
   "metadata": {},
   "outputs": [
    {
     "name": "stdout",
     "output_type": "stream",
     "text": [
      "<class 'str'> a\n",
      "<class 'tuple'> ('b',)\n",
      "<class 'tuple'> ('c',)\n",
      "<class 'tuple'> ('d',)\n"
     ]
    }
   ],
   "source": [
    "t = ('a') # записывает в переменную строку\n",
    "print(type(t), t)\n",
    "\n",
    "t = ('b',)  # создает кортеж\n",
    "print(type(t), t)\n",
    "\n",
    "t = tuple('c') # создает кортеж\n",
    "print(type(t), t)\n",
    "\n",
    "# или (не рекомендуется)\n",
    "t = 'd',  # создает кортеж\n",
    "print(type(t), t)"
   ]
  },
  {
   "cell_type": "markdown",
   "metadata": {},
   "source": [
    "**Примеры отличий от списка**"
   ]
  },
  {
   "cell_type": "code",
   "execution_count": 12,
   "metadata": {},
   "outputs": [
    {
     "name": "stdout",
     "output_type": "stream",
     "text": [
      "['int', 'float', 'Fraction']\n"
     ]
    },
    {
     "ename": "TypeError",
     "evalue": "'tuple' object does not support item assignment",
     "output_type": "error",
     "traceback": [
      "\u001b[1;31m---------------------------------------------------------------------------\u001b[0m",
      "\u001b[1;31mTypeError\u001b[0m                                 Traceback (most recent call last)",
      "\u001b[1;32m<ipython-input-12-601dd9c06733>\u001b[0m in \u001b[0;36m<module>\u001b[1;34m\u001b[0m\n\u001b[0;32m      5\u001b[0m \u001b[0mlst\u001b[0m\u001b[1;33m[\u001b[0m\u001b[1;36m2\u001b[0m\u001b[1;33m]\u001b[0m \u001b[1;33m=\u001b[0m \u001b[1;34m'Fraction'\u001b[0m\u001b[1;33m\u001b[0m\u001b[1;33m\u001b[0m\u001b[0m\n\u001b[0;32m      6\u001b[0m \u001b[0mprint\u001b[0m\u001b[1;33m(\u001b[0m\u001b[0mlst\u001b[0m\u001b[1;33m)\u001b[0m\u001b[1;33m\u001b[0m\u001b[1;33m\u001b[0m\u001b[0m\n\u001b[1;32m----> 7\u001b[1;33m \u001b[0mtup\u001b[0m\u001b[1;33m[\u001b[0m\u001b[1;36m2\u001b[0m\u001b[1;33m]\u001b[0m \u001b[1;33m=\u001b[0m \u001b[1;34m'Fraction'\u001b[0m \u001b[1;31m# --> error\u001b[0m\u001b[1;33m\u001b[0m\u001b[1;33m\u001b[0m\u001b[0m\n\u001b[0m",
      "\u001b[1;31mTypeError\u001b[0m: 'tuple' object does not support item assignment"
     ]
    }
   ],
   "source": [
    "# 1\n",
    "lst = ['int', 'float', 'Decimal']\n",
    "tup = tuple(['int', 'float', 'Decimal'])\n",
    "\n",
    "lst[2] = 'Fraction'\n",
    "print(lst)\n",
    "\n",
    "tup[2] = 'Fraction' # --> error"
   ]
  },
  {
   "cell_type": "code",
   "execution_count": 13,
   "metadata": {},
   "outputs": [
    {
     "name": "stdout",
     "output_type": "stream",
     "text": [
      "Tuple требует меньше места для хранения данных:\n",
      "list:  64\n",
      "tuple:  48\n"
     ]
    }
   ],
   "source": [
    "# 2\n",
    "lst = ['int', 'float', 'Decimal']\n",
    "tup = tuple(['int', 'float', 'Decimal'])\n",
    "\n",
    "print('Tuple требует меньше места для хранения данных:')\n",
    "print('list: ', lst.__sizeof__())\n",
    "print('tuple: ', tup.__sizeof__())"
   ]
  },
  {
   "cell_type": "code",
   "execution_count": 15,
   "metadata": {},
   "outputs": [
    {
     "ename": "TypeError",
     "evalue": "unhashable type: 'list'",
     "output_type": "error",
     "traceback": [
      "\u001b[1;31m---------------------------------------------------------------------------\u001b[0m",
      "\u001b[1;31mTypeError\u001b[0m                                 Traceback (most recent call last)",
      "\u001b[1;32m<ipython-input-15-2010811bbb91>\u001b[0m in \u001b[0;36m<module>\u001b[1;34m\u001b[0m\n\u001b[0;32m      9\u001b[0m \u001b[0mimmut\u001b[0m \u001b[1;33m=\u001b[0m \u001b[1;33m[\u001b[0m\u001b[1;34m'tuple'\u001b[0m\u001b[1;33m,\u001b[0m \u001b[1;34m'int'\u001b[0m\u001b[1;33m,\u001b[0m \u001b[1;34m'float'\u001b[0m\u001b[1;33m,\u001b[0m \u001b[1;34m'str'\u001b[0m\u001b[1;33m,\u001b[0m \u001b[1;34m'bool'\u001b[0m\u001b[1;33m]\u001b[0m\u001b[1;33m\u001b[0m\u001b[1;33m\u001b[0m\u001b[0m\n\u001b[0;32m     10\u001b[0m \u001b[1;33m\u001b[0m\u001b[0m\n\u001b[1;32m---> 11\u001b[1;33m \u001b[0md\u001b[0m \u001b[1;33m=\u001b[0m \u001b[1;33m{\u001b[0m\u001b[0mmut\u001b[0m\u001b[1;33m:\u001b[0m \u001b[1;34m'Изменяемые типы'\u001b[0m\u001b[1;33m,\u001b[0m \u001b[0mimmut\u001b[0m\u001b[1;33m:\u001b[0m \u001b[1;34m'Неизменяемые типы'\u001b[0m\u001b[1;33m}\u001b[0m \u001b[1;31m# --> error\u001b[0m\u001b[1;33m\u001b[0m\u001b[1;33m\u001b[0m\u001b[0m\n\u001b[0m",
      "\u001b[1;31mTypeError\u001b[0m: unhashable type: 'list'"
     ]
    }
   ],
   "source": [
    "# 3\n",
    "mut = ('list', 'dict', 'set', 'bytearray')\n",
    "immut = ('tuple', 'int', 'float', 'str', 'bool')\n",
    "\n",
    "d = {mut: 'Изменяемые типы', immut: 'Неизменяемые типы'}\n",
    "\n",
    "\n",
    "mut = ['list', 'dict', 'set', 'bytearray']\n",
    "immut = ['tuple', 'int', 'float', 'str', 'bool']\n",
    "\n",
    "d = {mut: 'Изменяемые типы', immut: 'Неизменяемые типы'} # --> error"
   ]
  },
  {
   "cell_type": "markdown",
   "metadata": {},
   "source": [
    "## Методы\n",
    "\n",
    "Кортежи являются неизменяемыми, поэтому могут использовать только два метода.\n",
    "\n",
    "* **tuple.index(x, [start [, end]])** - возвращает положение первого элемента со значением x (при этом поиск ведется от start до end);\n",
    "\n",
    "* **tuple.count(x)**- возвращает количество элементов со значением x."
   ]
  },
  {
   "cell_type": "code",
   "execution_count": 16,
   "metadata": {},
   "outputs": [
    {
     "name": "stdout",
     "output_type": "stream",
     "text": [
      "4\n"
     ]
    }
   ],
   "source": [
    "# index\n",
    "tup = (45, 0, 5, 10, 5, 9, 11, 5)\n",
    "print(tup.index(5, 3, 8))"
   ]
  },
  {
   "cell_type": "code",
   "execution_count": 17,
   "metadata": {},
   "outputs": [
    {
     "name": "stdout",
     "output_type": "stream",
     "text": [
      "3\n"
     ]
    }
   ],
   "source": [
    "# index\n",
    "tup = (45, 0, 5, 10, 5, 9, 11, 5)\n",
    "print(tup.count(5))"
   ]
  },
  {
   "cell_type": "code",
   "execution_count": null,
   "metadata": {},
   "outputs": [],
   "source": []
  }
 ],
 "metadata": {
  "kernelspec": {
   "display_name": "Python 3",
   "language": "python",
   "name": "python3"
  },
  "language_info": {
   "codemirror_mode": {
    "name": "ipython",
    "version": 3
   },
   "file_extension": ".py",
   "mimetype": "text/x-python",
   "name": "python",
   "nbconvert_exporter": "python",
   "pygments_lexer": "ipython3",
   "version": "3.6.8"
  }
 },
 "nbformat": 4,
 "nbformat_minor": 4
}
