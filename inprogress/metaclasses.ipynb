{
 "cells": [
  {
   "cell_type": "markdown",
   "metadata": {},
   "source": [
    "# Метаклассы\n",
    "\n",
    "Метаклассы – это классы, экземпляры которых являются классами."
   ]
  },
  {
   "cell_type": "code",
   "execution_count": 26,
   "metadata": {},
   "outputs": [],
   "source": [
    "# Создание класса вручную\n",
    "MyShinyClass = type('MyShinyClass', (), {'area': 32, 'parea': lambda self: print(self.area)})"
   ]
  },
  {
   "cell_type": "code",
   "execution_count": 27,
   "metadata": {},
   "outputs": [
    {
     "name": "stdout",
     "output_type": "stream",
     "text": [
      "32\n"
     ]
    }
   ],
   "source": [
    "msc = MyShinyClass()\n",
    "msc.parea()"
   ]
  },
  {
   "cell_type": "code",
   "execution_count": null,
   "metadata": {},
   "outputs": [],
   "source": []
  },
  {
   "cell_type": "code",
   "execution_count": 23,
   "metadata": {},
   "outputs": [],
   "source": [
    "def extra(self, *args):\n",
    "    print('Extra:', args)\n",
    "    \n",
    "def isadult(age):\n",
    "    return age >= 21\n",
    "    \n",
    "class Metaa(type):\n",
    "    def __new__(meta, classname, supers, classdict):\n",
    "            print('NEW:', meta, classname, supers, classdict)\n",
    "            return type.__new__(meta, classname, supers, classdict)\n",
    "            \n",
    "    def __init__(Class, classname, superclasses, attributedict):\n",
    "        print('INIT', Class, classname, superclasses, attributedict)\n",
    "        Class.extra = extra"
   ]
  },
  {
   "cell_type": "code",
   "execution_count": 24,
   "metadata": {},
   "outputs": [
    {
     "name": "stdout",
     "output_type": "stream",
     "text": [
      "NEW: <class '__main__.Metaa'> A () {'__module__': '__main__', '__qualname__': 'A', '__init__': <function A.__init__ at 0x0000000005296510>}\n",
      "INIT <class '__main__.A'> A () {'__module__': '__main__', '__qualname__': 'A', '__init__': <function A.__init__ at 0x0000000005296510>}\n"
     ]
    }
   ],
   "source": [
    "class A(metaclass=Metaa):\n",
    "    \n",
    "    def __init__(self, age):\n",
    "        self.age = age"
   ]
  },
  {
   "cell_type": "code",
   "execution_count": 25,
   "metadata": {},
   "outputs": [
    {
     "name": "stdout",
     "output_type": "stream",
     "text": [
      "Extra: (2, 4, 5)\n"
     ]
    }
   ],
   "source": [
    "a = A(22)\n",
    "a.extra(2, 4, 5)"
   ]
  },
  {
   "cell_type": "code",
   "execution_count": null,
   "metadata": {},
   "outputs": [],
   "source": [
    "https://proglib.io/p/metaclasses-in-python/#:~:text=%D0%A7%D0%B0%D1%89%D0%B5%20%D0%B2%D1%81%D0%B5%D0%B3%D0%BE%20%D0%BC%D0%B5%D1%82%D0%B0%D0%BA%D0%BB%D0%B0%D1%81%D1%81%D1%8B%20%D0%B8%D1%81%D0%BF%D0%BE%D0%BB%D1%8C%D0%B7%D1%83%D1%8E%D1%82%D1%81%D1%8F%20%D0%B2,%D0%B2%20%D0%B0%D1%82%D1%80%D0%B8%D0%B1%D1%83%D1%82%D0%B5%20__metaclass__."
   ]
  },
  {
   "cell_type": "code",
   "execution_count": 29,
   "metadata": {},
   "outputs": [
    {
     "name": "stdout",
     "output_type": "stream",
     "text": [
      "False\n",
      "True\n",
      "bip\n"
     ]
    }
   ],
   "source": [
    "# the metaclass will automatically get passed the same argument\n",
    "# that you usually pass to `type`\n",
    "def upper_attr(future_class_name, future_class_parents, future_class_attr):\n",
    "    \"\"\"\n",
    "      Return a class object, with the list of its attribute turned\n",
    "      into uppercase.\n",
    "    \"\"\"\n",
    "\n",
    "    # pick up any attribute that doesn't start with '__' and uppercase it\n",
    "    uppercase_attr = {}\n",
    "    for name, val in future_class_attr.items():\n",
    "        if not name.startswith('__'):\n",
    "            uppercase_attr[name.upper()] = val\n",
    "        else:\n",
    "            uppercase_attr[name] = val\n",
    "\n",
    "    # let `type` do the class creation\n",
    "    return type(future_class_name, future_class_parents, uppercase_attr)\n",
    "\n",
    "__metaclass__ = upper_attr # this will affect all classes in the module\n",
    "\n",
    "class Foo(metaclass=upper_attr): # global __metaclass__ won't work with \"object\" though\n",
    "    # but we can define __metaclass__ here instead to affect only this class\n",
    "    # and this will work with \"object\" children\n",
    "    bar = 'bip'\n",
    "\n",
    "print(hasattr(Foo, 'bar'))\n",
    "# Out: False\n",
    "print(hasattr(Foo, 'BAR'))\n",
    "# Out: True\n",
    "\n",
    "f = Foo()\n",
    "print(f.BAR)\n",
    "# Out: 'bip'"
   ]
  },
  {
   "cell_type": "code",
   "execution_count": null,
   "metadata": {},
   "outputs": [],
   "source": []
  }
 ],
 "metadata": {
  "kernelspec": {
   "display_name": "Python 3",
   "language": "python",
   "name": "python3"
  },
  "language_info": {
   "codemirror_mode": {
    "name": "ipython",
    "version": 3
   },
   "file_extension": ".py",
   "mimetype": "text/x-python",
   "name": "python",
   "nbconvert_exporter": "python",
   "pygments_lexer": "ipython3",
   "version": "3.6.8"
  }
 },
 "nbformat": 4,
 "nbformat_minor": 4
}
